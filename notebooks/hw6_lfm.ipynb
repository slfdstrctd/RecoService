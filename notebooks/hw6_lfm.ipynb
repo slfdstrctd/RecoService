{
 "cells": [
  {
   "cell_type": "code",
   "execution_count": 1,
   "id": "initial_id",
   "metadata": {
    "ExecuteTime": {
     "end_time": "2023-12-20T10:45:01.590861600Z",
     "start_time": "2023-12-20T10:45:00.632218Z"
    },
    "collapsed": true
   },
   "outputs": [],
   "source": [
    "import numpy as np\n",
    "import pandas as pd\n",
    "from rectools import Columns\n",
    "\n",
    "from rectools.dataset import Dataset"
   ]
  },
  {
   "cell_type": "markdown",
   "id": "3343fada473a5f21",
   "metadata": {
    "collapsed": false
   },
   "source": [
    "## Loading data"
   ]
  },
  {
   "cell_type": "code",
   "execution_count": 2,
   "id": "4abb761c8a3110dc",
   "metadata": {
    "ExecuteTime": {
     "end_time": "2023-12-20T10:45:05.770124300Z",
     "start_time": "2023-12-20T10:45:02.357105700Z"
    },
    "collapsed": false
   },
   "outputs": [
    {
     "data": {
      "text/html": [
       "<div>\n",
       "<style scoped>\n",
       "    .dataframe tbody tr th:only-of-type {\n",
       "        vertical-align: middle;\n",
       "    }\n",
       "\n",
       "    .dataframe tbody tr th {\n",
       "        vertical-align: top;\n",
       "    }\n",
       "\n",
       "    .dataframe thead th {\n",
       "        text-align: right;\n",
       "    }\n",
       "</style>\n",
       "<table border=\"1\" class=\"dataframe\">\n",
       "  <thead>\n",
       "    <tr style=\"text-align: right;\">\n",
       "      <th></th>\n",
       "      <th>user_id</th>\n",
       "      <th>item_id</th>\n",
       "      <th>last_watch_dt</th>\n",
       "      <th>total_dur</th>\n",
       "      <th>watched_pct</th>\n",
       "    </tr>\n",
       "  </thead>\n",
       "  <tbody>\n",
       "    <tr>\n",
       "      <th>0</th>\n",
       "      <td>176549</td>\n",
       "      <td>9506</td>\n",
       "      <td>2021-05-11</td>\n",
       "      <td>4250</td>\n",
       "      <td>72.0</td>\n",
       "    </tr>\n",
       "    <tr>\n",
       "      <th>1</th>\n",
       "      <td>699317</td>\n",
       "      <td>1659</td>\n",
       "      <td>2021-05-29</td>\n",
       "      <td>8317</td>\n",
       "      <td>100.0</td>\n",
       "    </tr>\n",
       "    <tr>\n",
       "      <th>2</th>\n",
       "      <td>656683</td>\n",
       "      <td>7107</td>\n",
       "      <td>2021-05-09</td>\n",
       "      <td>10</td>\n",
       "      <td>0.0</td>\n",
       "    </tr>\n",
       "    <tr>\n",
       "      <th>3</th>\n",
       "      <td>864613</td>\n",
       "      <td>7638</td>\n",
       "      <td>2021-07-05</td>\n",
       "      <td>14483</td>\n",
       "      <td>100.0</td>\n",
       "    </tr>\n",
       "    <tr>\n",
       "      <th>4</th>\n",
       "      <td>964868</td>\n",
       "      <td>9506</td>\n",
       "      <td>2021-04-30</td>\n",
       "      <td>6725</td>\n",
       "      <td>100.0</td>\n",
       "    </tr>\n",
       "  </tbody>\n",
       "</table>\n",
       "</div>"
      ],
      "text/plain": [
       "   user_id  item_id last_watch_dt  total_dur  watched_pct\n",
       "0   176549     9506    2021-05-11       4250         72.0\n",
       "1   699317     1659    2021-05-29       8317        100.0\n",
       "2   656683     7107    2021-05-09         10          0.0\n",
       "3   864613     7638    2021-07-05      14483        100.0\n",
       "4   964868     9506    2021-04-30       6725        100.0"
      ]
     },
     "execution_count": 2,
     "metadata": {},
     "output_type": "execute_result"
    }
   ],
   "source": [
    "interactions = pd.read_csv('../data/interactions.csv')\n",
    "users = pd.read_csv('../data/users.csv')\n",
    "items = pd.read_csv('../data/items.csv')\n",
    "\n",
    "Columns.Datetime = 'last_watch_dt'\n",
    "\n",
    "interactions.head()"
   ]
  },
  {
   "cell_type": "code",
   "execution_count": 3,
   "id": "8bcefa0bea6f01cd",
   "metadata": {
    "ExecuteTime": {
     "end_time": "2023-12-20T10:45:07.901710700Z",
     "start_time": "2023-12-20T10:45:05.770124300Z"
    },
    "collapsed": false
   },
   "outputs": [],
   "source": [
    "interactions.drop(interactions[interactions[Columns.Datetime].str.len() != 10].index, inplace=True)\n",
    "interactions[Columns.Datetime] = pd.to_datetime(interactions[Columns.Datetime], format=\"%Y-%m-%d\")\n",
    "interactions[Columns.Weight] = np.where(interactions[\"watched_pct\"] > 10, 3, 1)"
   ]
  },
  {
   "cell_type": "code",
   "execution_count": 4,
   "id": "d04ca22f00e84138",
   "metadata": {
    "ExecuteTime": {
     "end_time": "2023-12-20T10:45:07.919930300Z",
     "start_time": "2023-12-20T10:45:07.903827Z"
    },
    "collapsed": false
   },
   "outputs": [],
   "source": [
    "def get_user_features(users, data):\n",
    "    users = users.loc[users[Columns.User].isin(data[Columns.User])].copy()\n",
    "    user_features_frames = []\n",
    "    for feature in [\"sex\", \"age\", \"income\"]:\n",
    "        feature_frame = users.reindex(columns=[Columns.User, feature])\n",
    "        feature_frame.columns = [\"id\", \"value\"]\n",
    "        feature_frame[\"feature\"] = feature\n",
    "        user_features_frames.append(feature_frame)\n",
    "    return pd.concat(user_features_frames)"
   ]
  },
  {
   "cell_type": "code",
   "execution_count": 5,
   "id": "d8d57ef594828651",
   "metadata": {
    "ExecuteTime": {
     "end_time": "2023-12-20T10:45:09.076346800Z",
     "start_time": "2023-12-20T10:45:09.053833800Z"
    },
    "collapsed": false
   },
   "outputs": [],
   "source": [
    "def get_item_features(items, data):\n",
    "    items = items.loc[items[Columns.Item].isin(data[Columns.Item])].copy()\n",
    "    items[\"genre\"] = items[\"genres\"].str.lower().str.replace(\", \", \",\", regex=False).str.split(\",\")\n",
    "    genre_feature = items[[\"item_id\", \"genre\"]].explode(\"genre\")\n",
    "    genre_feature.columns = [\"id\", \"value\"]\n",
    "    genre_feature[\"feature\"] = \"genre\"\n",
    "    content_feature = items.reindex(columns=[Columns.Item, \"content_type\"])\n",
    "    content_feature.columns = [\"id\", \"value\"]\n",
    "    content_feature[\"feature\"] = \"content_type\"\n",
    "    return pd.concat((genre_feature, content_feature))"
   ]
  },
  {
   "cell_type": "code",
   "execution_count": 6,
   "id": "11a8a736a95a364f",
   "metadata": {
    "ExecuteTime": {
     "end_time": "2023-12-20T10:45:10.084882100Z",
     "start_time": "2023-12-20T10:45:10.017009500Z"
    },
    "collapsed": false
   },
   "outputs": [
    {
     "name": "stdout",
     "output_type": "stream",
     "text": [
      "min дата в interactions: 2021-03-13 00:00:00\n",
      "max дата в interactions: 2021-08-22 00:00:00\n",
      "Продолжительность: 162 days 00:00:00\n"
     ]
    }
   ],
   "source": [
    "max_date = interactions[Columns.Datetime].max()\n",
    "min_date = interactions[Columns.Datetime].min()\n",
    "\n",
    "print(f\"min дата в interactions: {min_date}\")\n",
    "print(f\"max дата в interactions: {max_date}\")\n",
    "print(f\"Продолжительность: {max_date - min_date}\")"
   ]
  },
  {
   "cell_type": "code",
   "execution_count": 7,
   "id": "dc4f7c73baf9e5a4",
   "metadata": {
    "ExecuteTime": {
     "end_time": "2023-12-20T10:45:11.101987100Z",
     "start_time": "2023-12-20T10:45:10.894256300Z"
    },
    "collapsed": false
   },
   "outputs": [],
   "source": [
    "ranker_days_count = 30\n",
    "\n",
    "interactions = interactions[\n",
    "    (interactions[Columns.Datetime] < max_date - pd.Timedelta(days=ranker_days_count))\n",
    "]"
   ]
  },
  {
   "cell_type": "code",
   "execution_count": 8,
   "id": "b27328d5f6f4bcdc",
   "metadata": {
    "ExecuteTime": {
     "end_time": "2023-12-20T10:45:12.988921600Z",
     "start_time": "2023-12-20T10:45:12.509347500Z"
    },
    "collapsed": false
   },
   "outputs": [],
   "source": [
    "user_features = get_user_features(users, interactions)\n",
    "item_features = get_item_features(items, interactions)"
   ]
  },
  {
   "cell_type": "code",
   "execution_count": 9,
   "id": "518a173a23d31970",
   "metadata": {
    "ExecuteTime": {
     "end_time": "2023-12-20T10:45:18.614245700Z",
     "start_time": "2023-12-20T10:45:16.987198600Z"
    },
    "collapsed": false
   },
   "outputs": [],
   "source": [
    "dataset = Dataset.construct(\n",
    "    interactions_df=interactions,\n",
    "    user_features_df=user_features,\n",
    "    cat_user_features=[\"sex\", \"age\", \"income\"],\n",
    "    item_features_df=item_features,\n",
    "    cat_item_features=[\"genre\", \"content_type\"]\n",
    ")"
   ]
  },
  {
   "cell_type": "markdown",
   "id": "181ec505de526de",
   "metadata": {
    "collapsed": false
   },
   "source": [
    "## LightFM training"
   ]
  },
  {
   "cell_type": "code",
   "execution_count": null,
   "id": "8c0d60c413b313cf",
   "metadata": {
    "collapsed": false
   },
   "outputs": [],
   "source": [
    "from lightfm import LightFM\n",
    "from rectools.models import LightFMWrapperModel\n",
    "\n",
    "LFM_model = LightFMWrapperModel(\n",
    "    LightFM(\n",
    "        no_components=30,\n",
    "        loss='warp',\n",
    "        learning_rate=0.005,\n",
    "        user_alpha=0.12482318873553576,\n",
    "        item_alpha=0.10577830153990038,\n",
    "        random_state=42,\n",
    "    ),\n",
    "    epochs=7,\n",
    "    num_threads=12,\n",
    ")"
   ]
  },
  {
   "cell_type": "code",
   "execution_count": 12,
   "id": "2c88c17c1d245a94",
   "metadata": {
    "ExecuteTime": {
     "start_time": "2023-12-20T10:45:24.645018600Z"
    },
    "collapsed": false,
    "is_executing": true
   },
   "outputs": [
    {
     "data": {
      "text/plain": [
       "<rectools.models.lightfm.LightFMWrapperModel at 0x7f346948ca60>"
      ]
     },
     "execution_count": 12,
     "metadata": {},
     "output_type": "execute_result"
    }
   ],
   "source": [
    "LFM_model.fit(dataset)"
   ]
  },
  {
   "cell_type": "code",
   "execution_count": 13,
   "id": "39a875b7431c52e",
   "metadata": {
    "collapsed": false
   },
   "outputs": [],
   "source": [
    "top_N = 50\n",
    "candidates = LFM_model.recommend(\n",
    "    users=dataset.user_id_map.external_ids,\n",
    "    dataset=dataset,\n",
    "    k=top_N,\n",
    "    filter_viewed=True\n",
    ")"
   ]
  },
  {
   "cell_type": "code",
   "execution_count": 14,
   "id": "9e5e46b8512d6ca1",
   "metadata": {
    "collapsed": false
   },
   "outputs": [
    {
     "data": {
      "text/html": [
       "<div>\n",
       "<style scoped>\n",
       "    .dataframe tbody tr th:only-of-type {\n",
       "        vertical-align: middle;\n",
       "    }\n",
       "\n",
       "    .dataframe tbody tr th {\n",
       "        vertical-align: top;\n",
       "    }\n",
       "\n",
       "    .dataframe thead th {\n",
       "        text-align: right;\n",
       "    }\n",
       "</style>\n",
       "<table border=\"1\" class=\"dataframe\">\n",
       "  <thead>\n",
       "    <tr style=\"text-align: right;\">\n",
       "      <th></th>\n",
       "      <th>user_id</th>\n",
       "      <th>item_id</th>\n",
       "      <th>lfm_score</th>\n",
       "      <th>lfm_rank</th>\n",
       "    </tr>\n",
       "  </thead>\n",
       "  <tbody>\n",
       "    <tr>\n",
       "      <th>27605400</th>\n",
       "      <td>92080</td>\n",
       "      <td>15297</td>\n",
       "      <td>0.000009</td>\n",
       "      <td>1</td>\n",
       "    </tr>\n",
       "    <tr>\n",
       "      <th>30033650</th>\n",
       "      <td>851632</td>\n",
       "      <td>15297</td>\n",
       "      <td>0.000009</td>\n",
       "      <td>1</td>\n",
       "    </tr>\n",
       "    <tr>\n",
       "      <th>14855450</th>\n",
       "      <td>729572</td>\n",
       "      <td>15297</td>\n",
       "      <td>0.000009</td>\n",
       "      <td>1</td>\n",
       "    </tr>\n",
       "    <tr>\n",
       "      <th>21617400</th>\n",
       "      <td>557144</td>\n",
       "      <td>15297</td>\n",
       "      <td>0.000009</td>\n",
       "      <td>1</td>\n",
       "    </tr>\n",
       "    <tr>\n",
       "      <th>18450650</th>\n",
       "      <td>664721</td>\n",
       "      <td>15297</td>\n",
       "      <td>0.000009</td>\n",
       "      <td>1</td>\n",
       "    </tr>\n",
       "    <tr>\n",
       "      <th>...</th>\n",
       "      <td>...</td>\n",
       "      <td>...</td>\n",
       "      <td>...</td>\n",
       "      <td>...</td>\n",
       "    </tr>\n",
       "    <tr>\n",
       "      <th>12455649</th>\n",
       "      <td>537179</td>\n",
       "      <td>6626</td>\n",
       "      <td>-0.000043</td>\n",
       "      <td>50</td>\n",
       "    </tr>\n",
       "    <tr>\n",
       "      <th>26333499</th>\n",
       "      <td>404605</td>\n",
       "      <td>12981</td>\n",
       "      <td>-0.000043</td>\n",
       "      <td>50</td>\n",
       "    </tr>\n",
       "    <tr>\n",
       "      <th>13177599</th>\n",
       "      <td>613447</td>\n",
       "      <td>12981</td>\n",
       "      <td>-0.000043</td>\n",
       "      <td>50</td>\n",
       "    </tr>\n",
       "    <tr>\n",
       "      <th>17090599</th>\n",
       "      <td>333598</td>\n",
       "      <td>1449</td>\n",
       "      <td>-0.000043</td>\n",
       "      <td>50</td>\n",
       "    </tr>\n",
       "    <tr>\n",
       "      <th>26472849</th>\n",
       "      <td>1059792</td>\n",
       "      <td>1449</td>\n",
       "      <td>-0.000043</td>\n",
       "      <td>50</td>\n",
       "    </tr>\n",
       "  </tbody>\n",
       "</table>\n",
       "<p>36043750 rows × 4 columns</p>\n",
       "</div>"
      ],
      "text/plain": [
       "          user_id  item_id  lfm_score  lfm_rank\n",
       "27605400    92080    15297   0.000009         1\n",
       "30033650   851632    15297   0.000009         1\n",
       "14855450   729572    15297   0.000009         1\n",
       "21617400   557144    15297   0.000009         1\n",
       "18450650   664721    15297   0.000009         1\n",
       "...           ...      ...        ...       ...\n",
       "12455649   537179     6626  -0.000043        50\n",
       "26333499   404605    12981  -0.000043        50\n",
       "13177599   613447    12981  -0.000043        50\n",
       "17090599   333598     1449  -0.000043        50\n",
       "26472849  1059792     1449  -0.000043        50\n",
       "\n",
       "[36043750 rows x 4 columns]"
      ]
     },
     "execution_count": 14,
     "metadata": {},
     "output_type": "execute_result"
    }
   ],
   "source": [
    "candidates = candidates.rename({\"rank\": \"lfm_rank\", \"score\": \"lfm_score\"}, axis=1)\n",
    "candidates.sort_values('lfm_score', ascending=False)"
   ]
  },
  {
   "cell_type": "code",
   "execution_count": 15,
   "id": "22cc59a907cd83ba",
   "metadata": {
    "collapsed": false
   },
   "outputs": [],
   "source": [
    "candidates.to_csv('lfm_candidates.csv')"
   ]
  },
  {
   "cell_type": "code",
   "execution_count": null,
   "id": "a9158560739933dc",
   "metadata": {
    "collapsed": false
   },
   "outputs": [],
   "source": []
  }
 ],
 "metadata": {
  "kernelspec": {
   "display_name": "Python 3",
   "language": "python",
   "name": "python3"
  },
  "language_info": {
   "codemirror_mode": {
    "name": "ipython",
    "version": 3
   },
   "file_extension": ".py",
   "mimetype": "text/x-python",
   "name": "python",
   "nbconvert_exporter": "python",
   "pygments_lexer": "ipython3",
   "version": "3.10.12"
  }
 },
 "nbformat": 4,
 "nbformat_minor": 5
}
