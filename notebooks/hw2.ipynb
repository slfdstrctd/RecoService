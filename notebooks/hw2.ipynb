{
 "cells": [
  {
   "cell_type": "code",
   "execution_count": 1,
   "id": "initial_id",
   "metadata": {
    "ExecuteTime": {
     "end_time": "2023-11-22T07:50:53.049508700Z",
     "start_time": "2023-11-22T07:50:52.715749500Z"
    }
   },
   "outputs": [],
   "source": [
    "import time\n",
    "from copy import deepcopy\n",
    "\n",
    "import numpy as np\n",
    "import pandas as pd\n",
    "import rectools\n",
    "from rectools import Columns\n",
    "from rectools.dataset import Dataset\n",
    "from rectools.dataset import Interactions\n",
    "from rectools.metrics import (\n",
    "    Precision,\n",
    "    Recall,\n",
    "    MAP,\n",
    "    NDCG,\n",
    "    calc_metrics,\n",
    "    Serendipity,\n",
    "    MeanInvUserFreq\n",
    ")\n",
    "from rectools.model_selection import TimeRangeSplitter\n",
    "from rectools.models import RandomModel, PopularModel\n",
    "from tqdm import tqdm"
   ]
  },
  {
   "cell_type": "code",
   "execution_count": 2,
   "id": "d5d154ad767c814",
   "metadata": {
    "ExecuteTime": {
     "end_time": "2023-11-22T07:50:56.234105600Z",
     "start_time": "2023-11-22T07:50:53.052521800Z"
    },
    "collapsed": false
   },
   "outputs": [],
   "source": [
    "df_interactions = pd.read_csv('../data/interactions.csv')\n",
    "df_interactions.rename(\n",
    "    columns={\n",
    "        \"last_watch_dt\": rectools.Columns.Datetime,\n",
    "        \"total_dur\": rectools.Columns.Weight},\n",
    "    inplace=True\n",
    ")\n",
    "\n",
    "interactions = Interactions(df_interactions)\n",
    "\n",
    "items = pd.read_csv('../data/items.csv')"
   ]
  },
  {
   "cell_type": "code",
   "execution_count": 3,
   "id": "188b7c55203bb3ff",
   "metadata": {
    "ExecuteTime": {
     "end_time": "2023-11-22T07:50:56.242102500Z",
     "start_time": "2023-11-22T07:50:56.241108700Z"
    },
    "collapsed": false
   },
   "outputs": [],
   "source": [
    "class RecoEvaluation:\n",
    "    def __init__(self, models, metrics, splitter, k):\n",
    "        self.models = models\n",
    "        self.metrics = metrics\n",
    "        self.splitter = splitter\n",
    "        self.k = k\n",
    "\n",
    "    def evaluate(self, interactions):\n",
    "        n_splits = self.splitter.n_splits\n",
    "        results = []\n",
    "\n",
    "        fold_iterator = self.splitter.split(interactions, collect_fold_stats=True)\n",
    "\n",
    "        for train_ids, test_ids, fold_info in tqdm(fold_iterator, total=n_splits):\n",
    "            print(f\"Fold {fold_info['i_split']}\")\n",
    "            print(fold_info)\n",
    "\n",
    "            df_train = interactions.df.iloc[train_ids]\n",
    "            dataset = Dataset.construct(df_train)\n",
    "\n",
    "            df_test = interactions.df.iloc[test_ids][Columns.UserItem]\n",
    "            test_users = np.unique(df_test[Columns.User])\n",
    "\n",
    "            catalog = df_train[Columns.Item].unique()\n",
    "\n",
    "            for model_name, model in self.models.items():\n",
    "                model_copy = deepcopy(model)  # Ensure a deep copy of the model\n",
    "                start = time.time()\n",
    "                model_copy.fit(dataset)\n",
    "                end = time.time()\n",
    "                recos = model_copy.recommend(\n",
    "                    users=test_users,\n",
    "                    dataset=dataset,\n",
    "                    k=self.k,\n",
    "                    filter_viewed=True,\n",
    "                )\n",
    "\n",
    "                metric_values = calc_metrics(\n",
    "                    self.metrics,\n",
    "                    reco=recos,\n",
    "                    interactions=df_test,\n",
    "                    prev_interactions=df_train,\n",
    "                    catalog=catalog,\n",
    "                )\n",
    "\n",
    "                res = {\"fold\": fold_info[\"i_split\"], \"model\": model_name, \"time\": end - start}\n",
    "                res.update(metric_values)\n",
    "                results.append(res)\n",
    "\n",
    "        return pd.DataFrame(results)"
   ]
  },
  {
   "cell_type": "code",
   "execution_count": 4,
   "id": "c03a1c50f10a7758",
   "metadata": {
    "ExecuteTime": {
     "end_time": "2023-11-22T07:58:43.861667600Z",
     "start_time": "2023-11-22T07:58:43.815116600Z"
    },
    "collapsed": false
   },
   "outputs": [],
   "source": [
    "SEED = 42\n",
    "N_SPLITS = 3\n",
    "K = 10\n",
    "\n",
    "models = {\n",
    "    'RandomModel': RandomModel(random_state=SEED),\n",
    "    'PopularModel': PopularModel()\n",
    "}\n",
    "\n",
    "metrics = {\n",
    "    'Precision@1': Precision(k=1),\n",
    "    'Precision@5': Precision(k=5),\n",
    "    'Precision@10': Precision(k=10),\n",
    "    'Recall@1': Recall(k=1),\n",
    "    'Recall@5': Recall(k=5),\n",
    "    'Recall@10': Recall(k=10),\n",
    "    'MAP@1': MAP(k=1, divide_by_k=False),\n",
    "    'MAP@5': MAP(k=5, divide_by_k=False),\n",
    "    'MAP@10': MAP(k=10, divide_by_k=False),\n",
    "    'NDCG@1': NDCG(k=1, log_base=3),\n",
    "    'NDCG@5': NDCG(k=5, log_base=3),\n",
    "    'NDCG@10': NDCG(k=10, log_base=3),\n",
    "    'MIUF@1': MeanInvUserFreq(k=1),\n",
    "    'MIUF@5': MeanInvUserFreq(k=5),\n",
    "    'MIUF@10': MeanInvUserFreq(k=10),\n",
    "    'Serendipity@1': Serendipity(k=1),\n",
    "    'Serendipity@5': Serendipity(k=5),\n",
    "    'Serendipity@10': Serendipity(k=10)\n",
    "}\n",
    "\n",
    "splitter = TimeRangeSplitter(\n",
    "    \"7D\",\n",
    "    n_splits=N_SPLITS,\n",
    "    filter_already_seen=True,\n",
    "    filter_cold_items=True,\n",
    "    filter_cold_users=True,\n",
    ")"
   ]
  },
  {
   "cell_type": "code",
   "execution_count": 5,
   "id": "4c3ae23c25d80f83",
   "metadata": {
    "ExecuteTime": {
     "end_time": "2023-11-22T07:59:16.862886700Z",
     "start_time": "2023-11-22T07:58:44.629951300Z"
    },
    "collapsed": false
   },
   "outputs": [
    {
     "name": "stderr",
     "output_type": "stream",
     "text": [
      "  0%|          | 0/3 [00:00<?, ?it/s]"
     ]
    },
    {
     "name": "stdout",
     "output_type": "stream",
     "text": [
      "Fold 0\n",
      "{'i_split': 0, 'start': Timestamp('2021-08-02 00:00:00', freq='7D'), 'end': Timestamp('2021-08-09 00:00:00', freq='7D'), 'train': 4266013, 'train_users': 797423, 'train_items': 15237, 'test': 263681, 'test_users': 98184, 'test_items': 6602}\n"
     ]
    },
    {
     "name": "stderr",
     "output_type": "stream",
     "text": [
      " 33%|███▎      | 1/3 [00:17<00:34, 17.07s/it]"
     ]
    },
    {
     "name": "stdout",
     "output_type": "stream",
     "text": [
      "Fold 1\n",
      "{'i_split': 1, 'start': Timestamp('2021-08-09 00:00:00', freq='7D'), 'end': Timestamp('2021-08-16 00:00:00', freq='7D'), 'train': 4649162, 'train_users': 850489, 'train_items': 15415, 'test': 279422, 'test_users': 103511, 'test_items': 6698}\n"
     ]
    },
    {
     "name": "stderr",
     "output_type": "stream",
     "text": [
      " 67%|██████▋   | 2/3 [00:35<00:17, 17.67s/it]"
     ]
    },
    {
     "name": "stdout",
     "output_type": "stream",
     "text": [
      "Fold 2\n",
      "{'i_split': 2, 'start': Timestamp('2021-08-16 00:00:00', freq='7D'), 'end': Timestamp('2021-08-23 00:00:00', freq='7D'), 'train': 5051815, 'train_users': 906071, 'train_items': 15577, 'test': 298878, 'test_users': 110076, 'test_items': 6679}\n"
     ]
    },
    {
     "name": "stderr",
     "output_type": "stream",
     "text": [
      "100%|██████████| 3/3 [00:54<00:00, 18.06s/it]\n"
     ]
    }
   ],
   "source": [
    "evaluator = RecoEvaluation(models, metrics, splitter, K)\n",
    "results_df = evaluator.evaluate(interactions)"
   ]
  },
  {
   "cell_type": "code",
   "execution_count": 6,
   "id": "1401d48b0779723d",
   "metadata": {
    "ExecuteTime": {
     "end_time": "2023-11-22T08:38:24.620615Z",
     "start_time": "2023-11-22T08:38:24.498652900Z"
    },
    "collapsed": false
   },
   "outputs": [
    {
     "data": {
      "text/html": [
       "<div>\n",
       "<style scoped>\n",
       "    .dataframe tbody tr th:only-of-type {\n",
       "        vertical-align: middle;\n",
       "    }\n",
       "\n",
       "    .dataframe tbody tr th {\n",
       "        vertical-align: top;\n",
       "    }\n",
       "\n",
       "    .dataframe thead th {\n",
       "        text-align: right;\n",
       "    }\n",
       "</style>\n",
       "<table border=\"1\" class=\"dataframe\">\n",
       "  <thead>\n",
       "    <tr style=\"text-align: right;\">\n",
       "      <th></th>\n",
       "      <th>fold</th>\n",
       "      <th>time</th>\n",
       "      <th>Precision@1</th>\n",
       "      <th>Recall@1</th>\n",
       "      <th>Precision@5</th>\n",
       "      <th>Recall@5</th>\n",
       "      <th>Precision@10</th>\n",
       "      <th>Recall@10</th>\n",
       "      <th>NDCG@1</th>\n",
       "      <th>NDCG@5</th>\n",
       "      <th>NDCG@10</th>\n",
       "      <th>MAP@1</th>\n",
       "      <th>MAP@5</th>\n",
       "      <th>MAP@10</th>\n",
       "      <th>MIUF@1</th>\n",
       "      <th>MIUF@5</th>\n",
       "      <th>MIUF@10</th>\n",
       "      <th>Serendipity@1</th>\n",
       "      <th>Serendipity@5</th>\n",
       "      <th>Serendipity@10</th>\n",
       "    </tr>\n",
       "    <tr>\n",
       "      <th>model</th>\n",
       "      <th></th>\n",
       "      <th></th>\n",
       "      <th></th>\n",
       "      <th></th>\n",
       "      <th></th>\n",
       "      <th></th>\n",
       "      <th></th>\n",
       "      <th></th>\n",
       "      <th></th>\n",
       "      <th></th>\n",
       "      <th></th>\n",
       "      <th></th>\n",
       "      <th></th>\n",
       "      <th></th>\n",
       "      <th></th>\n",
       "      <th></th>\n",
       "      <th></th>\n",
       "      <th></th>\n",
       "      <th></th>\n",
       "      <th></th>\n",
       "    </tr>\n",
       "  </thead>\n",
       "  <tbody>\n",
       "    <tr>\n",
       "      <th>PopularModel</th>\n",
       "      <td>1.0</td>\n",
       "      <td>1.381567</td>\n",
       "      <td>0.076432</td>\n",
       "      <td>0.042720</td>\n",
       "      <td>0.052402</td>\n",
       "      <td>0.137413</td>\n",
       "      <td>0.033903</td>\n",
       "      <td>0.173492</td>\n",
       "      <td>0.076432</td>\n",
       "      <td>0.057932</td>\n",
       "      <td>0.043084</td>\n",
       "      <td>0.042720</td>\n",
       "      <td>0.078295</td>\n",
       "      <td>0.084109</td>\n",
       "      <td>2.377055</td>\n",
       "      <td>3.066979</td>\n",
       "      <td>3.713390</td>\n",
       "      <td>0.000002</td>\n",
       "      <td>0.000003</td>\n",
       "      <td>0.000002</td>\n",
       "    </tr>\n",
       "    <tr>\n",
       "      <th>RandomModel</th>\n",
       "      <td>1.0</td>\n",
       "      <td>0.000026</td>\n",
       "      <td>0.000169</td>\n",
       "      <td>0.000069</td>\n",
       "      <td>0.000176</td>\n",
       "      <td>0.000345</td>\n",
       "      <td>0.000176</td>\n",
       "      <td>0.000687</td>\n",
       "      <td>0.000169</td>\n",
       "      <td>0.000173</td>\n",
       "      <td>0.000175</td>\n",
       "      <td>0.000069</td>\n",
       "      <td>0.000155</td>\n",
       "      <td>0.000200</td>\n",
       "      <td>15.616147</td>\n",
       "      <td>15.611575</td>\n",
       "      <td>15.610409</td>\n",
       "      <td>0.000004</td>\n",
       "      <td>0.000006</td>\n",
       "      <td>0.000006</td>\n",
       "    </tr>\n",
       "  </tbody>\n",
       "</table>\n",
       "</div>"
      ],
      "text/plain": [
       "              fold      time  Precision@1  Recall@1  Precision@5  Recall@5  \\\n",
       "model                                                                        \n",
       "PopularModel   1.0  1.381567     0.076432  0.042720     0.052402  0.137413   \n",
       "RandomModel    1.0  0.000026     0.000169  0.000069     0.000176  0.000345   \n",
       "\n",
       "              Precision@10  Recall@10    NDCG@1    NDCG@5   NDCG@10     MAP@1  \\\n",
       "model                                                                           \n",
       "PopularModel      0.033903   0.173492  0.076432  0.057932  0.043084  0.042720   \n",
       "RandomModel       0.000176   0.000687  0.000169  0.000173  0.000175  0.000069   \n",
       "\n",
       "                 MAP@5    MAP@10     MIUF@1     MIUF@5    MIUF@10  \\\n",
       "model                                                               \n",
       "PopularModel  0.078295  0.084109   2.377055   3.066979   3.713390   \n",
       "RandomModel   0.000155  0.000200  15.616147  15.611575  15.610409   \n",
       "\n",
       "              Serendipity@1  Serendipity@5  Serendipity@10  \n",
       "model                                                       \n",
       "PopularModel       0.000002       0.000003        0.000002  \n",
       "RandomModel        0.000004       0.000006        0.000006  "
      ]
     },
     "execution_count": 6,
     "metadata": {},
     "output_type": "execute_result"
    }
   ],
   "source": [
    "results_df.groupby(\"model\").mean()"
   ]
  },
  {
   "cell_type": "code",
   "execution_count": 8,
   "id": "fd3d1e73b4eca43e",
   "metadata": {
    "ExecuteTime": {
     "end_time": "2023-11-22T09:37:27.967769500Z",
     "start_time": "2023-11-22T09:37:27.954632Z"
    },
    "collapsed": false
   },
   "outputs": [
    {
     "data": {
      "text/html": [
       "<style type=\"text/css\">\n",
       "#T_305a2_row0_col0, #T_305a2_row0_col1, #T_305a2_row0_col2, #T_305a2_row0_col3, #T_305a2_row0_col4, #T_305a2_row0_col5, #T_305a2_row0_col6, #T_305a2_row0_col7, #T_305a2_row0_col8, #T_305a2_row0_col9, #T_305a2_row0_col10, #T_305a2_row0_col11, #T_305a2_row0_col12, #T_305a2_row1_col13, #T_305a2_row1_col14, #T_305a2_row1_col15, #T_305a2_row1_col16, #T_305a2_row1_col17, #T_305a2_row1_col18 {\n",
       "  background-color: lightcoral;\n",
       "}\n",
       "#T_305a2_row0_col13, #T_305a2_row0_col14, #T_305a2_row0_col15, #T_305a2_row0_col16, #T_305a2_row0_col17, #T_305a2_row0_col18, #T_305a2_row1_col0, #T_305a2_row1_col1, #T_305a2_row1_col2, #T_305a2_row1_col3, #T_305a2_row1_col4, #T_305a2_row1_col5, #T_305a2_row1_col6, #T_305a2_row1_col7, #T_305a2_row1_col8, #T_305a2_row1_col9, #T_305a2_row1_col10, #T_305a2_row1_col11, #T_305a2_row1_col12 {\n",
       "  background-color: lightgreen;\n",
       "}\n",
       "</style>\n",
       "<table id=\"T_305a2\">\n",
       "  <thead>\n",
       "    <tr>\n",
       "      <th class=\"blank level0\" >&nbsp;</th>\n",
       "      <th id=\"T_305a2_level0_col0\" class=\"col_heading level0 col0\" >time</th>\n",
       "      <th id=\"T_305a2_level0_col1\" class=\"col_heading level0 col1\" >Precision@1</th>\n",
       "      <th id=\"T_305a2_level0_col2\" class=\"col_heading level0 col2\" >Recall@1</th>\n",
       "      <th id=\"T_305a2_level0_col3\" class=\"col_heading level0 col3\" >Precision@5</th>\n",
       "      <th id=\"T_305a2_level0_col4\" class=\"col_heading level0 col4\" >Recall@5</th>\n",
       "      <th id=\"T_305a2_level0_col5\" class=\"col_heading level0 col5\" >Precision@10</th>\n",
       "      <th id=\"T_305a2_level0_col6\" class=\"col_heading level0 col6\" >Recall@10</th>\n",
       "      <th id=\"T_305a2_level0_col7\" class=\"col_heading level0 col7\" >NDCG@1</th>\n",
       "      <th id=\"T_305a2_level0_col8\" class=\"col_heading level0 col8\" >NDCG@5</th>\n",
       "      <th id=\"T_305a2_level0_col9\" class=\"col_heading level0 col9\" >NDCG@10</th>\n",
       "      <th id=\"T_305a2_level0_col10\" class=\"col_heading level0 col10\" >MAP@1</th>\n",
       "      <th id=\"T_305a2_level0_col11\" class=\"col_heading level0 col11\" >MAP@5</th>\n",
       "      <th id=\"T_305a2_level0_col12\" class=\"col_heading level0 col12\" >MAP@10</th>\n",
       "      <th id=\"T_305a2_level0_col13\" class=\"col_heading level0 col13\" >MIUF@1</th>\n",
       "      <th id=\"T_305a2_level0_col14\" class=\"col_heading level0 col14\" >MIUF@5</th>\n",
       "      <th id=\"T_305a2_level0_col15\" class=\"col_heading level0 col15\" >MIUF@10</th>\n",
       "      <th id=\"T_305a2_level0_col16\" class=\"col_heading level0 col16\" >Serendipity@1</th>\n",
       "      <th id=\"T_305a2_level0_col17\" class=\"col_heading level0 col17\" >Serendipity@5</th>\n",
       "      <th id=\"T_305a2_level0_col18\" class=\"col_heading level0 col18\" >Serendipity@10</th>\n",
       "    </tr>\n",
       "    <tr>\n",
       "      <th class=\"blank level1\" >&nbsp;</th>\n",
       "      <th id=\"T_305a2_level1_col0\" class=\"col_heading level1 col0\" >mean</th>\n",
       "      <th id=\"T_305a2_level1_col1\" class=\"col_heading level1 col1\" >mean</th>\n",
       "      <th id=\"T_305a2_level1_col2\" class=\"col_heading level1 col2\" >mean</th>\n",
       "      <th id=\"T_305a2_level1_col3\" class=\"col_heading level1 col3\" >mean</th>\n",
       "      <th id=\"T_305a2_level1_col4\" class=\"col_heading level1 col4\" >mean</th>\n",
       "      <th id=\"T_305a2_level1_col5\" class=\"col_heading level1 col5\" >mean</th>\n",
       "      <th id=\"T_305a2_level1_col6\" class=\"col_heading level1 col6\" >mean</th>\n",
       "      <th id=\"T_305a2_level1_col7\" class=\"col_heading level1 col7\" >mean</th>\n",
       "      <th id=\"T_305a2_level1_col8\" class=\"col_heading level1 col8\" >mean</th>\n",
       "      <th id=\"T_305a2_level1_col9\" class=\"col_heading level1 col9\" >mean</th>\n",
       "      <th id=\"T_305a2_level1_col10\" class=\"col_heading level1 col10\" >mean</th>\n",
       "      <th id=\"T_305a2_level1_col11\" class=\"col_heading level1 col11\" >mean</th>\n",
       "      <th id=\"T_305a2_level1_col12\" class=\"col_heading level1 col12\" >mean</th>\n",
       "      <th id=\"T_305a2_level1_col13\" class=\"col_heading level1 col13\" >mean</th>\n",
       "      <th id=\"T_305a2_level1_col14\" class=\"col_heading level1 col14\" >mean</th>\n",
       "      <th id=\"T_305a2_level1_col15\" class=\"col_heading level1 col15\" >mean</th>\n",
       "      <th id=\"T_305a2_level1_col16\" class=\"col_heading level1 col16\" >mean</th>\n",
       "      <th id=\"T_305a2_level1_col17\" class=\"col_heading level1 col17\" >mean</th>\n",
       "      <th id=\"T_305a2_level1_col18\" class=\"col_heading level1 col18\" >mean</th>\n",
       "    </tr>\n",
       "    <tr>\n",
       "      <th class=\"index_name level0\" >model</th>\n",
       "      <th class=\"blank col0\" >&nbsp;</th>\n",
       "      <th class=\"blank col1\" >&nbsp;</th>\n",
       "      <th class=\"blank col2\" >&nbsp;</th>\n",
       "      <th class=\"blank col3\" >&nbsp;</th>\n",
       "      <th class=\"blank col4\" >&nbsp;</th>\n",
       "      <th class=\"blank col5\" >&nbsp;</th>\n",
       "      <th class=\"blank col6\" >&nbsp;</th>\n",
       "      <th class=\"blank col7\" >&nbsp;</th>\n",
       "      <th class=\"blank col8\" >&nbsp;</th>\n",
       "      <th class=\"blank col9\" >&nbsp;</th>\n",
       "      <th class=\"blank col10\" >&nbsp;</th>\n",
       "      <th class=\"blank col11\" >&nbsp;</th>\n",
       "      <th class=\"blank col12\" >&nbsp;</th>\n",
       "      <th class=\"blank col13\" >&nbsp;</th>\n",
       "      <th class=\"blank col14\" >&nbsp;</th>\n",
       "      <th class=\"blank col15\" >&nbsp;</th>\n",
       "      <th class=\"blank col16\" >&nbsp;</th>\n",
       "      <th class=\"blank col17\" >&nbsp;</th>\n",
       "      <th class=\"blank col18\" >&nbsp;</th>\n",
       "    </tr>\n",
       "  </thead>\n",
       "  <tbody>\n",
       "    <tr>\n",
       "      <th id=\"T_305a2_level0_row0\" class=\"row_heading level0 row0\" >RandomModel</th>\n",
       "      <td id=\"T_305a2_row0_col0\" class=\"data row0 col0\" >0.000026</td>\n",
       "      <td id=\"T_305a2_row0_col1\" class=\"data row0 col1\" >0.000169</td>\n",
       "      <td id=\"T_305a2_row0_col2\" class=\"data row0 col2\" >0.000069</td>\n",
       "      <td id=\"T_305a2_row0_col3\" class=\"data row0 col3\" >0.000176</td>\n",
       "      <td id=\"T_305a2_row0_col4\" class=\"data row0 col4\" >0.000345</td>\n",
       "      <td id=\"T_305a2_row0_col5\" class=\"data row0 col5\" >0.000176</td>\n",
       "      <td id=\"T_305a2_row0_col6\" class=\"data row0 col6\" >0.000687</td>\n",
       "      <td id=\"T_305a2_row0_col7\" class=\"data row0 col7\" >0.000169</td>\n",
       "      <td id=\"T_305a2_row0_col8\" class=\"data row0 col8\" >0.000173</td>\n",
       "      <td id=\"T_305a2_row0_col9\" class=\"data row0 col9\" >0.000175</td>\n",
       "      <td id=\"T_305a2_row0_col10\" class=\"data row0 col10\" >0.000069</td>\n",
       "      <td id=\"T_305a2_row0_col11\" class=\"data row0 col11\" >0.000155</td>\n",
       "      <td id=\"T_305a2_row0_col12\" class=\"data row0 col12\" >0.000200</td>\n",
       "      <td id=\"T_305a2_row0_col13\" class=\"data row0 col13\" >15.616147</td>\n",
       "      <td id=\"T_305a2_row0_col14\" class=\"data row0 col14\" >15.611575</td>\n",
       "      <td id=\"T_305a2_row0_col15\" class=\"data row0 col15\" >15.610409</td>\n",
       "      <td id=\"T_305a2_row0_col16\" class=\"data row0 col16\" >0.000004</td>\n",
       "      <td id=\"T_305a2_row0_col17\" class=\"data row0 col17\" >0.000006</td>\n",
       "      <td id=\"T_305a2_row0_col18\" class=\"data row0 col18\" >0.000006</td>\n",
       "    </tr>\n",
       "    <tr>\n",
       "      <th id=\"T_305a2_level0_row1\" class=\"row_heading level0 row1\" >PopularModel</th>\n",
       "      <td id=\"T_305a2_row1_col0\" class=\"data row1 col0\" >1.381567</td>\n",
       "      <td id=\"T_305a2_row1_col1\" class=\"data row1 col1\" >0.076432</td>\n",
       "      <td id=\"T_305a2_row1_col2\" class=\"data row1 col2\" >0.042720</td>\n",
       "      <td id=\"T_305a2_row1_col3\" class=\"data row1 col3\" >0.052402</td>\n",
       "      <td id=\"T_305a2_row1_col4\" class=\"data row1 col4\" >0.137413</td>\n",
       "      <td id=\"T_305a2_row1_col5\" class=\"data row1 col5\" >0.033903</td>\n",
       "      <td id=\"T_305a2_row1_col6\" class=\"data row1 col6\" >0.173492</td>\n",
       "      <td id=\"T_305a2_row1_col7\" class=\"data row1 col7\" >0.076432</td>\n",
       "      <td id=\"T_305a2_row1_col8\" class=\"data row1 col8\" >0.057932</td>\n",
       "      <td id=\"T_305a2_row1_col9\" class=\"data row1 col9\" >0.043084</td>\n",
       "      <td id=\"T_305a2_row1_col10\" class=\"data row1 col10\" >0.042720</td>\n",
       "      <td id=\"T_305a2_row1_col11\" class=\"data row1 col11\" >0.078295</td>\n",
       "      <td id=\"T_305a2_row1_col12\" class=\"data row1 col12\" >0.084109</td>\n",
       "      <td id=\"T_305a2_row1_col13\" class=\"data row1 col13\" >2.377055</td>\n",
       "      <td id=\"T_305a2_row1_col14\" class=\"data row1 col14\" >3.066979</td>\n",
       "      <td id=\"T_305a2_row1_col15\" class=\"data row1 col15\" >3.713390</td>\n",
       "      <td id=\"T_305a2_row1_col16\" class=\"data row1 col16\" >0.000002</td>\n",
       "      <td id=\"T_305a2_row1_col17\" class=\"data row1 col17\" >0.000003</td>\n",
       "      <td id=\"T_305a2_row1_col18\" class=\"data row1 col18\" >0.000002</td>\n",
       "    </tr>\n",
       "  </tbody>\n",
       "</table>\n"
      ],
      "text/plain": [
       "<pandas.io.formats.style.Styler at 0x7f06f597e710>"
      ]
     },
     "execution_count": 8,
     "metadata": {},
     "output_type": "execute_result"
    }
   ],
   "source": [
    "pivot_results = pd.DataFrame(results_df).drop(\"fold\", axis=1).groupby([\"model\"], sort=False).agg(\n",
    "    [\"mean\"])\n",
    "mean_metric_subset = [(metric, agg) for metric, agg in pivot_results.columns if agg == 'mean']\n",
    "(\n",
    "    pivot_results.style\n",
    "    .highlight_min(subset=mean_metric_subset, color='lightcoral', axis=0)\n",
    "    .highlight_max(subset=mean_metric_subset, color='lightgreen', axis=0)\n",
    ")"
   ]
  },
  {
   "cell_type": "code",
   "execution_count": 68,
   "id": "d9911f84431e63fb",
   "metadata": {
    "collapsed": false,
    "ExecuteTime": {
     "end_time": "2023-11-22T11:27:09.240599800Z",
     "start_time": "2023-11-22T11:27:09.184100100Z"
    }
   },
   "outputs": [],
   "source": [
    "class RecoVisualisation:\n",
    "    def __init__(self, model, dataset, user_ids, item_data):\n",
    "        self.model = model\n",
    "        self.dataset = dataset\n",
    "        self.user_ids = user_ids\n",
    "        self.item_data = item_data\n",
    "\n",
    "    def visualise(self):\n",
    "        for user_id in self.user_ids:\n",
    "            user_history = self.dataset.interactions.df.loc[\n",
    "                self.dataset.interactions.df.user_id == user_id]\n",
    "            user_recos = self.model.recommend(\n",
    "                users=[user_id],\n",
    "                dataset=self.dataset,\n",
    "                k=K,\n",
    "                filter_viewed=True\n",
    "            )\n",
    "            user_history = user_history.copy()\n",
    "            user_recos = user_recos.copy()\n",
    "\n",
    "            user_history['view_cnt'] = user_history['item_id'].map(\n",
    "                self.dataset.interactions.df['item_id'].value_counts())\n",
    "\n",
    "            user_recos['view_cnt'] = user_recos['item_id'].map(\n",
    "                self.dataset.interactions.df['item_id'].value_counts())\n",
    "\n",
    "            columns_show = list(set(list(self.item_data.columns) + ['item_id', 'view_cnt']))\n",
    "\n",
    "            print(f\"\\nUser ID {user_id}\")\n",
    "            if not user_history.empty:\n",
    "                user_history = user_history.merge(\n",
    "                    self.item_data,\n",
    "                    left_on='item_id',\n",
    "                    right_on='item_id',\n",
    "                ).sort_values(by='datetime').tail(10)\n",
    "                print(f\"\\nUser ID {user_id} - Watched items:\")\n",
    "                display(user_history[columns_show])\n",
    "\n",
    "            if not user_recos.empty:\n",
    "                user_recos = user_recos.merge(\n",
    "                    self.item_data,\n",
    "                    left_on='item_id',\n",
    "                    right_on='item_id',\n",
    "                )\n",
    "                print(f\"\\nUser ID {user_id} - Recommended items:\")\n",
    "                display(user_recos[columns_show])"
   ]
  },
  {
   "cell_type": "code",
   "execution_count": 69,
   "id": "8977f3d1ce70de9b",
   "metadata": {
    "collapsed": false,
    "ExecuteTime": {
     "end_time": "2023-11-22T11:27:09.978849700Z",
     "start_time": "2023-11-22T11:27:09.500288100Z"
    }
   },
   "outputs": [],
   "source": [
    "user_ids = [666262, 672861, 955527]\n",
    "\n",
    "model = RandomModel(random_state=42)\n",
    "dataset = Dataset.construct(df_interactions)\n",
    "model.fit(dataset)\n",
    "\n",
    "reco_viz = RecoVisualisation(model, dataset, user_ids,\n",
    "                             items[['item_id', 'title', 'genres']])"
   ]
  },
  {
   "cell_type": "code",
   "execution_count": 70,
   "id": "f13edbcebbf33858",
   "metadata": {
    "collapsed": false,
    "ExecuteTime": {
     "end_time": "2023-11-22T11:27:11.569194400Z",
     "start_time": "2023-11-22T11:27:09.981861Z"
    }
   },
   "outputs": [
    {
     "name": "stdout",
     "output_type": "stream",
     "text": [
      "\n",
      "User ID 666262\n",
      "\n",
      "User ID 666262 - Watched items:\n"
     ]
    },
    {
     "data": {
      "text/plain": "                  title                                  genres  item_id  \\\n0  Дом ночных призраков  зарубежные, криминал, детективы, ужасы       93   \n\n   view_cnt  \n0     68581  ",
      "text/html": "<div>\n<style scoped>\n    .dataframe tbody tr th:only-of-type {\n        vertical-align: middle;\n    }\n\n    .dataframe tbody tr th {\n        vertical-align: top;\n    }\n\n    .dataframe thead th {\n        text-align: right;\n    }\n</style>\n<table border=\"1\" class=\"dataframe\">\n  <thead>\n    <tr style=\"text-align: right;\">\n      <th></th>\n      <th>title</th>\n      <th>genres</th>\n      <th>item_id</th>\n      <th>view_cnt</th>\n    </tr>\n  </thead>\n  <tbody>\n    <tr>\n      <th>0</th>\n      <td>Дом ночных призраков</td>\n      <td>зарубежные, криминал, детективы, ужасы</td>\n      <td>93</td>\n      <td>68581</td>\n    </tr>\n  </tbody>\n</table>\n</div>"
     },
     "metadata": {},
     "output_type": "display_data"
    },
    {
     "name": "stdout",
     "output_type": "stream",
     "text": [
      "\n",
      "User ID 666262 - Recommended items:\n"
     ]
    },
    {
     "data": {
      "text/plain": "                                               title  \\\n0                                        Ода радости   \n1                                    Последняя битва   \n2                                        Преисподняя   \n3                                          Лихорадка   \n4                                           Вечность   \n5                                              Леший   \n6                                             Богема   \n7                                             Шедевр   \n8  Единоборства для детей (3-6 лет) Школа героев ...   \n9                    Американский пирог: Все в сборе   \n\n                                genres  item_id  view_cnt  \n0                              комедии     7419         6  \n1                       драмы, военные     9109        19  \n2  драмы, детективы, триллеры, вестерн    13917         2  \n3                                ужасы    13332         4  \n4                                драмы     1331       180  \n5        триллеры, криминал, детективы    15448         1  \n6            драмы, мюзиклы, мелодрамы     1123       896  \n7                       драмы, комедии     9933         3  \n8      единоборства, фитнес, для детей     3287       728  \n9                              комедии     8478         3  ",
      "text/html": "<div>\n<style scoped>\n    .dataframe tbody tr th:only-of-type {\n        vertical-align: middle;\n    }\n\n    .dataframe tbody tr th {\n        vertical-align: top;\n    }\n\n    .dataframe thead th {\n        text-align: right;\n    }\n</style>\n<table border=\"1\" class=\"dataframe\">\n  <thead>\n    <tr style=\"text-align: right;\">\n      <th></th>\n      <th>title</th>\n      <th>genres</th>\n      <th>item_id</th>\n      <th>view_cnt</th>\n    </tr>\n  </thead>\n  <tbody>\n    <tr>\n      <th>0</th>\n      <td>Ода радости</td>\n      <td>комедии</td>\n      <td>7419</td>\n      <td>6</td>\n    </tr>\n    <tr>\n      <th>1</th>\n      <td>Последняя битва</td>\n      <td>драмы, военные</td>\n      <td>9109</td>\n      <td>19</td>\n    </tr>\n    <tr>\n      <th>2</th>\n      <td>Преисподняя</td>\n      <td>драмы, детективы, триллеры, вестерн</td>\n      <td>13917</td>\n      <td>2</td>\n    </tr>\n    <tr>\n      <th>3</th>\n      <td>Лихорадка</td>\n      <td>ужасы</td>\n      <td>13332</td>\n      <td>4</td>\n    </tr>\n    <tr>\n      <th>4</th>\n      <td>Вечность</td>\n      <td>драмы</td>\n      <td>1331</td>\n      <td>180</td>\n    </tr>\n    <tr>\n      <th>5</th>\n      <td>Леший</td>\n      <td>триллеры, криминал, детективы</td>\n      <td>15448</td>\n      <td>1</td>\n    </tr>\n    <tr>\n      <th>6</th>\n      <td>Богема</td>\n      <td>драмы, мюзиклы, мелодрамы</td>\n      <td>1123</td>\n      <td>896</td>\n    </tr>\n    <tr>\n      <th>7</th>\n      <td>Шедевр</td>\n      <td>драмы, комедии</td>\n      <td>9933</td>\n      <td>3</td>\n    </tr>\n    <tr>\n      <th>8</th>\n      <td>Единоборства для детей (3-6 лет) Школа героев ...</td>\n      <td>единоборства, фитнес, для детей</td>\n      <td>3287</td>\n      <td>728</td>\n    </tr>\n    <tr>\n      <th>9</th>\n      <td>Американский пирог: Все в сборе</td>\n      <td>комедии</td>\n      <td>8478</td>\n      <td>3</td>\n    </tr>\n  </tbody>\n</table>\n</div>"
     },
     "metadata": {},
     "output_type": "display_data"
    },
    {
     "name": "stdout",
     "output_type": "stream",
     "text": [
      "\n",
      "User ID 672861\n",
      "\n",
      "User ID 672861 - Watched items:\n"
     ]
    },
    {
     "data": {
      "text/plain": "                           title                                     genres  \\\n0  Медвежонок Винни и его друзья  мюзиклы, мультфильм, приключения, комедии   \n1                 В ритме сердца                  драмы, мюзиклы, мелодрамы   \n\n   item_id  view_cnt  \n0       25    202457  \n1       32    132865  ",
      "text/html": "<div>\n<style scoped>\n    .dataframe tbody tr th:only-of-type {\n        vertical-align: middle;\n    }\n\n    .dataframe tbody tr th {\n        vertical-align: top;\n    }\n\n    .dataframe thead th {\n        text-align: right;\n    }\n</style>\n<table border=\"1\" class=\"dataframe\">\n  <thead>\n    <tr style=\"text-align: right;\">\n      <th></th>\n      <th>title</th>\n      <th>genres</th>\n      <th>item_id</th>\n      <th>view_cnt</th>\n    </tr>\n  </thead>\n  <tbody>\n    <tr>\n      <th>0</th>\n      <td>Медвежонок Винни и его друзья</td>\n      <td>мюзиклы, мультфильм, приключения, комедии</td>\n      <td>25</td>\n      <td>202457</td>\n    </tr>\n    <tr>\n      <th>1</th>\n      <td>В ритме сердца</td>\n      <td>драмы, мюзиклы, мелодрамы</td>\n      <td>32</td>\n      <td>132865</td>\n    </tr>\n  </tbody>\n</table>\n</div>"
     },
     "metadata": {},
     "output_type": "display_data"
    },
    {
     "name": "stdout",
     "output_type": "stream",
     "text": [
      "\n",
      "User ID 672861 - Recommended items:\n"
     ]
    },
    {
     "data": {
      "text/plain": "                                               title  \\\n0                                        Ода радости   \n1                                    Последняя битва   \n2                                        Преисподняя   \n3                                          Лихорадка   \n4                                           Вечность   \n5                                              Леший   \n6                                             Богема   \n7                                             Шедевр   \n8  Единоборства для детей (3-6 лет) Школа героев ...   \n9                    Американский пирог: Все в сборе   \n\n                                genres  item_id  view_cnt  \n0                              комедии     7419         6  \n1                       драмы, военные     9109        19  \n2  драмы, детективы, триллеры, вестерн    13917         2  \n3                                ужасы    13332         4  \n4                                драмы     1331       180  \n5        триллеры, криминал, детективы    15448         1  \n6            драмы, мюзиклы, мелодрамы     1123       896  \n7                       драмы, комедии     9933         3  \n8      единоборства, фитнес, для детей     3287       728  \n9                              комедии     8478         3  ",
      "text/html": "<div>\n<style scoped>\n    .dataframe tbody tr th:only-of-type {\n        vertical-align: middle;\n    }\n\n    .dataframe tbody tr th {\n        vertical-align: top;\n    }\n\n    .dataframe thead th {\n        text-align: right;\n    }\n</style>\n<table border=\"1\" class=\"dataframe\">\n  <thead>\n    <tr style=\"text-align: right;\">\n      <th></th>\n      <th>title</th>\n      <th>genres</th>\n      <th>item_id</th>\n      <th>view_cnt</th>\n    </tr>\n  </thead>\n  <tbody>\n    <tr>\n      <th>0</th>\n      <td>Ода радости</td>\n      <td>комедии</td>\n      <td>7419</td>\n      <td>6</td>\n    </tr>\n    <tr>\n      <th>1</th>\n      <td>Последняя битва</td>\n      <td>драмы, военные</td>\n      <td>9109</td>\n      <td>19</td>\n    </tr>\n    <tr>\n      <th>2</th>\n      <td>Преисподняя</td>\n      <td>драмы, детективы, триллеры, вестерн</td>\n      <td>13917</td>\n      <td>2</td>\n    </tr>\n    <tr>\n      <th>3</th>\n      <td>Лихорадка</td>\n      <td>ужасы</td>\n      <td>13332</td>\n      <td>4</td>\n    </tr>\n    <tr>\n      <th>4</th>\n      <td>Вечность</td>\n      <td>драмы</td>\n      <td>1331</td>\n      <td>180</td>\n    </tr>\n    <tr>\n      <th>5</th>\n      <td>Леший</td>\n      <td>триллеры, криминал, детективы</td>\n      <td>15448</td>\n      <td>1</td>\n    </tr>\n    <tr>\n      <th>6</th>\n      <td>Богема</td>\n      <td>драмы, мюзиклы, мелодрамы</td>\n      <td>1123</td>\n      <td>896</td>\n    </tr>\n    <tr>\n      <th>7</th>\n      <td>Шедевр</td>\n      <td>драмы, комедии</td>\n      <td>9933</td>\n      <td>3</td>\n    </tr>\n    <tr>\n      <th>8</th>\n      <td>Единоборства для детей (3-6 лет) Школа героев ...</td>\n      <td>единоборства, фитнес, для детей</td>\n      <td>3287</td>\n      <td>728</td>\n    </tr>\n    <tr>\n      <th>9</th>\n      <td>Американский пирог: Все в сборе</td>\n      <td>комедии</td>\n      <td>8478</td>\n      <td>3</td>\n    </tr>\n  </tbody>\n</table>\n</div>"
     },
     "metadata": {},
     "output_type": "display_data"
    },
    {
     "name": "stdout",
     "output_type": "stream",
     "text": [
      "\n",
      "User ID 955527\n",
      "\n",
      "User ID 955527 - Watched items:\n"
     ]
    },
    {
     "data": {
      "text/plain": "         title        genres  item_id  view_cnt\n0  Признание 5  для взрослых       21    193123",
      "text/html": "<div>\n<style scoped>\n    .dataframe tbody tr th:only-of-type {\n        vertical-align: middle;\n    }\n\n    .dataframe tbody tr th {\n        vertical-align: top;\n    }\n\n    .dataframe thead th {\n        text-align: right;\n    }\n</style>\n<table border=\"1\" class=\"dataframe\">\n  <thead>\n    <tr style=\"text-align: right;\">\n      <th></th>\n      <th>title</th>\n      <th>genres</th>\n      <th>item_id</th>\n      <th>view_cnt</th>\n    </tr>\n  </thead>\n  <tbody>\n    <tr>\n      <th>0</th>\n      <td>Признание 5</td>\n      <td>для взрослых</td>\n      <td>21</td>\n      <td>193123</td>\n    </tr>\n  </tbody>\n</table>\n</div>"
     },
     "metadata": {},
     "output_type": "display_data"
    },
    {
     "name": "stdout",
     "output_type": "stream",
     "text": [
      "\n",
      "User ID 955527 - Recommended items:\n"
     ]
    },
    {
     "data": {
      "text/plain": "                                               title  \\\n0                                        Ода радости   \n1                                    Последняя битва   \n2                                        Преисподняя   \n3                                          Лихорадка   \n4                                           Вечность   \n5                                              Леший   \n6                                             Богема   \n7                                             Шедевр   \n8  Единоборства для детей (3-6 лет) Школа героев ...   \n9                    Американский пирог: Все в сборе   \n\n                                genres  item_id  view_cnt  \n0                              комедии     7419         6  \n1                       драмы, военные     9109        19  \n2  драмы, детективы, триллеры, вестерн    13917         2  \n3                                ужасы    13332         4  \n4                                драмы     1331       180  \n5        триллеры, криминал, детективы    15448         1  \n6            драмы, мюзиклы, мелодрамы     1123       896  \n7                       драмы, комедии     9933         3  \n8      единоборства, фитнес, для детей     3287       728  \n9                              комедии     8478         3  ",
      "text/html": "<div>\n<style scoped>\n    .dataframe tbody tr th:only-of-type {\n        vertical-align: middle;\n    }\n\n    .dataframe tbody tr th {\n        vertical-align: top;\n    }\n\n    .dataframe thead th {\n        text-align: right;\n    }\n</style>\n<table border=\"1\" class=\"dataframe\">\n  <thead>\n    <tr style=\"text-align: right;\">\n      <th></th>\n      <th>title</th>\n      <th>genres</th>\n      <th>item_id</th>\n      <th>view_cnt</th>\n    </tr>\n  </thead>\n  <tbody>\n    <tr>\n      <th>0</th>\n      <td>Ода радости</td>\n      <td>комедии</td>\n      <td>7419</td>\n      <td>6</td>\n    </tr>\n    <tr>\n      <th>1</th>\n      <td>Последняя битва</td>\n      <td>драмы, военные</td>\n      <td>9109</td>\n      <td>19</td>\n    </tr>\n    <tr>\n      <th>2</th>\n      <td>Преисподняя</td>\n      <td>драмы, детективы, триллеры, вестерн</td>\n      <td>13917</td>\n      <td>2</td>\n    </tr>\n    <tr>\n      <th>3</th>\n      <td>Лихорадка</td>\n      <td>ужасы</td>\n      <td>13332</td>\n      <td>4</td>\n    </tr>\n    <tr>\n      <th>4</th>\n      <td>Вечность</td>\n      <td>драмы</td>\n      <td>1331</td>\n      <td>180</td>\n    </tr>\n    <tr>\n      <th>5</th>\n      <td>Леший</td>\n      <td>триллеры, криминал, детективы</td>\n      <td>15448</td>\n      <td>1</td>\n    </tr>\n    <tr>\n      <th>6</th>\n      <td>Богема</td>\n      <td>драмы, мюзиклы, мелодрамы</td>\n      <td>1123</td>\n      <td>896</td>\n    </tr>\n    <tr>\n      <th>7</th>\n      <td>Шедевр</td>\n      <td>драмы, комедии</td>\n      <td>9933</td>\n      <td>3</td>\n    </tr>\n    <tr>\n      <th>8</th>\n      <td>Единоборства для детей (3-6 лет) Школа героев ...</td>\n      <td>единоборства, фитнес, для детей</td>\n      <td>3287</td>\n      <td>728</td>\n    </tr>\n    <tr>\n      <th>9</th>\n      <td>Американский пирог: Все в сборе</td>\n      <td>комедии</td>\n      <td>8478</td>\n      <td>3</td>\n    </tr>\n  </tbody>\n</table>\n</div>"
     },
     "metadata": {},
     "output_type": "display_data"
    }
   ],
   "source": [
    "reco_viz.visualise()"
   ]
  },
  {
   "cell_type": "code",
   "execution_count": null,
   "id": "322c766d464fa46c",
   "metadata": {
    "collapsed": false,
    "ExecuteTime": {
     "end_time": "2023-11-22T11:18:47.214280600Z",
     "start_time": "2023-11-22T11:18:47.214280600Z"
    }
   },
   "outputs": [],
   "source": []
  }
 ],
 "metadata": {
  "kernelspec": {
   "display_name": "Python 3 (ipykernel)",
   "language": "python",
   "name": "python3"
  },
  "language_info": {
   "codemirror_mode": {
    "name": "ipython",
    "version": 3
   },
   "file_extension": ".py",
   "mimetype": "text/x-python",
   "name": "python",
   "nbconvert_exporter": "python",
   "pygments_lexer": "ipython3",
   "version": "3.10.12"
  }
 },
 "nbformat": 4,
 "nbformat_minor": 5
}
