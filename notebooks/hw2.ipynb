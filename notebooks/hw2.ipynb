{
 "cells": [
  {
   "cell_type": "code",
   "execution_count": 1,
   "id": "initial_id",
   "metadata": {
    "collapsed": true,
    "ExecuteTime": {
     "end_time": "2023-11-21T23:06:22.974514300Z",
     "start_time": "2023-11-21T23:06:19.074982600Z"
    }
   },
   "outputs": [],
   "source": [
    "import time\n",
    "from copy import deepcopy\n",
    "\n",
    "import numpy as np\n",
    "import pandas as pd\n",
    "import rectools\n",
    "from rectools import Columns\n",
    "from rectools.dataset import Dataset\n",
    "from rectools.dataset import Interactions\n",
    "from rectools.metrics import (\n",
    "    Precision,\n",
    "    Recall,\n",
    "    MAP,\n",
    "    NDCG,\n",
    "    calc_metrics,\n",
    "    Serendipity,\n",
    "    MeanInvUserFreq\n",
    ")\n",
    "from rectools.model_selection import TimeRangeSplitter\n",
    "from rectools.models import RandomModel, PopularModel\n",
    "from tqdm import tqdm"
   ]
  },
  {
   "cell_type": "code",
   "execution_count": 2,
   "outputs": [],
   "source": [
    "df_interactions = pd.read_csv('../data/interactions.csv')\n",
    "df_interactions.rename(\n",
    "    columns={\n",
    "        \"last_watch_dt\": rectools.Columns.Datetime,\n",
    "        \"total_dur\": rectools.Columns.Weight},\n",
    "    inplace=True\n",
    ")\n",
    "\n",
    "interactions = Interactions(df_interactions)\n",
    "\n",
    "items = pd.read_csv('../data/items.csv')"
   ],
   "metadata": {
    "collapsed": false,
    "ExecuteTime": {
     "end_time": "2023-11-21T23:06:31.921489300Z",
     "start_time": "2023-11-21T23:06:22.901945900Z"
    }
   },
   "id": "d5d154ad767c814"
  },
  {
   "cell_type": "code",
   "execution_count": 3,
   "outputs": [],
   "source": [
    "class RecoEvaluation:\n",
    "    def __init__(self, models, metrics, splitter, k):\n",
    "        self.models = models\n",
    "        self.metrics = metrics\n",
    "        self.splitter = splitter\n",
    "        self.k = k\n",
    "\n",
    "    def evaluate(self, interactions):\n",
    "        n_splits = self.splitter.n_splits\n",
    "        results = []\n",
    "\n",
    "        fold_iterator = self.splitter.split(interactions, collect_fold_stats=True)\n",
    "\n",
    "        for train_ids, test_ids, fold_info in tqdm(fold_iterator, total=n_splits):\n",
    "            print(f\"Fold {fold_info['i_split']}\")\n",
    "            print(fold_info)\n",
    "\n",
    "            df_train = interactions.df.iloc[train_ids]\n",
    "            dataset = Dataset.construct(df_train)\n",
    "\n",
    "            df_test = interactions.df.iloc[test_ids][Columns.UserItem]\n",
    "            test_users = np.unique(df_test[Columns.User])\n",
    "\n",
    "            catalog = df_train[Columns.Item].unique()\n",
    "\n",
    "            for model_name, model in self.models.items():\n",
    "                model_copy = deepcopy(model)  # Ensure a deep copy of the model\n",
    "                start = time.time()\n",
    "                model_copy.fit(dataset)\n",
    "                end = time.time()\n",
    "                recos = model_copy.recommend(\n",
    "                    users=test_users,\n",
    "                    dataset=dataset,\n",
    "                    k=self.k,\n",
    "                    filter_viewed=True,\n",
    "                )\n",
    "\n",
    "                metric_values = calc_metrics(\n",
    "                    self.metrics,\n",
    "                    reco=recos,\n",
    "                    interactions=df_test,\n",
    "                    prev_interactions=df_train,\n",
    "                    catalog=catalog,\n",
    "                )\n",
    "\n",
    "                res = {\"fold\": fold_info[\"i_split\"], \"model\": model_name, \"time\": end - start}\n",
    "                res.update(metric_values)\n",
    "                results.append(res)\n",
    "\n",
    "        return pd.DataFrame(results).groupby(\"model\").mean()"
   ],
   "metadata": {
    "collapsed": false,
    "ExecuteTime": {
     "end_time": "2023-11-21T23:06:31.928474300Z",
     "start_time": "2023-11-21T23:06:31.927364700Z"
    }
   },
   "id": "188b7c55203bb3ff"
  },
  {
   "cell_type": "code",
   "execution_count": 4,
   "outputs": [],
   "source": [
    "SEED = 42\n",
    "N_SPLITS = 3\n",
    "K = 10\n",
    "\n",
    "models = {\n",
    "    'RandomModel': RandomModel(random_state=SEED),\n",
    "    'PopularModel': PopularModel()\n",
    "}\n",
    "\n",
    "metrics = {\n",
    "    'Precision@1': Precision(k=1),\n",
    "    'Precision@5': Precision(k=5),\n",
    "    'Precision@10': Precision(k=10),\n",
    "    'Recall@1': Recall(k=1),\n",
    "    'Recall@5': Recall(k=5),\n",
    "    'Recall@10': Recall(k=10),\n",
    "    'MAP@1': MAP(k=1),\n",
    "    'MAP@5': MAP(k=5),\n",
    "    'MAP@10': MAP(k=10),\n",
    "    'NDCG@1': NDCG(k=1),\n",
    "    'NDCG@5': NDCG(k=5),\n",
    "    'NDCG@10': NDCG(k=10),\n",
    "    'MIUF@1': MeanInvUserFreq(k=1),\n",
    "    'MIUF@5': MeanInvUserFreq(k=5),\n",
    "    'MIUF@10': MeanInvUserFreq(k=10),\n",
    "    'Serendipity@1': Serendipity(k=1),\n",
    "    'Serendipity@5': Serendipity(k=5),\n",
    "    'Serendipity@10': Serendipity(k=10)\n",
    "}\n",
    "\n",
    "splitter = TimeRangeSplitter(\n",
    "    \"7D\",\n",
    "    n_splits=N_SPLITS,\n",
    "    filter_already_seen=True,\n",
    "    filter_cold_items=True,\n",
    "    filter_cold_users=True,\n",
    ")"
   ],
   "metadata": {
    "collapsed": false,
    "ExecuteTime": {
     "end_time": "2023-11-21T23:06:31.939673900Z",
     "start_time": "2023-11-21T23:06:31.932727700Z"
    }
   },
   "id": "c03a1c50f10a7758"
  },
  {
   "cell_type": "code",
   "execution_count": 5,
   "outputs": [
    {
     "name": "stderr",
     "output_type": "stream",
     "text": [
      "  0%|          | 0/3 [00:00<?, ?it/s]"
     ]
    },
    {
     "name": "stdout",
     "output_type": "stream",
     "text": [
      "Fold 0\n",
      "{'i_split': 0, 'start': Timestamp('2021-08-02 00:00:00', freq='7D'), 'end': Timestamp('2021-08-09 00:00:00', freq='7D'), 'train': 4266013, 'train_users': 797423, 'train_items': 15237, 'test': 263681, 'test_users': 98184, 'test_items': 6602}\n"
     ]
    },
    {
     "name": "stderr",
     "output_type": "stream",
     "text": [
      " 33%|███▎      | 1/3 [00:32<01:04, 32.46s/it]"
     ]
    },
    {
     "name": "stdout",
     "output_type": "stream",
     "text": [
      "Fold 1\n",
      "{'i_split': 1, 'start': Timestamp('2021-08-09 00:00:00', freq='7D'), 'end': Timestamp('2021-08-16 00:00:00', freq='7D'), 'train': 4649162, 'train_users': 850489, 'train_items': 15415, 'test': 279422, 'test_users': 103511, 'test_items': 6698}\n"
     ]
    },
    {
     "name": "stderr",
     "output_type": "stream",
     "text": [
      " 67%|██████▋   | 2/3 [01:07<00:34, 34.27s/it]"
     ]
    },
    {
     "name": "stdout",
     "output_type": "stream",
     "text": [
      "Fold 2\n",
      "{'i_split': 2, 'start': Timestamp('2021-08-16 00:00:00', freq='7D'), 'end': Timestamp('2021-08-23 00:00:00', freq='7D'), 'train': 5051815, 'train_users': 906071, 'train_items': 15577, 'test': 298878, 'test_users': 110076, 'test_items': 6679}\n"
     ]
    },
    {
     "name": "stderr",
     "output_type": "stream",
     "text": [
      "100%|██████████| 3/3 [01:25<00:00, 28.61s/it]\n"
     ]
    }
   ],
   "source": [
    "evaluator = RecoEvaluation(models, metrics, splitter, K)\n",
    "results_df = evaluator.evaluate(interactions)"
   ],
   "metadata": {
    "collapsed": false,
    "ExecuteTime": {
     "end_time": "2023-11-21T23:07:57.794513500Z",
     "start_time": "2023-11-21T23:06:31.941909200Z"
    }
   },
   "id": "4c3ae23c25d80f83"
  },
  {
   "cell_type": "code",
   "execution_count": 6,
   "outputs": [
    {
     "data": {
      "text/plain": "              fold      time  Precision@1  Recall@1  Precision@5  Recall@5  \\\nmodel                                                                        \nPopularModel   1.0  2.581453     0.076432  0.042720     0.052402  0.137413   \nRandomModel    1.0  0.000029     0.000169  0.000069     0.000176  0.000345   \n\n              Precision@10  Recall@10    NDCG@1    NDCG@5   NDCG@10     MAP@1  \\\nmodel                                                                           \nPopularModel      0.033903   0.173492  0.076432  0.057932  0.043084  0.042720   \nRandomModel       0.000176   0.000687  0.000169  0.000173  0.000175  0.000069   \n\n                 MAP@5    MAP@10     MIUF@1     MIUF@5    MIUF@10  \\\nmodel                                                               \nPopularModel  0.078295  0.084109   2.377055   3.066979   3.713390   \nRandomModel   0.000155  0.000200  15.616147  15.611575  15.610409   \n\n              Serendipity@1  Serendipity@5  Serendipity@10  \nmodel                                                       \nPopularModel       0.000002       0.000003        0.000002  \nRandomModel        0.000004       0.000006        0.000006  ",
      "text/html": "<div>\n<style scoped>\n    .dataframe tbody tr th:only-of-type {\n        vertical-align: middle;\n    }\n\n    .dataframe tbody tr th {\n        vertical-align: top;\n    }\n\n    .dataframe thead th {\n        text-align: right;\n    }\n</style>\n<table border=\"1\" class=\"dataframe\">\n  <thead>\n    <tr style=\"text-align: right;\">\n      <th></th>\n      <th>fold</th>\n      <th>time</th>\n      <th>Precision@1</th>\n      <th>Recall@1</th>\n      <th>Precision@5</th>\n      <th>Recall@5</th>\n      <th>Precision@10</th>\n      <th>Recall@10</th>\n      <th>NDCG@1</th>\n      <th>NDCG@5</th>\n      <th>NDCG@10</th>\n      <th>MAP@1</th>\n      <th>MAP@5</th>\n      <th>MAP@10</th>\n      <th>MIUF@1</th>\n      <th>MIUF@5</th>\n      <th>MIUF@10</th>\n      <th>Serendipity@1</th>\n      <th>Serendipity@5</th>\n      <th>Serendipity@10</th>\n    </tr>\n    <tr>\n      <th>model</th>\n      <th></th>\n      <th></th>\n      <th></th>\n      <th></th>\n      <th></th>\n      <th></th>\n      <th></th>\n      <th></th>\n      <th></th>\n      <th></th>\n      <th></th>\n      <th></th>\n      <th></th>\n      <th></th>\n      <th></th>\n      <th></th>\n      <th></th>\n      <th></th>\n      <th></th>\n      <th></th>\n    </tr>\n  </thead>\n  <tbody>\n    <tr>\n      <th>PopularModel</th>\n      <td>1.0</td>\n      <td>2.581453</td>\n      <td>0.076432</td>\n      <td>0.042720</td>\n      <td>0.052402</td>\n      <td>0.137413</td>\n      <td>0.033903</td>\n      <td>0.173492</td>\n      <td>0.076432</td>\n      <td>0.057932</td>\n      <td>0.043084</td>\n      <td>0.042720</td>\n      <td>0.078295</td>\n      <td>0.084109</td>\n      <td>2.377055</td>\n      <td>3.066979</td>\n      <td>3.713390</td>\n      <td>0.000002</td>\n      <td>0.000003</td>\n      <td>0.000002</td>\n    </tr>\n    <tr>\n      <th>RandomModel</th>\n      <td>1.0</td>\n      <td>0.000029</td>\n      <td>0.000169</td>\n      <td>0.000069</td>\n      <td>0.000176</td>\n      <td>0.000345</td>\n      <td>0.000176</td>\n      <td>0.000687</td>\n      <td>0.000169</td>\n      <td>0.000173</td>\n      <td>0.000175</td>\n      <td>0.000069</td>\n      <td>0.000155</td>\n      <td>0.000200</td>\n      <td>15.616147</td>\n      <td>15.611575</td>\n      <td>15.610409</td>\n      <td>0.000004</td>\n      <td>0.000006</td>\n      <td>0.000006</td>\n    </tr>\n  </tbody>\n</table>\n</div>"
     },
     "execution_count": 6,
     "metadata": {},
     "output_type": "execute_result"
    }
   ],
   "source": [
    "results_df"
   ],
   "metadata": {
    "collapsed": false,
    "ExecuteTime": {
     "end_time": "2023-11-21T23:07:57.809554300Z",
     "start_time": "2023-11-21T23:07:57.803544300Z"
    }
   },
   "id": "1401d48b0779723d"
  },
  {
   "cell_type": "code",
   "execution_count": 7,
   "outputs": [],
   "source": [
    "class RecoVisualisation:\n",
    "    def __init__(self, model, dataset, user_ids, item_data):\n",
    "        self.model = model\n",
    "        self.dataset = dataset\n",
    "        self.user_ids = user_ids\n",
    "        self.item_data = item_data\n",
    "\n",
    "    def visualise(self):\n",
    "        for user_id in self.user_ids:\n",
    "            user_history = self.dataset.interactions.df.loc[\n",
    "                self.dataset.interactions.df.user_id == user_id]\n",
    "            user_recos = self.model.recommend(\n",
    "                users=[user_id],\n",
    "                dataset=self.dataset,\n",
    "                k=K,\n",
    "                filter_viewed=True\n",
    "            )\n",
    "\n",
    "            if not user_history.empty:\n",
    "                user_history = user_history.merge(\n",
    "                    self.item_data,\n",
    "                    left_on='item_id',\n",
    "                    right_on='item_id',\n",
    "                )\n",
    "                print(f\"\\nUser ID {user_id} - Watched items:\")\n",
    "                print(user_history)\n",
    "\n",
    "            if not user_recos.empty:\n",
    "                user_recos = user_recos.merge(\n",
    "                    self.item_data,\n",
    "                    left_on='item_id',\n",
    "                    right_on='item_id',\n",
    "                )\n",
    "                print(f\"\\nUser ID {user_id} - Recommended items:\")\n",
    "                print(user_recos)"
   ],
   "metadata": {
    "collapsed": false,
    "ExecuteTime": {
     "end_time": "2023-11-21T23:07:57.839164100Z",
     "start_time": "2023-11-21T23:07:57.812602900Z"
    }
   },
   "id": "d9911f84431e63fb"
  },
  {
   "cell_type": "code",
   "execution_count": 8,
   "outputs": [],
   "source": [
    "user_ids = [666262, 672861, 955527]\n",
    "\n",
    "model = RandomModel(random_state=42)\n",
    "dataset = Dataset.construct(df_interactions)\n",
    "model.fit(dataset)\n",
    "\n",
    "reco_viz = RecoVisualisation(model, dataset, user_ids,\n",
    "                             items[['item_id', 'title', 'genres', 'release_year']])"
   ],
   "metadata": {
    "collapsed": false,
    "ExecuteTime": {
     "end_time": "2023-11-21T23:07:59.049747400Z",
     "start_time": "2023-11-21T23:07:57.814865600Z"
    }
   },
   "id": "8977f3d1ce70de9b"
  },
  {
   "cell_type": "code",
   "execution_count": 9,
   "outputs": [
    {
     "name": "stdout",
     "output_type": "stream",
     "text": [
      "\n",
      "User ID 666262 - Watched items:\n",
      "   user_id  item_id  weight   datetime                 title  \\\n",
      "0   666262       93  2435.0 2021-07-21  Дом ночных призраков   \n",
      "\n",
      "                                   genres  release_year  \n",
      "0  зарубежные, криминал, детективы, ужасы        1959.0  \n",
      "\n",
      "User ID 666262 - Recommended items:\n",
      "   user_id  item_id  score  rank  \\\n",
      "0   666262     7419     10     1   \n",
      "1   666262     9109      9     2   \n",
      "2   666262    13917      8     3   \n",
      "3   666262    13332      7     4   \n",
      "4   666262     1331      6     5   \n",
      "5   666262    15448      5     6   \n",
      "6   666262     1123      4     7   \n",
      "7   666262     9933      3     8   \n",
      "8   666262     3287      2     9   \n",
      "9   666262     8478      1    10   \n",
      "\n",
      "                                               title  \\\n",
      "0                                        Ода радости   \n",
      "1                                    Последняя битва   \n",
      "2                                        Преисподняя   \n",
      "3                                          Лихорадка   \n",
      "4                                           Вечность   \n",
      "5                                              Леший   \n",
      "6                                             Богема   \n",
      "7                                             Шедевр   \n",
      "8  Единоборства для детей (3-6 лет) Школа героев ...   \n",
      "9                    Американский пирог: Все в сборе   \n",
      "\n",
      "                                genres  release_year  \n",
      "0                              комедии        2019.0  \n",
      "1                       драмы, военные        2017.0  \n",
      "2  драмы, детективы, триллеры, вестерн        2016.0  \n",
      "3                                ужасы        2003.0  \n",
      "4                                драмы        2016.0  \n",
      "5        триллеры, криминал, детективы        1997.0  \n",
      "6            драмы, мюзиклы, мелодрамы        2005.0  \n",
      "7                       драмы, комедии        2018.0  \n",
      "8      единоборства, фитнес, для детей        2020.0  \n",
      "9                              комедии        2012.0  \n",
      "\n",
      "User ID 672861 - Watched items:\n",
      "   user_id  item_id    weight   datetime                          title  \\\n",
      "0   672861       25  110883.0 2021-07-26  Медвежонок Винни и его друзья   \n",
      "1   672861       32   12662.0 2021-08-01                 В ритме сердца   \n",
      "\n",
      "                                      genres  release_year  \n",
      "0  мюзиклы, мультфильм, приключения, комедии        2011.0  \n",
      "1                  драмы, мюзиклы, мелодрамы        2011.0  \n",
      "\n",
      "User ID 672861 - Recommended items:\n",
      "   user_id  item_id  score  rank  \\\n",
      "0   672861     7419     10     1   \n",
      "1   672861     9109      9     2   \n",
      "2   672861    13917      8     3   \n",
      "3   672861    13332      7     4   \n",
      "4   672861     1331      6     5   \n",
      "5   672861    15448      5     6   \n",
      "6   672861     1123      4     7   \n",
      "7   672861     9933      3     8   \n",
      "8   672861     3287      2     9   \n",
      "9   672861     8478      1    10   \n",
      "\n",
      "                                               title  \\\n",
      "0                                        Ода радости   \n",
      "1                                    Последняя битва   \n",
      "2                                        Преисподняя   \n",
      "3                                          Лихорадка   \n",
      "4                                           Вечность   \n",
      "5                                              Леший   \n",
      "6                                             Богема   \n",
      "7                                             Шедевр   \n",
      "8  Единоборства для детей (3-6 лет) Школа героев ...   \n",
      "9                    Американский пирог: Все в сборе   \n",
      "\n",
      "                                genres  release_year  \n",
      "0                              комедии        2019.0  \n",
      "1                       драмы, военные        2017.0  \n",
      "2  драмы, детективы, триллеры, вестерн        2016.0  \n",
      "3                                ужасы        2003.0  \n",
      "4                                драмы        2016.0  \n",
      "5        триллеры, криминал, детективы        1997.0  \n",
      "6            драмы, мюзиклы, мелодрамы        2005.0  \n",
      "7                       драмы, комедии        2018.0  \n",
      "8      единоборства, фитнес, для детей        2020.0  \n",
      "9                              комедии        2012.0  \n",
      "\n",
      "User ID 955527 - Watched items:\n",
      "   user_id  item_id   weight   datetime        title        genres  \\\n",
      "0   955527       21  19820.0 2021-07-20  Признание 5  для взрослых   \n",
      "\n",
      "   release_year  \n",
      "0        2014.0  \n",
      "\n",
      "User ID 955527 - Recommended items:\n",
      "   user_id  item_id  score  rank  \\\n",
      "0   955527     7419     10     1   \n",
      "1   955527     9109      9     2   \n",
      "2   955527    13917      8     3   \n",
      "3   955527    13332      7     4   \n",
      "4   955527     1331      6     5   \n",
      "5   955527    15448      5     6   \n",
      "6   955527     1123      4     7   \n",
      "7   955527     9933      3     8   \n",
      "8   955527     3287      2     9   \n",
      "9   955527     8478      1    10   \n",
      "\n",
      "                                               title  \\\n",
      "0                                        Ода радости   \n",
      "1                                    Последняя битва   \n",
      "2                                        Преисподняя   \n",
      "3                                          Лихорадка   \n",
      "4                                           Вечность   \n",
      "5                                              Леший   \n",
      "6                                             Богема   \n",
      "7                                             Шедевр   \n",
      "8  Единоборства для детей (3-6 лет) Школа героев ...   \n",
      "9                    Американский пирог: Все в сборе   \n",
      "\n",
      "                                genres  release_year  \n",
      "0                              комедии        2019.0  \n",
      "1                       драмы, военные        2017.0  \n",
      "2  драмы, детективы, триллеры, вестерн        2016.0  \n",
      "3                                ужасы        2003.0  \n",
      "4                                драмы        2016.0  \n",
      "5        триллеры, криминал, детективы        1997.0  \n",
      "6            драмы, мюзиклы, мелодрамы        2005.0  \n",
      "7                       драмы, комедии        2018.0  \n",
      "8      единоборства, фитнес, для детей        2020.0  \n",
      "9                              комедии        2012.0  \n"
     ]
    }
   ],
   "source": [
    "reco_viz.visualise()"
   ],
   "metadata": {
    "collapsed": false,
    "ExecuteTime": {
     "end_time": "2023-11-21T23:07:59.716654600Z",
     "start_time": "2023-11-21T23:07:59.018988800Z"
    }
   },
   "id": "f13edbcebbf33858"
  },
  {
   "cell_type": "code",
   "execution_count": 9,
   "outputs": [],
   "source": [],
   "metadata": {
    "collapsed": false,
    "ExecuteTime": {
     "end_time": "2023-11-21T23:07:59.717643700Z",
     "start_time": "2023-11-21T23:07:59.708097200Z"
    }
   },
   "id": "322c766d464fa46c"
  }
 ],
 "metadata": {
  "kernelspec": {
   "display_name": "Python 3",
   "language": "python",
   "name": "python3"
  },
  "language_info": {
   "codemirror_mode": {
    "name": "ipython",
    "version": 2
   },
   "file_extension": ".py",
   "mimetype": "text/x-python",
   "name": "python",
   "nbconvert_exporter": "python",
   "pygments_lexer": "ipython2",
   "version": "2.7.6"
  }
 },
 "nbformat": 4,
 "nbformat_minor": 5
}
