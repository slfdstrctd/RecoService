{
 "cells": [
  {
   "cell_type": "code",
   "execution_count": 2,
   "id": "73d9fa3b",
   "metadata": {
    "ExecuteTime": {
     "end_time": "2023-12-12T13:08:33.933914400Z",
     "start_time": "2023-12-12T13:08:30.215079100Z"
    },
    "id": "73d9fa3b"
   },
   "outputs": [
    {
     "name": "stderr",
     "output_type": "stream",
     "text": [
      "[nltk_data] Downloading package punkt to /home/slfdstrctd/nltk_data...\n",
      "[nltk_data]   Package punkt is already up-to-date!\n",
      "[nltk_data] Downloading package stopwords to\n",
      "[nltk_data]     /home/slfdstrctd/nltk_data...\n",
      "[nltk_data]   Package stopwords is already up-to-date!\n"
     ]
    }
   ],
   "source": [
    "import pickle\n",
    "import warnings\n",
    "from collections import Counter\n",
    "from random import randint\n",
    "\n",
    "import nltk\n",
    "import numpy as np\n",
    "import pandas as pd\n",
    "import tensorflow.keras.backend as K\n",
    "from gensim.models import FastText\n",
    "from nltk.corpus import stopwords\n",
    "from nltk.tokenize import word_tokenize\n",
    "from tensorflow import keras\n",
    "from tqdm import tqdm\n",
    "\n",
    "warnings.filterwarnings('ignore')\n",
    "nltk.download(\"punkt\")\n",
    "nltk.download('stopwords')"
   ]
  },
  {
   "cell_type": "markdown",
   "id": "0ce80627",
   "metadata": {
    "id": "0ce80627"
   },
   "source": [
    "## Считаем препроцессные данные из прошлого ноутбучка"
   ]
  },
  {
   "cell_type": "code",
   "execution_count": 3,
   "id": "25508632",
   "metadata": {
    "ExecuteTime": {
     "end_time": "2023-12-12T13:08:37.203448Z",
     "start_time": "2023-12-12T13:08:33.921766900Z"
    },
    "id": "25508632"
   },
   "outputs": [],
   "source": [
    "interactions_df = pd.read_csv('../data/interactions_processed.csv')\n",
    "users_df = pd.read_csv('../data/users_processed.csv')\n",
    "items_df = pd.read_csv('../data/items_processed.csv')"
   ]
  },
  {
   "cell_type": "code",
   "execution_count": 4,
   "id": "f5eacb31",
   "metadata": {
    "ExecuteTime": {
     "end_time": "2023-12-12T13:08:37.238209700Z",
     "start_time": "2023-12-12T13:08:37.209728100Z"
    },
    "colab": {
     "base_uri": "https://localhost:8080/",
     "height": 206
    },
    "id": "f5eacb31",
    "outputId": "37b5c35b-4f4b-48ea-9012-a6ce7eed31c7"
   },
   "outputs": [
    {
     "data": {
      "text/html": [
       "<div>\n",
       "<style scoped>\n",
       "    .dataframe tbody tr th:only-of-type {\n",
       "        vertical-align: middle;\n",
       "    }\n",
       "\n",
       "    .dataframe tbody tr th {\n",
       "        vertical-align: top;\n",
       "    }\n",
       "\n",
       "    .dataframe thead th {\n",
       "        text-align: right;\n",
       "    }\n",
       "</style>\n",
       "<table border=\"1\" class=\"dataframe\">\n",
       "  <thead>\n",
       "    <tr style=\"text-align: right;\">\n",
       "      <th></th>\n",
       "      <th>user_id</th>\n",
       "      <th>age</th>\n",
       "      <th>income</th>\n",
       "      <th>sex</th>\n",
       "      <th>kids_flg</th>\n",
       "    </tr>\n",
       "  </thead>\n",
       "  <tbody>\n",
       "    <tr>\n",
       "      <th>0</th>\n",
       "      <td>973171</td>\n",
       "      <td>age_25_34</td>\n",
       "      <td>income_60_90</td>\n",
       "      <td>M</td>\n",
       "      <td>True</td>\n",
       "    </tr>\n",
       "    <tr>\n",
       "      <th>1</th>\n",
       "      <td>962099</td>\n",
       "      <td>age_18_24</td>\n",
       "      <td>income_20_40</td>\n",
       "      <td>M</td>\n",
       "      <td>False</td>\n",
       "    </tr>\n",
       "    <tr>\n",
       "      <th>2</th>\n",
       "      <td>1047345</td>\n",
       "      <td>age_45_54</td>\n",
       "      <td>income_40_60</td>\n",
       "      <td>F</td>\n",
       "      <td>False</td>\n",
       "    </tr>\n",
       "    <tr>\n",
       "      <th>3</th>\n",
       "      <td>721985</td>\n",
       "      <td>age_45_54</td>\n",
       "      <td>income_20_40</td>\n",
       "      <td>F</td>\n",
       "      <td>False</td>\n",
       "    </tr>\n",
       "    <tr>\n",
       "      <th>4</th>\n",
       "      <td>704055</td>\n",
       "      <td>age_35_44</td>\n",
       "      <td>income_60_90</td>\n",
       "      <td>F</td>\n",
       "      <td>False</td>\n",
       "    </tr>\n",
       "  </tbody>\n",
       "</table>\n",
       "</div>"
      ],
      "text/plain": [
       "   user_id        age        income sex  kids_flg\n",
       "0   973171  age_25_34  income_60_90   M      True\n",
       "1   962099  age_18_24  income_20_40   M     False\n",
       "2  1047345  age_45_54  income_40_60   F     False\n",
       "3   721985  age_45_54  income_20_40   F     False\n",
       "4   704055  age_35_44  income_60_90   F     False"
      ]
     },
     "execution_count": 4,
     "metadata": {},
     "output_type": "execute_result"
    }
   ],
   "source": [
    "users_df.head()"
   ]
  },
  {
   "cell_type": "code",
   "execution_count": 5,
   "id": "61669d0d",
   "metadata": {
    "ExecuteTime": {
     "end_time": "2023-12-12T13:08:37.260512200Z",
     "start_time": "2023-12-12T13:08:37.233046200Z"
    },
    "id": "61669d0d"
   },
   "outputs": [],
   "source": [
    "items_df = items_df.rename(columns={'id': 'item_id'})"
   ]
  },
  {
   "cell_type": "code",
   "execution_count": 6,
   "id": "25f4462e",
   "metadata": {
    "ExecuteTime": {
     "end_time": "2023-12-12T13:08:37.316253200Z",
     "start_time": "2023-12-12T13:08:37.251416700Z"
    },
    "colab": {
     "base_uri": "https://localhost:8080/",
     "height": 652
    },
    "id": "25f4462e",
    "outputId": "5cc6c801-f866-4b52-aada-f5226a5ebc21"
   },
   "outputs": [
    {
     "data": {
      "text/html": [
       "<div>\n",
       "<style scoped>\n",
       "    .dataframe tbody tr th:only-of-type {\n",
       "        vertical-align: middle;\n",
       "    }\n",
       "\n",
       "    .dataframe tbody tr th {\n",
       "        vertical-align: top;\n",
       "    }\n",
       "\n",
       "    .dataframe thead th {\n",
       "        text-align: right;\n",
       "    }\n",
       "</style>\n",
       "<table border=\"1\" class=\"dataframe\">\n",
       "  <thead>\n",
       "    <tr style=\"text-align: right;\">\n",
       "      <th></th>\n",
       "      <th>item_id</th>\n",
       "      <th>content_type</th>\n",
       "      <th>title</th>\n",
       "      <th>title_orig</th>\n",
       "      <th>genres</th>\n",
       "      <th>countries</th>\n",
       "      <th>for_kids</th>\n",
       "      <th>age_rating</th>\n",
       "      <th>studios</th>\n",
       "      <th>directors</th>\n",
       "      <th>actors</th>\n",
       "      <th>description</th>\n",
       "      <th>keywords</th>\n",
       "      <th>release_year_cat</th>\n",
       "    </tr>\n",
       "  </thead>\n",
       "  <tbody>\n",
       "    <tr>\n",
       "      <th>0</th>\n",
       "      <td>10711</td>\n",
       "      <td>film</td>\n",
       "      <td>поговори с ней</td>\n",
       "      <td>Hable con ella</td>\n",
       "      <td>драмы, зарубежные, детективы, мелодрамы</td>\n",
       "      <td>испания</td>\n",
       "      <td>False</td>\n",
       "      <td>16.0</td>\n",
       "      <td>unknown</td>\n",
       "      <td>педро альмодовар</td>\n",
       "      <td>Адольфо Фернандес, Ана Фернандес, Дарио Гранди...</td>\n",
       "      <td>Мелодрама легендарного Педро Альмодовара «Пого...</td>\n",
       "      <td>Поговори, ней, 2002, Испания, друзья, любовь, ...</td>\n",
       "      <td>2000-2010</td>\n",
       "    </tr>\n",
       "    <tr>\n",
       "      <th>1</th>\n",
       "      <td>2508</td>\n",
       "      <td>film</td>\n",
       "      <td>голые перцы</td>\n",
       "      <td>Search Party</td>\n",
       "      <td>зарубежные, приключения, комедии</td>\n",
       "      <td>сша</td>\n",
       "      <td>False</td>\n",
       "      <td>16.0</td>\n",
       "      <td>unknown</td>\n",
       "      <td>скот армстронг</td>\n",
       "      <td>Адам Палли, Брайан Хаски, Дж.Б. Смув, Джейсон ...</td>\n",
       "      <td>Уморительная современная комедия на популярную...</td>\n",
       "      <td>Голые, перцы, 2014, США, друзья, свадьбы, прео...</td>\n",
       "      <td>2010-2020</td>\n",
       "    </tr>\n",
       "    <tr>\n",
       "      <th>2</th>\n",
       "      <td>10716</td>\n",
       "      <td>film</td>\n",
       "      <td>тактическая сила</td>\n",
       "      <td>Tactical Force</td>\n",
       "      <td>криминал, зарубежные, триллеры, боевики, комедии</td>\n",
       "      <td>канада</td>\n",
       "      <td>False</td>\n",
       "      <td>16.0</td>\n",
       "      <td>unknown</td>\n",
       "      <td>адам п. калтраро</td>\n",
       "      <td>Адриан Холмс, Даррен Шалави, Джерри Вассерман,...</td>\n",
       "      <td>Профессиональный рестлер Стив Остин («Все или ...</td>\n",
       "      <td>Тактическая, сила, 2011, Канада, бандиты, ганг...</td>\n",
       "      <td>2010-2020</td>\n",
       "    </tr>\n",
       "    <tr>\n",
       "      <th>3</th>\n",
       "      <td>7868</td>\n",
       "      <td>film</td>\n",
       "      <td>45 лет</td>\n",
       "      <td>45 Years</td>\n",
       "      <td>драмы, зарубежные, мелодрамы</td>\n",
       "      <td>великобритания</td>\n",
       "      <td>False</td>\n",
       "      <td>16.0</td>\n",
       "      <td>unknown</td>\n",
       "      <td>эндрю хэй</td>\n",
       "      <td>Александра Риддлстон-Барретт, Джеральдин Джейм...</td>\n",
       "      <td>Шарлотта Рэмплинг, Том Кортни, Джеральдин Джей...</td>\n",
       "      <td>45, лет, 2015, Великобритания, брак, жизнь, лю...</td>\n",
       "      <td>2010-2020</td>\n",
       "    </tr>\n",
       "    <tr>\n",
       "      <th>4</th>\n",
       "      <td>16268</td>\n",
       "      <td>film</td>\n",
       "      <td>все решает мгновение</td>\n",
       "      <td>None</td>\n",
       "      <td>драмы, спорт, советские, мелодрамы</td>\n",
       "      <td>ссср</td>\n",
       "      <td>False</td>\n",
       "      <td>12.0</td>\n",
       "      <td>ленфильм</td>\n",
       "      <td>виктор садовский</td>\n",
       "      <td>Александр Абдулов, Александр Демьяненко, Алекс...</td>\n",
       "      <td>Расчетливая чаровница из советского кинохита «...</td>\n",
       "      <td>Все, решает, мгновение, 1978, СССР, сильные, ж...</td>\n",
       "      <td>1970-1980</td>\n",
       "    </tr>\n",
       "  </tbody>\n",
       "</table>\n",
       "</div>"
      ],
      "text/plain": [
       "   item_id content_type                 title      title_orig  \\\n",
       "0    10711         film        поговори с ней  Hable con ella   \n",
       "1     2508         film           голые перцы    Search Party   \n",
       "2    10716         film      тактическая сила  Tactical Force   \n",
       "3     7868         film                45 лет        45 Years   \n",
       "4    16268         film  все решает мгновение            None   \n",
       "\n",
       "                                             genres       countries  for_kids  \\\n",
       "0           драмы, зарубежные, детективы, мелодрамы         испания     False   \n",
       "1                  зарубежные, приключения, комедии             сша     False   \n",
       "2  криминал, зарубежные, триллеры, боевики, комедии          канада     False   \n",
       "3                      драмы, зарубежные, мелодрамы  великобритания     False   \n",
       "4                драмы, спорт, советские, мелодрамы            ссср     False   \n",
       "\n",
       "   age_rating   studios         directors  \\\n",
       "0        16.0   unknown  педро альмодовар   \n",
       "1        16.0   unknown    скот армстронг   \n",
       "2        16.0   unknown  адам п. калтраро   \n",
       "3        16.0   unknown         эндрю хэй   \n",
       "4        12.0  ленфильм  виктор садовский   \n",
       "\n",
       "                                              actors  \\\n",
       "0  Адольфо Фернандес, Ана Фернандес, Дарио Гранди...   \n",
       "1  Адам Палли, Брайан Хаски, Дж.Б. Смув, Джейсон ...   \n",
       "2  Адриан Холмс, Даррен Шалави, Джерри Вассерман,...   \n",
       "3  Александра Риддлстон-Барретт, Джеральдин Джейм...   \n",
       "4  Александр Абдулов, Александр Демьяненко, Алекс...   \n",
       "\n",
       "                                         description  \\\n",
       "0  Мелодрама легендарного Педро Альмодовара «Пого...   \n",
       "1  Уморительная современная комедия на популярную...   \n",
       "2  Профессиональный рестлер Стив Остин («Все или ...   \n",
       "3  Шарлотта Рэмплинг, Том Кортни, Джеральдин Джей...   \n",
       "4  Расчетливая чаровница из советского кинохита «...   \n",
       "\n",
       "                                            keywords release_year_cat  \n",
       "0  Поговори, ней, 2002, Испания, друзья, любовь, ...        2000-2010  \n",
       "1  Голые, перцы, 2014, США, друзья, свадьбы, прео...        2010-2020  \n",
       "2  Тактическая, сила, 2011, Канада, бандиты, ганг...        2010-2020  \n",
       "3  45, лет, 2015, Великобритания, брак, жизнь, лю...        2010-2020  \n",
       "4  Все, решает, мгновение, 1978, СССР, сильные, ж...        1970-1980  "
      ]
     },
     "execution_count": 6,
     "metadata": {},
     "output_type": "execute_result"
    }
   ],
   "source": [
    "items_df.head()"
   ]
  },
  {
   "cell_type": "code",
   "execution_count": 7,
   "id": "9ae72f44",
   "metadata": {},
   "outputs": [
    {
     "data": {
      "text/plain": [
       "(15963, 14)"
      ]
     },
     "execution_count": 7,
     "metadata": {},
     "output_type": "execute_result"
    }
   ],
   "source": [
    "items_df.shape"
   ]
  },
  {
   "cell_type": "code",
   "execution_count": 8,
   "id": "b41964d3",
   "metadata": {
    "ExecuteTime": {
     "end_time": "2023-12-12T13:08:37.356325700Z",
     "start_time": "2023-12-12T13:08:37.261524600Z"
    },
    "colab": {
     "base_uri": "https://localhost:8080/",
     "height": 206
    },
    "id": "b41964d3",
    "outputId": "b4c8f3d5-e7af-4e29-d2e8-0defb6993b35"
   },
   "outputs": [
    {
     "data": {
      "text/html": [
       "<div>\n",
       "<style scoped>\n",
       "    .dataframe tbody tr th:only-of-type {\n",
       "        vertical-align: middle;\n",
       "    }\n",
       "\n",
       "    .dataframe tbody tr th {\n",
       "        vertical-align: top;\n",
       "    }\n",
       "\n",
       "    .dataframe thead th {\n",
       "        text-align: right;\n",
       "    }\n",
       "</style>\n",
       "<table border=\"1\" class=\"dataframe\">\n",
       "  <thead>\n",
       "    <tr style=\"text-align: right;\">\n",
       "      <th></th>\n",
       "      <th>user_id</th>\n",
       "      <th>item_id</th>\n",
       "      <th>last_watch_dt</th>\n",
       "      <th>total_dur</th>\n",
       "      <th>watched_pct</th>\n",
       "    </tr>\n",
       "  </thead>\n",
       "  <tbody>\n",
       "    <tr>\n",
       "      <th>0</th>\n",
       "      <td>176549</td>\n",
       "      <td>9506</td>\n",
       "      <td>2021-05-11</td>\n",
       "      <td>4250</td>\n",
       "      <td>72</td>\n",
       "    </tr>\n",
       "    <tr>\n",
       "      <th>1</th>\n",
       "      <td>699317</td>\n",
       "      <td>1659</td>\n",
       "      <td>2021-05-29</td>\n",
       "      <td>8317</td>\n",
       "      <td>100</td>\n",
       "    </tr>\n",
       "    <tr>\n",
       "      <th>2</th>\n",
       "      <td>656683</td>\n",
       "      <td>7107</td>\n",
       "      <td>2021-05-09</td>\n",
       "      <td>10</td>\n",
       "      <td>0</td>\n",
       "    </tr>\n",
       "    <tr>\n",
       "      <th>3</th>\n",
       "      <td>864613</td>\n",
       "      <td>7638</td>\n",
       "      <td>2021-07-05</td>\n",
       "      <td>14483</td>\n",
       "      <td>100</td>\n",
       "    </tr>\n",
       "    <tr>\n",
       "      <th>4</th>\n",
       "      <td>964868</td>\n",
       "      <td>9506</td>\n",
       "      <td>2021-04-30</td>\n",
       "      <td>6725</td>\n",
       "      <td>100</td>\n",
       "    </tr>\n",
       "  </tbody>\n",
       "</table>\n",
       "</div>"
      ],
      "text/plain": [
       "   user_id  item_id last_watch_dt  total_dur  watched_pct\n",
       "0   176549     9506    2021-05-11       4250           72\n",
       "1   699317     1659    2021-05-29       8317          100\n",
       "2   656683     7107    2021-05-09         10            0\n",
       "3   864613     7638    2021-07-05      14483          100\n",
       "4   964868     9506    2021-04-30       6725          100"
      ]
     },
     "execution_count": 8,
     "metadata": {},
     "output_type": "execute_result"
    }
   ],
   "source": [
    "interactions_df.head()"
   ]
  },
  {
   "cell_type": "markdown",
   "id": "cd252422",
   "metadata": {
    "id": "cd252422"
   },
   "source": [
    "## Готовим фичи пользователей"
   ]
  },
  {
   "cell_type": "markdown",
   "id": "pBdccMPAr7KR",
   "metadata": {
    "id": "pBdccMPAr7KR"
   },
   "source": [
    "Посмотрим, какие фичи в датасете фильмов являются категориальными и закодируем их с помощью one-hot encoding."
   ]
  },
  {
   "cell_type": "code",
   "execution_count": 9,
   "id": "692270ac",
   "metadata": {
    "ExecuteTime": {
     "end_time": "2023-12-12T13:08:37.629283100Z",
     "start_time": "2023-12-12T13:08:37.266531200Z"
    },
    "colab": {
     "base_uri": "https://localhost:8080/",
     "height": 270
    },
    "id": "692270ac",
    "outputId": "7491ab1f-f9fb-4921-e383-7ecf5569e999"
   },
   "outputs": [
    {
     "data": {
      "text/html": [
       "<div>\n",
       "<style scoped>\n",
       "    .dataframe tbody tr th:only-of-type {\n",
       "        vertical-align: middle;\n",
       "    }\n",
       "\n",
       "    .dataframe tbody tr th {\n",
       "        vertical-align: top;\n",
       "    }\n",
       "\n",
       "    .dataframe thead th {\n",
       "        text-align: right;\n",
       "    }\n",
       "</style>\n",
       "<table border=\"1\" class=\"dataframe\">\n",
       "  <thead>\n",
       "    <tr style=\"text-align: right;\">\n",
       "      <th></th>\n",
       "      <th>user_id</th>\n",
       "      <th>age_age_18_24</th>\n",
       "      <th>age_age_25_34</th>\n",
       "      <th>age_age_35_44</th>\n",
       "      <th>age_age_45_54</th>\n",
       "      <th>age_age_55_64</th>\n",
       "      <th>age_age_65_inf</th>\n",
       "      <th>age_age_unknown</th>\n",
       "      <th>income_income_0_20</th>\n",
       "      <th>income_income_150_inf</th>\n",
       "      <th>income_income_20_40</th>\n",
       "      <th>income_income_40_60</th>\n",
       "      <th>income_income_60_90</th>\n",
       "      <th>income_income_90_150</th>\n",
       "      <th>income_income_unknown</th>\n",
       "      <th>sex_F</th>\n",
       "      <th>sex_M</th>\n",
       "      <th>sex_sex_unknown</th>\n",
       "      <th>kids_flg_False</th>\n",
       "      <th>kids_flg_True</th>\n",
       "    </tr>\n",
       "  </thead>\n",
       "  <tbody>\n",
       "    <tr>\n",
       "      <th>0</th>\n",
       "      <td>973171</td>\n",
       "      <td>0</td>\n",
       "      <td>1</td>\n",
       "      <td>0</td>\n",
       "      <td>0</td>\n",
       "      <td>0</td>\n",
       "      <td>0</td>\n",
       "      <td>0</td>\n",
       "      <td>0</td>\n",
       "      <td>0</td>\n",
       "      <td>0</td>\n",
       "      <td>0</td>\n",
       "      <td>1</td>\n",
       "      <td>0</td>\n",
       "      <td>0</td>\n",
       "      <td>0</td>\n",
       "      <td>1</td>\n",
       "      <td>0</td>\n",
       "      <td>0</td>\n",
       "      <td>1</td>\n",
       "    </tr>\n",
       "    <tr>\n",
       "      <th>1</th>\n",
       "      <td>962099</td>\n",
       "      <td>1</td>\n",
       "      <td>0</td>\n",
       "      <td>0</td>\n",
       "      <td>0</td>\n",
       "      <td>0</td>\n",
       "      <td>0</td>\n",
       "      <td>0</td>\n",
       "      <td>0</td>\n",
       "      <td>0</td>\n",
       "      <td>1</td>\n",
       "      <td>0</td>\n",
       "      <td>0</td>\n",
       "      <td>0</td>\n",
       "      <td>0</td>\n",
       "      <td>0</td>\n",
       "      <td>1</td>\n",
       "      <td>0</td>\n",
       "      <td>1</td>\n",
       "      <td>0</td>\n",
       "    </tr>\n",
       "    <tr>\n",
       "      <th>2</th>\n",
       "      <td>1047345</td>\n",
       "      <td>0</td>\n",
       "      <td>0</td>\n",
       "      <td>0</td>\n",
       "      <td>1</td>\n",
       "      <td>0</td>\n",
       "      <td>0</td>\n",
       "      <td>0</td>\n",
       "      <td>0</td>\n",
       "      <td>0</td>\n",
       "      <td>0</td>\n",
       "      <td>1</td>\n",
       "      <td>0</td>\n",
       "      <td>0</td>\n",
       "      <td>0</td>\n",
       "      <td>1</td>\n",
       "      <td>0</td>\n",
       "      <td>0</td>\n",
       "      <td>1</td>\n",
       "      <td>0</td>\n",
       "    </tr>\n",
       "    <tr>\n",
       "      <th>3</th>\n",
       "      <td>721985</td>\n",
       "      <td>0</td>\n",
       "      <td>0</td>\n",
       "      <td>0</td>\n",
       "      <td>1</td>\n",
       "      <td>0</td>\n",
       "      <td>0</td>\n",
       "      <td>0</td>\n",
       "      <td>0</td>\n",
       "      <td>0</td>\n",
       "      <td>1</td>\n",
       "      <td>0</td>\n",
       "      <td>0</td>\n",
       "      <td>0</td>\n",
       "      <td>0</td>\n",
       "      <td>1</td>\n",
       "      <td>0</td>\n",
       "      <td>0</td>\n",
       "      <td>1</td>\n",
       "      <td>0</td>\n",
       "    </tr>\n",
       "    <tr>\n",
       "      <th>4</th>\n",
       "      <td>704055</td>\n",
       "      <td>0</td>\n",
       "      <td>0</td>\n",
       "      <td>1</td>\n",
       "      <td>0</td>\n",
       "      <td>0</td>\n",
       "      <td>0</td>\n",
       "      <td>0</td>\n",
       "      <td>0</td>\n",
       "      <td>0</td>\n",
       "      <td>0</td>\n",
       "      <td>0</td>\n",
       "      <td>1</td>\n",
       "      <td>0</td>\n",
       "      <td>0</td>\n",
       "      <td>1</td>\n",
       "      <td>0</td>\n",
       "      <td>0</td>\n",
       "      <td>1</td>\n",
       "      <td>0</td>\n",
       "    </tr>\n",
       "  </tbody>\n",
       "</table>\n",
       "</div>"
      ],
      "text/plain": [
       "   user_id  age_age_18_24  age_age_25_34  age_age_35_44  age_age_45_54  \\\n",
       "0   973171              0              1              0              0   \n",
       "1   962099              1              0              0              0   \n",
       "2  1047345              0              0              0              1   \n",
       "3   721985              0              0              0              1   \n",
       "4   704055              0              0              1              0   \n",
       "\n",
       "   age_age_55_64  age_age_65_inf  age_age_unknown  income_income_0_20  \\\n",
       "0              0               0                0                   0   \n",
       "1              0               0                0                   0   \n",
       "2              0               0                0                   0   \n",
       "3              0               0                0                   0   \n",
       "4              0               0                0                   0   \n",
       "\n",
       "   income_income_150_inf  income_income_20_40  income_income_40_60  \\\n",
       "0                      0                    0                    0   \n",
       "1                      0                    1                    0   \n",
       "2                      0                    0                    1   \n",
       "3                      0                    1                    0   \n",
       "4                      0                    0                    0   \n",
       "\n",
       "   income_income_60_90  income_income_90_150  income_income_unknown  sex_F  \\\n",
       "0                    1                     0                      0      0   \n",
       "1                    0                     0                      0      0   \n",
       "2                    0                     0                      0      1   \n",
       "3                    0                     0                      0      1   \n",
       "4                    1                     0                      0      1   \n",
       "\n",
       "   sex_M  sex_sex_unknown  kids_flg_False  kids_flg_True  \n",
       "0      1                0               0              1  \n",
       "1      1                0               1              0  \n",
       "2      0                0               1              0  \n",
       "3      0                0               1              0  \n",
       "4      0                0               1              0  "
      ]
     },
     "execution_count": 9,
     "metadata": {},
     "output_type": "execute_result"
    }
   ],
   "source": [
    "user_cat_feats = [\"age\", \"income\", \"sex\", \"kids_flg\"]\n",
    "# из исходного датафрейма оставим только item_id - этот признак нам понадобится позже\n",
    "# для того, чтобы маппить айтемы из датафрейма с фильмами с айтемами \n",
    "# из датафрейма с взаимодействиями\n",
    "users_ohe_df = users_df.user_id\n",
    "for feat in user_cat_feats:\n",
    "    # получаем датафрейм с one-hot encoding для каждой категориальной фичи\n",
    "    ohe_feat_df = pd.get_dummies(users_df[feat], prefix=feat)\n",
    "    # конкатенируем ohe-hot датафрейм с датафреймом, \n",
    "    # который мы получили на предыдущем шаге\n",
    "    users_ohe_df = pd.concat([users_ohe_df, ohe_feat_df], axis=1)\n",
    "\n",
    "users_ohe_df.head()\n"
   ]
  },
  {
   "cell_type": "markdown",
   "id": "74cdbd93",
   "metadata": {
    "id": "74cdbd93"
   },
   "source": [
    "## Готовим фичи айтемов"
   ]
  },
  {
   "cell_type": "markdown",
   "id": "5kHzJ91Mr35c",
   "metadata": {
    "id": "5kHzJ91Mr35c"
   },
   "source": [
    "Кодируем их точно так же - one-hot'ом."
   ]
  },
  {
   "cell_type": "code",
   "execution_count": 10,
   "id": "-2Wd9upSsCle",
   "metadata": {
    "ExecuteTime": {
     "end_time": "2023-12-12T13:08:37.630806900Z",
     "start_time": "2023-12-12T13:08:37.491741600Z"
    },
    "colab": {
     "base_uri": "https://localhost:8080/",
     "height": 652
    },
    "id": "-2Wd9upSsCle",
    "outputId": "671c2446-81f5-4e32-e24f-3aec9c8a2076"
   },
   "outputs": [
    {
     "data": {
      "text/html": [
       "<div>\n",
       "<style scoped>\n",
       "    .dataframe tbody tr th:only-of-type {\n",
       "        vertical-align: middle;\n",
       "    }\n",
       "\n",
       "    .dataframe tbody tr th {\n",
       "        vertical-align: top;\n",
       "    }\n",
       "\n",
       "    .dataframe thead th {\n",
       "        text-align: right;\n",
       "    }\n",
       "</style>\n",
       "<table border=\"1\" class=\"dataframe\">\n",
       "  <thead>\n",
       "    <tr style=\"text-align: right;\">\n",
       "      <th></th>\n",
       "      <th>item_id</th>\n",
       "      <th>content_type</th>\n",
       "      <th>title</th>\n",
       "      <th>title_orig</th>\n",
       "      <th>genres</th>\n",
       "      <th>countries</th>\n",
       "      <th>for_kids</th>\n",
       "      <th>age_rating</th>\n",
       "      <th>studios</th>\n",
       "      <th>directors</th>\n",
       "      <th>actors</th>\n",
       "      <th>description</th>\n",
       "      <th>keywords</th>\n",
       "      <th>release_year_cat</th>\n",
       "    </tr>\n",
       "  </thead>\n",
       "  <tbody>\n",
       "    <tr>\n",
       "      <th>0</th>\n",
       "      <td>10711</td>\n",
       "      <td>film</td>\n",
       "      <td>поговори с ней</td>\n",
       "      <td>Hable con ella</td>\n",
       "      <td>драмы, зарубежные, детективы, мелодрамы</td>\n",
       "      <td>испания</td>\n",
       "      <td>False</td>\n",
       "      <td>16.0</td>\n",
       "      <td>unknown</td>\n",
       "      <td>педро альмодовар</td>\n",
       "      <td>Адольфо Фернандес, Ана Фернандес, Дарио Гранди...</td>\n",
       "      <td>Мелодрама легендарного Педро Альмодовара «Пого...</td>\n",
       "      <td>Поговори, ней, 2002, Испания, друзья, любовь, ...</td>\n",
       "      <td>2000-2010</td>\n",
       "    </tr>\n",
       "    <tr>\n",
       "      <th>1</th>\n",
       "      <td>2508</td>\n",
       "      <td>film</td>\n",
       "      <td>голые перцы</td>\n",
       "      <td>Search Party</td>\n",
       "      <td>зарубежные, приключения, комедии</td>\n",
       "      <td>сша</td>\n",
       "      <td>False</td>\n",
       "      <td>16.0</td>\n",
       "      <td>unknown</td>\n",
       "      <td>скот армстронг</td>\n",
       "      <td>Адам Палли, Брайан Хаски, Дж.Б. Смув, Джейсон ...</td>\n",
       "      <td>Уморительная современная комедия на популярную...</td>\n",
       "      <td>Голые, перцы, 2014, США, друзья, свадьбы, прео...</td>\n",
       "      <td>2010-2020</td>\n",
       "    </tr>\n",
       "    <tr>\n",
       "      <th>2</th>\n",
       "      <td>10716</td>\n",
       "      <td>film</td>\n",
       "      <td>тактическая сила</td>\n",
       "      <td>Tactical Force</td>\n",
       "      <td>криминал, зарубежные, триллеры, боевики, комедии</td>\n",
       "      <td>канада</td>\n",
       "      <td>False</td>\n",
       "      <td>16.0</td>\n",
       "      <td>unknown</td>\n",
       "      <td>адам п. калтраро</td>\n",
       "      <td>Адриан Холмс, Даррен Шалави, Джерри Вассерман,...</td>\n",
       "      <td>Профессиональный рестлер Стив Остин («Все или ...</td>\n",
       "      <td>Тактическая, сила, 2011, Канада, бандиты, ганг...</td>\n",
       "      <td>2010-2020</td>\n",
       "    </tr>\n",
       "    <tr>\n",
       "      <th>3</th>\n",
       "      <td>7868</td>\n",
       "      <td>film</td>\n",
       "      <td>45 лет</td>\n",
       "      <td>45 Years</td>\n",
       "      <td>драмы, зарубежные, мелодрамы</td>\n",
       "      <td>великобритания</td>\n",
       "      <td>False</td>\n",
       "      <td>16.0</td>\n",
       "      <td>unknown</td>\n",
       "      <td>эндрю хэй</td>\n",
       "      <td>Александра Риддлстон-Барретт, Джеральдин Джейм...</td>\n",
       "      <td>Шарлотта Рэмплинг, Том Кортни, Джеральдин Джей...</td>\n",
       "      <td>45, лет, 2015, Великобритания, брак, жизнь, лю...</td>\n",
       "      <td>2010-2020</td>\n",
       "    </tr>\n",
       "    <tr>\n",
       "      <th>4</th>\n",
       "      <td>16268</td>\n",
       "      <td>film</td>\n",
       "      <td>все решает мгновение</td>\n",
       "      <td>None</td>\n",
       "      <td>драмы, спорт, советские, мелодрамы</td>\n",
       "      <td>ссср</td>\n",
       "      <td>False</td>\n",
       "      <td>12.0</td>\n",
       "      <td>ленфильм</td>\n",
       "      <td>виктор садовский</td>\n",
       "      <td>Александр Абдулов, Александр Демьяненко, Алекс...</td>\n",
       "      <td>Расчетливая чаровница из советского кинохита «...</td>\n",
       "      <td>Все, решает, мгновение, 1978, СССР, сильные, ж...</td>\n",
       "      <td>1970-1980</td>\n",
       "    </tr>\n",
       "  </tbody>\n",
       "</table>\n",
       "</div>"
      ],
      "text/plain": [
       "   item_id content_type                 title      title_orig  \\\n",
       "0    10711         film        поговори с ней  Hable con ella   \n",
       "1     2508         film           голые перцы    Search Party   \n",
       "2    10716         film      тактическая сила  Tactical Force   \n",
       "3     7868         film                45 лет        45 Years   \n",
       "4    16268         film  все решает мгновение            None   \n",
       "\n",
       "                                             genres       countries  for_kids  \\\n",
       "0           драмы, зарубежные, детективы, мелодрамы         испания     False   \n",
       "1                  зарубежные, приключения, комедии             сша     False   \n",
       "2  криминал, зарубежные, триллеры, боевики, комедии          канада     False   \n",
       "3                      драмы, зарубежные, мелодрамы  великобритания     False   \n",
       "4                драмы, спорт, советские, мелодрамы            ссср     False   \n",
       "\n",
       "   age_rating   studios         directors  \\\n",
       "0        16.0   unknown  педро альмодовар   \n",
       "1        16.0   unknown    скот армстронг   \n",
       "2        16.0   unknown  адам п. калтраро   \n",
       "3        16.0   unknown         эндрю хэй   \n",
       "4        12.0  ленфильм  виктор садовский   \n",
       "\n",
       "                                              actors  \\\n",
       "0  Адольфо Фернандес, Ана Фернандес, Дарио Гранди...   \n",
       "1  Адам Палли, Брайан Хаски, Дж.Б. Смув, Джейсон ...   \n",
       "2  Адриан Холмс, Даррен Шалави, Джерри Вассерман,...   \n",
       "3  Александра Риддлстон-Барретт, Джеральдин Джейм...   \n",
       "4  Александр Абдулов, Александр Демьяненко, Алекс...   \n",
       "\n",
       "                                         description  \\\n",
       "0  Мелодрама легендарного Педро Альмодовара «Пого...   \n",
       "1  Уморительная современная комедия на популярную...   \n",
       "2  Профессиональный рестлер Стив Остин («Все или ...   \n",
       "3  Шарлотта Рэмплинг, Том Кортни, Джеральдин Джей...   \n",
       "4  Расчетливая чаровница из советского кинохита «...   \n",
       "\n",
       "                                            keywords release_year_cat  \n",
       "0  Поговори, ней, 2002, Испания, друзья, любовь, ...        2000-2010  \n",
       "1  Голые, перцы, 2014, США, друзья, свадьбы, прео...        2010-2020  \n",
       "2  Тактическая, сила, 2011, Канада, бандиты, ганг...        2010-2020  \n",
       "3  45, лет, 2015, Великобритания, брак, жизнь, лю...        2010-2020  \n",
       "4  Все, решает, мгновение, 1978, СССР, сильные, ж...        1970-1980  "
      ]
     },
     "execution_count": 10,
     "metadata": {},
     "output_type": "execute_result"
    }
   ],
   "source": [
    "items_df.head()"
   ]
  },
  {
   "cell_type": "code",
   "execution_count": 11,
   "id": "7a94ef7e",
   "metadata": {
    "ExecuteTime": {
     "end_time": "2023-12-12T13:08:38.175591100Z",
     "start_time": "2023-12-12T13:08:37.497901900Z"
    },
    "colab": {
     "base_uri": "https://localhost:8080/",
     "height": 421
    },
    "id": "7a94ef7e",
    "outputId": "1ea7a769-8c2d-43d5-f2cb-47500bc0a7ba"
   },
   "outputs": [
    {
     "data": {
      "text/html": [
       "<div>\n",
       "<style scoped>\n",
       "    .dataframe tbody tr th:only-of-type {\n",
       "        vertical-align: middle;\n",
       "    }\n",
       "\n",
       "    .dataframe tbody tr th {\n",
       "        vertical-align: top;\n",
       "    }\n",
       "\n",
       "    .dataframe thead th {\n",
       "        text-align: right;\n",
       "    }\n",
       "</style>\n",
       "<table border=\"1\" class=\"dataframe\">\n",
       "  <thead>\n",
       "    <tr style=\"text-align: right;\">\n",
       "      <th></th>\n",
       "      <th>item_id</th>\n",
       "      <th>content_type_film</th>\n",
       "      <th>content_type_series</th>\n",
       "      <th>release_year_cat_1920-1930</th>\n",
       "      <th>release_year_cat_1930-1940</th>\n",
       "      <th>release_year_cat_1940-1950</th>\n",
       "      <th>release_year_cat_1950-1960</th>\n",
       "      <th>release_year_cat_1960-1970</th>\n",
       "      <th>release_year_cat_1970-1980</th>\n",
       "      <th>release_year_cat_1980-1990</th>\n",
       "      <th>...</th>\n",
       "      <th>directors_ярив хоровиц</th>\n",
       "      <th>directors_ярон зильберман</th>\n",
       "      <th>directors_ярополк лапшин</th>\n",
       "      <th>directors_ярослав лупий</th>\n",
       "      <th>directors_ярроу чейни, скотт моужер</th>\n",
       "      <th>directors_ясина сезар</th>\n",
       "      <th>directors_ясуоми умэцу</th>\n",
       "      <th>directors_ёдзи фукуяма, ацуко фукусима, николас де креси, синъитиро ватанабэ, сёдзи кавамори</th>\n",
       "      <th>directors_ёлкин туйчиев</th>\n",
       "      <th>directors_ён сан-хо</th>\n",
       "    </tr>\n",
       "  </thead>\n",
       "  <tbody>\n",
       "    <tr>\n",
       "      <th>0</th>\n",
       "      <td>10711</td>\n",
       "      <td>1</td>\n",
       "      <td>0</td>\n",
       "      <td>0</td>\n",
       "      <td>0</td>\n",
       "      <td>0</td>\n",
       "      <td>0</td>\n",
       "      <td>0</td>\n",
       "      <td>0</td>\n",
       "      <td>0</td>\n",
       "      <td>...</td>\n",
       "      <td>0</td>\n",
       "      <td>0</td>\n",
       "      <td>0</td>\n",
       "      <td>0</td>\n",
       "      <td>0</td>\n",
       "      <td>0</td>\n",
       "      <td>0</td>\n",
       "      <td>0</td>\n",
       "      <td>0</td>\n",
       "      <td>0</td>\n",
       "    </tr>\n",
       "    <tr>\n",
       "      <th>1</th>\n",
       "      <td>2508</td>\n",
       "      <td>1</td>\n",
       "      <td>0</td>\n",
       "      <td>0</td>\n",
       "      <td>0</td>\n",
       "      <td>0</td>\n",
       "      <td>0</td>\n",
       "      <td>0</td>\n",
       "      <td>0</td>\n",
       "      <td>0</td>\n",
       "      <td>...</td>\n",
       "      <td>0</td>\n",
       "      <td>0</td>\n",
       "      <td>0</td>\n",
       "      <td>0</td>\n",
       "      <td>0</td>\n",
       "      <td>0</td>\n",
       "      <td>0</td>\n",
       "      <td>0</td>\n",
       "      <td>0</td>\n",
       "      <td>0</td>\n",
       "    </tr>\n",
       "    <tr>\n",
       "      <th>2</th>\n",
       "      <td>10716</td>\n",
       "      <td>1</td>\n",
       "      <td>0</td>\n",
       "      <td>0</td>\n",
       "      <td>0</td>\n",
       "      <td>0</td>\n",
       "      <td>0</td>\n",
       "      <td>0</td>\n",
       "      <td>0</td>\n",
       "      <td>0</td>\n",
       "      <td>...</td>\n",
       "      <td>0</td>\n",
       "      <td>0</td>\n",
       "      <td>0</td>\n",
       "      <td>0</td>\n",
       "      <td>0</td>\n",
       "      <td>0</td>\n",
       "      <td>0</td>\n",
       "      <td>0</td>\n",
       "      <td>0</td>\n",
       "      <td>0</td>\n",
       "    </tr>\n",
       "    <tr>\n",
       "      <th>3</th>\n",
       "      <td>7868</td>\n",
       "      <td>1</td>\n",
       "      <td>0</td>\n",
       "      <td>0</td>\n",
       "      <td>0</td>\n",
       "      <td>0</td>\n",
       "      <td>0</td>\n",
       "      <td>0</td>\n",
       "      <td>0</td>\n",
       "      <td>0</td>\n",
       "      <td>...</td>\n",
       "      <td>0</td>\n",
       "      <td>0</td>\n",
       "      <td>0</td>\n",
       "      <td>0</td>\n",
       "      <td>0</td>\n",
       "      <td>0</td>\n",
       "      <td>0</td>\n",
       "      <td>0</td>\n",
       "      <td>0</td>\n",
       "      <td>0</td>\n",
       "    </tr>\n",
       "    <tr>\n",
       "      <th>4</th>\n",
       "      <td>16268</td>\n",
       "      <td>1</td>\n",
       "      <td>0</td>\n",
       "      <td>0</td>\n",
       "      <td>0</td>\n",
       "      <td>0</td>\n",
       "      <td>0</td>\n",
       "      <td>0</td>\n",
       "      <td>1</td>\n",
       "      <td>0</td>\n",
       "      <td>...</td>\n",
       "      <td>0</td>\n",
       "      <td>0</td>\n",
       "      <td>0</td>\n",
       "      <td>0</td>\n",
       "      <td>0</td>\n",
       "      <td>0</td>\n",
       "      <td>0</td>\n",
       "      <td>0</td>\n",
       "      <td>0</td>\n",
       "      <td>0</td>\n",
       "    </tr>\n",
       "  </tbody>\n",
       "</table>\n",
       "<p>5 rows × 8589 columns</p>\n",
       "</div>"
      ],
      "text/plain": [
       "   item_id  content_type_film  content_type_series  \\\n",
       "0    10711                  1                    0   \n",
       "1     2508                  1                    0   \n",
       "2    10716                  1                    0   \n",
       "3     7868                  1                    0   \n",
       "4    16268                  1                    0   \n",
       "\n",
       "   release_year_cat_1920-1930  release_year_cat_1930-1940  \\\n",
       "0                           0                           0   \n",
       "1                           0                           0   \n",
       "2                           0                           0   \n",
       "3                           0                           0   \n",
       "4                           0                           0   \n",
       "\n",
       "   release_year_cat_1940-1950  release_year_cat_1950-1960  \\\n",
       "0                           0                           0   \n",
       "1                           0                           0   \n",
       "2                           0                           0   \n",
       "3                           0                           0   \n",
       "4                           0                           0   \n",
       "\n",
       "   release_year_cat_1960-1970  release_year_cat_1970-1980  \\\n",
       "0                           0                           0   \n",
       "1                           0                           0   \n",
       "2                           0                           0   \n",
       "3                           0                           0   \n",
       "4                           0                           1   \n",
       "\n",
       "   release_year_cat_1980-1990  ...  directors_ярив хоровиц  \\\n",
       "0                           0  ...                       0   \n",
       "1                           0  ...                       0   \n",
       "2                           0  ...                       0   \n",
       "3                           0  ...                       0   \n",
       "4                           0  ...                       0   \n",
       "\n",
       "   directors_ярон зильберман  directors_ярополк лапшин  \\\n",
       "0                          0                         0   \n",
       "1                          0                         0   \n",
       "2                          0                         0   \n",
       "3                          0                         0   \n",
       "4                          0                         0   \n",
       "\n",
       "   directors_ярослав лупий  directors_ярроу чейни, скотт моужер  \\\n",
       "0                        0                                    0   \n",
       "1                        0                                    0   \n",
       "2                        0                                    0   \n",
       "3                        0                                    0   \n",
       "4                        0                                    0   \n",
       "\n",
       "   directors_ясина сезар  directors_ясуоми умэцу  \\\n",
       "0                      0                       0   \n",
       "1                      0                       0   \n",
       "2                      0                       0   \n",
       "3                      0                       0   \n",
       "4                      0                       0   \n",
       "\n",
       "   directors_ёдзи фукуяма, ацуко фукусима, николас де креси, синъитиро ватанабэ, сёдзи кавамори  \\\n",
       "0                                                  0                                              \n",
       "1                                                  0                                              \n",
       "2                                                  0                                              \n",
       "3                                                  0                                              \n",
       "4                                                  0                                              \n",
       "\n",
       "   directors_ёлкин туйчиев  directors_ён сан-хо  \n",
       "0                        0                    0  \n",
       "1                        0                    0  \n",
       "2                        0                    0  \n",
       "3                        0                    0  \n",
       "4                        0                    0  \n",
       "\n",
       "[5 rows x 8589 columns]"
      ]
     },
     "execution_count": 11,
     "metadata": {},
     "output_type": "execute_result"
    }
   ],
   "source": [
    "item_cat_feats = ['content_type', 'release_year_cat',\n",
    "                  'for_kids', 'age_rating',\n",
    "                  'studios', 'countries', 'directors']\n",
    "\n",
    "items_ohe_df = items_df.item_id\n",
    "\n",
    "for feat in item_cat_feats:\n",
    "    ohe_feat_df = pd.get_dummies(items_df[feat], prefix=feat)\n",
    "    items_ohe_df = pd.concat([items_ohe_df, ohe_feat_df], axis=1)\n",
    "\n",
    "items_ohe_df.head()"
   ]
  },
  {
   "cell_type": "code",
   "execution_count": 12,
   "id": "7a110d55",
   "metadata": {},
   "outputs": [
    {
     "data": {
      "text/plain": [
       "(15963, 8589)"
      ]
     },
     "execution_count": 12,
     "metadata": {},
     "output_type": "execute_result"
    }
   ],
   "source": [
    "items_ohe_df.shape"
   ]
  },
  {
   "cell_type": "markdown",
   "id": "cc595c20",
   "metadata": {
    "id": "cc595c20"
   },
   "source": [
    "## Сделаем матрицу взаимодействий"
   ]
  },
  {
   "cell_type": "code",
   "execution_count": 13,
   "id": "79c9bca3",
   "metadata": {
    "ExecuteTime": {
     "end_time": "2023-12-12T13:08:38.312279400Z",
     "start_time": "2023-12-12T13:08:38.250251Z"
    },
    "colab": {
     "base_uri": "https://localhost:8080/"
    },
    "id": "79c9bca3",
    "outputId": "6f6148e0-8de7-4ffc-82d9-cf396db1ed98"
   },
   "outputs": [
    {
     "data": {
      "text/plain": [
       "10440    202457\n",
       "15297    193123\n",
       "9728     132865\n",
       "13865    122119\n",
       "4151      91167\n",
       "          ...  \n",
       "8076          1\n",
       "8954          1\n",
       "15664         1\n",
       "818           1\n",
       "10542         1\n",
       "Name: item_id, Length: 15706, dtype: int64"
      ]
     },
     "execution_count": 13,
     "metadata": {},
     "output_type": "execute_result"
    }
   ],
   "source": [
    "interactions_df.item_id.value_counts()"
   ]
  },
  {
   "cell_type": "markdown",
   "id": "YAfqm8asrBfG",
   "metadata": {
    "id": "YAfqm8asrBfG"
   },
   "source": [
    "В датасете взаимодействий есть непопулярные фильмы и малоактивные пользователи. Кроме того, в таблице взаимодействий есть события с низким качеством взаимодействия - когда юзер начал смотреть фильм, но вскоре после начала просмотра выключил.\n",
    "\n",
    "Отфильтруем такие события*, малоактивных юзеров и непопулярные фильмы.\n",
    "\n",
    "Можете не фильтровать такие события, тогда у вас будет больше негативных примеров."
   ]
  },
  {
   "cell_type": "code",
   "execution_count": 14,
   "id": "17334e80",
   "metadata": {
    "ExecuteTime": {
     "end_time": "2023-12-12T13:08:38.590599200Z",
     "start_time": "2023-12-12T13:08:38.528468600Z"
    },
    "colab": {
     "base_uri": "https://localhost:8080/"
    },
    "id": "17334e80",
    "outputId": "bfbe26dd-7778-42ad-c5dd-283635fcafa6"
   },
   "outputs": [
    {
     "data": {
      "text/plain": [
       "416206     1341\n",
       "1010539     764\n",
       "555233      685\n",
       "11526       676\n",
       "409259      625\n",
       "           ... \n",
       "45493         1\n",
       "615194        1\n",
       "96848         1\n",
       "425823        1\n",
       "697262        1\n",
       "Name: user_id, Length: 962179, dtype: int64"
      ]
     },
     "execution_count": 14,
     "metadata": {},
     "output_type": "execute_result"
    }
   ],
   "source": [
    "interactions_df.user_id.value_counts()"
   ]
  },
  {
   "cell_type": "code",
   "execution_count": 15,
   "id": "076e4ebc",
   "metadata": {
    "ExecuteTime": {
     "end_time": "2023-12-12T13:08:41.420519400Z",
     "start_time": "2023-12-12T13:08:38.595134700Z"
    },
    "colab": {
     "base_uri": "https://localhost:8080/"
    },
    "id": "076e4ebc",
    "outputId": "85c15fd2-12bb-478c-e00f-4f2b7bbcd6ab"
   },
   "outputs": [
    {
     "name": "stdout",
     "output_type": "stream",
     "text": [
      "N users before: 962179\n",
      "N items before: 15706\n",
      "\n",
      "N users after: 79515\n",
      "N items after: 6901\n"
     ]
    }
   ],
   "source": [
    "print(f\"N users before: {interactions_df.user_id.nunique()}\")\n",
    "print(f\"N items before: {interactions_df.item_id.nunique()}\\n\")\n",
    "\n",
    "# отфильтруем все события взаимодействий, в которых пользователь посмотрел\n",
    "# фильм менее чем на 10 процентов\n",
    "interactions_df = interactions_df[interactions_df.watched_pct > 10]\n",
    "\n",
    "# соберем всех пользователей, которые посмотрели \n",
    "# больше 10 фильмов (можете выбрать другой порог)\n",
    "valid_users = []\n",
    "\n",
    "c = Counter(interactions_df.user_id)\n",
    "for user_id, entries in c.most_common():\n",
    "    if entries > 10:\n",
    "        valid_users.append(user_id)\n",
    "\n",
    "# и соберем все фильмы, которые посмотрели больше 10 пользователей\n",
    "valid_items = []\n",
    "\n",
    "c = Counter(interactions_df.item_id)\n",
    "for item_id, entries in c.most_common():\n",
    "    if entries > 10:\n",
    "        valid_items.append(item_id)\n",
    "\n",
    "# отбросим непопулярные фильмы и неактивных юзеров\n",
    "interactions_df = interactions_df[interactions_df.user_id.isin(valid_users)]\n",
    "interactions_df = interactions_df[interactions_df.item_id.isin(valid_items)]\n",
    "\n",
    "print(f\"N users after: {interactions_df.user_id.nunique()}\")\n",
    "print(f\"N items after: {interactions_df.item_id.nunique()}\")"
   ]
  },
  {
   "cell_type": "markdown",
   "id": "a9163fb2",
   "metadata": {
    "id": "a9163fb2"
   },
   "source": [
    "После фильтрации может получиться так, что некоторые айтемы/юзеры есть в датасете взаимодействий, но при этом они отсутствуют в датасетах айтемов/юзеров или наоборот. Поэтому найдем id айтемов и id юзеров, которые есть во всех датасетах и оставим только их."
   ]
  },
  {
   "cell_type": "code",
   "execution_count": 16,
   "id": "d55848e1",
   "metadata": {
    "ExecuteTime": {
     "end_time": "2023-12-12T13:08:42.223280400Z",
     "start_time": "2023-12-12T13:08:41.421544600Z"
    },
    "colab": {
     "base_uri": "https://localhost:8080/"
    },
    "id": "d55848e1",
    "outputId": "48609a0b-06b9-4a5e-f8f6-061db1c6dcb2"
   },
   "outputs": [
    {
     "name": "stdout",
     "output_type": "stream",
     "text": [
      "65974\n",
      "6901\n"
     ]
    }
   ],
   "source": [
    "common_users = set(interactions_df.user_id.unique()).intersection(\n",
    "    set(users_ohe_df.user_id.unique()))\n",
    "common_items = set(interactions_df.item_id.unique()).intersection(\n",
    "    set(items_ohe_df.item_id.unique()))\n",
    "\n",
    "print(len(common_users))\n",
    "print(len(common_items))\n",
    "\n",
    "interactions_df = interactions_df[interactions_df.item_id.isin(common_items)]\n",
    "interactions_df = interactions_df[interactions_df.user_id.isin(common_users)]\n",
    "\n",
    "items_ohe_df = items_ohe_df[items_ohe_df.item_id.isin(common_items)]\n",
    "users_ohe_df = users_ohe_df[users_ohe_df.user_id.isin(common_users)]"
   ]
  },
  {
   "cell_type": "markdown",
   "id": "1e8b9480",
   "metadata": {
    "id": "1e8b9480"
   },
   "source": [
    "Соберем взаимодействия в матрицу user*item так, чтобы в строках этой матрицы были user_id, в столбцах - item_id, а на пересечениях строк и столбцов - единица, если пользователь взаимодействовал с айтемом и ноль, если нет.\n",
    "\n",
    "Такую матрицу удобно собирать в numpy array, однако нужно помнить, что numpy array индексируется порядковыми индексами, а нам же удобнее использовать item_id и user_id.\n",
    "\n",
    "Создадим некие внутренние индексы для user_id и item_id - uid и iid. Для этого просто соберем все user_id и item_id и пронумеруем их по порядку."
   ]
  },
  {
   "cell_type": "code",
   "execution_count": 17,
   "id": "81679fb0",
   "metadata": {
    "ExecuteTime": {
     "end_time": "2023-12-12T13:08:42.362188400Z",
     "start_time": "2023-12-12T13:08:42.227833200Z"
    },
    "colab": {
     "base_uri": "https://localhost:8080/",
     "height": 242
    },
    "id": "81679fb0",
    "outputId": "0c6bf7ce-1ea0-46c2-9d70-42b32bf08c7e"
   },
   "outputs": [
    {
     "name": "stdout",
     "output_type": "stream",
     "text": [
      "[0, 1, 2, 3, 4]\n",
      "[0, 1, 2, 3, 4]\n"
     ]
    },
    {
     "data": {
      "text/html": [
       "<div>\n",
       "<style scoped>\n",
       "    .dataframe tbody tr th:only-of-type {\n",
       "        vertical-align: middle;\n",
       "    }\n",
       "\n",
       "    .dataframe tbody tr th {\n",
       "        vertical-align: top;\n",
       "    }\n",
       "\n",
       "    .dataframe thead th {\n",
       "        text-align: right;\n",
       "    }\n",
       "</style>\n",
       "<table border=\"1\" class=\"dataframe\">\n",
       "  <thead>\n",
       "    <tr style=\"text-align: right;\">\n",
       "      <th></th>\n",
       "      <th>user_id</th>\n",
       "      <th>item_id</th>\n",
       "      <th>last_watch_dt</th>\n",
       "      <th>total_dur</th>\n",
       "      <th>watched_pct</th>\n",
       "      <th>uid</th>\n",
       "      <th>iid</th>\n",
       "    </tr>\n",
       "  </thead>\n",
       "  <tbody>\n",
       "    <tr>\n",
       "      <th>0</th>\n",
       "      <td>176549</td>\n",
       "      <td>9506</td>\n",
       "      <td>2021-05-11</td>\n",
       "      <td>4250</td>\n",
       "      <td>72</td>\n",
       "      <td>10616</td>\n",
       "      <td>3944</td>\n",
       "    </tr>\n",
       "    <tr>\n",
       "      <th>1</th>\n",
       "      <td>699317</td>\n",
       "      <td>1659</td>\n",
       "      <td>2021-05-29</td>\n",
       "      <td>8317</td>\n",
       "      <td>100</td>\n",
       "      <td>42131</td>\n",
       "      <td>675</td>\n",
       "    </tr>\n",
       "    <tr>\n",
       "      <th>6</th>\n",
       "      <td>1016458</td>\n",
       "      <td>354</td>\n",
       "      <td>2021-08-14</td>\n",
       "      <td>1672</td>\n",
       "      <td>25</td>\n",
       "      <td>61024</td>\n",
       "      <td>139</td>\n",
       "    </tr>\n",
       "    <tr>\n",
       "      <th>7</th>\n",
       "      <td>884009</td>\n",
       "      <td>693</td>\n",
       "      <td>2021-08-04</td>\n",
       "      <td>703</td>\n",
       "      <td>14</td>\n",
       "      <td>53150</td>\n",
       "      <td>279</td>\n",
       "    </tr>\n",
       "    <tr>\n",
       "      <th>14</th>\n",
       "      <td>5324</td>\n",
       "      <td>8437</td>\n",
       "      <td>2021-04-18</td>\n",
       "      <td>6598</td>\n",
       "      <td>92</td>\n",
       "      <td>310</td>\n",
       "      <td>3485</td>\n",
       "    </tr>\n",
       "  </tbody>\n",
       "</table>\n",
       "</div>"
      ],
      "text/plain": [
       "    user_id  item_id last_watch_dt  total_dur  watched_pct    uid   iid\n",
       "0    176549     9506    2021-05-11       4250           72  10616  3944\n",
       "1    699317     1659    2021-05-29       8317          100  42131   675\n",
       "6   1016458      354    2021-08-14       1672           25  61024   139\n",
       "7    884009      693    2021-08-04        703           14  53150   279\n",
       "14     5324     8437    2021-04-18       6598           92    310  3485"
      ]
     },
     "execution_count": 17,
     "metadata": {},
     "output_type": "execute_result"
    }
   ],
   "source": [
    "interactions_df[\"uid\"] = interactions_df[\"user_id\"].astype(\"category\")\n",
    "interactions_df[\"uid\"] = interactions_df[\"uid\"].cat.codes\n",
    "\n",
    "interactions_df[\"iid\"] = interactions_df[\"item_id\"].astype(\"category\")\n",
    "interactions_df[\"iid\"] = interactions_df[\"iid\"].cat.codes\n",
    "\n",
    "print(sorted(interactions_df.iid.unique())[:5])\n",
    "print(sorted(interactions_df.uid.unique())[:5])\n",
    "interactions_df.head()"
   ]
  },
  {
   "cell_type": "markdown",
   "id": "61c855e5",
   "metadata": {
    "id": "61c855e5"
   },
   "source": [
    "Отнормируем матрицу взаимодействий"
   ]
  },
  {
   "cell_type": "code",
   "execution_count": 18,
   "id": "3feced70",
   "metadata": {
    "ExecuteTime": {
     "end_time": "2023-12-12T13:08:47.730680800Z",
     "start_time": "2023-12-12T13:08:42.362188400Z"
    },
    "id": "3feced70"
   },
   "outputs": [],
   "source": [
    "interactions_vec = np.zeros((interactions_df.uid.nunique(),\n",
    "                             interactions_df.iid.nunique()))\n",
    "\n",
    "for user_id, item_id, watched_pct in zip(interactions_df.uid, interactions_df.iid, interactions_df.watched_pct):\n",
    "    interactions_vec[user_id, item_id] += watched_pct / 100 # учтём взаимодействие - процент просмотра\n",
    "\n",
    "res = interactions_vec.sum(axis=1)\n",
    "for i in range(len(interactions_vec)):\n",
    "    interactions_vec[i] /= res[i]"
   ]
  },
  {
   "cell_type": "code",
   "execution_count": 19,
   "id": "9f5ec90f",
   "metadata": {
    "ExecuteTime": {
     "end_time": "2023-12-12T13:08:47.797049400Z",
     "start_time": "2023-12-12T13:08:47.735236Z"
    },
    "colab": {
     "base_uri": "https://localhost:8080/"
    },
    "id": "9f5ec90f",
    "outputId": "9acdfe45-aa4e-4a64-ffdc-1a750390ae84"
   },
   "outputs": [
    {
     "name": "stdout",
     "output_type": "stream",
     "text": [
      "6897\n",
      "6901\n",
      "65974\n",
      "65974\n",
      "{11805, 9788, 11501, 1734}\n"
     ]
    }
   ],
   "source": [
    "print(interactions_df.item_id.nunique())\n",
    "print(items_ohe_df.item_id.nunique())\n",
    "print(interactions_df.user_id.nunique())\n",
    "print(users_ohe_df.user_id.nunique())\n",
    "\n",
    "print(set(items_ohe_df.item_id.unique()) - set(interactions_df.item_id.unique()))"
   ]
  },
  {
   "cell_type": "markdown",
   "id": "19e69bae",
   "metadata": {
    "id": "19e69bae"
   },
   "source": [
    "Для того, чтобы можно было удобно превратить iid/uid в item_id/user_id и наоборот соберем словари \n",
    "\n",
    "{iid: item_id}, {uid: user_id} и {item_id: iid}, {user_id: uid}."
   ]
  },
  {
   "cell_type": "code",
   "execution_count": 23,
   "id": "c8a84024",
   "metadata": {
    "ExecuteTime": {
     "end_time": "2023-12-12T13:08:48.175403400Z",
     "start_time": "2023-12-12T13:08:47.804277100Z"
    },
    "id": "c8a84024"
   },
   "outputs": [],
   "source": [
    "iid_to_item_id = interactions_df[[\"iid\", \"item_id\"]].drop_duplicates().set_index(\"iid\").to_dict()[\n",
    "    \"item_id\"]\n",
    "item_id_to_iid = \\\n",
    "    interactions_df[[\"iid\", \"item_id\"]].drop_duplicates().set_index(\"item_id\").to_dict()[\"iid\"]\n",
    "\n",
    "uid_to_user_id = interactions_df[[\"uid\", \"user_id\"]].drop_duplicates().set_index(\"uid\").to_dict()[\n",
    "    \"user_id\"]\n",
    "user_id_to_uid = \\\n",
    "    interactions_df[[\"uid\", \"user_id\"]].drop_duplicates().set_index(\"user_id\").to_dict()[\"uid\"]"
   ]
  },
  {
   "cell_type": "markdown",
   "id": "48ca5204",
   "metadata": {
    "id": "48ca5204"
   },
   "source": [
    "И проиндексируем датасеты users_ohe_df и items_ohe_df по внутренним айди:"
   ]
  },
  {
   "cell_type": "code",
   "execution_count": 24,
   "id": "d5095b580f23998f",
   "metadata": {
    "ExecuteTime": {
     "end_time": "2023-12-12T13:08:48.184433600Z",
     "start_time": "2023-12-12T13:08:48.181411600Z"
    },
    "collapsed": false
   },
   "outputs": [
    {
     "data": {
      "text/plain": [
       "8      9853\n",
       "10     3526\n",
       "15    15076\n",
       "16     2904\n",
       "20     2635\n",
       "Name: item_id, dtype: int64"
      ]
     },
     "execution_count": 24,
     "metadata": {},
     "output_type": "execute_result"
    }
   ],
   "source": [
    "items_ohe_df['item_id'].head()"
   ]
  },
  {
   "cell_type": "code",
   "execution_count": 25,
   "id": "81a3e340896f0796",
   "metadata": {
    "ExecuteTime": {
     "end_time": "2023-12-12T13:08:48.207222Z",
     "start_time": "2023-12-12T13:08:48.183420400Z"
    },
    "collapsed": false
   },
   "outputs": [
    {
     "data": {
      "text/plain": [
       "(6901, 8589)"
      ]
     },
     "execution_count": 25,
     "metadata": {},
     "output_type": "execute_result"
    }
   ],
   "source": [
    "items_ohe_df.shape"
   ]
  },
  {
   "cell_type": "code",
   "execution_count": 26,
   "id": "e28cf5c816d347e0",
   "metadata": {
    "ExecuteTime": {
     "end_time": "2023-12-12T13:08:48.281604100Z",
     "start_time": "2023-12-12T13:08:48.202039100Z"
    },
    "collapsed": false
   },
   "outputs": [
    {
     "name": "stdout",
     "output_type": "stream",
     "text": [
      "11805\n",
      "11501\n",
      "9788\n",
      "1734\n"
     ]
    }
   ],
   "source": [
    "for x in items_ohe_df['item_id']:\n",
    "    if x not in item_id_to_iid:\n",
    "        print(x)"
   ]
  },
  {
   "cell_type": "code",
   "execution_count": 27,
   "id": "4c4980ac",
   "metadata": {
    "ExecuteTime": {
     "end_time": "2023-12-12T13:08:48.325771600Z",
     "start_time": "2023-12-12T13:08:48.227808300Z"
    },
    "collapsed": false
   },
   "outputs": [],
   "source": [
    "items_ohe_df[\"iid\"] = items_ohe_df[\"item_id\"].apply(\n",
    "    lambda x: item_id_to_iid[x] if x in item_id_to_iid else None)\n",
    "items_ohe_df = items_ohe_df.set_index(\"iid\")\n",
    "\n",
    "users_ohe_df[\"uid\"] = users_ohe_df[\"user_id\"].apply(lambda x: user_id_to_uid[x])\n",
    "users_ohe_df = users_ohe_df.set_index(\"uid\")"
   ]
  },
  {
   "cell_type": "markdown",
   "id": "9b6d291c",
   "metadata": {},
   "source": [
    "## Текстовые признаки"
   ]
  },
  {
   "cell_type": "code",
   "execution_count": 28,
   "id": "dcf5028a",
   "metadata": {},
   "outputs": [
    {
     "data": {
      "text/plain": [
       "(15963, 14)"
      ]
     },
     "execution_count": 28,
     "metadata": {},
     "output_type": "execute_result"
    }
   ],
   "source": [
    "items_df.shape"
   ]
  },
  {
   "cell_type": "code",
   "execution_count": 29,
   "id": "a7a33687",
   "metadata": {},
   "outputs": [],
   "source": [
    "# items_common_df = items_df[items_df.item_id.isin(common_items)]"
   ]
  },
  {
   "cell_type": "code",
   "execution_count": 88,
   "id": "cacc95ec",
   "metadata": {},
   "outputs": [],
   "source": [
    "item_text_feats = ['title', 'directors',\n",
    "                  'actors', 'description',\n",
    "                  'keywords']"
   ]
  },
  {
   "cell_type": "code",
   "execution_count": 89,
   "id": "b7a8acdb",
   "metadata": {},
   "outputs": [],
   "source": [
    "stop_words = set(stopwords.words('russian'))"
   ]
  },
  {
   "cell_type": "code",
   "execution_count": 90,
   "id": "ef3e5803",
   "metadata": {},
   "outputs": [],
   "source": [
    "for feature in item_text_feats:\n",
    "    items_df[f'{feature}_processed'] = items_df[feature].str.lower()\n",
    "    items_df[f'{feature}_processed'] = items_df[f'{feature}_processed'].apply(word_tokenize)\n",
    "    items_df[f'{feature}_processed'] = items_df[f'{feature}_processed'].apply(lambda x: [word for word in x if word.isalnum() and word not in stop_words]).apply(lambda x : \" \".join(x))"
   ]
  },
  {
   "cell_type": "code",
   "execution_count": 91,
   "id": "efc91fed",
   "metadata": {},
   "outputs": [],
   "source": [
    "item_text_feats_proc = ['title_processed', 'directors_processed',\n",
    "                  'actors_processed', 'description_processed',\n",
    "                  'keywords_processed']"
   ]
  },
  {
   "cell_type": "code",
   "execution_count": 92,
   "id": "d37a674a",
   "metadata": {},
   "outputs": [
    {
     "data": {
      "text/plain": [
       "(15963, 20)"
      ]
     },
     "execution_count": 92,
     "metadata": {},
     "output_type": "execute_result"
    }
   ],
   "source": [
    "items_df['combined_text'] = items_df[item_text_feats_proc].apply(lambda x: \" \".join(x), axis=1)\n",
    "items_df.shape"
   ]
  },
  {
   "cell_type": "code",
   "execution_count": 93,
   "id": "34b3975e",
   "metadata": {},
   "outputs": [],
   "source": [
    "tokenized_text = items_df['combined_text'] #.tolist()\n",
    "\n",
    "embedding_size = 100\n",
    "min_word_count = 1\n",
    "\n",
    "model = FastText(sentences=tokenized_text, vector_size=100, min_count=min_word_count)"
   ]
  },
  {
   "cell_type": "code",
   "execution_count": 127,
   "id": "bccc1a9d",
   "metadata": {},
   "outputs": [],
   "source": [
    "embeddings = items_df['combined_text'].apply(lambda x: model.wv[x])"
   ]
  },
  {
   "cell_type": "code",
   "execution_count": 130,
   "id": "76c8183f",
   "metadata": {},
   "outputs": [],
   "source": [
    "embeddings_df = pd.DataFrame(embeddings.tolist(), index=embeddings.index)"
   ]
  },
  {
   "cell_type": "code",
   "execution_count": 131,
   "id": "b097404a",
   "metadata": {},
   "outputs": [],
   "source": [
    "embeddings_df['item_id'] = items_df['item_id']"
   ]
  },
  {
   "cell_type": "code",
   "execution_count": 144,
   "id": "a87c2fca",
   "metadata": {},
   "outputs": [
    {
     "data": {
      "text/html": [
       "<div>\n",
       "<style scoped>\n",
       "    .dataframe tbody tr th:only-of-type {\n",
       "        vertical-align: middle;\n",
       "    }\n",
       "\n",
       "    .dataframe tbody tr th {\n",
       "        vertical-align: top;\n",
       "    }\n",
       "\n",
       "    .dataframe thead th {\n",
       "        text-align: right;\n",
       "    }\n",
       "</style>\n",
       "<table border=\"1\" class=\"dataframe\">\n",
       "  <thead>\n",
       "    <tr style=\"text-align: right;\">\n",
       "      <th></th>\n",
       "      <th>0</th>\n",
       "      <th>1</th>\n",
       "      <th>2</th>\n",
       "      <th>3</th>\n",
       "      <th>4</th>\n",
       "      <th>5</th>\n",
       "      <th>6</th>\n",
       "      <th>7</th>\n",
       "      <th>8</th>\n",
       "      <th>9</th>\n",
       "      <th>...</th>\n",
       "      <th>91</th>\n",
       "      <th>92</th>\n",
       "      <th>93</th>\n",
       "      <th>94</th>\n",
       "      <th>95</th>\n",
       "      <th>96</th>\n",
       "      <th>97</th>\n",
       "      <th>98</th>\n",
       "      <th>99</th>\n",
       "      <th>item_id</th>\n",
       "    </tr>\n",
       "    <tr>\n",
       "      <th>iid</th>\n",
       "      <th></th>\n",
       "      <th></th>\n",
       "      <th></th>\n",
       "      <th></th>\n",
       "      <th></th>\n",
       "      <th></th>\n",
       "      <th></th>\n",
       "      <th></th>\n",
       "      <th></th>\n",
       "      <th></th>\n",
       "      <th></th>\n",
       "      <th></th>\n",
       "      <th></th>\n",
       "      <th></th>\n",
       "      <th></th>\n",
       "      <th></th>\n",
       "      <th></th>\n",
       "      <th></th>\n",
       "      <th></th>\n",
       "      <th></th>\n",
       "      <th></th>\n",
       "    </tr>\n",
       "  </thead>\n",
       "  <tbody>\n",
       "    <tr>\n",
       "      <th>NaN</th>\n",
       "      <td>-0.000175</td>\n",
       "      <td>-0.000069</td>\n",
       "      <td>0.000032</td>\n",
       "      <td>0.000183</td>\n",
       "      <td>0.000021</td>\n",
       "      <td>-1.822629e-05</td>\n",
       "      <td>0.000039</td>\n",
       "      <td>-0.000104</td>\n",
       "      <td>-0.000149</td>\n",
       "      <td>-0.000189</td>\n",
       "      <td>...</td>\n",
       "      <td>-0.000032</td>\n",
       "      <td>0.000021</td>\n",
       "      <td>0.000039</td>\n",
       "      <td>0.000054</td>\n",
       "      <td>-0.000025</td>\n",
       "      <td>0.000281</td>\n",
       "      <td>-0.000171</td>\n",
       "      <td>-0.000009</td>\n",
       "      <td>-0.000032</td>\n",
       "      <td>10711</td>\n",
       "    </tr>\n",
       "    <tr>\n",
       "      <th>NaN</th>\n",
       "      <td>-0.000052</td>\n",
       "      <td>-0.000106</td>\n",
       "      <td>0.000055</td>\n",
       "      <td>0.000164</td>\n",
       "      <td>-0.000090</td>\n",
       "      <td>1.520634e-05</td>\n",
       "      <td>-0.000163</td>\n",
       "      <td>-0.000021</td>\n",
       "      <td>-0.000117</td>\n",
       "      <td>0.000007</td>\n",
       "      <td>...</td>\n",
       "      <td>-0.000044</td>\n",
       "      <td>0.000023</td>\n",
       "      <td>-0.000055</td>\n",
       "      <td>-0.000086</td>\n",
       "      <td>0.000034</td>\n",
       "      <td>0.000065</td>\n",
       "      <td>-0.000038</td>\n",
       "      <td>-0.000085</td>\n",
       "      <td>0.000001</td>\n",
       "      <td>2508</td>\n",
       "    </tr>\n",
       "    <tr>\n",
       "      <th>NaN</th>\n",
       "      <td>-0.000133</td>\n",
       "      <td>0.000019</td>\n",
       "      <td>-0.000038</td>\n",
       "      <td>0.000140</td>\n",
       "      <td>0.000100</td>\n",
       "      <td>-1.250927e-04</td>\n",
       "      <td>-0.000129</td>\n",
       "      <td>0.000010</td>\n",
       "      <td>-0.000084</td>\n",
       "      <td>0.000031</td>\n",
       "      <td>...</td>\n",
       "      <td>-0.000090</td>\n",
       "      <td>0.000075</td>\n",
       "      <td>-0.000189</td>\n",
       "      <td>0.000050</td>\n",
       "      <td>-0.000093</td>\n",
       "      <td>0.000038</td>\n",
       "      <td>-0.000087</td>\n",
       "      <td>-0.000034</td>\n",
       "      <td>-0.000110</td>\n",
       "      <td>10716</td>\n",
       "    </tr>\n",
       "    <tr>\n",
       "      <th>NaN</th>\n",
       "      <td>-0.000026</td>\n",
       "      <td>0.000048</td>\n",
       "      <td>0.000041</td>\n",
       "      <td>0.000163</td>\n",
       "      <td>0.000060</td>\n",
       "      <td>-7.728289e-07</td>\n",
       "      <td>-0.000066</td>\n",
       "      <td>0.000006</td>\n",
       "      <td>-0.000166</td>\n",
       "      <td>-0.000032</td>\n",
       "      <td>...</td>\n",
       "      <td>-0.000220</td>\n",
       "      <td>0.000027</td>\n",
       "      <td>0.000025</td>\n",
       "      <td>-0.000051</td>\n",
       "      <td>-0.000069</td>\n",
       "      <td>0.000062</td>\n",
       "      <td>0.000002</td>\n",
       "      <td>0.000033</td>\n",
       "      <td>0.000054</td>\n",
       "      <td>7868</td>\n",
       "    </tr>\n",
       "    <tr>\n",
       "      <th>NaN</th>\n",
       "      <td>-0.000252</td>\n",
       "      <td>0.000015</td>\n",
       "      <td>0.000098</td>\n",
       "      <td>0.000096</td>\n",
       "      <td>-0.000083</td>\n",
       "      <td>3.796032e-05</td>\n",
       "      <td>-0.000068</td>\n",
       "      <td>-0.000150</td>\n",
       "      <td>-0.000119</td>\n",
       "      <td>-0.000105</td>\n",
       "      <td>...</td>\n",
       "      <td>-0.000002</td>\n",
       "      <td>-0.000124</td>\n",
       "      <td>0.000028</td>\n",
       "      <td>-0.000018</td>\n",
       "      <td>-0.000162</td>\n",
       "      <td>0.000145</td>\n",
       "      <td>-0.000058</td>\n",
       "      <td>0.000027</td>\n",
       "      <td>0.000090</td>\n",
       "      <td>16268</td>\n",
       "    </tr>\n",
       "  </tbody>\n",
       "</table>\n",
       "<p>5 rows × 101 columns</p>\n",
       "</div>"
      ],
      "text/plain": [
       "            0         1         2         3         4             5         6  \\\n",
       "iid                                                                             \n",
       "NaN -0.000175 -0.000069  0.000032  0.000183  0.000021 -1.822629e-05  0.000039   \n",
       "NaN -0.000052 -0.000106  0.000055  0.000164 -0.000090  1.520634e-05 -0.000163   \n",
       "NaN -0.000133  0.000019 -0.000038  0.000140  0.000100 -1.250927e-04 -0.000129   \n",
       "NaN -0.000026  0.000048  0.000041  0.000163  0.000060 -7.728289e-07 -0.000066   \n",
       "NaN -0.000252  0.000015  0.000098  0.000096 -0.000083  3.796032e-05 -0.000068   \n",
       "\n",
       "            7         8         9  ...        91        92        93  \\\n",
       "iid                                ...                                 \n",
       "NaN -0.000104 -0.000149 -0.000189  ... -0.000032  0.000021  0.000039   \n",
       "NaN -0.000021 -0.000117  0.000007  ... -0.000044  0.000023 -0.000055   \n",
       "NaN  0.000010 -0.000084  0.000031  ... -0.000090  0.000075 -0.000189   \n",
       "NaN  0.000006 -0.000166 -0.000032  ... -0.000220  0.000027  0.000025   \n",
       "NaN -0.000150 -0.000119 -0.000105  ... -0.000002 -0.000124  0.000028   \n",
       "\n",
       "           94        95        96        97        98        99  item_id  \n",
       "iid                                                                       \n",
       "NaN  0.000054 -0.000025  0.000281 -0.000171 -0.000009 -0.000032    10711  \n",
       "NaN -0.000086  0.000034  0.000065 -0.000038 -0.000085  0.000001     2508  \n",
       "NaN  0.000050 -0.000093  0.000038 -0.000087 -0.000034 -0.000110    10716  \n",
       "NaN -0.000051 -0.000069  0.000062  0.000002  0.000033  0.000054     7868  \n",
       "NaN -0.000018 -0.000162  0.000145 -0.000058  0.000027  0.000090    16268  \n",
       "\n",
       "[5 rows x 101 columns]"
      ]
     },
     "execution_count": 144,
     "metadata": {},
     "output_type": "execute_result"
    }
   ],
   "source": [
    "embeddings_df.head(5)"
   ]
  },
  {
   "cell_type": "code",
   "execution_count": 137,
   "id": "b82719a9",
   "metadata": {},
   "outputs": [],
   "source": [
    "embeddings_df[\"iid\"] = embeddings_df[\"item_id\"].apply(\n",
    "    lambda x: item_id_to_iid[x] if x in item_id_to_iid else None)\n",
    "embeddings_df = embeddings_df.set_index(\"iid\")"
   ]
  },
  {
   "cell_type": "code",
   "execution_count": 146,
   "id": "f461f538",
   "metadata": {},
   "outputs": [],
   "source": [
    "items_ohe_df = items_ohe_df.merge(embeddings_df)"
   ]
  },
  {
   "cell_type": "code",
   "execution_count": 147,
   "id": "d7b63328",
   "metadata": {},
   "outputs": [
    {
     "data": {
      "text/html": [
       "<div>\n",
       "<style scoped>\n",
       "    .dataframe tbody tr th:only-of-type {\n",
       "        vertical-align: middle;\n",
       "    }\n",
       "\n",
       "    .dataframe tbody tr th {\n",
       "        vertical-align: top;\n",
       "    }\n",
       "\n",
       "    .dataframe thead th {\n",
       "        text-align: right;\n",
       "    }\n",
       "</style>\n",
       "<table border=\"1\" class=\"dataframe\">\n",
       "  <thead>\n",
       "    <tr style=\"text-align: right;\">\n",
       "      <th></th>\n",
       "      <th>item_id</th>\n",
       "      <th>content_type_film</th>\n",
       "      <th>content_type_series</th>\n",
       "      <th>release_year_cat_1920-1930</th>\n",
       "      <th>release_year_cat_1930-1940</th>\n",
       "      <th>release_year_cat_1940-1950</th>\n",
       "      <th>release_year_cat_1950-1960</th>\n",
       "      <th>release_year_cat_1960-1970</th>\n",
       "      <th>release_year_cat_1970-1980</th>\n",
       "      <th>release_year_cat_1980-1990</th>\n",
       "      <th>...</th>\n",
       "      <th>90</th>\n",
       "      <th>91</th>\n",
       "      <th>92</th>\n",
       "      <th>93</th>\n",
       "      <th>94</th>\n",
       "      <th>95</th>\n",
       "      <th>96</th>\n",
       "      <th>97</th>\n",
       "      <th>98</th>\n",
       "      <th>99</th>\n",
       "    </tr>\n",
       "  </thead>\n",
       "  <tbody>\n",
       "    <tr>\n",
       "      <th>0</th>\n",
       "      <td>9853</td>\n",
       "      <td>1</td>\n",
       "      <td>0</td>\n",
       "      <td>0</td>\n",
       "      <td>0</td>\n",
       "      <td>0</td>\n",
       "      <td>0</td>\n",
       "      <td>0</td>\n",
       "      <td>0</td>\n",
       "      <td>0</td>\n",
       "      <td>...</td>\n",
       "      <td>-0.000051</td>\n",
       "      <td>0.000126</td>\n",
       "      <td>0.000053</td>\n",
       "      <td>0.000002</td>\n",
       "      <td>0.000011</td>\n",
       "      <td>0.000040</td>\n",
       "      <td>0.000129</td>\n",
       "      <td>-0.000021</td>\n",
       "      <td>-0.000025</td>\n",
       "      <td>0.000144</td>\n",
       "    </tr>\n",
       "    <tr>\n",
       "      <th>1</th>\n",
       "      <td>3526</td>\n",
       "      <td>1</td>\n",
       "      <td>0</td>\n",
       "      <td>0</td>\n",
       "      <td>0</td>\n",
       "      <td>0</td>\n",
       "      <td>0</td>\n",
       "      <td>0</td>\n",
       "      <td>0</td>\n",
       "      <td>0</td>\n",
       "      <td>...</td>\n",
       "      <td>-0.000076</td>\n",
       "      <td>-0.000105</td>\n",
       "      <td>-0.000023</td>\n",
       "      <td>-0.000057</td>\n",
       "      <td>0.000064</td>\n",
       "      <td>-0.000066</td>\n",
       "      <td>0.000178</td>\n",
       "      <td>0.000026</td>\n",
       "      <td>-0.000027</td>\n",
       "      <td>0.000108</td>\n",
       "    </tr>\n",
       "    <tr>\n",
       "      <th>2</th>\n",
       "      <td>15076</td>\n",
       "      <td>1</td>\n",
       "      <td>0</td>\n",
       "      <td>0</td>\n",
       "      <td>0</td>\n",
       "      <td>0</td>\n",
       "      <td>0</td>\n",
       "      <td>0</td>\n",
       "      <td>0</td>\n",
       "      <td>0</td>\n",
       "      <td>...</td>\n",
       "      <td>0.000073</td>\n",
       "      <td>0.000055</td>\n",
       "      <td>-0.000065</td>\n",
       "      <td>-0.000021</td>\n",
       "      <td>0.000066</td>\n",
       "      <td>-0.000109</td>\n",
       "      <td>-0.000028</td>\n",
       "      <td>0.000042</td>\n",
       "      <td>0.000055</td>\n",
       "      <td>0.000094</td>\n",
       "    </tr>\n",
       "    <tr>\n",
       "      <th>3</th>\n",
       "      <td>2904</td>\n",
       "      <td>1</td>\n",
       "      <td>0</td>\n",
       "      <td>0</td>\n",
       "      <td>0</td>\n",
       "      <td>0</td>\n",
       "      <td>0</td>\n",
       "      <td>0</td>\n",
       "      <td>0</td>\n",
       "      <td>0</td>\n",
       "      <td>...</td>\n",
       "      <td>0.000149</td>\n",
       "      <td>-0.000086</td>\n",
       "      <td>-0.000110</td>\n",
       "      <td>0.000207</td>\n",
       "      <td>-0.000099</td>\n",
       "      <td>-0.000077</td>\n",
       "      <td>0.000155</td>\n",
       "      <td>-0.000012</td>\n",
       "      <td>0.000100</td>\n",
       "      <td>-0.000121</td>\n",
       "    </tr>\n",
       "    <tr>\n",
       "      <th>4</th>\n",
       "      <td>2635</td>\n",
       "      <td>1</td>\n",
       "      <td>0</td>\n",
       "      <td>0</td>\n",
       "      <td>0</td>\n",
       "      <td>0</td>\n",
       "      <td>0</td>\n",
       "      <td>0</td>\n",
       "      <td>0</td>\n",
       "      <td>0</td>\n",
       "      <td>...</td>\n",
       "      <td>-0.000150</td>\n",
       "      <td>0.000004</td>\n",
       "      <td>-0.000100</td>\n",
       "      <td>0.000028</td>\n",
       "      <td>0.000052</td>\n",
       "      <td>0.000055</td>\n",
       "      <td>0.000086</td>\n",
       "      <td>-0.000041</td>\n",
       "      <td>0.000020</td>\n",
       "      <td>0.000137</td>\n",
       "    </tr>\n",
       "    <tr>\n",
       "      <th>...</th>\n",
       "      <td>...</td>\n",
       "      <td>...</td>\n",
       "      <td>...</td>\n",
       "      <td>...</td>\n",
       "      <td>...</td>\n",
       "      <td>...</td>\n",
       "      <td>...</td>\n",
       "      <td>...</td>\n",
       "      <td>...</td>\n",
       "      <td>...</td>\n",
       "      <td>...</td>\n",
       "      <td>...</td>\n",
       "      <td>...</td>\n",
       "      <td>...</td>\n",
       "      <td>...</td>\n",
       "      <td>...</td>\n",
       "      <td>...</td>\n",
       "      <td>...</td>\n",
       "      <td>...</td>\n",
       "      <td>...</td>\n",
       "      <td>...</td>\n",
       "    </tr>\n",
       "    <tr>\n",
       "      <th>6896</th>\n",
       "      <td>15610</td>\n",
       "      <td>0</td>\n",
       "      <td>1</td>\n",
       "      <td>0</td>\n",
       "      <td>0</td>\n",
       "      <td>0</td>\n",
       "      <td>0</td>\n",
       "      <td>0</td>\n",
       "      <td>0</td>\n",
       "      <td>0</td>\n",
       "      <td>...</td>\n",
       "      <td>0.000077</td>\n",
       "      <td>0.000093</td>\n",
       "      <td>0.000037</td>\n",
       "      <td>-0.000011</td>\n",
       "      <td>-0.000255</td>\n",
       "      <td>-0.000239</td>\n",
       "      <td>-0.000028</td>\n",
       "      <td>0.000154</td>\n",
       "      <td>-0.000157</td>\n",
       "      <td>0.000035</td>\n",
       "    </tr>\n",
       "    <tr>\n",
       "      <th>6897</th>\n",
       "      <td>6443</td>\n",
       "      <td>0</td>\n",
       "      <td>1</td>\n",
       "      <td>0</td>\n",
       "      <td>0</td>\n",
       "      <td>0</td>\n",
       "      <td>0</td>\n",
       "      <td>0</td>\n",
       "      <td>0</td>\n",
       "      <td>0</td>\n",
       "      <td>...</td>\n",
       "      <td>0.000032</td>\n",
       "      <td>-0.000126</td>\n",
       "      <td>0.000091</td>\n",
       "      <td>0.000180</td>\n",
       "      <td>0.000098</td>\n",
       "      <td>-0.000039</td>\n",
       "      <td>0.000154</td>\n",
       "      <td>-0.000002</td>\n",
       "      <td>-0.000092</td>\n",
       "      <td>0.000009</td>\n",
       "    </tr>\n",
       "    <tr>\n",
       "      <th>6898</th>\n",
       "      <td>2367</td>\n",
       "      <td>0</td>\n",
       "      <td>1</td>\n",
       "      <td>0</td>\n",
       "      <td>0</td>\n",
       "      <td>0</td>\n",
       "      <td>0</td>\n",
       "      <td>0</td>\n",
       "      <td>0</td>\n",
       "      <td>0</td>\n",
       "      <td>...</td>\n",
       "      <td>-0.000175</td>\n",
       "      <td>-0.000022</td>\n",
       "      <td>-0.000128</td>\n",
       "      <td>-0.000043</td>\n",
       "      <td>-0.000071</td>\n",
       "      <td>0.000007</td>\n",
       "      <td>0.000068</td>\n",
       "      <td>-0.000363</td>\n",
       "      <td>0.000080</td>\n",
       "      <td>0.000230</td>\n",
       "    </tr>\n",
       "    <tr>\n",
       "      <th>6899</th>\n",
       "      <td>10632</td>\n",
       "      <td>0</td>\n",
       "      <td>1</td>\n",
       "      <td>0</td>\n",
       "      <td>0</td>\n",
       "      <td>0</td>\n",
       "      <td>0</td>\n",
       "      <td>0</td>\n",
       "      <td>0</td>\n",
       "      <td>0</td>\n",
       "      <td>...</td>\n",
       "      <td>-0.000083</td>\n",
       "      <td>0.000151</td>\n",
       "      <td>0.000005</td>\n",
       "      <td>0.000012</td>\n",
       "      <td>-0.000049</td>\n",
       "      <td>-0.000237</td>\n",
       "      <td>0.000204</td>\n",
       "      <td>0.000081</td>\n",
       "      <td>0.000168</td>\n",
       "      <td>0.000126</td>\n",
       "    </tr>\n",
       "    <tr>\n",
       "      <th>6900</th>\n",
       "      <td>4538</td>\n",
       "      <td>0</td>\n",
       "      <td>1</td>\n",
       "      <td>0</td>\n",
       "      <td>0</td>\n",
       "      <td>0</td>\n",
       "      <td>0</td>\n",
       "      <td>0</td>\n",
       "      <td>0</td>\n",
       "      <td>0</td>\n",
       "      <td>...</td>\n",
       "      <td>0.000003</td>\n",
       "      <td>-0.000152</td>\n",
       "      <td>0.000007</td>\n",
       "      <td>-0.000314</td>\n",
       "      <td>-0.000154</td>\n",
       "      <td>0.000087</td>\n",
       "      <td>0.000080</td>\n",
       "      <td>0.000323</td>\n",
       "      <td>-0.000025</td>\n",
       "      <td>-0.000018</td>\n",
       "    </tr>\n",
       "  </tbody>\n",
       "</table>\n",
       "<p>6901 rows × 8689 columns</p>\n",
       "</div>"
      ],
      "text/plain": [
       "      item_id  content_type_film  content_type_series  \\\n",
       "0        9853                  1                    0   \n",
       "1        3526                  1                    0   \n",
       "2       15076                  1                    0   \n",
       "3        2904                  1                    0   \n",
       "4        2635                  1                    0   \n",
       "...       ...                ...                  ...   \n",
       "6896    15610                  0                    1   \n",
       "6897     6443                  0                    1   \n",
       "6898     2367                  0                    1   \n",
       "6899    10632                  0                    1   \n",
       "6900     4538                  0                    1   \n",
       "\n",
       "      release_year_cat_1920-1930  release_year_cat_1930-1940  \\\n",
       "0                              0                           0   \n",
       "1                              0                           0   \n",
       "2                              0                           0   \n",
       "3                              0                           0   \n",
       "4                              0                           0   \n",
       "...                          ...                         ...   \n",
       "6896                           0                           0   \n",
       "6897                           0                           0   \n",
       "6898                           0                           0   \n",
       "6899                           0                           0   \n",
       "6900                           0                           0   \n",
       "\n",
       "      release_year_cat_1940-1950  release_year_cat_1950-1960  \\\n",
       "0                              0                           0   \n",
       "1                              0                           0   \n",
       "2                              0                           0   \n",
       "3                              0                           0   \n",
       "4                              0                           0   \n",
       "...                          ...                         ...   \n",
       "6896                           0                           0   \n",
       "6897                           0                           0   \n",
       "6898                           0                           0   \n",
       "6899                           0                           0   \n",
       "6900                           0                           0   \n",
       "\n",
       "      release_year_cat_1960-1970  release_year_cat_1970-1980  \\\n",
       "0                              0                           0   \n",
       "1                              0                           0   \n",
       "2                              0                           0   \n",
       "3                              0                           0   \n",
       "4                              0                           0   \n",
       "...                          ...                         ...   \n",
       "6896                           0                           0   \n",
       "6897                           0                           0   \n",
       "6898                           0                           0   \n",
       "6899                           0                           0   \n",
       "6900                           0                           0   \n",
       "\n",
       "      release_year_cat_1980-1990  ...        90        91        92        93  \\\n",
       "0                              0  ... -0.000051  0.000126  0.000053  0.000002   \n",
       "1                              0  ... -0.000076 -0.000105 -0.000023 -0.000057   \n",
       "2                              0  ...  0.000073  0.000055 -0.000065 -0.000021   \n",
       "3                              0  ...  0.000149 -0.000086 -0.000110  0.000207   \n",
       "4                              0  ... -0.000150  0.000004 -0.000100  0.000028   \n",
       "...                          ...  ...       ...       ...       ...       ...   \n",
       "6896                           0  ...  0.000077  0.000093  0.000037 -0.000011   \n",
       "6897                           0  ...  0.000032 -0.000126  0.000091  0.000180   \n",
       "6898                           0  ... -0.000175 -0.000022 -0.000128 -0.000043   \n",
       "6899                           0  ... -0.000083  0.000151  0.000005  0.000012   \n",
       "6900                           0  ...  0.000003 -0.000152  0.000007 -0.000314   \n",
       "\n",
       "            94        95        96        97        98        99  \n",
       "0     0.000011  0.000040  0.000129 -0.000021 -0.000025  0.000144  \n",
       "1     0.000064 -0.000066  0.000178  0.000026 -0.000027  0.000108  \n",
       "2     0.000066 -0.000109 -0.000028  0.000042  0.000055  0.000094  \n",
       "3    -0.000099 -0.000077  0.000155 -0.000012  0.000100 -0.000121  \n",
       "4     0.000052  0.000055  0.000086 -0.000041  0.000020  0.000137  \n",
       "...        ...       ...       ...       ...       ...       ...  \n",
       "6896 -0.000255 -0.000239 -0.000028  0.000154 -0.000157  0.000035  \n",
       "6897  0.000098 -0.000039  0.000154 -0.000002 -0.000092  0.000009  \n",
       "6898 -0.000071  0.000007  0.000068 -0.000363  0.000080  0.000230  \n",
       "6899 -0.000049 -0.000237  0.000204  0.000081  0.000168  0.000126  \n",
       "6900 -0.000154  0.000087  0.000080  0.000323 -0.000025 -0.000018  \n",
       "\n",
       "[6901 rows x 8689 columns]"
      ]
     },
     "execution_count": 147,
     "metadata": {},
     "output_type": "execute_result"
    }
   ],
   "source": [
    "items_ohe_df"
   ]
  },
  {
   "cell_type": "code",
   "execution_count": 177,
   "id": "22c26d39",
   "metadata": {
    "ExecuteTime": {
     "end_time": "2023-12-12T13:08:48.326769Z",
     "start_time": "2023-12-12T13:08:48.303808800Z"
    },
    "collapsed": false
   },
   "outputs": [],
   "source": [
    "def triplet_loss(y_true, y_pred, n_dims=128, alpha=0.4):\n",
    "    # будем ожидать, что на вход функции прилетит три сконкатенированных \n",
    "    # вектора - вектор юзера и два вектора айтема\n",
    "    anchor = y_pred[:, 0:n_dims]\n",
    "    positive = y_pred[:, n_dims:n_dims * 2]\n",
    "    negative = y_pred[:, n_dims * 2:n_dims * 3]\n",
    "\n",
    "    # считаем расстояния от вектора юзера до вектора хорошего айтема\n",
    "    pos_dist = K.sum(K.square(anchor - positive), axis=1)\n",
    "    # и до плохого\n",
    "    neg_dist = K.sum(K.square(anchor - negative), axis=1)\n",
    "\n",
    "    # считаем лосс\n",
    "    basic_loss = pos_dist - neg_dist + alpha\n",
    "    loss = K.maximum(basic_loss, 0.0)  # возвращаем ноль, если лосс отрицательный\n",
    "\n",
    "    return loss"
   ]
  },
  {
   "cell_type": "markdown",
   "id": "4de262b4",
   "metadata": {
    "ExecuteTime": {
     "end_time": "2021-10-28T19:19:05.615364Z",
     "start_time": "2021-10-28T19:19:05.612463Z"
    },
    "id": "4de262b4"
   },
   "source": [
    "Попробуйте другие лоссы, например, BPR Triplet loss"
   ]
  },
  {
   "cell_type": "markdown",
   "id": "85d618b6",
   "metadata": {
    "ExecuteTime": {
     "end_time": "2021-10-23T11:20:03.327838Z",
     "start_time": "2021-10-23T11:20:03.324389Z"
    },
    "id": "85d618b6"
   },
   "source": [
    "## Генератор и семплирование\n",
    "\n",
    "Сделаем простой генератор. Он будет брать рандромного юзера, и два разных айтема - хороший пример и плохой:\n",
    "- хорошим примером будет тот айтем, который был взят из датасета взаимодействий в соответствии с распределением просмотренных айтемов для этого юзера;\n",
    "- а плохим айтемом будет просто любой другой _случайный айтем_*"
   ]
  },
  {
   "cell_type": "code",
   "execution_count": 149,
   "id": "7829878b",
   "metadata": {
    "ExecuteTime": {
     "end_time": "2023-12-12T13:01:38.152687800Z",
     "start_time": "2023-12-12T13:01:38.141365300Z"
    },
    "id": "7829878b"
   },
   "outputs": [],
   "source": [
    "def generator(items, users, interactions, batch_size=1024):\n",
    "    while True:\n",
    "        uid_meta = []\n",
    "        uid_interaction = []\n",
    "        pos = []\n",
    "        neg = []\n",
    "        for _ in range(batch_size):\n",
    "            # берем рандомный uid\n",
    "            uid_i = randint(0, interactions.shape[0] - 1)\n",
    "            # id хорошего айтема\n",
    "            pos_i = np.random.choice(range(interactions.shape[1]), p=interactions[uid_i])\n",
    "            # id плохого айтема\n",
    "            neg_i = np.random.choice(range(interactions.shape[1]))\n",
    "            # фичи юзера\n",
    "            uid_meta.append(users.iloc[uid_i])\n",
    "            # вектор айтемов, с которыми юзер взаимодействовал\n",
    "            uid_interaction.append(interactions_vec[uid_i])\n",
    "            # фичи хорошего айтема\n",
    "            pos.append(items.iloc[pos_i])\n",
    "            # фичи плохого айтема\n",
    "            neg.append(items.iloc[neg_i])\n",
    "\n",
    "        yield [np.array(uid_meta), np.array(uid_interaction), np.array(pos), np.array(neg)], [\n",
    "            np.array(uid_meta), np.array(uid_interaction)]\n"
   ]
  },
  {
   "cell_type": "code",
   "execution_count": 150,
   "id": "af9d3c3b",
   "metadata": {
    "ExecuteTime": {
     "end_time": "2023-12-12T13:01:39.131136700Z",
     "start_time": "2023-12-12T13:01:38.148005700Z"
    },
    "colab": {
     "base_uri": "https://localhost:8080/"
    },
    "id": "af9d3c3b",
    "outputId": "1040f567-f64a-4ccb-91a8-48034694dfdc"
   },
   "outputs": [
    {
     "name": "stdout",
     "output_type": "stream",
     "text": [
      "вектор фичей юзера: (1024, 19)\n",
      "вектор взаимодействий юзера с айтемами: (1024, 6897)\n",
      "вектор 'хорошего' айтема: (1024, 8688)\n",
      "вектор 'плохого' айтема: (1024, 8688)\n",
      "\n",
      "вектор фичей юзера: (1024, 19)\n",
      "вектор взаимодействий юзера с айтемами: (1024, 6897)\n"
     ]
    }
   ],
   "source": [
    "# инициализируем генератор\n",
    "gen = generator(items=items_ohe_df.drop([\"item_id\"], axis=1),\n",
    "                users=users_ohe_df.drop([\"user_id\"], axis=1),\n",
    "                interactions=interactions_vec)\n",
    "\n",
    "ret = next(gen)\n",
    "\n",
    "print(f\"вектор фичей юзера: {ret[0][0].shape}\")\n",
    "print(f\"вектор взаимодействий юзера с айтемами: {ret[0][1].shape}\")\n",
    "print(f\"вектор 'хорошего' айтема: {ret[0][2].shape}\")\n",
    "print(f\"вектор 'плохого' айтема: {ret[0][3].shape}\")\n",
    "print()\n",
    "print(f\"вектор фичей юзера: {ret[1][0].shape}\")\n",
    "print(f\"вектор взаимодействий юзера с айтемами: {ret[1][1].shape}\")"
   ]
  },
  {
   "cell_type": "markdown",
   "id": "8bcc3e80",
   "metadata": {
    "id": "8bcc3e80"
   },
   "source": [
    "### Сделайте генаратор, который будет использовать информацию о качестве взаимодействия юзеров с айтемами для более репрезентативного сэмплирования"
   ]
  },
  {
   "cell_type": "code",
   "execution_count": 151,
   "id": "967b819f",
   "metadata": {
    "ExecuteTime": {
     "end_time": "2023-12-12T13:01:39.203692600Z",
     "start_time": "2023-12-12T13:01:39.131136700Z"
    },
    "colab": {
     "base_uri": "https://localhost:8080/"
    },
    "id": "967b819f",
    "outputId": "2f7a5885-dcb3-4ab8-80f8-57a21635595d"
   },
   "outputs": [
    {
     "name": "stdout",
     "output_type": "stream",
     "text": [
      "N_FACTORS: 128\n",
      "ITEM_MODEL_SHAPE: (8688,)\n",
      "USER_META_MODEL_SHAPE: (19,)\n",
      "USER_INTERACTION_MODEL_SHAPE: (6897,)\n"
     ]
    }
   ],
   "source": [
    "N_FACTORS = 128\n",
    "\n",
    "# в датасетах есть столбец user_id/item_id, помним, что он не является фичей для обучения!\n",
    "ITEM_MODEL_SHAPE = (items_ohe_df.drop([\"item_id\"], axis=1).shape[1],)\n",
    "USER_META_MODEL_SHAPE = (users_ohe_df.drop([\"user_id\"], axis=1).shape[1],)\n",
    "\n",
    "USER_INTERACTION_MODEL_SHAPE = (interactions_vec.shape[1],)\n",
    "\n",
    "print(f\"N_FACTORS: {N_FACTORS}\")\n",
    "print(f\"ITEM_MODEL_SHAPE: {ITEM_MODEL_SHAPE}\")\n",
    "print(f\"USER_META_MODEL_SHAPE: {USER_META_MODEL_SHAPE}\")\n",
    "print(f\"USER_INTERACTION_MODEL_SHAPE: {USER_INTERACTION_MODEL_SHAPE}\")"
   ]
  },
  {
   "cell_type": "code",
   "execution_count": 152,
   "id": "de649a01",
   "metadata": {
    "ExecuteTime": {
     "end_time": "2023-12-12T13:01:40.208892300Z",
     "start_time": "2023-12-12T13:01:39.208878500Z"
    },
    "id": "de649a01"
   },
   "outputs": [
    {
     "name": "stderr",
     "output_type": "stream",
     "text": [
      "2023-12-12 23:59:53.147958: I external/local_xla/xla/stream_executor/cuda/cuda_executor.cc:887] could not open file to read NUMA node: /sys/bus/pci/devices/0000:01:00.0/numa_node\n",
      "Your kernel may have been built without NUMA support.\n",
      "2023-12-12 23:59:53.166785: I external/local_xla/xla/stream_executor/cuda/cuda_executor.cc:887] could not open file to read NUMA node: /sys/bus/pci/devices/0000:01:00.0/numa_node\n",
      "Your kernel may have been built without NUMA support.\n",
      "2023-12-12 23:59:53.166856: I external/local_xla/xla/stream_executor/cuda/cuda_executor.cc:887] could not open file to read NUMA node: /sys/bus/pci/devices/0000:01:00.0/numa_node\n",
      "Your kernel may have been built without NUMA support.\n",
      "2023-12-12 23:59:53.168548: I external/local_xla/xla/stream_executor/cuda/cuda_executor.cc:887] could not open file to read NUMA node: /sys/bus/pci/devices/0000:01:00.0/numa_node\n",
      "Your kernel may have been built without NUMA support.\n",
      "2023-12-12 23:59:53.168617: I external/local_xla/xla/stream_executor/cuda/cuda_executor.cc:887] could not open file to read NUMA node: /sys/bus/pci/devices/0000:01:00.0/numa_node\n",
      "Your kernel may have been built without NUMA support.\n",
      "2023-12-12 23:59:53.168653: I external/local_xla/xla/stream_executor/cuda/cuda_executor.cc:887] could not open file to read NUMA node: /sys/bus/pci/devices/0000:01:00.0/numa_node\n",
      "Your kernel may have been built without NUMA support.\n",
      "2023-12-12 23:59:53.340783: I external/local_xla/xla/stream_executor/cuda/cuda_executor.cc:887] could not open file to read NUMA node: /sys/bus/pci/devices/0000:01:00.0/numa_node\n",
      "Your kernel may have been built without NUMA support.\n",
      "2023-12-12 23:59:53.340873: I external/local_xla/xla/stream_executor/cuda/cuda_executor.cc:887] could not open file to read NUMA node: /sys/bus/pci/devices/0000:01:00.0/numa_node\n",
      "Your kernel may have been built without NUMA support.\n",
      "2023-12-12 23:59:53.340881: I tensorflow/core/common_runtime/gpu/gpu_device.cc:2022] Could not identify NUMA node of platform GPU id 0, defaulting to 0.  Your kernel may not have been built with NUMA support.\n",
      "2023-12-12 23:59:53.340934: I external/local_xla/xla/stream_executor/cuda/cuda_executor.cc:887] could not open file to read NUMA node: /sys/bus/pci/devices/0000:01:00.0/numa_node\n",
      "Your kernel may have been built without NUMA support.\n",
      "2023-12-12 23:59:53.340953: I tensorflow/core/common_runtime/gpu/gpu_device.cc:1929] Created device /job:localhost/replica:0/task:0/device:GPU:0 with 5595 MB memory:  -> device: 0, name: NVIDIA GeForce RTX 3070 Laptop GPU, pci bus id: 0000:01:00.0, compute capability: 8.6\n"
     ]
    }
   ],
   "source": [
    "def item_model(n_factors=N_FACTORS):\n",
    "    # входной слой\n",
    "    inp = keras.layers.Input(shape=ITEM_MODEL_SHAPE)\n",
    "\n",
    "    # полносвязный слой\n",
    "    layer_1 = keras.layers.Dense(N_FACTORS, activation='elu', use_bias=False,\n",
    "                                 kernel_regularizer=keras.regularizers.l2(1e-6),\n",
    "                                 activity_regularizer=keras.regularizers.l2(l2=1e-6))(inp)\n",
    "\n",
    "    # делаем residual connection - складываем два слоя, \n",
    "    # чтобы градиенты не затухали во время обучения\n",
    "    layer_2 = keras.layers.Dense(N_FACTORS, activation='elu', use_bias=False,\n",
    "                                 kernel_regularizer=keras.regularizers.l2(1e-6),\n",
    "                                 activity_regularizer=keras.regularizers.l2(l2=1e-6))(layer_1)\n",
    "\n",
    "    add = keras.layers.Add()([layer_1, layer_2])\n",
    "\n",
    "    # выходной слой\n",
    "    out = keras.layers.Dense(N_FACTORS, activation='linear', use_bias=False,\n",
    "                             kernel_regularizer=keras.regularizers.l2(1e-6),\n",
    "                             activity_regularizer=keras.regularizers.l2(l2=1e-6))(add)\n",
    "\n",
    "    return keras.models.Model(inp, out)\n",
    "\n",
    "\n",
    "def user_model(n_factors=N_FACTORS):\n",
    "    # входной слой для вектора фичей юзера (из users_ohe_df)\n",
    "    inp_meta = keras.layers.Input(shape=USER_META_MODEL_SHAPE)\n",
    "    # входной слой для вектора просмотров (из iteractions_vec)\n",
    "    inp_interaction = keras.layers.Input(shape=USER_INTERACTION_MODEL_SHAPE)\n",
    "\n",
    "    # полносвязный слой\n",
    "    layer_1_meta = keras.layers.Dense(N_FACTORS, activation='elu', use_bias=False,\n",
    "                                      kernel_regularizer=keras.regularizers.l2(1e-6),\n",
    "                                      activity_regularizer=keras.regularizers.l2(l2=1e-6))(\n",
    "        inp_meta)\n",
    "\n",
    "    layer_1_interaction = keras.layers.Dense(N_FACTORS, activation='elu', use_bias=False,\n",
    "                                             kernel_regularizer=keras.regularizers.l2(1e-6),\n",
    "                                             activity_regularizer=keras.regularizers.l2(l2=1e-6))(\n",
    "        inp_interaction)\n",
    "\n",
    "    # делаем residual connection - складываем два слоя,\n",
    "    # чтобы градиенты не затухали во время обучения\n",
    "    layer_2_meta = keras.layers.Dense(N_FACTORS, activation='elu', use_bias=False,\n",
    "                                      kernel_regularizer=keras.regularizers.l2(1e-6),\n",
    "                                      activity_regularizer=keras.regularizers.l2(l2=1e-6))(\n",
    "        layer_1_meta)\n",
    "\n",
    "    add = keras.layers.Add()([layer_1_meta, layer_2_meta])\n",
    "\n",
    "    # конкатенируем вектор фичей с вектором просмотров\n",
    "    concat_meta_interaction = keras.layers.Concatenate()([add, layer_1_interaction])\n",
    "\n",
    "    # выходной слой\n",
    "    out = keras.layers.Dense(N_FACTORS, activation='linear', use_bias=False,\n",
    "                             kernel_regularizer=keras.regularizers.l2(1e-6),\n",
    "                             activity_regularizer=keras.regularizers.l2(l2=1e-6))(\n",
    "        concat_meta_interaction)\n",
    "\n",
    "    return keras.models.Model([inp_meta, inp_interaction], out)\n",
    "\n",
    "\n",
    "# инициализируем модели юзера и айтема\n",
    "i2v = item_model()\n",
    "u2v = user_model()\n",
    "\n",
    "# вход для вектора фичей юзера (из users_ohe_df)\n",
    "ancor_meta_in = keras.layers.Input(shape=USER_META_MODEL_SHAPE)\n",
    "# вход для вектора просмотра юзера (из interactions_vec)\n",
    "ancor_interaction_in = keras.layers.Input(shape=USER_INTERACTION_MODEL_SHAPE)\n",
    "\n",
    "# вход для вектора \"хорошего\" айтема\n",
    "pos_in = keras.layers.Input(shape=ITEM_MODEL_SHAPE)\n",
    "# вход для вектора \"плохого\" айтема\n",
    "neg_in = keras.layers.Input(shape=ITEM_MODEL_SHAPE)\n",
    "\n",
    "# получаем вектор юзера\n",
    "ancor = u2v([ancor_meta_in, ancor_interaction_in])\n",
    "# получаем вектор \"хорошего\" айтема\n",
    "pos = i2v(pos_in)\n",
    "# получаем вектор \"плохого\" айтема\n",
    "neg = i2v(neg_in)\n",
    "\n",
    "# конкатенируем полученные векторы\n",
    "res = keras.layers.Concatenate(name=\"concat_ancor_pos_neg\")([ancor, pos, neg])\n",
    "\n",
    "# собираем модель\n",
    "model = keras.models.Model([ancor_meta_in, ancor_interaction_in, pos_in, neg_in], res)"
   ]
  },
  {
   "cell_type": "code",
   "execution_count": 153,
   "id": "e912d920",
   "metadata": {
    "ExecuteTime": {
     "end_time": "2023-12-12T13:01:40.216904100Z",
     "start_time": "2023-12-12T13:01:40.211920300Z"
    },
    "id": "e912d920"
   },
   "outputs": [],
   "source": [
    "model_name = 'recsys_resnet_linear'\n",
    "\n",
    "# логируем процесс обучения в тензорборд\n",
    "t_board = keras.callbacks.TensorBoard(log_dir=f'runs/{model_name}')\n",
    "\n",
    "# уменьшаем learning_rate, если лосс долго не уменьшается (в течение двух эпох)\n",
    "decay = keras.callbacks.ReduceLROnPlateau(monitor='loss', patience=2, factor=0.8, verbose=1)\n",
    "\n",
    "# сохраняем модель после каждой эпохи, если лосс уменьшился\n",
    "check = keras.callbacks.ModelCheckpoint(filepath=model_name + '/epoch{epoch}-{loss:.2f}.h5',\n",
    "                                        monitor=\"loss\")\n"
   ]
  },
  {
   "cell_type": "code",
   "execution_count": 154,
   "id": "f95049f6",
   "metadata": {
    "ExecuteTime": {
     "end_time": "2023-12-12T13:01:40.239827600Z",
     "start_time": "2023-12-12T13:01:40.215903100Z"
    },
    "id": "f95049f6"
   },
   "outputs": [
    {
     "name": "stderr",
     "output_type": "stream",
     "text": [
      "WARNING:absl:`lr` is deprecated in Keras optimizer, please use `learning_rate` or use the legacy optimizer, e.g.,tf.keras.optimizers.legacy.Adam.\n"
     ]
    }
   ],
   "source": [
    "# компилируем модель, используем оптимайзер Adam и triplet loss\n",
    "opt = keras.optimizers.Adam(lr=0.001)\n",
    "model.compile(loss=triplet_loss, optimizer=opt)"
   ]
  },
  {
   "cell_type": "code",
   "execution_count": 155,
   "id": "fb9382d0",
   "metadata": {
    "ExecuteTime": {
     "end_time": "2023-12-12T13:01:40.299235Z",
     "start_time": "2023-12-12T13:01:40.242841100Z"
    },
    "colab": {
     "base_uri": "https://localhost:8080/"
    },
    "id": "fb9382d0",
    "outputId": "2eca9a17-1544-4e27-a483-b86d11391767"
   },
   "outputs": [
    {
     "name": "stdout",
     "output_type": "stream",
     "text": [
      "Model: \"model_3\"\n",
      "__________________________________________________________________________________________________\n",
      " Layer (type)                Output Shape                 Param #   Connected to                  \n",
      "==================================================================================================\n",
      " input_8 (InputLayer)        [(None, 8688)]               0         []                            \n",
      "                                                                                                  \n",
      " dense_7 (Dense)             (None, 128)                  1112064   ['input_8[0][0]']             \n",
      "                                                                                                  \n",
      " dense_8 (Dense)             (None, 128)                  16384     ['dense_7[0][0]']             \n",
      "                                                                                                  \n",
      " add_2 (Add)                 (None, 128)                  0         ['dense_7[0][0]',             \n",
      "                                                                     'dense_8[0][0]']             \n",
      "                                                                                                  \n",
      " dense_9 (Dense)             (None, 128)                  16384     ['add_2[0][0]']               \n",
      "                                                                                                  \n",
      "==================================================================================================\n",
      "Total params: 1144832 (4.37 MB)\n",
      "Trainable params: 1144832 (4.37 MB)\n",
      "Non-trainable params: 0 (0.00 Byte)\n",
      "__________________________________________________________________________________________________\n"
     ]
    }
   ],
   "source": [
    "# модель айтема\n",
    "item_model().summary()"
   ]
  },
  {
   "cell_type": "code",
   "execution_count": 156,
   "id": "286149d1",
   "metadata": {
    "ExecuteTime": {
     "end_time": "2023-12-12T13:01:40.465281300Z",
     "start_time": "2023-12-12T13:01:40.291179400Z"
    },
    "colab": {
     "base_uri": "https://localhost:8080/"
    },
    "id": "286149d1",
    "outputId": "4284ba09-05ef-4963-c637-67e919701d19"
   },
   "outputs": [
    {
     "name": "stdout",
     "output_type": "stream",
     "text": [
      "Model: \"model_4\"\n",
      "__________________________________________________________________________________________________\n",
      " Layer (type)                Output Shape                 Param #   Connected to                  \n",
      "==================================================================================================\n",
      " input_9 (InputLayer)        [(None, 19)]                 0         []                            \n",
      "                                                                                                  \n",
      " dense_10 (Dense)            (None, 128)                  2432      ['input_9[0][0]']             \n",
      "                                                                                                  \n",
      " dense_12 (Dense)            (None, 128)                  16384     ['dense_10[0][0]']            \n",
      "                                                                                                  \n",
      " input_10 (InputLayer)       [(None, 6897)]               0         []                            \n",
      "                                                                                                  \n",
      " add_3 (Add)                 (None, 128)                  0         ['dense_10[0][0]',            \n",
      "                                                                     'dense_12[0][0]']            \n",
      "                                                                                                  \n",
      " dense_11 (Dense)            (None, 128)                  882816    ['input_10[0][0]']            \n",
      "                                                                                                  \n",
      " concatenate_1 (Concatenate  (None, 256)                  0         ['add_3[0][0]',               \n",
      " )                                                                   'dense_11[0][0]']            \n",
      "                                                                                                  \n",
      " dense_13 (Dense)            (None, 128)                  32768     ['concatenate_1[0][0]']       \n",
      "                                                                                                  \n",
      "==================================================================================================\n",
      "Total params: 934400 (3.56 MB)\n",
      "Trainable params: 934400 (3.56 MB)\n",
      "Non-trainable params: 0 (0.00 Byte)\n",
      "__________________________________________________________________________________________________\n"
     ]
    }
   ],
   "source": [
    "# модель юзера\n",
    "user_model().summary()"
   ]
  },
  {
   "cell_type": "code",
   "execution_count": 157,
   "id": "d9f25a3f",
   "metadata": {
    "ExecuteTime": {
     "end_time": "2023-12-12T13:01:40.466281200Z",
     "start_time": "2023-12-12T13:01:40.350104300Z"
    },
    "colab": {
     "base_uri": "https://localhost:8080/"
    },
    "id": "d9f25a3f",
    "outputId": "6f9a3700-4420-4345-8331-82f7207b566b"
   },
   "outputs": [
    {
     "name": "stdout",
     "output_type": "stream",
     "text": [
      "Model: \"model_2\"\n",
      "__________________________________________________________________________________________________\n",
      " Layer (type)                Output Shape                 Param #   Connected to                  \n",
      "==================================================================================================\n",
      " input_4 (InputLayer)        [(None, 19)]                 0         []                            \n",
      "                                                                                                  \n",
      " input_5 (InputLayer)        [(None, 6897)]               0         []                            \n",
      "                                                                                                  \n",
      " input_6 (InputLayer)        [(None, 8688)]               0         []                            \n",
      "                                                                                                  \n",
      " input_7 (InputLayer)        [(None, 8688)]               0         []                            \n",
      "                                                                                                  \n",
      " model_1 (Functional)        (None, 128)                  934400    ['input_4[0][0]',             \n",
      "                                                                     'input_5[0][0]']             \n",
      "                                                                                                  \n",
      " model (Functional)          (None, 128)                  1144832   ['input_6[0][0]',             \n",
      "                                                                     'input_7[0][0]']             \n",
      "                                                                                                  \n",
      " concat_ancor_pos_neg (Conc  (None, 384)                  0         ['model_1[0][0]',             \n",
      " atenate)                                                            'model[0][0]',               \n",
      "                                                                     'model[1][0]']               \n",
      "                                                                                                  \n",
      "==================================================================================================\n",
      "Total params: 2079232 (7.93 MB)\n",
      "Trainable params: 2079232 (7.93 MB)\n",
      "Non-trainable params: 0 (0.00 Byte)\n",
      "__________________________________________________________________________________________________\n"
     ]
    }
   ],
   "source": [
    "# общая модель\n",
    "model.summary()"
   ]
  },
  {
   "cell_type": "code",
   "execution_count": 158,
   "id": "99d50830",
   "metadata": {
    "ExecuteTime": {
     "end_time": "2023-12-12T13:05:24.789356300Z",
     "start_time": "2023-12-12T13:01:40.370294200Z"
    },
    "colab": {
     "base_uri": "https://localhost:8080/"
    },
    "id": "99d50830",
    "outputId": "cee25813-2173-460f-e6f2-024d75d1db08"
   },
   "outputs": [
    {
     "name": "stdout",
     "output_type": "stream",
     "text": [
      "Epoch 1/30\n"
     ]
    },
    {
     "name": "stderr",
     "output_type": "stream",
     "text": [
      "2023-12-13 00:00:02.422001: I external/local_xla/xla/service/service.cc:168] XLA service 0x7fe683489400 initialized for platform CUDA (this does not guarantee that XLA will be used). Devices:\n",
      "2023-12-13 00:00:02.422038: I external/local_xla/xla/service/service.cc:176]   StreamExecutor device (0): NVIDIA GeForce RTX 3070 Laptop GPU, Compute Capability 8.6\n",
      "2023-12-13 00:00:02.433012: I tensorflow/compiler/mlir/tensorflow/utils/dump_mlir_util.cc:269] disabling MLIR crash reproducer, set env var `MLIR_CRASH_REPRODUCER_DIRECTORY` to enable.\n",
      "2023-12-13 00:00:02.456793: I external/local_xla/xla/stream_executor/cuda/cuda_dnn.cc:454] Loaded cuDNN version 8904\n",
      "WARNING: All log messages before absl::InitializeLog() is called are written to STDERR\n",
      "I0000 00:00:1702414802.524505   29368 device_compiler.h:186] Compiled cluster using XLA!  This line is logged at most once for the lifetime of the process.\n"
     ]
    },
    {
     "name": "stdout",
     "output_type": "stream",
     "text": [
      "100/100 [==============================] - 46s 445ms/step - loss: 0.3054 - lr: 0.0010\n",
      "Epoch 2/30\n",
      "100/100 [==============================] - 45s 452ms/step - loss: 0.2172 - lr: 0.0010\n",
      "Epoch 3/30\n",
      "100/100 [==============================] - 46s 467ms/step - loss: 0.1989 - lr: 0.0010\n",
      "Epoch 4/30\n",
      "100/100 [==============================] - 46s 467ms/step - loss: 0.1818 - lr: 0.0010\n",
      "Epoch 5/30\n",
      "100/100 [==============================] - 46s 460ms/step - loss: 0.1724 - lr: 0.0010\n",
      "Epoch 6/30\n",
      "100/100 [==============================] - 45s 455ms/step - loss: 0.1733 - lr: 0.0010\n",
      "Epoch 7/30\n",
      "100/100 [==============================] - 45s 450ms/step - loss: 0.1632 - lr: 0.0010\n",
      "Epoch 8/30\n",
      "100/100 [==============================] - 45s 450ms/step - loss: 0.1604 - lr: 0.0010\n",
      "Epoch 9/30\n",
      "100/100 [==============================] - 45s 451ms/step - loss: 0.1580 - lr: 0.0010\n",
      "Epoch 10/30\n",
      "100/100 [==============================] - 44s 448ms/step - loss: 0.1497 - lr: 0.0010\n",
      "Epoch 11/30\n",
      "100/100 [==============================] - 44s 449ms/step - loss: 0.1484 - lr: 0.0010\n",
      "Epoch 12/30\n",
      "100/100 [==============================] - 44s 449ms/step - loss: 0.1488 - lr: 0.0010\n",
      "Epoch 13/30\n",
      "100/100 [==============================] - 45s 451ms/step - loss: 0.1365 - lr: 0.0010\n",
      "Epoch 14/30\n",
      "100/100 [==============================] - 46s 465ms/step - loss: 0.1400 - lr: 0.0010\n",
      "Epoch 15/30\n",
      "100/100 [==============================] - ETA: 0s - loss: 0.1400\n",
      "Epoch 15: ReduceLROnPlateau reducing learning rate to 0.000800000037997961.\n",
      "100/100 [==============================] - 46s 468ms/step - loss: 0.1400 - lr: 0.0010\n",
      "Epoch 16/30\n",
      "100/100 [==============================] - 45s 451ms/step - loss: 0.1331 - lr: 8.0000e-04\n",
      "Epoch 17/30\n",
      "100/100 [==============================] - 45s 449ms/step - loss: 0.1273 - lr: 8.0000e-04\n",
      "Epoch 18/30\n",
      "100/100 [==============================] - 44s 449ms/step - loss: 0.1285 - lr: 8.0000e-04\n",
      "Epoch 19/30\n",
      "100/100 [==============================] - ETA: 0s - loss: 0.1289\n",
      "Epoch 19: ReduceLROnPlateau reducing learning rate to 0.0006400000303983689.\n",
      "100/100 [==============================] - 45s 452ms/step - loss: 0.1289 - lr: 8.0000e-04\n",
      "Epoch 20/30\n",
      "100/100 [==============================] - 44s 448ms/step - loss: 0.1180 - lr: 6.4000e-04\n",
      "Epoch 21/30\n",
      "100/100 [==============================] - 44s 448ms/step - loss: 0.1182 - lr: 6.4000e-04\n",
      "Epoch 22/30\n",
      "100/100 [==============================] - ETA: 0s - loss: 0.1235\n",
      "Epoch 22: ReduceLROnPlateau reducing learning rate to 0.0005120000336319208.\n",
      "100/100 [==============================] - 44s 448ms/step - loss: 0.1235 - lr: 6.4000e-04\n",
      "Epoch 23/30\n",
      "100/100 [==============================] - 44s 449ms/step - loss: 0.1092 - lr: 5.1200e-04\n",
      "Epoch 24/30\n",
      "100/100 [==============================] - 45s 451ms/step - loss: 0.1172 - lr: 5.1200e-04\n",
      "Epoch 25/30\n",
      "100/100 [==============================] - ETA: 0s - loss: 0.1105\n",
      "Epoch 25: ReduceLROnPlateau reducing learning rate to 0.00040960004553198815.\n",
      "100/100 [==============================] - 45s 450ms/step - loss: 0.1105 - lr: 5.1200e-04\n",
      "Epoch 26/30\n",
      "100/100 [==============================] - 44s 448ms/step - loss: 0.1131 - lr: 4.0960e-04\n",
      "Epoch 27/30\n",
      "100/100 [==============================] - ETA: 0s - loss: 0.1117\n",
      "Epoch 27: ReduceLROnPlateau reducing learning rate to 0.00032768002711236477.\n",
      "100/100 [==============================] - 45s 450ms/step - loss: 0.1117 - lr: 4.0960e-04\n",
      "Epoch 28/30\n",
      "100/100 [==============================] - 45s 450ms/step - loss: 0.1056 - lr: 3.2768e-04\n",
      "Epoch 29/30\n",
      "100/100 [==============================] - 2771s 28s/step - loss: 0.1060 - lr: 3.2768e-04\n",
      "Epoch 30/30\n",
      "100/100 [==============================] - 49s 490ms/step - loss: 0.1041 - lr: 3.2768e-04\n"
     ]
    },
    {
     "data": {
      "text/plain": [
       "<keras.src.callbacks.History at 0x7fe958d05480>"
      ]
     },
     "execution_count": 158,
     "metadata": {},
     "output_type": "execute_result"
    }
   ],
   "source": [
    "# начинаем обучение, не забывая дропнуть столбцы item_id и user_id \n",
    "# из датафреймов при инициализации генератора.\n",
    "\n",
    "# batch_size можно (и лучше) поставить побольше, если вы не органичены в ресурсах\n",
    "\n",
    "model.fit(generator(items=items_ohe_df.drop([\"item_id\"], axis=1),\n",
    "                    users=users_ohe_df.drop([\"user_id\"], axis=1),\n",
    "                    interactions=interactions_vec,\n",
    "                    batch_size=64),\n",
    "          steps_per_epoch=100,\n",
    "          epochs=30,\n",
    "          initial_epoch=0,\n",
    "          callbacks=[decay, t_board, check]\n",
    "          )"
   ]
  },
  {
   "cell_type": "code",
   "execution_count": 159,
   "id": "a1de2153",
   "metadata": {},
   "outputs": [],
   "source": [
    "with open('dssm_model.pkl', 'wb') as f:\n",
    "    pickle.dump(model, f)"
   ]
  },
  {
   "cell_type": "code",
   "execution_count": 172,
   "id": "6c213e07",
   "metadata": {},
   "outputs": [],
   "source": [
    "items_ohe_df.to_csv('items_ohe_df.csv', index=False)  "
   ]
  },
  {
   "cell_type": "code",
   "execution_count": 160,
   "id": "94d23f62",
   "metadata": {
    "ExecuteTime": {
     "end_time": "2023-12-12T13:09:04.747719100Z",
     "start_time": "2023-12-12T13:09:04.742072900Z"
    },
    "colab": {
     "base_uri": "https://localhost:8080/"
    },
    "id": "94d23f62",
    "outputId": "4a500ea7-fa38-4455-a51a-2bd0113fa2f2"
   },
   "outputs": [],
   "source": [
    "# берем рандомного юзера\n",
    "rand_uid = np.random.choice(list(users_ohe_df.index))\n",
    "\n",
    "# получаем фичи юзера и вектор его просмотров айтемов\n",
    "user_meta_feats = users_ohe_df.drop([\"user_id\"], axis=1).iloc[rand_uid]\n",
    "user_interaction_vec = interactions_vec[rand_uid]"
   ]
  },
  {
   "cell_type": "code",
   "execution_count": 161,
   "id": "ef29a3974ccd1af1",
   "metadata": {
    "ExecuteTime": {
     "end_time": "2023-12-12T13:09:04.899602300Z",
     "start_time": "2023-12-12T13:09:04.746790800Z"
    },
    "collapsed": false
   },
   "outputs": [],
   "source": [
    "# берем рандомный айтем\n",
    "rand_iid = np.random.choice(list(items_ohe_df.index))\n",
    "# получаем фичи айтема\n",
    "item_feats = items_ohe_df.drop([\"item_id\"], axis=1).iloc[int(rand_iid)]"
   ]
  },
  {
   "cell_type": "code",
   "execution_count": 162,
   "id": "ebda948b15114034",
   "metadata": {
    "ExecuteTime": {
     "end_time": "2023-12-12T13:09:05.045876300Z",
     "start_time": "2023-12-12T13:09:04.910558100Z"
    },
    "collapsed": false
   },
   "outputs": [
    {
     "name": "stdout",
     "output_type": "stream",
     "text": [
      "1/1 [==============================] - 0s 78ms/step\n",
      "1/1 [==============================] - 0s 37ms/step\n"
     ]
    },
    {
     "data": {
      "text/plain": [
       "array([[1.0587355]], dtype=float32)"
      ]
     },
     "execution_count": 162,
     "metadata": {},
     "output_type": "execute_result"
    }
   ],
   "source": [
    "# получаем вектор юзера\n",
    "user_vec = u2v.predict([np.array(user_meta_feats).reshape(1, -1),\n",
    "                        np.array(user_interaction_vec).reshape(1, -1)])\n",
    "\n",
    "# и вектор айтема\n",
    "item_vec = i2v.predict(np.array(item_feats).reshape(1, -1))\n",
    "\n",
    "# считаем расстояние между вектором юзера и вектором айтема\n",
    "from sklearn.metrics.pairwise import euclidean_distances as ED\n",
    "\n",
    "ED(user_vec, item_vec)"
   ]
  },
  {
   "cell_type": "code",
   "execution_count": 173,
   "id": "d537d3e8",
   "metadata": {
    "ExecuteTime": {
     "start_time": "2023-12-12T13:09:05.040331700Z"
    },
    "colab": {
     "base_uri": "https://localhost:8080/"
    },
    "id": "d537d3e8",
    "outputId": "6bdce370-c348-4f0b-cd4f-3cbb0ec3d019"
   },
   "outputs": [
    {
     "name": "stdout",
     "output_type": "stream",
     "text": [
      "216/216 [==============================] - 0s 1ms/step\n"
     ]
    }
   ],
   "source": [
    "# получаем фичи всех айтемов\n",
    "items_feats = items_ohe_df.drop([\"item_id\"], axis=1).to_numpy()\n",
    "# получаем векторы всех айтемов\n",
    "items_vecs = i2v.predict(items_feats)\n",
    "\n",
    "# считаем расстояния\n",
    "dists = ED(user_vec, items_vecs)"
   ]
  },
  {
   "cell_type": "code",
   "execution_count": 175,
   "id": "ddf2cae6",
   "metadata": {},
   "outputs": [
    {
     "data": {
      "text/plain": [
       "(1, 6901)"
      ]
     },
     "execution_count": 175,
     "metadata": {},
     "output_type": "execute_result"
    }
   ],
   "source": [
    "dists.shape"
   ]
  },
  {
   "cell_type": "code",
   "execution_count": 164,
   "id": "583bbdc8",
   "metadata": {},
   "outputs": [],
   "source": [
    "def recommend(user_id, items_vecs, topn=10):\n",
    "    uid = user_id_to_uid[user_id]\n",
    "    user_meta_feats = users_ohe_df.drop([\"user_id\"], axis=1).iloc[uid]\n",
    "    user_interaction_vec = interactions_vec[uid]\n",
    "    user_vec = u2v.predict(\n",
    "        [np.array(user_meta_feats).reshape(1, -1), np.array(user_interaction_vec).reshape(1, -1)],\n",
    "        verbose=False,\n",
    "    )\n",
    "    dists = ED(user_vec, items_vecs)\n",
    "    topn_iids = np.argsort(dists, axis=1)[:, :topn]\n",
    "    topn_iids_item = [iid_to_item_id[iid] for iid in topn_iids.reshape(-1)]\n",
    "    return topn_iids_item"
   ]
  },
  {
   "cell_type": "code",
   "execution_count": 167,
   "id": "6dd2b1e2",
   "metadata": {},
   "outputs": [
    {
     "data": {
      "text/plain": [
       "0           176549\n",
       "1           699317\n",
       "6          1016458\n",
       "7           884009\n",
       "14            5324\n",
       "            ...   \n",
       "5476218     840031\n",
       "5476224     663351\n",
       "5476226     435089\n",
       "5476239     610017\n",
       "5476249     384202\n",
       "Name: user_id, Length: 1463641, dtype: int64"
      ]
     },
     "execution_count": 167,
     "metadata": {},
     "output_type": "execute_result"
    }
   ],
   "source": [
    "interactions_df.user_id"
   ]
  },
  {
   "cell_type": "code",
   "execution_count": 181,
   "id": "37cb6d5e",
   "metadata": {},
   "outputs": [
    {
     "name": "stderr",
     "output_type": "stream",
     "text": [
      "100%|██████████| 65974/65974 [1:24:47<00:00, 12.97it/s]\n"
     ]
    }
   ],
   "source": [
    "recs = {}\n",
    "\n",
    "\n",
    "for user_id in tqdm(set(common_users)):\n",
    "    user_recs = recommend(user_id, items_vecs)\n",
    "    recs.update({user_id: user_recs})"
   ]
  },
  {
   "cell_type": "code",
   "execution_count": 182,
   "id": "2687a1d3",
   "metadata": {},
   "outputs": [],
   "source": [
    "with open('../saved_models/dssm_offline.pkl', 'wb') as f:\n",
    "    pickle.dump(recs, f)"
   ]
  }
 ],
 "metadata": {
  "colab": {
   "collapsed_sections": [
    "8bcc3e80",
    "8c284190",
    "fcdd65bb",
    "a86927cb"
   ],
   "provenance": []
  },
  "kernelspec": {
   "display_name": "Python 3 (ipykernel)",
   "language": "python",
   "name": "python3"
  },
  "language_info": {
   "codemirror_mode": {
    "name": "ipython",
    "version": 3
   },
   "file_extension": ".py",
   "mimetype": "text/x-python",
   "name": "python",
   "nbconvert_exporter": "python",
   "pygments_lexer": "ipython3",
   "version": "3.10.12"
  }
 },
 "nbformat": 4,
 "nbformat_minor": 5
}
