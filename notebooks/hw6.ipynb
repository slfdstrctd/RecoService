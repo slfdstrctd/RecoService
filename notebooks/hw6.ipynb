{
 "cells": [
  {
   "cell_type": "code",
   "execution_count": 1,
   "metadata": {
    "ExecuteTime": {
     "end_time": "2023-12-20T11:52:02.253752800Z",
     "start_time": "2023-12-20T11:51:57.955750900Z"
    }
   },
   "outputs": [],
   "source": [
    "import warnings\n",
    "\n",
    "warnings.simplefilter('ignore')\n",
    "\n",
    "import numpy as np\n",
    "import pandas as pd\n",
    "import shap\n",
    "\n",
    "from lightgbm import LGBMRanker, LGBMClassifier\n",
    "from rectools.metrics import calc_metrics, NDCG, MAP, Precision, Recall, MeanInvUserFreq\n",
    "from rectools import Columns\n",
    "from sklearn.metrics import roc_auc_score\n",
    "from sklearn.model_selection import train_test_split\n",
    "from typing import Any, Dict, Tuple\n",
    "\n",
    "from tools import avg_user_metric"
   ]
  },
  {
   "cell_type": "markdown",
   "metadata": {},
   "source": [
    "### Подготовка данных"
   ]
  },
  {
   "cell_type": "code",
   "execution_count": 2,
   "metadata": {
    "ExecuteTime": {
     "end_time": "2023-12-20T11:52:04.395697800Z",
     "start_time": "2023-12-20T11:52:02.256745Z"
    }
   },
   "outputs": [],
   "source": [
    "interactions = pd.read_csv('../data/interactions.csv')\n",
    "items = pd.read_csv('../data/items.csv')\n",
    "users = pd.read_csv('../data/users.csv')"
   ]
  },
  {
   "cell_type": "code",
   "execution_count": 3,
   "metadata": {
    "ExecuteTime": {
     "end_time": "2023-12-20T11:52:04.413184Z",
     "start_time": "2023-12-20T11:52:04.403078900Z"
    }
   },
   "outputs": [
    {
     "name": "stdout",
     "output_type": "stream",
     "text": [
      "(5476251, 5)\n"
     ]
    },
    {
     "data": {
      "text/html": [
       "<div>\n",
       "<style scoped>\n",
       "    .dataframe tbody tr th:only-of-type {\n",
       "        vertical-align: middle;\n",
       "    }\n",
       "\n",
       "    .dataframe tbody tr th {\n",
       "        vertical-align: top;\n",
       "    }\n",
       "\n",
       "    .dataframe thead th {\n",
       "        text-align: right;\n",
       "    }\n",
       "</style>\n",
       "<table border=\"1\" class=\"dataframe\">\n",
       "  <thead>\n",
       "    <tr style=\"text-align: right;\">\n",
       "      <th></th>\n",
       "      <th>user_id</th>\n",
       "      <th>item_id</th>\n",
       "      <th>last_watch_dt</th>\n",
       "      <th>total_dur</th>\n",
       "      <th>watched_pct</th>\n",
       "    </tr>\n",
       "  </thead>\n",
       "  <tbody>\n",
       "    <tr>\n",
       "      <th>0</th>\n",
       "      <td>176549</td>\n",
       "      <td>9506</td>\n",
       "      <td>2021-05-11</td>\n",
       "      <td>4250</td>\n",
       "      <td>72.0</td>\n",
       "    </tr>\n",
       "    <tr>\n",
       "      <th>1</th>\n",
       "      <td>699317</td>\n",
       "      <td>1659</td>\n",
       "      <td>2021-05-29</td>\n",
       "      <td>8317</td>\n",
       "      <td>100.0</td>\n",
       "    </tr>\n",
       "    <tr>\n",
       "      <th>2</th>\n",
       "      <td>656683</td>\n",
       "      <td>7107</td>\n",
       "      <td>2021-05-09</td>\n",
       "      <td>10</td>\n",
       "      <td>0.0</td>\n",
       "    </tr>\n",
       "  </tbody>\n",
       "</table>\n",
       "</div>"
      ],
      "text/plain": [
       "   user_id  item_id last_watch_dt  total_dur  watched_pct\n",
       "0   176549     9506    2021-05-11       4250         72.0\n",
       "1   699317     1659    2021-05-29       8317        100.0\n",
       "2   656683     7107    2021-05-09         10          0.0"
      ]
     },
     "execution_count": 3,
     "metadata": {},
     "output_type": "execute_result"
    }
   ],
   "source": [
    "print(interactions.shape)\n",
    "interactions.head(3)"
   ]
  },
  {
   "cell_type": "code",
   "execution_count": 4,
   "metadata": {
    "ExecuteTime": {
     "end_time": "2023-12-20T11:52:04.964847700Z",
     "start_time": "2023-12-20T11:52:04.412187900Z"
    }
   },
   "outputs": [
    {
     "data": {
      "text/html": [
       "<div>\n",
       "<style scoped>\n",
       "    .dataframe tbody tr th:only-of-type {\n",
       "        vertical-align: middle;\n",
       "    }\n",
       "\n",
       "    .dataframe tbody tr th {\n",
       "        vertical-align: top;\n",
       "    }\n",
       "\n",
       "    .dataframe thead th {\n",
       "        text-align: right;\n",
       "    }\n",
       "</style>\n",
       "<table border=\"1\" class=\"dataframe\">\n",
       "  <thead>\n",
       "    <tr style=\"text-align: right;\">\n",
       "      <th></th>\n",
       "      <th>user_id</th>\n",
       "      <th>item_id</th>\n",
       "      <th>datetime</th>\n",
       "      <th>total_dur</th>\n",
       "      <th>weight</th>\n",
       "    </tr>\n",
       "  </thead>\n",
       "  <tbody>\n",
       "    <tr>\n",
       "      <th>0</th>\n",
       "      <td>176549</td>\n",
       "      <td>9506</td>\n",
       "      <td>2021-05-11</td>\n",
       "      <td>4250</td>\n",
       "      <td>72.0</td>\n",
       "    </tr>\n",
       "    <tr>\n",
       "      <th>1</th>\n",
       "      <td>699317</td>\n",
       "      <td>1659</td>\n",
       "      <td>2021-05-29</td>\n",
       "      <td>8317</td>\n",
       "      <td>100.0</td>\n",
       "    </tr>\n",
       "    <tr>\n",
       "      <th>2</th>\n",
       "      <td>656683</td>\n",
       "      <td>7107</td>\n",
       "      <td>2021-05-09</td>\n",
       "      <td>10</td>\n",
       "      <td>0.0</td>\n",
       "    </tr>\n",
       "    <tr>\n",
       "      <th>3</th>\n",
       "      <td>864613</td>\n",
       "      <td>7638</td>\n",
       "      <td>2021-07-05</td>\n",
       "      <td>14483</td>\n",
       "      <td>100.0</td>\n",
       "    </tr>\n",
       "    <tr>\n",
       "      <th>4</th>\n",
       "      <td>964868</td>\n",
       "      <td>9506</td>\n",
       "      <td>2021-04-30</td>\n",
       "      <td>6725</td>\n",
       "      <td>100.0</td>\n",
       "    </tr>\n",
       "    <tr>\n",
       "      <th>5</th>\n",
       "      <td>1032142</td>\n",
       "      <td>6686</td>\n",
       "      <td>2021-05-13</td>\n",
       "      <td>11286</td>\n",
       "      <td>100.0</td>\n",
       "    </tr>\n",
       "    <tr>\n",
       "      <th>6</th>\n",
       "      <td>1016458</td>\n",
       "      <td>354</td>\n",
       "      <td>2021-08-14</td>\n",
       "      <td>1672</td>\n",
       "      <td>25.0</td>\n",
       "    </tr>\n",
       "    <tr>\n",
       "      <th>7</th>\n",
       "      <td>884009</td>\n",
       "      <td>693</td>\n",
       "      <td>2021-08-04</td>\n",
       "      <td>703</td>\n",
       "      <td>14.0</td>\n",
       "    </tr>\n",
       "    <tr>\n",
       "      <th>8</th>\n",
       "      <td>648682</td>\n",
       "      <td>1449</td>\n",
       "      <td>2021-06-13</td>\n",
       "      <td>26246</td>\n",
       "      <td>75.0</td>\n",
       "    </tr>\n",
       "    <tr>\n",
       "      <th>9</th>\n",
       "      <td>203219</td>\n",
       "      <td>13582</td>\n",
       "      <td>2021-08-22</td>\n",
       "      <td>6975</td>\n",
       "      <td>100.0</td>\n",
       "    </tr>\n",
       "  </tbody>\n",
       "</table>\n",
       "</div>"
      ],
      "text/plain": [
       "   user_id  item_id   datetime  total_dur  weight\n",
       "0   176549     9506 2021-05-11       4250    72.0\n",
       "1   699317     1659 2021-05-29       8317   100.0\n",
       "2   656683     7107 2021-05-09         10     0.0\n",
       "3   864613     7638 2021-07-05      14483   100.0\n",
       "4   964868     9506 2021-04-30       6725   100.0\n",
       "5  1032142     6686 2021-05-13      11286   100.0\n",
       "6  1016458      354 2021-08-14       1672    25.0\n",
       "7   884009      693 2021-08-04        703    14.0\n",
       "8   648682     1449 2021-06-13      26246    75.0\n",
       "9   203219    13582 2021-08-22       6975   100.0"
      ]
     },
     "execution_count": 4,
     "metadata": {},
     "output_type": "execute_result"
    }
   ],
   "source": [
    "interactions.rename(\n",
    "    columns={\n",
    "        'last_watch_dt': Columns.Datetime,\n",
    "        'watched_pct': Columns.Weight,\n",
    "    },\n",
    "    inplace=True,\n",
    ")\n",
    "interactions['datetime'] = interactions['datetime'].astype(np.datetime64)\n",
    "\n",
    "interactions_default_values: Dict[str, Any] = {\n",
    "    Columns.Datetime: interactions[Columns.Datetime].median(),\n",
    "    Columns.Weight: 0.,\n",
    "    'total_dur': 0,\n",
    "}\n",
    "interactions.fillna(interactions_default_values, inplace=True)\n",
    "\n",
    "interactions.head(10)"
   ]
  },
  {
   "cell_type": "code",
   "execution_count": 5,
   "metadata": {
    "ExecuteTime": {
     "end_time": "2023-12-20T11:52:05.660958200Z",
     "start_time": "2023-12-20T11:52:04.967839200Z"
    }
   },
   "outputs": [
    {
     "data": {
      "text/html": [
       "<div>\n",
       "<style scoped>\n",
       "    .dataframe tbody tr th:only-of-type {\n",
       "        vertical-align: middle;\n",
       "    }\n",
       "\n",
       "    .dataframe tbody tr th {\n",
       "        vertical-align: top;\n",
       "    }\n",
       "\n",
       "    .dataframe thead th {\n",
       "        text-align: right;\n",
       "    }\n",
       "</style>\n",
       "<table border=\"1\" class=\"dataframe\">\n",
       "  <thead>\n",
       "    <tr style=\"text-align: right;\">\n",
       "      <th></th>\n",
       "      <th>user_id</th>\n",
       "      <th>item_id</th>\n",
       "      <th>datetime</th>\n",
       "      <th>total_dur</th>\n",
       "      <th>weight</th>\n",
       "    </tr>\n",
       "  </thead>\n",
       "  <tbody>\n",
       "    <tr>\n",
       "      <th>count</th>\n",
       "      <td>5.476251e+06</td>\n",
       "      <td>5.476251e+06</td>\n",
       "      <td>5476251</td>\n",
       "      <td>5.476251e+06</td>\n",
       "      <td>5.476251e+06</td>\n",
       "    </tr>\n",
       "    <tr>\n",
       "      <th>mean</th>\n",
       "      <td>5.491159e+05</td>\n",
       "      <td>8.485860e+03</td>\n",
       "      <td>2021-06-23 11:56:04.296268032</td>\n",
       "      <td>8.295490e+03</td>\n",
       "      <td>4.636699e+01</td>\n",
       "    </tr>\n",
       "    <tr>\n",
       "      <th>min</th>\n",
       "      <td>0.000000e+00</td>\n",
       "      <td>0.000000e+00</td>\n",
       "      <td>2021-03-13 00:00:00</td>\n",
       "      <td>1.000000e+00</td>\n",
       "      <td>0.000000e+00</td>\n",
       "    </tr>\n",
       "    <tr>\n",
       "      <th>25%</th>\n",
       "      <td>2.750140e+05</td>\n",
       "      <td>4.326000e+03</td>\n",
       "      <td>2021-05-25 00:00:00</td>\n",
       "      <td>3.710000e+02</td>\n",
       "      <td>4.000000e+00</td>\n",
       "    </tr>\n",
       "    <tr>\n",
       "      <th>50%</th>\n",
       "      <td>5.493640e+05</td>\n",
       "      <td>8.776000e+03</td>\n",
       "      <td>2021-07-01 00:00:00</td>\n",
       "      <td>2.898000e+03</td>\n",
       "      <td>3.200000e+01</td>\n",
       "    </tr>\n",
       "    <tr>\n",
       "      <th>75%</th>\n",
       "      <td>8.227540e+05</td>\n",
       "      <td>1.254400e+04</td>\n",
       "      <td>2021-07-30 00:00:00</td>\n",
       "      <td>7.116000e+03</td>\n",
       "      <td>1.000000e+02</td>\n",
       "    </tr>\n",
       "    <tr>\n",
       "      <th>max</th>\n",
       "      <td>1.097557e+06</td>\n",
       "      <td>1.651800e+04</td>\n",
       "      <td>2021-08-22 00:00:00</td>\n",
       "      <td>8.041167e+07</td>\n",
       "      <td>1.000000e+02</td>\n",
       "    </tr>\n",
       "    <tr>\n",
       "      <th>std</th>\n",
       "      <td>3.166077e+05</td>\n",
       "      <td>4.740762e+03</td>\n",
       "      <td>NaN</td>\n",
       "      <td>4.856799e+04</td>\n",
       "      <td>4.191923e+01</td>\n",
       "    </tr>\n",
       "  </tbody>\n",
       "</table>\n",
       "</div>"
      ],
      "text/plain": [
       "            user_id       item_id                       datetime  \\\n",
       "count  5.476251e+06  5.476251e+06                        5476251   \n",
       "mean   5.491159e+05  8.485860e+03  2021-06-23 11:56:04.296268032   \n",
       "min    0.000000e+00  0.000000e+00            2021-03-13 00:00:00   \n",
       "25%    2.750140e+05  4.326000e+03            2021-05-25 00:00:00   \n",
       "50%    5.493640e+05  8.776000e+03            2021-07-01 00:00:00   \n",
       "75%    8.227540e+05  1.254400e+04            2021-07-30 00:00:00   \n",
       "max    1.097557e+06  1.651800e+04            2021-08-22 00:00:00   \n",
       "std    3.166077e+05  4.740762e+03                            NaN   \n",
       "\n",
       "          total_dur        weight  \n",
       "count  5.476251e+06  5.476251e+06  \n",
       "mean   8.295490e+03  4.636699e+01  \n",
       "min    1.000000e+00  0.000000e+00  \n",
       "25%    3.710000e+02  4.000000e+00  \n",
       "50%    2.898000e+03  3.200000e+01  \n",
       "75%    7.116000e+03  1.000000e+02  \n",
       "max    8.041167e+07  1.000000e+02  \n",
       "std    4.856799e+04  4.191923e+01  "
      ]
     },
     "execution_count": 5,
     "metadata": {},
     "output_type": "execute_result"
    }
   ],
   "source": [
    "interactions.describe(datetime_is_numeric=True)"
   ]
  },
  {
   "cell_type": "code",
   "execution_count": 6,
   "metadata": {
    "ExecuteTime": {
     "end_time": "2023-12-20T11:52:05.678173800Z",
     "start_time": "2023-12-20T11:52:05.672668600Z"
    }
   },
   "outputs": [
    {
     "name": "stdout",
     "output_type": "stream",
     "text": [
      "(840197, 5)\n"
     ]
    },
    {
     "data": {
      "text/html": [
       "<div>\n",
       "<style scoped>\n",
       "    .dataframe tbody tr th:only-of-type {\n",
       "        vertical-align: middle;\n",
       "    }\n",
       "\n",
       "    .dataframe tbody tr th {\n",
       "        vertical-align: top;\n",
       "    }\n",
       "\n",
       "    .dataframe thead th {\n",
       "        text-align: right;\n",
       "    }\n",
       "</style>\n",
       "<table border=\"1\" class=\"dataframe\">\n",
       "  <thead>\n",
       "    <tr style=\"text-align: right;\">\n",
       "      <th></th>\n",
       "      <th>user_id</th>\n",
       "      <th>age</th>\n",
       "      <th>income</th>\n",
       "      <th>sex</th>\n",
       "      <th>kids_flg</th>\n",
       "    </tr>\n",
       "  </thead>\n",
       "  <tbody>\n",
       "    <tr>\n",
       "      <th>0</th>\n",
       "      <td>973171</td>\n",
       "      <td>age_25_34</td>\n",
       "      <td>income_60_90</td>\n",
       "      <td>М</td>\n",
       "      <td>1</td>\n",
       "    </tr>\n",
       "    <tr>\n",
       "      <th>1</th>\n",
       "      <td>962099</td>\n",
       "      <td>age_18_24</td>\n",
       "      <td>income_20_40</td>\n",
       "      <td>М</td>\n",
       "      <td>0</td>\n",
       "    </tr>\n",
       "    <tr>\n",
       "      <th>2</th>\n",
       "      <td>1047345</td>\n",
       "      <td>age_45_54</td>\n",
       "      <td>income_40_60</td>\n",
       "      <td>Ж</td>\n",
       "      <td>0</td>\n",
       "    </tr>\n",
       "  </tbody>\n",
       "</table>\n",
       "</div>"
      ],
      "text/plain": [
       "   user_id        age        income sex  kids_flg\n",
       "0   973171  age_25_34  income_60_90   М         1\n",
       "1   962099  age_18_24  income_20_40   М         0\n",
       "2  1047345  age_45_54  income_40_60   Ж         0"
      ]
     },
     "execution_count": 6,
     "metadata": {},
     "output_type": "execute_result"
    }
   ],
   "source": [
    "print(users.shape)\n",
    "users.head(3)"
   ]
  },
  {
   "cell_type": "code",
   "execution_count": 7,
   "metadata": {
    "ExecuteTime": {
     "end_time": "2023-12-20T11:52:05.883582600Z",
     "start_time": "2023-12-20T11:52:05.681976600Z"
    }
   },
   "outputs": [
    {
     "data": {
      "text/plain": [
       "(Index(['income_0_20', 'income_150_inf', 'income_20_40', 'income_40_60',\n",
       "        'income_60_90', 'income_90_150'],\n",
       "       dtype='object'),\n",
       " [4, 2, 3, 0, -1, 5, 1]\n",
       " Categories (7, int64): [-1, 0, 1, 2, 3, 4, 5])"
      ]
     },
     "execution_count": 7,
     "metadata": {},
     "output_type": "execute_result"
    }
   ],
   "source": [
    "def encode_cat_cols(df: pd.DataFrame, cat_cols) -> Tuple[pd.DataFrame, Dict]:\n",
    "    cat_col_encoding = {}\n",
    "\n",
    "    for col in cat_cols:\n",
    "        cat_col = df[col].astype('category').cat\n",
    "        cat_col_encoding[col] = cat_col.categories\n",
    "        df[col] = cat_col.codes.astype('category')\n",
    "    return df, cat_col_encoding\n",
    "\n",
    "\n",
    "users_cat_cols = [\n",
    "    'age', 'income', 'sex', 'kids_flg'\n",
    "]\n",
    "users, users_cat_col_encoding = encode_cat_cols(users, users_cat_cols)\n",
    "\n",
    "users_cat_col_encoding['income'], users['income'].unique()"
   ]
  },
  {
   "cell_type": "code",
   "execution_count": 8,
   "metadata": {
    "ExecuteTime": {
     "end_time": "2023-12-20T11:52:05.889807300Z",
     "start_time": "2023-12-20T11:52:05.854174800Z"
    }
   },
   "outputs": [
    {
     "data": {
      "text/html": [
       "<div>\n",
       "<style scoped>\n",
       "    .dataframe tbody tr th:only-of-type {\n",
       "        vertical-align: middle;\n",
       "    }\n",
       "\n",
       "    .dataframe tbody tr th {\n",
       "        vertical-align: top;\n",
       "    }\n",
       "\n",
       "    .dataframe thead th {\n",
       "        text-align: right;\n",
       "    }\n",
       "</style>\n",
       "<table border=\"1\" class=\"dataframe\">\n",
       "  <thead>\n",
       "    <tr style=\"text-align: right;\">\n",
       "      <th></th>\n",
       "      <th>user_id</th>\n",
       "      <th>age</th>\n",
       "      <th>income</th>\n",
       "      <th>sex</th>\n",
       "      <th>kids_flg</th>\n",
       "    </tr>\n",
       "  </thead>\n",
       "  <tbody>\n",
       "    <tr>\n",
       "      <th>0</th>\n",
       "      <td>973171</td>\n",
       "      <td>1</td>\n",
       "      <td>4</td>\n",
       "      <td>1</td>\n",
       "      <td>1</td>\n",
       "    </tr>\n",
       "    <tr>\n",
       "      <th>1</th>\n",
       "      <td>962099</td>\n",
       "      <td>0</td>\n",
       "      <td>2</td>\n",
       "      <td>1</td>\n",
       "      <td>0</td>\n",
       "    </tr>\n",
       "    <tr>\n",
       "      <th>2</th>\n",
       "      <td>1047345</td>\n",
       "      <td>3</td>\n",
       "      <td>3</td>\n",
       "      <td>0</td>\n",
       "      <td>0</td>\n",
       "    </tr>\n",
       "  </tbody>\n",
       "</table>\n",
       "</div>"
      ],
      "text/plain": [
       "   user_id age income sex kids_flg\n",
       "0   973171   1      4   1        1\n",
       "1   962099   0      2   1        0\n",
       "2  1047345   3      3   0        0"
      ]
     },
     "execution_count": 8,
     "metadata": {},
     "output_type": "execute_result"
    }
   ],
   "source": [
    "users.head(3)"
   ]
  },
  {
   "cell_type": "code",
   "execution_count": 9,
   "metadata": {
    "ExecuteTime": {
     "end_time": "2023-12-20T11:52:05.934531Z",
     "start_time": "2023-12-20T11:52:05.857745600Z"
    }
   },
   "outputs": [
    {
     "data": {
      "text/html": [
       "<div>\n",
       "<style scoped>\n",
       "    .dataframe tbody tr th:only-of-type {\n",
       "        vertical-align: middle;\n",
       "    }\n",
       "\n",
       "    .dataframe tbody tr th {\n",
       "        vertical-align: top;\n",
       "    }\n",
       "\n",
       "    .dataframe thead th {\n",
       "        text-align: right;\n",
       "    }\n",
       "</style>\n",
       "<table border=\"1\" class=\"dataframe\">\n",
       "  <thead>\n",
       "    <tr style=\"text-align: right;\">\n",
       "      <th></th>\n",
       "      <th>age</th>\n",
       "      <th>income</th>\n",
       "      <th>sex</th>\n",
       "      <th>kids_flg</th>\n",
       "    </tr>\n",
       "  </thead>\n",
       "  <tbody>\n",
       "    <tr>\n",
       "      <th>count</th>\n",
       "      <td>840197</td>\n",
       "      <td>840197</td>\n",
       "      <td>840197</td>\n",
       "      <td>840197</td>\n",
       "    </tr>\n",
       "    <tr>\n",
       "      <th>unique</th>\n",
       "      <td>7</td>\n",
       "      <td>7</td>\n",
       "      <td>3</td>\n",
       "      <td>2</td>\n",
       "    </tr>\n",
       "    <tr>\n",
       "      <th>top</th>\n",
       "      <td>1</td>\n",
       "      <td>2</td>\n",
       "      <td>0</td>\n",
       "      <td>0</td>\n",
       "    </tr>\n",
       "    <tr>\n",
       "      <th>freq</th>\n",
       "      <td>233926</td>\n",
       "      <td>471519</td>\n",
       "      <td>425270</td>\n",
       "      <td>587209</td>\n",
       "    </tr>\n",
       "  </tbody>\n",
       "</table>\n",
       "</div>"
      ],
      "text/plain": [
       "           age  income     sex  kids_flg\n",
       "count   840197  840197  840197    840197\n",
       "unique       7       7       3         2\n",
       "top          1       2       0         0\n",
       "freq    233926  471519  425270    587209"
      ]
     },
     "execution_count": 9,
     "metadata": {},
     "output_type": "execute_result"
    }
   ],
   "source": [
    "users.describe(include='category')"
   ]
  },
  {
   "cell_type": "code",
   "execution_count": 10,
   "metadata": {
    "ExecuteTime": {
     "end_time": "2023-12-20T11:52:06.006398200Z",
     "start_time": "2023-12-20T11:52:05.896875Z"
    }
   },
   "outputs": [
    {
     "name": "stdout",
     "output_type": "stream",
     "text": [
      "(15963, 14)\n"
     ]
    },
    {
     "data": {
      "text/html": [
       "<div>\n",
       "<style scoped>\n",
       "    .dataframe tbody tr th:only-of-type {\n",
       "        vertical-align: middle;\n",
       "    }\n",
       "\n",
       "    .dataframe tbody tr th {\n",
       "        vertical-align: top;\n",
       "    }\n",
       "\n",
       "    .dataframe thead th {\n",
       "        text-align: right;\n",
       "    }\n",
       "</style>\n",
       "<table border=\"1\" class=\"dataframe\">\n",
       "  <thead>\n",
       "    <tr style=\"text-align: right;\">\n",
       "      <th></th>\n",
       "      <th>item_id</th>\n",
       "      <th>content_type</th>\n",
       "      <th>title</th>\n",
       "      <th>title_orig</th>\n",
       "      <th>release_year</th>\n",
       "      <th>genres</th>\n",
       "      <th>countries</th>\n",
       "      <th>for_kids</th>\n",
       "      <th>age_rating</th>\n",
       "      <th>studios</th>\n",
       "      <th>directors</th>\n",
       "      <th>actors</th>\n",
       "      <th>description</th>\n",
       "      <th>keywords</th>\n",
       "    </tr>\n",
       "  </thead>\n",
       "  <tbody>\n",
       "    <tr>\n",
       "      <th>0</th>\n",
       "      <td>10711</td>\n",
       "      <td>film</td>\n",
       "      <td>Поговори с ней</td>\n",
       "      <td>Hable con ella</td>\n",
       "      <td>2002.0</td>\n",
       "      <td>драмы, зарубежные, детективы, мелодрамы</td>\n",
       "      <td>Испания</td>\n",
       "      <td>NaN</td>\n",
       "      <td>16.0</td>\n",
       "      <td>NaN</td>\n",
       "      <td>Педро Альмодовар</td>\n",
       "      <td>Адольфо Фернандес, Ана Фернандес, Дарио Гранди...</td>\n",
       "      <td>Мелодрама легендарного Педро Альмодовара «Пого...</td>\n",
       "      <td>Поговори, ней, 2002, Испания, друзья, любовь, ...</td>\n",
       "    </tr>\n",
       "    <tr>\n",
       "      <th>1</th>\n",
       "      <td>2508</td>\n",
       "      <td>film</td>\n",
       "      <td>Голые перцы</td>\n",
       "      <td>Search Party</td>\n",
       "      <td>2014.0</td>\n",
       "      <td>зарубежные, приключения, комедии</td>\n",
       "      <td>США</td>\n",
       "      <td>NaN</td>\n",
       "      <td>16.0</td>\n",
       "      <td>NaN</td>\n",
       "      <td>Скот Армстронг</td>\n",
       "      <td>Адам Палли, Брайан Хаски, Дж.Б. Смув, Джейсон ...</td>\n",
       "      <td>Уморительная современная комедия на популярную...</td>\n",
       "      <td>Голые, перцы, 2014, США, друзья, свадьбы, прео...</td>\n",
       "    </tr>\n",
       "    <tr>\n",
       "      <th>2</th>\n",
       "      <td>10716</td>\n",
       "      <td>film</td>\n",
       "      <td>Тактическая сила</td>\n",
       "      <td>Tactical Force</td>\n",
       "      <td>2011.0</td>\n",
       "      <td>криминал, зарубежные, триллеры, боевики, комедии</td>\n",
       "      <td>Канада</td>\n",
       "      <td>NaN</td>\n",
       "      <td>16.0</td>\n",
       "      <td>NaN</td>\n",
       "      <td>Адам П. Калтраро</td>\n",
       "      <td>Адриан Холмс, Даррен Шалави, Джерри Вассерман,...</td>\n",
       "      <td>Профессиональный рестлер Стив Остин («Все или ...</td>\n",
       "      <td>Тактическая, сила, 2011, Канада, бандиты, ганг...</td>\n",
       "    </tr>\n",
       "  </tbody>\n",
       "</table>\n",
       "</div>"
      ],
      "text/plain": [
       "   item_id content_type             title      title_orig  release_year  \\\n",
       "0    10711         film    Поговори с ней  Hable con ella        2002.0   \n",
       "1     2508         film       Голые перцы    Search Party        2014.0   \n",
       "2    10716         film  Тактическая сила  Tactical Force        2011.0   \n",
       "\n",
       "                                             genres countries  for_kids  \\\n",
       "0           драмы, зарубежные, детективы, мелодрамы   Испания       NaN   \n",
       "1                  зарубежные, приключения, комедии       США       NaN   \n",
       "2  криминал, зарубежные, триллеры, боевики, комедии    Канада       NaN   \n",
       "\n",
       "   age_rating studios         directors  \\\n",
       "0        16.0     NaN  Педро Альмодовар   \n",
       "1        16.0     NaN    Скот Армстронг   \n",
       "2        16.0     NaN  Адам П. Калтраро   \n",
       "\n",
       "                                              actors  \\\n",
       "0  Адольфо Фернандес, Ана Фернандес, Дарио Гранди...   \n",
       "1  Адам Палли, Брайан Хаски, Дж.Б. Смув, Джейсон ...   \n",
       "2  Адриан Холмс, Даррен Шалави, Джерри Вассерман,...   \n",
       "\n",
       "                                         description  \\\n",
       "0  Мелодрама легендарного Педро Альмодовара «Пого...   \n",
       "1  Уморительная современная комедия на популярную...   \n",
       "2  Профессиональный рестлер Стив Остин («Все или ...   \n",
       "\n",
       "                                            keywords  \n",
       "0  Поговори, ней, 2002, Испания, друзья, любовь, ...  \n",
       "1  Голые, перцы, 2014, США, друзья, свадьбы, прео...  \n",
       "2  Тактическая, сила, 2011, Канада, бандиты, ганг...  "
      ]
     },
     "execution_count": 10,
     "metadata": {},
     "output_type": "execute_result"
    }
   ],
   "source": [
    "print(items.shape)\n",
    "items.head(3)"
   ]
  },
  {
   "cell_type": "code",
   "execution_count": 11,
   "metadata": {
    "ExecuteTime": {
     "end_time": "2023-12-20T11:52:06.006398200Z",
     "start_time": "2023-12-20T11:52:05.905493100Z"
    }
   },
   "outputs": [
    {
     "data": {
      "text/plain": [
       "Index(['ABC', 'Amediateka', 'BBC', 'CBS', 'CBS All Access', 'Channel 4',\n",
       "       'Cinemax', 'DAZN', 'Disney', 'Endemol', 'FX', 'Fox', 'Fremantle', 'HBO',\n",
       "       'HBO Max', 'HBO, BBC', 'Legendary', 'MGM', 'New Regency Productions',\n",
       "       'Paramount', 'Showtime', 'Sky', 'Sky, Fremantle', 'Sony Pictures',\n",
       "       'Sony Pictures Television', 'Sony Pictures, рентв', 'Sony Plus',\n",
       "       'Sony Plus, рентв', 'Starz', 'Universal', 'Universal, рентв',\n",
       "       'Warner Bros', 'Warner Bros. Television', 'Ленфильм', 'Ленфильм, рентв',\n",
       "       'Мосфильм', 'Рок фильм', 'рентв'],\n",
       "      dtype='object')"
      ]
     },
     "execution_count": 11,
     "metadata": {},
     "output_type": "execute_result"
    }
   ],
   "source": [
    "items_cat_cols = [\n",
    "    'content_type', 'for_kids', 'studios',\n",
    "]\n",
    "items_text_cols = [\n",
    "    'title', 'title_orig', 'genres', 'countries', 'directors', 'actors', 'description', 'keywords',\n",
    "]\n",
    "items_num_cols = [\n",
    "    'release_year', 'age_rating',\n",
    "]\n",
    "default_values_items = {\n",
    "    'release_year': items['release_year'].median(),\n",
    "    'age_rating': items['age_rating'].median(),\n",
    "}\n",
    "\n",
    "items, items_cat_col_encoding = encode_cat_cols(items, items_cat_cols)\n",
    "items = items.drop(items_text_cols, axis=1)\n",
    "items.fillna(default_values_items, inplace=True)\n",
    "\n",
    "items_cat_col_encoding['studios']"
   ]
  },
  {
   "cell_type": "code",
   "execution_count": 12,
   "metadata": {
    "ExecuteTime": {
     "end_time": "2023-12-20T11:52:06.029652Z",
     "start_time": "2023-12-20T11:52:05.927960100Z"
    }
   },
   "outputs": [
    {
     "data": {
      "text/html": [
       "<div>\n",
       "<style scoped>\n",
       "    .dataframe tbody tr th:only-of-type {\n",
       "        vertical-align: middle;\n",
       "    }\n",
       "\n",
       "    .dataframe tbody tr th {\n",
       "        vertical-align: top;\n",
       "    }\n",
       "\n",
       "    .dataframe thead th {\n",
       "        text-align: right;\n",
       "    }\n",
       "</style>\n",
       "<table border=\"1\" class=\"dataframe\">\n",
       "  <thead>\n",
       "    <tr style=\"text-align: right;\">\n",
       "      <th></th>\n",
       "      <th>item_id</th>\n",
       "      <th>content_type</th>\n",
       "      <th>release_year</th>\n",
       "      <th>for_kids</th>\n",
       "      <th>age_rating</th>\n",
       "      <th>studios</th>\n",
       "    </tr>\n",
       "  </thead>\n",
       "  <tbody>\n",
       "    <tr>\n",
       "      <th>count</th>\n",
       "      <td>15963.000000</td>\n",
       "      <td>15963.0</td>\n",
       "      <td>15963.000000</td>\n",
       "      <td>15963.0</td>\n",
       "      <td>15963.000000</td>\n",
       "      <td>15963.0</td>\n",
       "    </tr>\n",
       "    <tr>\n",
       "      <th>unique</th>\n",
       "      <td>NaN</td>\n",
       "      <td>2.0</td>\n",
       "      <td>NaN</td>\n",
       "      <td>3.0</td>\n",
       "      <td>NaN</td>\n",
       "      <td>39.0</td>\n",
       "    </tr>\n",
       "    <tr>\n",
       "      <th>top</th>\n",
       "      <td>NaN</td>\n",
       "      <td>0.0</td>\n",
       "      <td>NaN</td>\n",
       "      <td>-1.0</td>\n",
       "      <td>NaN</td>\n",
       "      <td>-1.0</td>\n",
       "    </tr>\n",
       "    <tr>\n",
       "      <th>freq</th>\n",
       "      <td>NaN</td>\n",
       "      <td>12002.0</td>\n",
       "      <td>NaN</td>\n",
       "      <td>15397.0</td>\n",
       "      <td>NaN</td>\n",
       "      <td>14898.0</td>\n",
       "    </tr>\n",
       "    <tr>\n",
       "      <th>mean</th>\n",
       "      <td>8268.453424</td>\n",
       "      <td>NaN</td>\n",
       "      <td>2007.969492</td>\n",
       "      <td>NaN</td>\n",
       "      <td>12.945937</td>\n",
       "      <td>NaN</td>\n",
       "    </tr>\n",
       "    <tr>\n",
       "      <th>std</th>\n",
       "      <td>4773.841513</td>\n",
       "      <td>NaN</td>\n",
       "      <td>16.835890</td>\n",
       "      <td>NaN</td>\n",
       "      <td>5.495760</td>\n",
       "      <td>NaN</td>\n",
       "    </tr>\n",
       "    <tr>\n",
       "      <th>min</th>\n",
       "      <td>0.000000</td>\n",
       "      <td>NaN</td>\n",
       "      <td>1897.000000</td>\n",
       "      <td>NaN</td>\n",
       "      <td>0.000000</td>\n",
       "      <td>NaN</td>\n",
       "    </tr>\n",
       "    <tr>\n",
       "      <th>25%</th>\n",
       "      <td>4141.500000</td>\n",
       "      <td>NaN</td>\n",
       "      <td>2007.000000</td>\n",
       "      <td>NaN</td>\n",
       "      <td>12.000000</td>\n",
       "      <td>NaN</td>\n",
       "    </tr>\n",
       "    <tr>\n",
       "      <th>50%</th>\n",
       "      <td>8266.000000</td>\n",
       "      <td>NaN</td>\n",
       "      <td>2014.000000</td>\n",
       "      <td>NaN</td>\n",
       "      <td>16.000000</td>\n",
       "      <td>NaN</td>\n",
       "    </tr>\n",
       "    <tr>\n",
       "      <th>75%</th>\n",
       "      <td>12414.500000</td>\n",
       "      <td>NaN</td>\n",
       "      <td>2018.000000</td>\n",
       "      <td>NaN</td>\n",
       "      <td>16.000000</td>\n",
       "      <td>NaN</td>\n",
       "    </tr>\n",
       "    <tr>\n",
       "      <th>max</th>\n",
       "      <td>16518.000000</td>\n",
       "      <td>NaN</td>\n",
       "      <td>2021.000000</td>\n",
       "      <td>NaN</td>\n",
       "      <td>21.000000</td>\n",
       "      <td>NaN</td>\n",
       "    </tr>\n",
       "  </tbody>\n",
       "</table>\n",
       "</div>"
      ],
      "text/plain": [
       "             item_id  content_type  release_year  for_kids    age_rating  \\\n",
       "count   15963.000000       15963.0  15963.000000   15963.0  15963.000000   \n",
       "unique           NaN           2.0           NaN       3.0           NaN   \n",
       "top              NaN           0.0           NaN      -1.0           NaN   \n",
       "freq             NaN       12002.0           NaN   15397.0           NaN   \n",
       "mean     8268.453424           NaN   2007.969492       NaN     12.945937   \n",
       "std      4773.841513           NaN     16.835890       NaN      5.495760   \n",
       "min         0.000000           NaN   1897.000000       NaN      0.000000   \n",
       "25%      4141.500000           NaN   2007.000000       NaN     12.000000   \n",
       "50%      8266.000000           NaN   2014.000000       NaN     16.000000   \n",
       "75%     12414.500000           NaN   2018.000000       NaN     16.000000   \n",
       "max     16518.000000           NaN   2021.000000       NaN     21.000000   \n",
       "\n",
       "        studios  \n",
       "count   15963.0  \n",
       "unique     39.0  \n",
       "top        -1.0  \n",
       "freq    14898.0  \n",
       "mean        NaN  \n",
       "std         NaN  \n",
       "min         NaN  \n",
       "25%         NaN  \n",
       "50%         NaN  \n",
       "75%         NaN  \n",
       "max         NaN  "
      ]
     },
     "execution_count": 12,
     "metadata": {},
     "output_type": "execute_result"
    }
   ],
   "source": [
    "items.describe(include='all')"
   ]
  },
  {
   "cell_type": "markdown",
   "metadata": {},
   "source": [
    "## Трейн-вал-тест сплит"
   ]
  },
  {
   "cell_type": "code",
   "execution_count": 13,
   "metadata": {
    "ExecuteTime": {
     "end_time": "2023-12-20T11:52:06.030651100Z",
     "start_time": "2023-12-20T11:52:05.946621200Z"
    }
   },
   "outputs": [
    {
     "name": "stdout",
     "output_type": "stream",
     "text": [
      "min дата в interactions: 2021-03-13 00:00:00\n",
      "max дата в interactions: 2021-08-22 00:00:00\n",
      "Продолжительность: 162 days 00:00:00\n"
     ]
    }
   ],
   "source": [
    "max_date = interactions[Columns.Datetime].max()\n",
    "min_date = interactions[Columns.Datetime].min()\n",
    "\n",
    "print(f'min дата в interactions: {min_date}')\n",
    "print(f'max дата в interactions: {max_date}')\n",
    "print(f'Продолжительность: {max_date - min_date}')"
   ]
  },
  {
   "cell_type": "markdown",
   "metadata": {},
   "source": [
    "### Схема валидации с разбиением по юзерам (удобна для первого запуска в  проде)"
   ]
  },
  {
   "cell_type": "code",
   "execution_count": 14,
   "metadata": {
    "ExecuteTime": {
     "end_time": "2023-12-20T11:52:06.285683500Z",
     "start_time": "2023-12-20T11:52:05.967566500Z"
    }
   },
   "outputs": [],
   "source": [
    "ranker_days_count = 30\n",
    "\n",
    "ranker_data = interactions[\n",
    "    (interactions[Columns.Datetime] >= max_date - pd.Timedelta(days=ranker_days_count))\n",
    "]\n",
    "\n",
    "train_size = 0.7\n",
    "val_size = 0.15\n",
    "test_size = 0.15\n",
    "\n",
    "train_val_users, test_users = train_test_split(\n",
    "    ranker_data['user_id'].unique(), random_state=42, test_size=test_size\n",
    ")\n",
    "\n",
    "train_users, val_users = train_test_split(\n",
    "    train_val_users, random_state=42, test_size=val_size / (train_size + val_size)\n",
    ")"
   ]
  },
  {
   "cell_type": "code",
   "execution_count": 15,
   "metadata": {
    "ExecuteTime": {
     "end_time": "2023-12-20T11:52:06.305055100Z",
     "start_time": "2023-12-20T11:52:06.104271300Z"
    }
   },
   "outputs": [],
   "source": [
    "base_models_data = interactions[\n",
    "    (interactions[Columns.Datetime] < max_date - pd.Timedelta(days=ranker_days_count))\n",
    "]"
   ]
  },
  {
   "cell_type": "markdown",
   "metadata": {},
   "source": [
    "## Read LightFM candidates"
   ]
  },
  {
   "cell_type": "code",
   "execution_count": 16,
   "metadata": {
    "ExecuteTime": {
     "end_time": "2023-12-20T11:52:31.131309700Z",
     "start_time": "2023-12-20T11:52:06.203306400Z"
    }
   },
   "outputs": [],
   "source": [
    "lfm_candidates = pd.read_csv('lfm_candidates.csv')"
   ]
  },
  {
   "cell_type": "markdown",
   "metadata": {},
   "source": [
    "## Add PopularModel"
   ]
  },
  {
   "cell_type": "code",
   "execution_count": 17,
   "metadata": {
    "ExecuteTime": {
     "end_time": "2023-12-20T11:52:32.536052100Z",
     "start_time": "2023-12-20T11:52:31.132642300Z"
    },
    "collapsed": false
   },
   "outputs": [
    {
     "data": {
      "text/plain": [
       "<rectools.models.popular.PopularModel at 0x7fc8fdf5dea0>"
      ]
     },
     "execution_count": 17,
     "metadata": {},
     "output_type": "execute_result"
    }
   ],
   "source": [
    "from rectools.models import PopularModel\n",
    "from rectools.dataset import Dataset\n",
    "\n",
    "dataset = Dataset.construct(base_models_data)\n",
    "popular_model = PopularModel()\n",
    "popular_model.fit(dataset)"
   ]
  },
  {
   "cell_type": "code",
   "execution_count": 18,
   "metadata": {
    "ExecuteTime": {
     "end_time": "2023-12-20T11:52:32.761694400Z",
     "start_time": "2023-12-20T11:52:32.531983200Z"
    },
    "collapsed": false
   },
   "outputs": [
    {
     "data": {
      "text/html": [
       "<div>\n",
       "<style scoped>\n",
       "    .dataframe tbody tr th:only-of-type {\n",
       "        vertical-align: middle;\n",
       "    }\n",
       "\n",
       "    .dataframe tbody tr th {\n",
       "        vertical-align: top;\n",
       "    }\n",
       "\n",
       "    .dataframe thead th {\n",
       "        text-align: right;\n",
       "    }\n",
       "</style>\n",
       "<table border=\"1\" class=\"dataframe\">\n",
       "  <thead>\n",
       "    <tr style=\"text-align: right;\">\n",
       "      <th></th>\n",
       "      <th>item_id</th>\n",
       "      <th>pop_score</th>\n",
       "      <th>pop_rank</th>\n",
       "    </tr>\n",
       "  </thead>\n",
       "  <tbody>\n",
       "    <tr>\n",
       "      <th>0</th>\n",
       "      <td>10440</td>\n",
       "      <td>141889.0</td>\n",
       "      <td>1</td>\n",
       "    </tr>\n",
       "    <tr>\n",
       "      <th>1</th>\n",
       "      <td>15297</td>\n",
       "      <td>137128.0</td>\n",
       "      <td>2</td>\n",
       "    </tr>\n",
       "    <tr>\n",
       "      <th>2</th>\n",
       "      <td>13865</td>\n",
       "      <td>93403.0</td>\n",
       "      <td>3</td>\n",
       "    </tr>\n",
       "    <tr>\n",
       "      <th>3</th>\n",
       "      <td>4151</td>\n",
       "      <td>69641.0</td>\n",
       "      <td>4</td>\n",
       "    </tr>\n",
       "    <tr>\n",
       "      <th>4</th>\n",
       "      <td>2657</td>\n",
       "      <td>55146.0</td>\n",
       "      <td>5</td>\n",
       "    </tr>\n",
       "  </tbody>\n",
       "</table>\n",
       "</div>"
      ],
      "text/plain": [
       "   item_id  pop_score  pop_rank\n",
       "0    10440   141889.0         1\n",
       "1    15297   137128.0         2\n",
       "2    13865    93403.0         3\n",
       "3     4151    69641.0         4\n",
       "4     2657    55146.0         5"
      ]
     },
     "execution_count": 18,
     "metadata": {},
     "output_type": "execute_result"
    }
   ],
   "source": [
    "n_items = items[Columns.Item].nunique()\n",
    "popular_candidates = popular_model.recommend(\n",
    "    users=dataset.user_id_map.external_ids[:1], dataset=dataset, k=n_items, filter_viewed=True\n",
    ")\n",
    "popular_candidates.rename({\"rank\": \"pop_rank\", \"score\": \"pop_score\"}, axis=1, inplace=True)\n",
    "popular_candidates.drop(Columns.User, axis=1, inplace=True)\n",
    "popular_candidates.head()"
   ]
  },
  {
   "cell_type": "markdown",
   "metadata": {
    "collapsed": false
   },
   "source": [
    "## Merging candidates"
   ]
  },
  {
   "cell_type": "code",
   "execution_count": 19,
   "metadata": {
    "ExecuteTime": {
     "end_time": "2023-12-20T11:52:40.703130600Z",
     "start_time": "2023-12-20T11:52:32.755059300Z"
    },
    "collapsed": false
   },
   "outputs": [
    {
     "data": {
      "text/html": [
       "<div>\n",
       "<style scoped>\n",
       "    .dataframe tbody tr th:only-of-type {\n",
       "        vertical-align: middle;\n",
       "    }\n",
       "\n",
       "    .dataframe tbody tr th {\n",
       "        vertical-align: top;\n",
       "    }\n",
       "\n",
       "    .dataframe thead th {\n",
       "        text-align: right;\n",
       "    }\n",
       "</style>\n",
       "<table border=\"1\" class=\"dataframe\">\n",
       "  <thead>\n",
       "    <tr style=\"text-align: right;\">\n",
       "      <th></th>\n",
       "      <th>Unnamed: 0</th>\n",
       "      <th>user_id</th>\n",
       "      <th>item_id</th>\n",
       "      <th>lfm_score</th>\n",
       "      <th>lfm_rank</th>\n",
       "      <th>pop_score</th>\n",
       "      <th>pop_rank</th>\n",
       "    </tr>\n",
       "  </thead>\n",
       "  <tbody>\n",
       "    <tr>\n",
       "      <th>0</th>\n",
       "      <td>0</td>\n",
       "      <td>176549</td>\n",
       "      <td>15297</td>\n",
       "      <td>-0.000030</td>\n",
       "      <td>1</td>\n",
       "      <td>137128.0</td>\n",
       "      <td>2.0</td>\n",
       "    </tr>\n",
       "    <tr>\n",
       "      <th>1</th>\n",
       "      <td>1</td>\n",
       "      <td>176549</td>\n",
       "      <td>10440</td>\n",
       "      <td>-0.000031</td>\n",
       "      <td>2</td>\n",
       "      <td>141889.0</td>\n",
       "      <td>1.0</td>\n",
       "    </tr>\n",
       "    <tr>\n",
       "      <th>2</th>\n",
       "      <td>2</td>\n",
       "      <td>176549</td>\n",
       "      <td>13865</td>\n",
       "      <td>-0.000033</td>\n",
       "      <td>3</td>\n",
       "      <td>93403.0</td>\n",
       "      <td>3.0</td>\n",
       "    </tr>\n",
       "    <tr>\n",
       "      <th>3</th>\n",
       "      <td>3</td>\n",
       "      <td>176549</td>\n",
       "      <td>4151</td>\n",
       "      <td>-0.000033</td>\n",
       "      <td>4</td>\n",
       "      <td>69641.0</td>\n",
       "      <td>4.0</td>\n",
       "    </tr>\n",
       "    <tr>\n",
       "      <th>4</th>\n",
       "      <td>4</td>\n",
       "      <td>176549</td>\n",
       "      <td>3734</td>\n",
       "      <td>-0.000034</td>\n",
       "      <td>5</td>\n",
       "      <td>50004.0</td>\n",
       "      <td>6.0</td>\n",
       "    </tr>\n",
       "  </tbody>\n",
       "</table>\n",
       "</div>"
      ],
      "text/plain": [
       "   Unnamed: 0  user_id  item_id  lfm_score  lfm_rank  pop_score  pop_rank\n",
       "0           0   176549    15297  -0.000030         1   137128.0       2.0\n",
       "1           1   176549    10440  -0.000031         2   141889.0       1.0\n",
       "2           2   176549    13865  -0.000033         3    93403.0       3.0\n",
       "3           3   176549     4151  -0.000033         4    69641.0       4.0\n",
       "4           4   176549     3734  -0.000034         5    50004.0       6.0"
      ]
     },
     "execution_count": 19,
     "metadata": {},
     "output_type": "execute_result"
    }
   ],
   "source": [
    "candidates = lfm_candidates.merge(popular_candidates, how=\"left\", on=[Columns.Item])\n",
    "candidates.head()"
   ]
  },
  {
   "cell_type": "code",
   "execution_count": 20,
   "metadata": {
    "ExecuteTime": {
     "end_time": "2023-12-20T11:52:40.704139300Z",
     "start_time": "2023-12-20T11:52:40.699980Z"
    }
   },
   "outputs": [],
   "source": [
    "def calc_metrics_(candidates_df, rank_col: str) -> Dict[str, float]:\n",
    "    metrics = {\n",
    "        'ndcg@10': NDCG(k=10),\n",
    "        'map@10': MAP(k=10),\n",
    "        'Precision@10': Precision(k=10),\n",
    "        'recall@10': Recall(k=10),\n",
    "        'novelty@10': MeanInvUserFreq(k=10),\n",
    "    }\n",
    "    return calc_metrics(\n",
    "        metrics=metrics,\n",
    "        reco=(\n",
    "            candidates_df\n",
    "            .rename(columns={rank_col: Columns.Rank})\n",
    "            [[Columns.User, Columns.Item, Columns.Rank]]\n",
    "            [candidates_df[Columns.User].isin(test_users)]\n",
    "        ),\n",
    "        interactions=(\n",
    "            ranker_data\n",
    "            [[Columns.User, Columns.Item, Columns.Datetime, Columns.Weight]]\n",
    "            [ranker_data[Columns.User].isin(test_users)]\n",
    "        ),\n",
    "        prev_interactions=(\n",
    "            base_models_data\n",
    "            [[Columns.User, Columns.Item, Columns.Datetime, Columns.Weight]]\n",
    "            [base_models_data[Columns.User].isin(test_users)]\n",
    "        ),\n",
    "        catalog=items['item_id'].unique()\n",
    "    )"
   ]
  },
  {
   "cell_type": "code",
   "execution_count": 21,
   "metadata": {
    "ExecuteTime": {
     "end_time": "2023-12-20T11:52:47.695248300Z",
     "start_time": "2023-12-20T11:52:40.703130600Z"
    },
    "collapsed": false
   },
   "outputs": [],
   "source": [
    "models_metrics: Dict[str, Dict[str, float]] = dict()\n",
    "models_metrics['lfm'] = calc_metrics_(candidates, 'lfm_rank')"
   ]
  },
  {
   "cell_type": "code",
   "execution_count": 22,
   "metadata": {
    "ExecuteTime": {
     "end_time": "2023-12-20T11:52:53.273431200Z",
     "start_time": "2023-12-20T11:52:47.695248300Z"
    },
    "collapsed": false
   },
   "outputs": [],
   "source": [
    "models_metrics['pop'] = calc_metrics_(candidates, 'pop_rank')"
   ]
  },
  {
   "cell_type": "code",
   "execution_count": 23,
   "metadata": {
    "ExecuteTime": {
     "end_time": "2023-12-20T11:52:53.284612500Z",
     "start_time": "2023-12-20T11:52:53.275425700Z"
    }
   },
   "outputs": [
    {
     "data": {
      "text/plain": [
       "{'lfm': {'Precision@10': 0.024970454161742366,\n",
       "  'recall@10': 0.08358776021147662,\n",
       "  'ndcg@10': 0.03163934182760983,\n",
       "  'map@10': 0.042556196036179696,\n",
       "  'novelty@10': 3.1351389278275326},\n",
       " 'pop': {'Precision@10': 0.01955397295596519,\n",
       "  'recall@10': 0.06567592267978621,\n",
       "  'ndcg@10': 0.02416983974819715,\n",
       "  'map@10': 0.03136498967480883,\n",
       "  'novelty@10': 3.1365885705885543}}"
      ]
     },
     "execution_count": 23,
     "metadata": {},
     "output_type": "execute_result"
    }
   ],
   "source": [
    "models_metrics"
   ]
  },
  {
   "cell_type": "markdown",
   "metadata": {},
   "source": [
    "## Формируем датасет для ранкера"
   ]
  },
  {
   "cell_type": "markdown",
   "metadata": {},
   "source": [
    "### Генерим фичи для ранкера"
   ]
  },
  {
   "cell_type": "code",
   "execution_count": 24,
   "metadata": {
    "ExecuteTime": {
     "end_time": "2023-12-20T11:52:55.801051900Z",
     "start_time": "2023-12-20T11:52:53.280595400Z"
    }
   },
   "outputs": [
    {
     "data": {
      "text/html": [
       "<div>\n",
       "<style scoped>\n",
       "    .dataframe tbody tr th:only-of-type {\n",
       "        vertical-align: middle;\n",
       "    }\n",
       "\n",
       "    .dataframe tbody tr th {\n",
       "        vertical-align: top;\n",
       "    }\n",
       "\n",
       "    .dataframe thead th {\n",
       "        text-align: right;\n",
       "    }\n",
       "</style>\n",
       "<table border=\"1\" class=\"dataframe\">\n",
       "  <thead>\n",
       "    <tr style=\"text-align: right;\">\n",
       "      <th></th>\n",
       "      <th>user_id</th>\n",
       "      <th>item_id</th>\n",
       "      <th>datetime</th>\n",
       "      <th>total_dur</th>\n",
       "      <th>weight</th>\n",
       "      <th>user_hist</th>\n",
       "      <th>item_pop</th>\n",
       "      <th>user_avg_pop</th>\n",
       "      <th>item_avg_hist</th>\n",
       "      <th>user_last_pop</th>\n",
       "      <th>overall_time</th>\n",
       "    </tr>\n",
       "  </thead>\n",
       "  <tbody>\n",
       "    <tr>\n",
       "      <th>0</th>\n",
       "      <td>0</td>\n",
       "      <td>6006</td>\n",
       "      <td>2021-07-20</td>\n",
       "      <td>1</td>\n",
       "      <td>0.0</td>\n",
       "      <td>6</td>\n",
       "      <td>5208</td>\n",
       "      <td>41885.0</td>\n",
       "      <td>16.891897</td>\n",
       "      <td>5208</td>\n",
       "      <td>7.67</td>\n",
       "    </tr>\n",
       "    <tr>\n",
       "      <th>1</th>\n",
       "      <td>0</td>\n",
       "      <td>7102</td>\n",
       "      <td>2021-07-19</td>\n",
       "      <td>169</td>\n",
       "      <td>3.0</td>\n",
       "      <td>6</td>\n",
       "      <td>11626</td>\n",
       "      <td>41885.0</td>\n",
       "      <td>20.349475</td>\n",
       "      <td>5208</td>\n",
       "      <td>7.67</td>\n",
       "    </tr>\n",
       "    <tr>\n",
       "      <th>2</th>\n",
       "      <td>0</td>\n",
       "      <td>14359</td>\n",
       "      <td>2021-07-19</td>\n",
       "      <td>130</td>\n",
       "      <td>2.0</td>\n",
       "      <td>6</td>\n",
       "      <td>6053</td>\n",
       "      <td>41885.0</td>\n",
       "      <td>22.546836</td>\n",
       "      <td>5208</td>\n",
       "      <td>7.67</td>\n",
       "    </tr>\n",
       "  </tbody>\n",
       "</table>\n",
       "</div>"
      ],
      "text/plain": [
       "   user_id  item_id   datetime  total_dur  weight  user_hist  item_pop  \\\n",
       "0        0     6006 2021-07-20          1     0.0          6      5208   \n",
       "1        0     7102 2021-07-19        169     3.0          6     11626   \n",
       "2        0    14359 2021-07-19        130     2.0          6      6053   \n",
       "\n",
       "   user_avg_pop  item_avg_hist  user_last_pop  overall_time  \n",
       "0       41885.0      16.891897           5208          7.67  \n",
       "1       41885.0      20.349475           5208          7.67  \n",
       "2       41885.0      22.546836           5208          7.67  "
      ]
     },
     "execution_count": 24,
     "metadata": {},
     "output_type": "execute_result"
    }
   ],
   "source": [
    "base_models_data['user_hist'] = (\n",
    "    base_models_data.groupby('user_id')\n",
    "    ['item_id'].transform('count')\n",
    ")\n",
    "\n",
    "base_models_data['item_pop'] = (\n",
    "    base_models_data.groupby('item_id')\n",
    "    ['user_id'].transform('count')\n",
    ")\n",
    "\n",
    "base_models_data['user_avg_pop'] = (\n",
    "    base_models_data.groupby('user_id')\n",
    "    ['item_pop'].transform('mean')\n",
    ")\n",
    "\n",
    "base_models_data['item_avg_hist'] = (\n",
    "    base_models_data.groupby('item_id')\n",
    "    ['user_hist'].transform('mean')\n",
    ")\n",
    "\n",
    "base_models_data.sort_values(\n",
    "    by=[Columns.User, Columns.Datetime],\n",
    "    ascending=[True, False],\n",
    "    ignore_index=True,\n",
    "    inplace=True,\n",
    ")\n",
    "base_models_data['user_last_pop'] = (\n",
    "    base_models_data.groupby('user_id')\n",
    "    ['item_pop'].transform('first')\n",
    ")\n",
    "\n",
    "# добавим фичи для времени просмотра по каждому юзеру\n",
    "base_models_data[\"total_duration\"] = base_models_data[\"total_dur\"] * base_models_data[\n",
    "    \"weight\"] / 100\n",
    "base_models_data[\"overall_time\"] = base_models_data.groupby(\"user_id\")[\"total_duration\"].transform(\"sum\")\n",
    "base_models_data.drop(\"total_duration\", axis=1, inplace=True)\n",
    "\n",
    "base_models_data.head(3)"
   ]
  },
  {
   "cell_type": "code",
   "execution_count": 25,
   "metadata": {
    "ExecuteTime": {
     "end_time": "2023-12-20T11:52:57.038926500Z",
     "start_time": "2023-12-20T11:52:55.804595400Z"
    }
   },
   "outputs": [
    {
     "data": {
      "text/html": [
       "<div>\n",
       "<style scoped>\n",
       "    .dataframe tbody tr th:only-of-type {\n",
       "        vertical-align: middle;\n",
       "    }\n",
       "\n",
       "    .dataframe tbody tr th {\n",
       "        vertical-align: top;\n",
       "    }\n",
       "\n",
       "    .dataframe thead th {\n",
       "        text-align: right;\n",
       "    }\n",
       "</style>\n",
       "<table border=\"1\" class=\"dataframe\">\n",
       "  <thead>\n",
       "    <tr style=\"text-align: right;\">\n",
       "      <th></th>\n",
       "      <th>user_id</th>\n",
       "      <th>age</th>\n",
       "      <th>income</th>\n",
       "      <th>sex</th>\n",
       "      <th>kids_flg</th>\n",
       "      <th>user_hist</th>\n",
       "      <th>user_avg_pop</th>\n",
       "      <th>user_last_pop</th>\n",
       "      <th>overall_time</th>\n",
       "    </tr>\n",
       "  </thead>\n",
       "  <tbody>\n",
       "    <tr>\n",
       "      <th>0</th>\n",
       "      <td>973171</td>\n",
       "      <td>1</td>\n",
       "      <td>4</td>\n",
       "      <td>1</td>\n",
       "      <td>1</td>\n",
       "      <td>5.0</td>\n",
       "      <td>19550.800000</td>\n",
       "      <td>93403.0</td>\n",
       "      <td>171398.16</td>\n",
       "    </tr>\n",
       "    <tr>\n",
       "      <th>1</th>\n",
       "      <td>962099</td>\n",
       "      <td>0</td>\n",
       "      <td>2</td>\n",
       "      <td>1</td>\n",
       "      <td>0</td>\n",
       "      <td>13.0</td>\n",
       "      <td>1329.307692</td>\n",
       "      <td>260.0</td>\n",
       "      <td>58671.26</td>\n",
       "    </tr>\n",
       "    <tr>\n",
       "      <th>2</th>\n",
       "      <td>1047345</td>\n",
       "      <td>3</td>\n",
       "      <td>3</td>\n",
       "      <td>0</td>\n",
       "      <td>0</td>\n",
       "      <td>NaN</td>\n",
       "      <td>NaN</td>\n",
       "      <td>NaN</td>\n",
       "      <td>NaN</td>\n",
       "    </tr>\n",
       "  </tbody>\n",
       "</table>\n",
       "</div>"
      ],
      "text/plain": [
       "   user_id age income sex kids_flg  user_hist  user_avg_pop  user_last_pop  \\\n",
       "0   973171   1      4   1        1        5.0  19550.800000        93403.0   \n",
       "1   962099   0      2   1        0       13.0   1329.307692          260.0   \n",
       "2  1047345   3      3   0        0        NaN           NaN            NaN   \n",
       "\n",
       "   overall_time  \n",
       "0     171398.16  \n",
       "1      58671.26  \n",
       "2           NaN  "
      ]
     },
     "execution_count": 25,
     "metadata": {},
     "output_type": "execute_result"
    }
   ],
   "source": [
    "items = pd.merge(\n",
    "    left=items,\n",
    "    right=(\n",
    "        base_models_data\n",
    "        [['item_id', 'item_pop', 'item_avg_hist']]\n",
    "        .drop_duplicates()\n",
    "    ),\n",
    "    how='left',\n",
    "    on='item_id',\n",
    ")\n",
    "\n",
    "users = pd.merge(\n",
    "    left=users,\n",
    "    right=(\n",
    "        base_models_data\n",
    "        [['user_id', 'user_hist', 'user_avg_pop', 'user_last_pop', 'overall_time']]\n",
    "        .drop_duplicates()\n",
    "    ),\n",
    "    how='left',\n",
    "    on='user_id',\n",
    ")\n",
    "users.head(3)"
   ]
  },
  {
   "cell_type": "code",
   "execution_count": 26,
   "metadata": {
    "ExecuteTime": {
     "end_time": "2023-12-20T11:52:57.212350800Z",
     "start_time": "2023-12-20T11:52:57.040503200Z"
    }
   },
   "outputs": [],
   "source": [
    "default_values_items['item_pop'] = base_models_data['item_pop'].median()\n",
    "default_values_items['item_avg_hist'] = base_models_data['item_avg_hist'].median()\n",
    "\n",
    "default_values_users = {\n",
    "    'user_hist': 0,\n",
    "    'user_avg_pop': base_models_data['user_avg_pop'].median(),\n",
    "    'user_last_pop': base_models_data['user_last_pop'].median(),\n",
    "    'overall_time': 0\n",
    "}"
   ]
  },
  {
   "cell_type": "markdown",
   "metadata": {},
   "source": [
    "### Джойним кандидатов и юзер/айтем фичи"
   ]
  },
  {
   "cell_type": "code",
   "execution_count": 27,
   "metadata": {
    "ExecuteTime": {
     "end_time": "2023-12-20T11:53:27.930811600Z",
     "start_time": "2023-12-20T11:52:57.217904800Z"
    }
   },
   "outputs": [
    {
     "data": {
      "text/html": [
       "<div>\n",
       "<style scoped>\n",
       "    .dataframe tbody tr th:only-of-type {\n",
       "        vertical-align: middle;\n",
       "    }\n",
       "\n",
       "    .dataframe tbody tr th {\n",
       "        vertical-align: top;\n",
       "    }\n",
       "\n",
       "    .dataframe thead th {\n",
       "        text-align: right;\n",
       "    }\n",
       "</style>\n",
       "<table border=\"1\" class=\"dataframe\">\n",
       "  <thead>\n",
       "    <tr style=\"text-align: right;\">\n",
       "      <th></th>\n",
       "      <th>user_id</th>\n",
       "      <th>item_id</th>\n",
       "      <th>datetime</th>\n",
       "      <th>total_dur</th>\n",
       "      <th>weight</th>\n",
       "      <th>Unnamed: 0</th>\n",
       "      <th>lfm_score</th>\n",
       "      <th>lfm_rank</th>\n",
       "      <th>pop_score</th>\n",
       "      <th>pop_rank</th>\n",
       "    </tr>\n",
       "  </thead>\n",
       "  <tbody>\n",
       "    <tr>\n",
       "      <th>5866534</th>\n",
       "      <td>3</td>\n",
       "      <td>101</td>\n",
       "      <td>2021-07-01</td>\n",
       "      <td>0.0</td>\n",
       "      <td>0.0</td>\n",
       "      <td>27467084</td>\n",
       "      <td>0.000001</td>\n",
       "      <td>35</td>\n",
       "      <td>242.99</td>\n",
       "      <td>2086.0</td>\n",
       "    </tr>\n",
       "    <tr>\n",
       "      <th>5866508</th>\n",
       "      <td>3</td>\n",
       "      <td>142</td>\n",
       "      <td>2021-08-13</td>\n",
       "      <td>5892.0</td>\n",
       "      <td>100.0</td>\n",
       "      <td>27467058</td>\n",
       "      <td>0.000004</td>\n",
       "      <td>9</td>\n",
       "      <td>35862.00</td>\n",
       "      <td>8.0</td>\n",
       "    </tr>\n",
       "    <tr>\n",
       "      <th>5866522</th>\n",
       "      <td>3</td>\n",
       "      <td>849</td>\n",
       "      <td>2021-07-01</td>\n",
       "      <td>0.0</td>\n",
       "      <td>0.0</td>\n",
       "      <td>27467072</td>\n",
       "      <td>0.000002</td>\n",
       "      <td>23</td>\n",
       "      <td>13304.00</td>\n",
       "      <td>26.0</td>\n",
       "    </tr>\n",
       "  </tbody>\n",
       "</table>\n",
       "</div>"
      ],
      "text/plain": [
       "         user_id  item_id   datetime  total_dur  weight  Unnamed: 0  \\\n",
       "5866534        3      101 2021-07-01        0.0     0.0    27467084   \n",
       "5866508        3      142 2021-08-13     5892.0   100.0    27467058   \n",
       "5866522        3      849 2021-07-01        0.0     0.0    27467072   \n",
       "\n",
       "         lfm_score  lfm_rank  pop_score  pop_rank  \n",
       "5866534   0.000001        35     242.99    2086.0  \n",
       "5866508   0.000004         9   35862.00       8.0  \n",
       "5866522   0.000002        23   13304.00      26.0  "
      ]
     },
     "execution_count": 27,
     "metadata": {},
     "output_type": "execute_result"
    }
   ],
   "source": [
    "def users_filter(\n",
    "    user_list: np.ndarray,\n",
    "    candidates_df: pd.DataFrame,\n",
    "    df: pd.DataFrame,\n",
    ") -> pd.DataFrame:\n",
    "    df = pd.merge(\n",
    "        df[df[\"user_id\"].isin(user_list)],\n",
    "        candidates_df[candidates_df[\"user_id\"].isin(user_list)],\n",
    "        how=\"right\",\n",
    "        on=[\"user_id\", \"item_id\"],\n",
    "    )\n",
    "    lfm_min_score: float = df[\"lfm_score\"].min() - 0.01\n",
    "    lfm_max_rank: int = df[\"lfm_rank\"].max() + 1\n",
    "    pop_min_score: float = df[\"pop_score\"].min() - 0.01\n",
    "    pop_max_rank: int = df[\"pop_rank\"].max() + 1\n",
    "\n",
    "    default_values = {\n",
    "        \"lfm_score\": lfm_min_score,\n",
    "        \"lfm_rank\": lfm_max_rank,\n",
    "        \"pop_score\": pop_min_score,\n",
    "        \"pop_rank\": pop_max_rank,\n",
    "        **interactions_default_values,\n",
    "    }\n",
    "    df.fillna(default_values, inplace=True)\n",
    "\n",
    "    df.sort_values(\n",
    "        by=[\"user_id\", \"item_id\"],\n",
    "        inplace=True,\n",
    "    )\n",
    "    return df\n",
    "\n",
    "\n",
    "ranker_train = users_filter(train_users, candidates, ranker_data)\n",
    "ranker_val = users_filter(val_users, candidates, ranker_data)\n",
    "ranker_test = users_filter(test_users, candidates, ranker_data)\n",
    "\n",
    "ranker_train.head(3)"
   ]
  },
  {
   "cell_type": "code",
   "execution_count": 28,
   "metadata": {
    "ExecuteTime": {
     "end_time": "2023-12-20T11:53:46.320123100Z",
     "start_time": "2023-12-20T11:53:27.934395700Z"
    }
   },
   "outputs": [
    {
     "data": {
      "text/html": [
       "<div>\n",
       "<style scoped>\n",
       "    .dataframe tbody tr th:only-of-type {\n",
       "        vertical-align: middle;\n",
       "    }\n",
       "\n",
       "    .dataframe tbody tr th {\n",
       "        vertical-align: top;\n",
       "    }\n",
       "\n",
       "    .dataframe thead th {\n",
       "        text-align: right;\n",
       "    }\n",
       "</style>\n",
       "<table border=\"1\" class=\"dataframe\">\n",
       "  <thead>\n",
       "    <tr style=\"text-align: right;\">\n",
       "      <th></th>\n",
       "      <th>user_id</th>\n",
       "      <th>item_id</th>\n",
       "      <th>datetime</th>\n",
       "      <th>total_dur</th>\n",
       "      <th>weight</th>\n",
       "      <th>Unnamed: 0</th>\n",
       "      <th>lfm_score</th>\n",
       "      <th>lfm_rank</th>\n",
       "      <th>pop_score</th>\n",
       "      <th>pop_rank</th>\n",
       "      <th>...</th>\n",
       "      <th>user_avg_pop</th>\n",
       "      <th>user_last_pop</th>\n",
       "      <th>overall_time</th>\n",
       "      <th>content_type</th>\n",
       "      <th>release_year</th>\n",
       "      <th>for_kids</th>\n",
       "      <th>age_rating</th>\n",
       "      <th>studios</th>\n",
       "      <th>item_pop</th>\n",
       "      <th>item_avg_hist</th>\n",
       "    </tr>\n",
       "  </thead>\n",
       "  <tbody>\n",
       "    <tr>\n",
       "      <th>0</th>\n",
       "      <td>3</td>\n",
       "      <td>101</td>\n",
       "      <td>2021-07-01</td>\n",
       "      <td>0.0</td>\n",
       "      <td>0.0</td>\n",
       "      <td>27467084</td>\n",
       "      <td>0.000001</td>\n",
       "      <td>35</td>\n",
       "      <td>242.99</td>\n",
       "      <td>2086.0</td>\n",
       "      <td>...</td>\n",
       "      <td>11957.864865</td>\n",
       "      <td>2858.0</td>\n",
       "      <td>0.0</td>\n",
       "      <td>0</td>\n",
       "      <td>2019.0</td>\n",
       "      <td>-1</td>\n",
       "      <td>18.0</td>\n",
       "      <td>-1</td>\n",
       "      <td>9542.0</td>\n",
       "      <td>17.990673</td>\n",
       "    </tr>\n",
       "    <tr>\n",
       "      <th>1</th>\n",
       "      <td>3</td>\n",
       "      <td>142</td>\n",
       "      <td>2021-08-13</td>\n",
       "      <td>5892.0</td>\n",
       "      <td>100.0</td>\n",
       "      <td>27467058</td>\n",
       "      <td>0.000004</td>\n",
       "      <td>9</td>\n",
       "      <td>35862.00</td>\n",
       "      <td>8.0</td>\n",
       "      <td>...</td>\n",
       "      <td>11957.864865</td>\n",
       "      <td>2858.0</td>\n",
       "      <td>0.0</td>\n",
       "      <td>0</td>\n",
       "      <td>2020.0</td>\n",
       "      <td>-1</td>\n",
       "      <td>16.0</td>\n",
       "      <td>-1</td>\n",
       "      <td>35862.0</td>\n",
       "      <td>15.251464</td>\n",
       "    </tr>\n",
       "    <tr>\n",
       "      <th>2</th>\n",
       "      <td>3</td>\n",
       "      <td>849</td>\n",
       "      <td>2021-07-01</td>\n",
       "      <td>0.0</td>\n",
       "      <td>0.0</td>\n",
       "      <td>27467072</td>\n",
       "      <td>0.000002</td>\n",
       "      <td>23</td>\n",
       "      <td>13304.00</td>\n",
       "      <td>26.0</td>\n",
       "      <td>...</td>\n",
       "      <td>11957.864865</td>\n",
       "      <td>2858.0</td>\n",
       "      <td>0.0</td>\n",
       "      <td>0</td>\n",
       "      <td>2018.0</td>\n",
       "      <td>-1</td>\n",
       "      <td>18.0</td>\n",
       "      <td>-1</td>\n",
       "      <td>13304.0</td>\n",
       "      <td>16.444678</td>\n",
       "    </tr>\n",
       "  </tbody>\n",
       "</table>\n",
       "<p>3 rows × 25 columns</p>\n",
       "</div>"
      ],
      "text/plain": [
       "   user_id  item_id   datetime  total_dur  weight  Unnamed: 0  lfm_score  \\\n",
       "0        3      101 2021-07-01        0.0     0.0    27467084   0.000001   \n",
       "1        3      142 2021-08-13     5892.0   100.0    27467058   0.000004   \n",
       "2        3      849 2021-07-01        0.0     0.0    27467072   0.000002   \n",
       "\n",
       "   lfm_rank  pop_score  pop_rank  ...  user_avg_pop user_last_pop  \\\n",
       "0        35     242.99    2086.0  ...  11957.864865        2858.0   \n",
       "1         9   35862.00       8.0  ...  11957.864865        2858.0   \n",
       "2        23   13304.00      26.0  ...  11957.864865        2858.0   \n",
       "\n",
       "  overall_time content_type  release_year  for_kids  age_rating  studios  \\\n",
       "0          0.0            0        2019.0        -1        18.0       -1   \n",
       "1          0.0            0        2020.0        -1        16.0       -1   \n",
       "2          0.0            0        2018.0        -1        18.0       -1   \n",
       "\n",
       "  item_pop  item_avg_hist  \n",
       "0   9542.0      17.990673  \n",
       "1  35862.0      15.251464  \n",
       "2  13304.0      16.444678  \n",
       "\n",
       "[3 rows x 25 columns]"
      ]
     },
     "execution_count": 28,
     "metadata": {},
     "output_type": "execute_result"
    }
   ],
   "source": [
    "def add_features(df: pd.DataFrame) -> pd.DataFrame:\n",
    "    df = pd.merge(\n",
    "        df,\n",
    "        users,\n",
    "        how='left',\n",
    "        on=['user_id']\n",
    "    )\n",
    "    df = pd.merge(\n",
    "        df,\n",
    "        items,\n",
    "        how='left',\n",
    "        on=['item_id']\n",
    "    )\n",
    "\n",
    "    df.fillna(default_values_items, inplace=True)\n",
    "    df.fillna(default_values_users, inplace=True)\n",
    "\n",
    "    for col in df.columns:\n",
    "        if isinstance(df[col].dtype, pd.CategoricalDtype):\n",
    "            if -1 not in df[col].cat.categories:\n",
    "                df[col] = df[col].cat.add_categories(-1)\n",
    "            df.fillna({col: -1}, inplace=True)\n",
    "    return df\n",
    "\n",
    "\n",
    "ranker_train = add_features(ranker_train)\n",
    "ranker_val = add_features(ranker_val)\n",
    "ranker_test = add_features(ranker_test)\n",
    "\n",
    "ranker_train.head(3)"
   ]
  },
  {
   "cell_type": "code",
   "execution_count": 29,
   "metadata": {
    "ExecuteTime": {
     "end_time": "2023-12-20T11:53:46.335001700Z",
     "start_time": "2023-12-20T11:53:46.326161600Z"
    }
   },
   "outputs": [],
   "source": [
    "# for name in ['train', 'val', 'test']:\n",
    "#     path: str = f'data/ranker_{name}.csv'\n",
    "#     # eval(f'ranker_{name}').to_csv(path, index=False)\n",
    "#     locals()[f'ranker_{name}'].to_csv(path, index=False)"
   ]
  },
  {
   "cell_type": "markdown",
   "metadata": {},
   "source": [
    "## Обучаем ранкер\n",
    "### Pointwise"
   ]
  },
  {
   "cell_type": "code",
   "execution_count": 30,
   "metadata": {
    "ExecuteTime": {
     "end_time": "2023-12-20T11:53:46.335001700Z",
     "start_time": "2023-12-20T11:53:46.332971400Z"
    }
   },
   "outputs": [],
   "source": [
    "# for name in ['train', 'val', 'test']:\n",
    "#     path: str = f'data/ranker_{name}.csv'\n",
    "#     locals()[f'ranker_{name}'] = pd.read_csv(path)"
   ]
  },
  {
   "cell_type": "code",
   "execution_count": 31,
   "metadata": {
    "ExecuteTime": {
     "end_time": "2023-12-20T11:53:46.456424100Z",
     "start_time": "2023-12-20T11:53:46.336525400Z"
    }
   },
   "outputs": [
    {
     "data": {
      "text/html": [
       "<div>\n",
       "<style scoped>\n",
       "    .dataframe tbody tr th:only-of-type {\n",
       "        vertical-align: middle;\n",
       "    }\n",
       "\n",
       "    .dataframe tbody tr th {\n",
       "        vertical-align: top;\n",
       "    }\n",
       "\n",
       "    .dataframe thead th {\n",
       "        text-align: right;\n",
       "    }\n",
       "</style>\n",
       "<table border=\"1\" class=\"dataframe\">\n",
       "  <thead>\n",
       "    <tr style=\"text-align: right;\">\n",
       "      <th></th>\n",
       "      <th>user_id</th>\n",
       "      <th>item_id</th>\n",
       "      <th>datetime</th>\n",
       "      <th>total_dur</th>\n",
       "      <th>weight</th>\n",
       "      <th>Unnamed: 0</th>\n",
       "      <th>lfm_score</th>\n",
       "      <th>lfm_rank</th>\n",
       "      <th>pop_score</th>\n",
       "      <th>pop_rank</th>\n",
       "      <th>...</th>\n",
       "      <th>user_last_pop</th>\n",
       "      <th>overall_time</th>\n",
       "      <th>content_type</th>\n",
       "      <th>release_year</th>\n",
       "      <th>for_kids</th>\n",
       "      <th>age_rating</th>\n",
       "      <th>studios</th>\n",
       "      <th>item_pop</th>\n",
       "      <th>item_avg_hist</th>\n",
       "      <th>target</th>\n",
       "    </tr>\n",
       "  </thead>\n",
       "  <tbody>\n",
       "    <tr>\n",
       "      <th>0</th>\n",
       "      <td>3</td>\n",
       "      <td>101</td>\n",
       "      <td>2021-07-01</td>\n",
       "      <td>0.0</td>\n",
       "      <td>0.0</td>\n",
       "      <td>27467084</td>\n",
       "      <td>0.000001</td>\n",
       "      <td>35</td>\n",
       "      <td>242.99</td>\n",
       "      <td>2086.0</td>\n",
       "      <td>...</td>\n",
       "      <td>2858.0</td>\n",
       "      <td>0.0</td>\n",
       "      <td>0</td>\n",
       "      <td>2019.0</td>\n",
       "      <td>-1</td>\n",
       "      <td>18.0</td>\n",
       "      <td>-1</td>\n",
       "      <td>9542.0</td>\n",
       "      <td>17.990673</td>\n",
       "      <td>0</td>\n",
       "    </tr>\n",
       "    <tr>\n",
       "      <th>1</th>\n",
       "      <td>3</td>\n",
       "      <td>142</td>\n",
       "      <td>2021-08-13</td>\n",
       "      <td>5892.0</td>\n",
       "      <td>100.0</td>\n",
       "      <td>27467058</td>\n",
       "      <td>0.000004</td>\n",
       "      <td>9</td>\n",
       "      <td>35862.00</td>\n",
       "      <td>8.0</td>\n",
       "      <td>...</td>\n",
       "      <td>2858.0</td>\n",
       "      <td>0.0</td>\n",
       "      <td>0</td>\n",
       "      <td>2020.0</td>\n",
       "      <td>-1</td>\n",
       "      <td>16.0</td>\n",
       "      <td>-1</td>\n",
       "      <td>35862.0</td>\n",
       "      <td>15.251464</td>\n",
       "      <td>1</td>\n",
       "    </tr>\n",
       "    <tr>\n",
       "      <th>2</th>\n",
       "      <td>3</td>\n",
       "      <td>849</td>\n",
       "      <td>2021-07-01</td>\n",
       "      <td>0.0</td>\n",
       "      <td>0.0</td>\n",
       "      <td>27467072</td>\n",
       "      <td>0.000002</td>\n",
       "      <td>23</td>\n",
       "      <td>13304.00</td>\n",
       "      <td>26.0</td>\n",
       "      <td>...</td>\n",
       "      <td>2858.0</td>\n",
       "      <td>0.0</td>\n",
       "      <td>0</td>\n",
       "      <td>2018.0</td>\n",
       "      <td>-1</td>\n",
       "      <td>18.0</td>\n",
       "      <td>-1</td>\n",
       "      <td>13304.0</td>\n",
       "      <td>16.444678</td>\n",
       "      <td>0</td>\n",
       "    </tr>\n",
       "  </tbody>\n",
       "</table>\n",
       "<p>3 rows × 26 columns</p>\n",
       "</div>"
      ],
      "text/plain": [
       "   user_id  item_id   datetime  total_dur  weight  Unnamed: 0  lfm_score  \\\n",
       "0        3      101 2021-07-01        0.0     0.0    27467084   0.000001   \n",
       "1        3      142 2021-08-13     5892.0   100.0    27467058   0.000004   \n",
       "2        3      849 2021-07-01        0.0     0.0    27467072   0.000002   \n",
       "\n",
       "   lfm_rank  pop_score  pop_rank  ... user_last_pop overall_time content_type  \\\n",
       "0        35     242.99    2086.0  ...        2858.0          0.0            0   \n",
       "1         9   35862.00       8.0  ...        2858.0          0.0            0   \n",
       "2        23   13304.00      26.0  ...        2858.0          0.0            0   \n",
       "\n",
       "  release_year  for_kids  age_rating  studios  item_pop item_avg_hist  target  \n",
       "0       2019.0        -1        18.0       -1    9542.0     17.990673       0  \n",
       "1       2020.0        -1        16.0       -1   35862.0     15.251464       1  \n",
       "2       2018.0        -1        18.0       -1   13304.0     16.444678       0  \n",
       "\n",
       "[3 rows x 26 columns]"
      ]
     },
     "execution_count": 31,
     "metadata": {},
     "output_type": "execute_result"
    }
   ],
   "source": [
    "def add_target(df: pd.DataFrame) -> pd.DataFrame:\n",
    "    df['target'] = df[Columns.Weight] > 50\n",
    "    df['target'] = df['target'].astype(int)\n",
    "    return df\n",
    "\n",
    "\n",
    "ranker_train = add_target(ranker_train)\n",
    "ranker_val = add_target(ranker_val)\n",
    "ranker_test = add_target(ranker_test)\n",
    "\n",
    "ranker_train.head(3)"
   ]
  },
  {
   "cell_type": "code",
   "execution_count": 32,
   "metadata": {
    "ExecuteTime": {
     "start_time": "2023-12-20T11:53:46.423281900Z"
    },
    "is_executing": true
   },
   "outputs": [],
   "source": [
    "def filter_group(df: pd.DataFrame) -> pd.DataFrame:\n",
    "    df.sort_values(\n",
    "        by=['user_id', 'item_id'],\n",
    "        inplace=True,\n",
    "    )\n",
    "    groups_df = (\n",
    "        df[['user_id', 'item_id']]\n",
    "        .groupby(by=['user_id']).count()\n",
    "        .rename(columns={'item_id': 'group_size'})\n",
    "    )\n",
    "    df = pd.merge(\n",
    "        df,\n",
    "        groups_df,\n",
    "        how='left',\n",
    "        on=['user_id']\n",
    "    )\n",
    "    df = df[df['group_size'] >= 50]\n",
    "\n",
    "    df.drop(columns=['group_size'], inplace=True)\n",
    "    return df\n",
    "\n",
    "\n",
    "ranker_train = filter_group(ranker_train)\n",
    "ranker_val = filter_group(ranker_val)"
   ]
  },
  {
   "cell_type": "code",
   "execution_count": 33,
   "metadata": {
    "is_executing": true
   },
   "outputs": [
    {
     "data": {
      "text/plain": [
       "Index(['user_id', 'item_id', 'datetime', 'total_dur', 'weight', 'Unnamed: 0',\n",
       "       'lfm_score', 'lfm_rank', 'pop_score', 'pop_rank', 'age', 'income',\n",
       "       'sex', 'kids_flg', 'user_hist', 'user_avg_pop', 'user_last_pop',\n",
       "       'overall_time', 'content_type', 'release_year', 'for_kids',\n",
       "       'age_rating', 'studios', 'item_pop', 'item_avg_hist', 'target'],\n",
       "      dtype='object')"
      ]
     },
     "execution_count": 33,
     "metadata": {},
     "output_type": "execute_result"
    }
   ],
   "source": [
    "ranker_train.columns"
   ]
  },
  {
   "cell_type": "code",
   "execution_count": 34,
   "metadata": {
    "is_executing": true
   },
   "outputs": [],
   "source": [
    "cols = [\n",
    "    'lfm_score', 'lfm_rank', 'pop_score', 'pop_rank',\n",
    "    'age', 'income', 'sex', 'kids_flg', 'user_hist', 'user_avg_pop', 'user_last_pop',\n",
    "    'content_type', 'release_year', 'for_kids', 'age_rating', 'studios', 'item_pop',\n",
    "    'item_avg_hist', 'overall_time'\n",
    "]\n",
    "cat_cols = [\n",
    "    'age', 'income', 'sex', 'kids_flg',\n",
    "    'content_type', 'for_kids', 'studios',\n",
    "]"
   ]
  },
  {
   "cell_type": "code",
   "execution_count": null,
   "metadata": {
    "is_executing": true
   },
   "outputs": [],
   "source": [
    "early_stopping_rounds = 32\n",
    "\n",
    "params = {\n",
    "    'objective': 'binary',\n",
    "    'n_estimators': 10000,\n",
    "    'max_depth': 4,\n",
    "    'num_leaves': 10,\n",
    "    'min_child_samples': 100,\n",
    "    'learning_rate': 0.25,\n",
    "    'reg_lambda': 1,\n",
    "    'colsample_bytree': 0.9,\n",
    "    'early_stopping_rounds': early_stopping_rounds,\n",
    "    'verbose': early_stopping_rounds // 8,\n",
    "    'random_state': 42,\n",
    "}\n",
    "fit_params = {\n",
    "    'X': ranker_train[cols],\n",
    "    'y': ranker_train['target'],\n",
    "    'eval_set': [(ranker_val[cols], ranker_val['target'])],\n",
    "    'eval_metric': 'logloss',\n",
    "    'categorical_feature': cat_cols,\n",
    "    'feature_name': cols,\n",
    "}\n",
    "pointwise_model = LGBMClassifier(**params)\n",
    "pointwise_model.fit(**fit_params)"
   ]
  },
  {
   "cell_type": "code",
   "execution_count": 36,
   "metadata": {
    "is_executing": true
   },
   "outputs": [],
   "source": [
    "import pickle\n",
    "\n",
    "with open(f'models/pointwise_model.pkl', 'wb') as f:\n",
    "    pickle.dump(pointwise_model, f)"
   ]
  },
  {
   "cell_type": "code",
   "execution_count": 37,
   "metadata": {
    "is_executing": true
   },
   "outputs": [
    {
     "data": {
      "text/plain": [
       "0.03808468881358713"
      ]
     },
     "execution_count": 37,
     "metadata": {},
     "output_type": "execute_result"
    }
   ],
   "source": [
    "pointwise_model.best_score_['valid_0']['binary_logloss']"
   ]
  },
  {
   "cell_type": "code",
   "execution_count": 38,
   "metadata": {
    "is_executing": true
   },
   "outputs": [],
   "source": [
    "explainer = shap.Explainer(pointwise_model)\n",
    "shap_values = explainer(ranker_test[cols].iloc[:10_000])\n",
    "\n",
    "shap_values.values = shap_values.values[:, :, 1]\n",
    "shap_values.base_values = shap_values.base_values[:, 1]"
   ]
  },
  {
   "cell_type": "code",
   "execution_count": 39,
   "metadata": {
    "is_executing": true
   },
   "outputs": [
    {
     "data": {
      "image/png": "[encoded data removed]",
      "text/plain": [
       "<Figure size 800x910 with 2 Axes>"
      ]
     },
     "metadata": {},
     "output_type": "display_data"
    }
   ],
   "source": [
    "shap.plots.beeswarm(shap_values, max_display=len(cols))"
   ]
  },
  {
   "cell_type": "code",
   "execution_count": 40,
   "metadata": {
    "is_executing": true
   },
   "outputs": [
    {
     "data": {
      "image/png": "[encoded data removed]",
      "text/plain": [
       "<Figure size 800x1100 with 1 Axes>"
      ]
     },
     "metadata": {},
     "output_type": "display_data"
    }
   ],
   "source": [
    "shap.plots.bar(shap_values, max_display=len(cols))"
   ]
  },
  {
   "cell_type": "code",
   "execution_count": 41,
   "metadata": {
    "is_executing": true
   },
   "outputs": [
    {
     "data": {
      "text/plain": [
       "array([0.00099692, 0.01339248, 0.00047187, ..., 0.00112933, 0.00166235,\n",
       "       0.07851032])"
      ]
     },
     "execution_count": 41,
     "metadata": {},
     "output_type": "execute_result"
    }
   ],
   "source": [
    "y_pred: np.ndarray = pointwise_model.predict_proba(ranker_test[cols])[:, 1]\n",
    "y_true: np.ndarray = np.array(ranker_test['target'])\n",
    "\n",
    "y_pred"
   ]
  },
  {
   "cell_type": "code",
   "execution_count": 42,
   "metadata": {
    "is_executing": true
   },
   "outputs": [
    {
     "data": {
      "text/html": [
       "<div>\n",
       "<style scoped>\n",
       "    .dataframe tbody tr th:only-of-type {\n",
       "        vertical-align: middle;\n",
       "    }\n",
       "\n",
       "    .dataframe tbody tr th {\n",
       "        vertical-align: top;\n",
       "    }\n",
       "\n",
       "    .dataframe thead th {\n",
       "        text-align: right;\n",
       "    }\n",
       "</style>\n",
       "<table border=\"1\" class=\"dataframe\">\n",
       "  <thead>\n",
       "    <tr style=\"text-align: right;\">\n",
       "      <th></th>\n",
       "      <th>user_id</th>\n",
       "      <th>item_id</th>\n",
       "      <th>datetime</th>\n",
       "      <th>total_dur</th>\n",
       "      <th>weight</th>\n",
       "      <th>Unnamed: 0</th>\n",
       "      <th>lfm_score</th>\n",
       "      <th>lfm_rank</th>\n",
       "      <th>pop_score</th>\n",
       "      <th>pop_rank</th>\n",
       "      <th>...</th>\n",
       "      <th>for_kids</th>\n",
       "      <th>age_rating</th>\n",
       "      <th>studios</th>\n",
       "      <th>item_pop</th>\n",
       "      <th>item_avg_hist</th>\n",
       "      <th>target</th>\n",
       "      <th>pointwise_score</th>\n",
       "      <th>pointwise_rank</th>\n",
       "      <th>pointwise_hybrid_score</th>\n",
       "      <th>pointwise_hybrid_rank</th>\n",
       "    </tr>\n",
       "  </thead>\n",
       "  <tbody>\n",
       "    <tr>\n",
       "      <th>29</th>\n",
       "      <td>53</td>\n",
       "      <td>9728</td>\n",
       "      <td>2021-07-01</td>\n",
       "      <td>0.0</td>\n",
       "      <td>0.0</td>\n",
       "      <td>1921451</td>\n",
       "      <td>-0.000035</td>\n",
       "      <td>2</td>\n",
       "      <td>242.99</td>\n",
       "      <td>2086.0</td>\n",
       "      <td>...</td>\n",
       "      <td>-1</td>\n",
       "      <td>18.0</td>\n",
       "      <td>-1</td>\n",
       "      <td>76978.0</td>\n",
       "      <td>11.165736</td>\n",
       "      <td>0</td>\n",
       "      <td>0.057527</td>\n",
       "      <td>1</td>\n",
       "      <td>0.057527</td>\n",
       "      <td>1</td>\n",
       "    </tr>\n",
       "    <tr>\n",
       "      <th>11</th>\n",
       "      <td>53</td>\n",
       "      <td>3734</td>\n",
       "      <td>2021-07-30</td>\n",
       "      <td>11529.0</td>\n",
       "      <td>100.0</td>\n",
       "      <td>1921452</td>\n",
       "      <td>-0.000035</td>\n",
       "      <td>3</td>\n",
       "      <td>50004.00</td>\n",
       "      <td>6.0</td>\n",
       "      <td>...</td>\n",
       "      <td>-1</td>\n",
       "      <td>16.0</td>\n",
       "      <td>-1</td>\n",
       "      <td>50004.0</td>\n",
       "      <td>12.134949</td>\n",
       "      <td>1</td>\n",
       "      <td>0.040850</td>\n",
       "      <td>2</td>\n",
       "      <td>0.040850</td>\n",
       "      <td>2</td>\n",
       "    </tr>\n",
       "    <tr>\n",
       "      <th>13</th>\n",
       "      <td>53</td>\n",
       "      <td>4151</td>\n",
       "      <td>2021-07-29</td>\n",
       "      <td>4302.0</td>\n",
       "      <td>13.0</td>\n",
       "      <td>1921450</td>\n",
       "      <td>-0.000034</td>\n",
       "      <td>1</td>\n",
       "      <td>69641.00</td>\n",
       "      <td>4.0</td>\n",
       "      <td>...</td>\n",
       "      <td>-1</td>\n",
       "      <td>18.0</td>\n",
       "      <td>-1</td>\n",
       "      <td>69641.0</td>\n",
       "      <td>10.807886</td>\n",
       "      <td>0</td>\n",
       "      <td>0.026507</td>\n",
       "      <td>3</td>\n",
       "      <td>0.026507</td>\n",
       "      <td>3</td>\n",
       "    </tr>\n",
       "  </tbody>\n",
       "</table>\n",
       "<p>3 rows × 30 columns</p>\n",
       "</div>"
      ],
      "text/plain": [
       "    user_id  item_id   datetime  total_dur  weight  Unnamed: 0  lfm_score  \\\n",
       "29       53     9728 2021-07-01        0.0     0.0     1921451  -0.000035   \n",
       "11       53     3734 2021-07-30    11529.0   100.0     1921452  -0.000035   \n",
       "13       53     4151 2021-07-29     4302.0    13.0     1921450  -0.000034   \n",
       "\n",
       "    lfm_rank  pop_score  pop_rank  ... for_kids age_rating studios item_pop  \\\n",
       "29         2     242.99    2086.0  ...       -1       18.0      -1  76978.0   \n",
       "11         3   50004.00       6.0  ...       -1       16.0      -1  50004.0   \n",
       "13         1   69641.00       4.0  ...       -1       18.0      -1  69641.0   \n",
       "\n",
       "    item_avg_hist  target  pointwise_score  pointwise_rank  \\\n",
       "29      11.165736       0         0.057527               1   \n",
       "11      12.134949       1         0.040850               2   \n",
       "13      10.807886       0         0.026507               3   \n",
       "\n",
       "   pointwise_hybrid_score  pointwise_hybrid_rank  \n",
       "29               0.057527                      1  \n",
       "11               0.040850                      2  \n",
       "13               0.026507                      3  \n",
       "\n",
       "[3 rows x 30 columns]"
      ]
     },
     "execution_count": 42,
     "metadata": {},
     "output_type": "execute_result"
    }
   ],
   "source": [
    "def add_score_and_rank(df: pd.DataFrame, y_pred_scores: np.ndarray, name: str) -> pd.DataFrame:\n",
    "    df[f'{name}_score'] = y_pred_scores\n",
    "    df.sort_values(\n",
    "        by=['user_id', f'{name}_score'],\n",
    "        ascending=[True, False],\n",
    "        inplace=True,\n",
    "    )\n",
    "    df[f'{name}_rank'] = df.groupby('user_id').cumcount() + 1\n",
    "\n",
    "    mask = (df['lfm_rank'] < 101).to_numpy()\n",
    "    eps: float = 0.001\n",
    "    min_score: float = min(y_pred_scores) - eps\n",
    "    df[f'{name}_hybrid_score'] = df[f'{name}_score'] * mask\n",
    "    df[f'{name}_hybrid_score'].replace(\n",
    "        0,\n",
    "        min_score,\n",
    "        inplace=True,\n",
    "    )\n",
    "    df[f'{name}_hybrid_rank'] = df[f'{name}_rank'] * mask\n",
    "    max_rank: int = 101\n",
    "    df[f'{name}_hybrid_rank'].replace(\n",
    "        0,\n",
    "        max_rank,\n",
    "        inplace=True,\n",
    "    )\n",
    "    return df\n",
    "\n",
    "\n",
    "ranker_test = add_score_and_rank(ranker_test, y_pred, 'pointwise')\n",
    "ranker_test.head(3)"
   ]
  },
  {
   "cell_type": "code",
   "execution_count": 43,
   "metadata": {
    "is_executing": true
   },
   "outputs": [
    {
     "data": {
      "text/plain": [
       "0.8505231211027551"
      ]
     },
     "execution_count": 43,
     "metadata": {},
     "output_type": "execute_result"
    }
   ],
   "source": [
    "roc_auc_score(y_true, y_pred)"
   ]
  },
  {
   "cell_type": "code",
   "execution_count": 44,
   "metadata": {
    "is_executing": true
   },
   "outputs": [
    {
     "data": {
      "text/plain": [
       "(0.8613189852563174, 0.8613189852563174)"
      ]
     },
     "execution_count": 44,
     "metadata": {},
     "output_type": "execute_result"
    }
   ],
   "source": [
    "(\n",
    "    avg_user_metric(\n",
    "        y_true=np.array(ranker_test['target']),\n",
    "        y_pred=np.array(ranker_test['pointwise_score']),\n",
    "        user_ids=np.array(ranker_test['user_id']),\n",
    "        metric_function=roc_auc_score\n",
    "    ),\n",
    "    avg_user_metric(\n",
    "        y_true=np.array(ranker_test['target']),\n",
    "        y_pred=np.array(ranker_test['pointwise_hybrid_score']),\n",
    "        user_ids=np.array(ranker_test['user_id']),\n",
    "        metric_function=roc_auc_score\n",
    "    )\n",
    ")"
   ]
  },
  {
   "cell_type": "code",
   "execution_count": 45,
   "metadata": {
    "is_executing": true
   },
   "outputs": [
    {
     "data": {
      "text/html": [
       "<div>\n",
       "<style scoped>\n",
       "    .dataframe tbody tr th:only-of-type {\n",
       "        vertical-align: middle;\n",
       "    }\n",
       "\n",
       "    .dataframe tbody tr th {\n",
       "        vertical-align: top;\n",
       "    }\n",
       "\n",
       "    .dataframe thead th {\n",
       "        text-align: right;\n",
       "    }\n",
       "</style>\n",
       "<table border=\"1\" class=\"dataframe\">\n",
       "  <thead>\n",
       "    <tr style=\"text-align: right;\">\n",
       "      <th></th>\n",
       "      <th>lfm</th>\n",
       "      <th>pop</th>\n",
       "      <th>pointwise</th>\n",
       "      <th>pointwise_hybrid</th>\n",
       "    </tr>\n",
       "  </thead>\n",
       "  <tbody>\n",
       "    <tr>\n",
       "      <th>Precision@10</th>\n",
       "      <td>0.024970</td>\n",
       "      <td>0.019554</td>\n",
       "      <td>0.025701</td>\n",
       "      <td>0.025701</td>\n",
       "    </tr>\n",
       "    <tr>\n",
       "      <th>recall@10</th>\n",
       "      <td>0.083588</td>\n",
       "      <td>0.065676</td>\n",
       "      <td>0.084463</td>\n",
       "      <td>0.084463</td>\n",
       "    </tr>\n",
       "    <tr>\n",
       "      <th>ndcg@10</th>\n",
       "      <td>0.031639</td>\n",
       "      <td>0.024170</td>\n",
       "      <td>0.033943</td>\n",
       "      <td>0.033943</td>\n",
       "    </tr>\n",
       "    <tr>\n",
       "      <th>map@10</th>\n",
       "      <td>0.042556</td>\n",
       "      <td>0.031365</td>\n",
       "      <td>0.046198</td>\n",
       "      <td>0.046198</td>\n",
       "    </tr>\n",
       "    <tr>\n",
       "      <th>novelty@10</th>\n",
       "      <td>3.135139</td>\n",
       "      <td>3.136589</td>\n",
       "      <td>3.406484</td>\n",
       "      <td>3.406484</td>\n",
       "    </tr>\n",
       "  </tbody>\n",
       "</table>\n",
       "</div>"
      ],
      "text/plain": [
       "                   lfm       pop  pointwise  pointwise_hybrid\n",
       "Precision@10  0.024970  0.019554   0.025701          0.025701\n",
       "recall@10     0.083588  0.065676   0.084463          0.084463\n",
       "ndcg@10       0.031639  0.024170   0.033943          0.033943\n",
       "map@10        0.042556  0.031365   0.046198          0.046198\n",
       "novelty@10    3.135139  3.136589   3.406484          3.406484"
      ]
     },
     "execution_count": 45,
     "metadata": {},
     "output_type": "execute_result"
    }
   ],
   "source": [
    "models_metrics['pointwise'] = calc_metrics_(ranker_test, 'pointwise_rank')\n",
    "models_metrics['pointwise_hybrid'] = calc_metrics_(ranker_test, 'pointwise_hybrid_rank')\n",
    "\n",
    "pd.DataFrame(models_metrics)[['lfm', 'pop', 'pointwise', 'pointwise_hybrid']]"
   ]
  },
  {
   "cell_type": "markdown",
   "metadata": {},
   "source": [
    "#### Исправляем баг в users_filter"
   ]
  },
  {
   "cell_type": "code",
   "execution_count": 46,
   "metadata": {
    "is_executing": true
   },
   "outputs": [],
   "source": [
    "def filter_interations(df: pd.DataFrame) -> pd.DataFrame:\n",
    "    return df[df['lfm_rank'] <= 50]\n",
    "\n",
    "\n",
    "ranker_train = filter_interations(ranker_train)\n",
    "ranker_val = filter_interations(ranker_val)"
   ]
  },
  {
   "cell_type": "code",
   "execution_count": null,
   "metadata": {
    "is_executing": true
   },
   "outputs": [],
   "source": [
    "fit_params = {\n",
    "    'X': ranker_train[cols],\n",
    "    'y': ranker_train['target'],\n",
    "    'eval_set': [(ranker_val[cols], ranker_val['target'])],\n",
    "    'eval_metric': 'logloss',\n",
    "    'categorical_feature': cat_cols,\n",
    "    'feature_name': cols,\n",
    "}\n",
    "\n",
    "pointwise_model = LGBMClassifier(**params)\n",
    "pointwise_model.fit(**fit_params)\n",
    "print(pointwise_model.best_score_['valid_0'])"
   ]
  },
  {
   "cell_type": "code",
   "execution_count": 48,
   "metadata": {
    "is_executing": true
   },
   "outputs": [],
   "source": [
    "pickle.dump(pointwise_model, open(\"models/pointwise_model.pkl\", \"wb\"))"
   ]
  },
  {
   "cell_type": "code",
   "execution_count": 49,
   "metadata": {
    "is_executing": true
   },
   "outputs": [
    {
     "data": {
      "image/png": "[encoded data removed]",
      "text/plain": [
       "<Figure size 800x910 with 2 Axes>"
      ]
     },
     "metadata": {},
     "output_type": "display_data"
    }
   ],
   "source": [
    "explainer = shap.Explainer(pointwise_model)\n",
    "shap_values = explainer(ranker_test[cols].iloc[:10_000])\n",
    "\n",
    "shap_values.values = shap_values.values[:, :, 1]\n",
    "shap_values.base_values = shap_values.base_values[:, 1]\n",
    "\n",
    "shap.plots.beeswarm(shap_values, max_display=len(cols))"
   ]
  },
  {
   "cell_type": "code",
   "execution_count": 50,
   "metadata": {
    "is_executing": true
   },
   "outputs": [
    {
     "data": {
      "text/html": [
       "<div>\n",
       "<style scoped>\n",
       "    .dataframe tbody tr th:only-of-type {\n",
       "        vertical-align: middle;\n",
       "    }\n",
       "\n",
       "    .dataframe tbody tr th {\n",
       "        vertical-align: top;\n",
       "    }\n",
       "\n",
       "    .dataframe thead th {\n",
       "        text-align: right;\n",
       "    }\n",
       "</style>\n",
       "<table border=\"1\" class=\"dataframe\">\n",
       "  <thead>\n",
       "    <tr style=\"text-align: right;\">\n",
       "      <th></th>\n",
       "      <th>lfm</th>\n",
       "      <th>fixed_pointwise_hybrid</th>\n",
       "      <th>pointwise_hybrid</th>\n",
       "    </tr>\n",
       "  </thead>\n",
       "  <tbody>\n",
       "    <tr>\n",
       "      <th>Precision@10</th>\n",
       "      <td>0.024970</td>\n",
       "      <td>0.025701</td>\n",
       "      <td>0.025701</td>\n",
       "    </tr>\n",
       "    <tr>\n",
       "      <th>recall@10</th>\n",
       "      <td>0.083588</td>\n",
       "      <td>0.084463</td>\n",
       "      <td>0.084463</td>\n",
       "    </tr>\n",
       "    <tr>\n",
       "      <th>ndcg@10</th>\n",
       "      <td>0.031639</td>\n",
       "      <td>0.033943</td>\n",
       "      <td>0.033943</td>\n",
       "    </tr>\n",
       "    <tr>\n",
       "      <th>map@10</th>\n",
       "      <td>0.042556</td>\n",
       "      <td>0.046198</td>\n",
       "      <td>0.046198</td>\n",
       "    </tr>\n",
       "    <tr>\n",
       "      <th>novelty@10</th>\n",
       "      <td>3.135139</td>\n",
       "      <td>3.406484</td>\n",
       "      <td>3.406484</td>\n",
       "    </tr>\n",
       "  </tbody>\n",
       "</table>\n",
       "</div>"
      ],
      "text/plain": [
       "                   lfm  fixed_pointwise_hybrid  pointwise_hybrid\n",
       "Precision@10  0.024970                0.025701          0.025701\n",
       "recall@10     0.083588                0.084463          0.084463\n",
       "ndcg@10       0.031639                0.033943          0.033943\n",
       "map@10        0.042556                0.046198          0.046198\n",
       "novelty@10    3.135139                3.406484          3.406484"
      ]
     },
     "execution_count": 50,
     "metadata": {},
     "output_type": "execute_result"
    }
   ],
   "source": [
    "y_pred: np.ndarray = pointwise_model.predict_proba(ranker_test[cols])[:, 1]\n",
    "ranker_test = add_score_and_rank(ranker_test, y_pred, 'fixed_pointwise')\n",
    "\n",
    "models_metrics['fixed_pointwise'] = calc_metrics_(ranker_test, 'fixed_pointwise_rank')\n",
    "models_metrics['fixed_pointwise_hybrid'] = calc_metrics_(ranker_test,\n",
    "                                                         'fixed_pointwise_hybrid_rank')\n",
    "\n",
    "pd.DataFrame(models_metrics)[['lfm', 'fixed_pointwise_hybrid', 'pointwise_hybrid']]"
   ]
  },
  {
   "cell_type": "markdown",
   "metadata": {},
   "source": [
    "### Pairwise/Listwise"
   ]
  },
  {
   "cell_type": "code",
   "execution_count": 51,
   "metadata": {
    "is_executing": true
   },
   "outputs": [],
   "source": [
    "def get_group(df: pd.DataFrame) -> np.ndarray:\n",
    "    return np.array(\n",
    "        df[['user_id', 'item_id']]\n",
    "        .groupby(by=['user_id']).count()\n",
    "        ['item_id']\n",
    "    )"
   ]
  },
  {
   "cell_type": "code",
   "execution_count": 52,
   "metadata": {
    "is_executing": true
   },
   "outputs": [
    {
     "data": {
      "text/html": [
       "<div>\n",
       "<style scoped>\n",
       "    .dataframe tbody tr th:only-of-type {\n",
       "        vertical-align: middle;\n",
       "    }\n",
       "\n",
       "    .dataframe tbody tr th {\n",
       "        vertical-align: top;\n",
       "    }\n",
       "\n",
       "    .dataframe thead th {\n",
       "        text-align: right;\n",
       "    }\n",
       "</style>\n",
       "<table border=\"1\" class=\"dataframe\">\n",
       "  <thead>\n",
       "    <tr style=\"text-align: right;\">\n",
       "      <th></th>\n",
       "      <th>user_id</th>\n",
       "      <th>item_id</th>\n",
       "      <th>datetime</th>\n",
       "      <th>total_dur</th>\n",
       "      <th>weight</th>\n",
       "      <th>Unnamed: 0</th>\n",
       "      <th>lfm_score</th>\n",
       "      <th>lfm_rank</th>\n",
       "      <th>pop_score</th>\n",
       "      <th>pop_rank</th>\n",
       "      <th>...</th>\n",
       "      <th>overall_time</th>\n",
       "      <th>content_type</th>\n",
       "      <th>release_year</th>\n",
       "      <th>for_kids</th>\n",
       "      <th>age_rating</th>\n",
       "      <th>studios</th>\n",
       "      <th>item_pop</th>\n",
       "      <th>item_avg_hist</th>\n",
       "      <th>target</th>\n",
       "      <th>target_ranker</th>\n",
       "    </tr>\n",
       "  </thead>\n",
       "  <tbody>\n",
       "    <tr>\n",
       "      <th>0</th>\n",
       "      <td>3</td>\n",
       "      <td>101</td>\n",
       "      <td>2021-07-01</td>\n",
       "      <td>0.0</td>\n",
       "      <td>0.0</td>\n",
       "      <td>27467084</td>\n",
       "      <td>0.000001</td>\n",
       "      <td>35</td>\n",
       "      <td>242.99</td>\n",
       "      <td>2086.0</td>\n",
       "      <td>...</td>\n",
       "      <td>0.0</td>\n",
       "      <td>0</td>\n",
       "      <td>2019.0</td>\n",
       "      <td>-1</td>\n",
       "      <td>18.0</td>\n",
       "      <td>-1</td>\n",
       "      <td>9542.0</td>\n",
       "      <td>17.990673</td>\n",
       "      <td>0</td>\n",
       "      <td>0</td>\n",
       "    </tr>\n",
       "    <tr>\n",
       "      <th>1</th>\n",
       "      <td>3</td>\n",
       "      <td>142</td>\n",
       "      <td>2021-08-13</td>\n",
       "      <td>5892.0</td>\n",
       "      <td>100.0</td>\n",
       "      <td>27467058</td>\n",
       "      <td>0.000004</td>\n",
       "      <td>9</td>\n",
       "      <td>35862.00</td>\n",
       "      <td>8.0</td>\n",
       "      <td>...</td>\n",
       "      <td>0.0</td>\n",
       "      <td>0</td>\n",
       "      <td>2020.0</td>\n",
       "      <td>-1</td>\n",
       "      <td>16.0</td>\n",
       "      <td>-1</td>\n",
       "      <td>35862.0</td>\n",
       "      <td>15.251464</td>\n",
       "      <td>1</td>\n",
       "      <td>2</td>\n",
       "    </tr>\n",
       "    <tr>\n",
       "      <th>2</th>\n",
       "      <td>3</td>\n",
       "      <td>849</td>\n",
       "      <td>2021-07-01</td>\n",
       "      <td>0.0</td>\n",
       "      <td>0.0</td>\n",
       "      <td>27467072</td>\n",
       "      <td>0.000002</td>\n",
       "      <td>23</td>\n",
       "      <td>13304.00</td>\n",
       "      <td>26.0</td>\n",
       "      <td>...</td>\n",
       "      <td>0.0</td>\n",
       "      <td>0</td>\n",
       "      <td>2018.0</td>\n",
       "      <td>-1</td>\n",
       "      <td>18.0</td>\n",
       "      <td>-1</td>\n",
       "      <td>13304.0</td>\n",
       "      <td>16.444678</td>\n",
       "      <td>0</td>\n",
       "      <td>0</td>\n",
       "    </tr>\n",
       "  </tbody>\n",
       "</table>\n",
       "<p>3 rows × 27 columns</p>\n",
       "</div>"
      ],
      "text/plain": [
       "   user_id  item_id   datetime  total_dur  weight  Unnamed: 0  lfm_score  \\\n",
       "0        3      101 2021-07-01        0.0     0.0    27467084   0.000001   \n",
       "1        3      142 2021-08-13     5892.0   100.0    27467058   0.000004   \n",
       "2        3      849 2021-07-01        0.0     0.0    27467072   0.000002   \n",
       "\n",
       "   lfm_rank  pop_score  pop_rank  ... overall_time content_type release_year  \\\n",
       "0        35     242.99    2086.0  ...          0.0            0       2019.0   \n",
       "1         9   35862.00       8.0  ...          0.0            0       2020.0   \n",
       "2        23   13304.00      26.0  ...          0.0            0       2018.0   \n",
       "\n",
       "  for_kids  age_rating  studios  item_pop  item_avg_hist target  target_ranker  \n",
       "0       -1        18.0       -1    9542.0      17.990673      0              0  \n",
       "1       -1        16.0       -1   35862.0      15.251464      1              2  \n",
       "2       -1        18.0       -1   13304.0      16.444678      0              0  \n",
       "\n",
       "[3 rows x 27 columns]"
      ]
     },
     "execution_count": 52,
     "metadata": {},
     "output_type": "execute_result"
    }
   ],
   "source": [
    "def add_target(df: pd.DataFrame) -> pd.DataFrame:\n",
    "    \"\"\"\n",
    "    0 - доля досмотра < 0.15\n",
    "    1 - 0.15 <= доля досмотра < 0.75\n",
    "    2 - 0.75 <= доля досмотра\n",
    "    \"\"\"\n",
    "    df['target_ranker'] = (df[Columns.Weight] >= 15).astype(int)  # 'watched_pct'\n",
    "    df['target_ranker'] += (df[Columns.Weight] >= 75).astype(int)\n",
    "    return df\n",
    "\n",
    "\n",
    "ranker_train = add_target(ranker_train)\n",
    "ranker_val = add_target(ranker_val)\n",
    "ranker_test = add_target(ranker_test)\n",
    "\n",
    "ranker_train.head(3)"
   ]
  },
  {
   "cell_type": "code",
   "execution_count": null,
   "metadata": {
    "is_executing": true
   },
   "outputs": [],
   "source": [
    "early_stopping_rounds = 32\n",
    "params = {\n",
    "    'objective': 'lambdarank',\n",
    "    'n_estimators': 10000,\n",
    "    'max_depth': 4,\n",
    "    'num_leaves': 10,\n",
    "    'min_child_samples': 100,\n",
    "    'learning_rate': 0.25,\n",
    "    'reg_lambda': 1,\n",
    "    'colsample_bytree': 0.9,\n",
    "    'early_stopping_rounds': early_stopping_rounds,\n",
    "    'verbose': early_stopping_rounds // 8,\n",
    "    'random_state': 42,\n",
    "}\n",
    "fit_params = {\n",
    "    'X': ranker_train[cols],\n",
    "    'y': ranker_train['target_ranker'],\n",
    "    'group': get_group(ranker_train),\n",
    "    'eval_set': [(ranker_val[cols], ranker_val['target_ranker'])],\n",
    "    'eval_group': [get_group(ranker_val)],\n",
    "    'eval_metric': 'ndcg',\n",
    "    'eval_at': (3, 5, 10),\n",
    "    'categorical_feature': cat_cols,\n",
    "    'feature_name': cols,\n",
    "}\n",
    "listwise_model = LGBMRanker(**params)\n",
    "listwise_model.fit(**fit_params)"
   ]
  },
  {
   "cell_type": "code",
   "execution_count": 54,
   "metadata": {
    "is_executing": true
   },
   "outputs": [],
   "source": [
    "pickle.dump(listwise_model, open(\"models/listwise_model.pkl\", \"wb\"))"
   ]
  },
  {
   "cell_type": "code",
   "execution_count": 55,
   "metadata": {
    "is_executing": true
   },
   "outputs": [
    {
     "data": {
      "text/plain": [
       "OrderedDict([('ndcg@3', 0.7581014982549259),\n",
       "             ('ndcg@5', 0.7818286604298739),\n",
       "             ('ndcg@10', 0.8008224991905664)])"
      ]
     },
     "execution_count": 55,
     "metadata": {},
     "output_type": "execute_result"
    }
   ],
   "source": [
    "listwise_model.best_score_['valid_0']"
   ]
  },
  {
   "cell_type": "code",
   "execution_count": 56,
   "metadata": {
    "is_executing": true
   },
   "outputs": [
    {
     "data": {
      "image/png": "[encoded data removed]",
      "text/plain": [
       "<Figure size 800x1100 with 3 Axes>"
      ]
     },
     "metadata": {},
     "output_type": "display_data"
    }
   ],
   "source": [
    "explainer = shap.Explainer(listwise_model)\n",
    "shap_values = explainer(ranker_test[cols].iloc[:10_000])\n",
    "\n",
    "shap.plots.waterfall(shap_values[0], max_display=len(cols))"
   ]
  },
  {
   "cell_type": "code",
   "execution_count": 57,
   "metadata": {
    "is_executing": true
   },
   "outputs": [
    {
     "data": {
      "image/png": "[encoded data removed]",
      "text/plain": [
       "<Figure size 800x910 with 2 Axes>"
      ]
     },
     "metadata": {},
     "output_type": "display_data"
    }
   ],
   "source": [
    "shap.plots.beeswarm(shap_values, max_display=len(cols))"
   ]
  },
  {
   "cell_type": "code",
   "execution_count": 58,
   "metadata": {
    "is_executing": true
   },
   "outputs": [
    {
     "data": {
      "image/png": "[encoded data removed]",
      "text/plain": [
       "<Figure size 800x1100 with 1 Axes>"
      ]
     },
     "metadata": {},
     "output_type": "display_data"
    }
   ],
   "source": [
    "shap.plots.bar(shap_values, max_display=len(cols))"
   ]
  },
  {
   "cell_type": "code",
   "execution_count": 59,
   "metadata": {
    "is_executing": true
   },
   "outputs": [
    {
     "data": {
      "text/html": [
       "<div>\n",
       "<style scoped>\n",
       "    .dataframe tbody tr th:only-of-type {\n",
       "        vertical-align: middle;\n",
       "    }\n",
       "\n",
       "    .dataframe tbody tr th {\n",
       "        vertical-align: top;\n",
       "    }\n",
       "\n",
       "    .dataframe thead th {\n",
       "        text-align: right;\n",
       "    }\n",
       "</style>\n",
       "<table border=\"1\" class=\"dataframe\">\n",
       "  <thead>\n",
       "    <tr style=\"text-align: right;\">\n",
       "      <th></th>\n",
       "      <th>user_id</th>\n",
       "      <th>item_id</th>\n",
       "      <th>datetime</th>\n",
       "      <th>total_dur</th>\n",
       "      <th>weight</th>\n",
       "      <th>Unnamed: 0</th>\n",
       "      <th>lfm_score</th>\n",
       "      <th>lfm_rank</th>\n",
       "      <th>pop_score</th>\n",
       "      <th>pop_rank</th>\n",
       "      <th>...</th>\n",
       "      <th>pointwise_hybrid_rank</th>\n",
       "      <th>fixed_pointwise_score</th>\n",
       "      <th>fixed_pointwise_rank</th>\n",
       "      <th>fixed_pointwise_hybrid_score</th>\n",
       "      <th>fixed_pointwise_hybrid_rank</th>\n",
       "      <th>target_ranker</th>\n",
       "      <th>listwise_score</th>\n",
       "      <th>listwise_rank</th>\n",
       "      <th>listwise_hybrid_score</th>\n",
       "      <th>listwise_hybrid_rank</th>\n",
       "    </tr>\n",
       "  </thead>\n",
       "  <tbody>\n",
       "    <tr>\n",
       "      <th>29</th>\n",
       "      <td>53</td>\n",
       "      <td>9728</td>\n",
       "      <td>2021-07-01</td>\n",
       "      <td>0.0</td>\n",
       "      <td>0.0</td>\n",
       "      <td>1921451</td>\n",
       "      <td>-0.000035</td>\n",
       "      <td>2</td>\n",
       "      <td>242.99</td>\n",
       "      <td>2086.0</td>\n",
       "      <td>...</td>\n",
       "      <td>1</td>\n",
       "      <td>0.057527</td>\n",
       "      <td>1</td>\n",
       "      <td>0.057527</td>\n",
       "      <td>1</td>\n",
       "      <td>0</td>\n",
       "      <td>1.176707</td>\n",
       "      <td>1</td>\n",
       "      <td>1.176707</td>\n",
       "      <td>1</td>\n",
       "    </tr>\n",
       "    <tr>\n",
       "      <th>38</th>\n",
       "      <td>53</td>\n",
       "      <td>12192</td>\n",
       "      <td>2021-07-01</td>\n",
       "      <td>0.0</td>\n",
       "      <td>0.0</td>\n",
       "      <td>1921476</td>\n",
       "      <td>-0.000039</td>\n",
       "      <td>27</td>\n",
       "      <td>14317.00</td>\n",
       "      <td>23.0</td>\n",
       "      <td>...</td>\n",
       "      <td>13</td>\n",
       "      <td>0.004509</td>\n",
       "      <td>13</td>\n",
       "      <td>0.004509</td>\n",
       "      <td>13</td>\n",
       "      <td>0</td>\n",
       "      <td>0.877044</td>\n",
       "      <td>2</td>\n",
       "      <td>0.877044</td>\n",
       "      <td>2</td>\n",
       "    </tr>\n",
       "    <tr>\n",
       "      <th>11</th>\n",
       "      <td>53</td>\n",
       "      <td>3734</td>\n",
       "      <td>2021-07-30</td>\n",
       "      <td>11529.0</td>\n",
       "      <td>100.0</td>\n",
       "      <td>1921452</td>\n",
       "      <td>-0.000035</td>\n",
       "      <td>3</td>\n",
       "      <td>50004.00</td>\n",
       "      <td>6.0</td>\n",
       "      <td>...</td>\n",
       "      <td>2</td>\n",
       "      <td>0.040850</td>\n",
       "      <td>2</td>\n",
       "      <td>0.040850</td>\n",
       "      <td>2</td>\n",
       "      <td>2</td>\n",
       "      <td>0.788752</td>\n",
       "      <td>3</td>\n",
       "      <td>0.788752</td>\n",
       "      <td>3</td>\n",
       "    </tr>\n",
       "  </tbody>\n",
       "</table>\n",
       "<p>3 rows × 39 columns</p>\n",
       "</div>"
      ],
      "text/plain": [
       "    user_id  item_id   datetime  total_dur  weight  Unnamed: 0  lfm_score  \\\n",
       "29       53     9728 2021-07-01        0.0     0.0     1921451  -0.000035   \n",
       "38       53    12192 2021-07-01        0.0     0.0     1921476  -0.000039   \n",
       "11       53     3734 2021-07-30    11529.0   100.0     1921452  -0.000035   \n",
       "\n",
       "    lfm_rank  pop_score  pop_rank  ... pointwise_hybrid_rank  \\\n",
       "29         2     242.99    2086.0  ...                     1   \n",
       "38        27   14317.00      23.0  ...                    13   \n",
       "11         3   50004.00       6.0  ...                     2   \n",
       "\n",
       "   fixed_pointwise_score fixed_pointwise_rank fixed_pointwise_hybrid_score  \\\n",
       "29              0.057527                    1                     0.057527   \n",
       "38              0.004509                   13                     0.004509   \n",
       "11              0.040850                    2                     0.040850   \n",
       "\n",
       "    fixed_pointwise_hybrid_rank  target_ranker  listwise_score  listwise_rank  \\\n",
       "29                            1              0        1.176707              1   \n",
       "38                           13              0        0.877044              2   \n",
       "11                            2              2        0.788752              3   \n",
       "\n",
       "   listwise_hybrid_score  listwise_hybrid_rank  \n",
       "29              1.176707                     1  \n",
       "38              0.877044                     2  \n",
       "11              0.788752                     3  \n",
       "\n",
       "[3 rows x 39 columns]"
      ]
     },
     "execution_count": 59,
     "metadata": {},
     "output_type": "execute_result"
    }
   ],
   "source": [
    "y_pred: np.ndarray = listwise_model.predict(ranker_test[cols])\n",
    "ranker_test = add_score_and_rank(ranker_test, y_pred, 'listwise')\n",
    "ranker_test.head(3)"
   ]
  },
  {
   "cell_type": "code",
   "execution_count": 60,
   "metadata": {
    "is_executing": true
   },
   "outputs": [
    {
     "data": {
      "text/html": [
       "<div>\n",
       "<style scoped>\n",
       "    .dataframe tbody tr th:only-of-type {\n",
       "        vertical-align: middle;\n",
       "    }\n",
       "\n",
       "    .dataframe tbody tr th {\n",
       "        vertical-align: top;\n",
       "    }\n",
       "\n",
       "    .dataframe thead th {\n",
       "        text-align: right;\n",
       "    }\n",
       "</style>\n",
       "<table border=\"1\" class=\"dataframe\">\n",
       "  <thead>\n",
       "    <tr style=\"text-align: right;\">\n",
       "      <th></th>\n",
       "      <th>listwise</th>\n",
       "      <th>listwise_hybrid</th>\n",
       "    </tr>\n",
       "  </thead>\n",
       "  <tbody>\n",
       "    <tr>\n",
       "      <th>Precision@10</th>\n",
       "      <td>0.027887</td>\n",
       "      <td>0.027887</td>\n",
       "    </tr>\n",
       "    <tr>\n",
       "      <th>recall@10</th>\n",
       "      <td>0.093060</td>\n",
       "      <td>0.093060</td>\n",
       "    </tr>\n",
       "    <tr>\n",
       "      <th>ndcg@10</th>\n",
       "      <td>0.036341</td>\n",
       "      <td>0.036341</td>\n",
       "    </tr>\n",
       "    <tr>\n",
       "      <th>map@10</th>\n",
       "      <td>0.050225</td>\n",
       "      <td>0.050225</td>\n",
       "    </tr>\n",
       "    <tr>\n",
       "      <th>novelty@10</th>\n",
       "      <td>3.424738</td>\n",
       "      <td>3.424738</td>\n",
       "    </tr>\n",
       "  </tbody>\n",
       "</table>\n",
       "</div>"
      ],
      "text/plain": [
       "              listwise  listwise_hybrid\n",
       "Precision@10  0.027887         0.027887\n",
       "recall@10     0.093060         0.093060\n",
       "ndcg@10       0.036341         0.036341\n",
       "map@10        0.050225         0.050225\n",
       "novelty@10    3.424738         3.424738"
      ]
     },
     "execution_count": 60,
     "metadata": {},
     "output_type": "execute_result"
    }
   ],
   "source": [
    "models_metrics['listwise'] = calc_metrics_(ranker_test, 'listwise_rank')\n",
    "models_metrics['listwise_hybrid'] = calc_metrics_(ranker_test, 'listwise_hybrid_rank')\n",
    "pd.DataFrame(models_metrics)[['listwise', 'listwise_hybrid']]"
   ]
  },
  {
   "cell_type": "code",
   "execution_count": 61,
   "metadata": {
    "is_executing": true
   },
   "outputs": [
    {
     "data": {
      "text/plain": [
       "(0.8563249672402979, 0.8563249672402979)"
      ]
     },
     "execution_count": 61,
     "metadata": {},
     "output_type": "execute_result"
    }
   ],
   "source": [
    "(\n",
    "    avg_user_metric(\n",
    "        y_true=np.array(ranker_test['target']),  # target_ranker\n",
    "        y_pred=np.array(ranker_test['listwise_score']),\n",
    "        user_ids=np.array(ranker_test['user_id']),\n",
    "        metric_function=roc_auc_score,\n",
    "    ),\n",
    "    avg_user_metric(\n",
    "        y_true=np.array(ranker_test['target']),\n",
    "        y_pred=np.array(ranker_test['listwise_hybrid_score']),\n",
    "        user_ids=np.array(ranker_test['user_id']),\n",
    "        metric_function=roc_auc_score,\n",
    "    ),\n",
    ")"
   ]
  },
  {
   "cell_type": "code",
   "execution_count": 62,
   "metadata": {
    "is_executing": true
   },
   "outputs": [],
   "source": [
    "ranker_df = pd.concat([ranker_train, ranker_val, ranker_test])"
   ]
  },
  {
   "cell_type": "code",
   "execution_count": null,
   "metadata": {
    "is_executing": true
   },
   "outputs": [],
   "source": []
  },
  {
   "cell_type": "markdown",
   "metadata": {},
   "source": [
    "## Итоговые метрики"
   ]
  },
  {
   "cell_type": "code",
   "execution_count": 63,
   "metadata": {
    "is_executing": true
   },
   "outputs": [
    {
     "data": {
      "text/html": [
       "<div>\n",
       "<style scoped>\n",
       "    .dataframe tbody tr th:only-of-type {\n",
       "        vertical-align: middle;\n",
       "    }\n",
       "\n",
       "    .dataframe tbody tr th {\n",
       "        vertical-align: top;\n",
       "    }\n",
       "\n",
       "    .dataframe thead th {\n",
       "        text-align: right;\n",
       "    }\n",
       "</style>\n",
       "<table border=\"1\" class=\"dataframe\">\n",
       "  <thead>\n",
       "    <tr style=\"text-align: right;\">\n",
       "      <th></th>\n",
       "      <th>lfm</th>\n",
       "      <th>fixed_pointwise_hybrid</th>\n",
       "      <th>listwise_hybrid</th>\n",
       "    </tr>\n",
       "  </thead>\n",
       "  <tbody>\n",
       "    <tr>\n",
       "      <th>Precision@10</th>\n",
       "      <td>0.024970</td>\n",
       "      <td>0.025701</td>\n",
       "      <td>0.027887</td>\n",
       "    </tr>\n",
       "    <tr>\n",
       "      <th>recall@10</th>\n",
       "      <td>0.083588</td>\n",
       "      <td>0.084463</td>\n",
       "      <td>0.093060</td>\n",
       "    </tr>\n",
       "    <tr>\n",
       "      <th>ndcg@10</th>\n",
       "      <td>0.031639</td>\n",
       "      <td>0.033943</td>\n",
       "      <td>0.036341</td>\n",
       "    </tr>\n",
       "    <tr>\n",
       "      <th>map@10</th>\n",
       "      <td>0.042556</td>\n",
       "      <td>0.046198</td>\n",
       "      <td>0.050225</td>\n",
       "    </tr>\n",
       "    <tr>\n",
       "      <th>novelty@10</th>\n",
       "      <td>3.135139</td>\n",
       "      <td>3.406484</td>\n",
       "      <td>3.424738</td>\n",
       "    </tr>\n",
       "  </tbody>\n",
       "</table>\n",
       "</div>"
      ],
      "text/plain": [
       "                   lfm  fixed_pointwise_hybrid  listwise_hybrid\n",
       "Precision@10  0.024970                0.025701         0.027887\n",
       "recall@10     0.083588                0.084463         0.093060\n",
       "ndcg@10       0.031639                0.033943         0.036341\n",
       "map@10        0.042556                0.046198         0.050225\n",
       "novelty@10    3.135139                3.406484         3.424738"
      ]
     },
     "execution_count": 63,
     "metadata": {},
     "output_type": "execute_result"
    }
   ],
   "source": [
    "pd.DataFrame(models_metrics)[['lfm', 'fixed_pointwise_hybrid', 'listwise_hybrid']]"
   ]
  },
  {
   "cell_type": "markdown",
   "metadata": {},
   "source": [
    "Метрики у listwise лучше, берём её"
   ]
  },
  {
   "cell_type": "markdown",
   "metadata": {
    "collapsed": false,
    "pycharm": {
     "name": "#%%\n"
    }
   },
   "source": [
    "## Оффлайн рекомендации"
   ]
  },
  {
   "cell_type": "code",
   "execution_count": 64,
   "metadata": {
    "is_executing": true
   },
   "outputs": [
    {
     "data": {
      "text/html": [
       "<div>\n",
       "<style scoped>\n",
       "    .dataframe tbody tr th:only-of-type {\n",
       "        vertical-align: middle;\n",
       "    }\n",
       "\n",
       "    .dataframe tbody tr th {\n",
       "        vertical-align: top;\n",
       "    }\n",
       "\n",
       "    .dataframe thead th {\n",
       "        text-align: right;\n",
       "    }\n",
       "</style>\n",
       "<table border=\"1\" class=\"dataframe\">\n",
       "  <thead>\n",
       "    <tr style=\"text-align: right;\">\n",
       "      <th></th>\n",
       "      <th>user_id</th>\n",
       "      <th>item_id</th>\n",
       "      <th>datetime</th>\n",
       "      <th>total_dur</th>\n",
       "      <th>weight</th>\n",
       "      <th>Unnamed: 0</th>\n",
       "      <th>lfm_score</th>\n",
       "      <th>lfm_rank</th>\n",
       "      <th>pop_score</th>\n",
       "      <th>pop_rank</th>\n",
       "      <th>...</th>\n",
       "      <th>pointwise_hybrid_score</th>\n",
       "      <th>pointwise_hybrid_rank</th>\n",
       "      <th>fixed_pointwise_score</th>\n",
       "      <th>fixed_pointwise_rank</th>\n",
       "      <th>fixed_pointwise_hybrid_score</th>\n",
       "      <th>fixed_pointwise_hybrid_rank</th>\n",
       "      <th>listwise_score</th>\n",
       "      <th>listwise_rank</th>\n",
       "      <th>listwise_hybrid_score</th>\n",
       "      <th>listwise_hybrid_rank</th>\n",
       "    </tr>\n",
       "  </thead>\n",
       "  <tbody>\n",
       "    <tr>\n",
       "      <th>49</th>\n",
       "      <td>3</td>\n",
       "      <td>15297</td>\n",
       "      <td>2021-07-01</td>\n",
       "      <td>0.0</td>\n",
       "      <td>0.0</td>\n",
       "      <td>27467050</td>\n",
       "      <td>0.000009</td>\n",
       "      <td>1</td>\n",
       "      <td>137128.00</td>\n",
       "      <td>2.0</td>\n",
       "      <td>...</td>\n",
       "      <td>NaN</td>\n",
       "      <td>NaN</td>\n",
       "      <td>NaN</td>\n",
       "      <td>NaN</td>\n",
       "      <td>NaN</td>\n",
       "      <td>NaN</td>\n",
       "      <td>2.708409</td>\n",
       "      <td>1</td>\n",
       "      <td>2.708409</td>\n",
       "      <td>1</td>\n",
       "    </tr>\n",
       "    <tr>\n",
       "      <th>28</th>\n",
       "      <td>3</td>\n",
       "      <td>10440</td>\n",
       "      <td>2021-07-23</td>\n",
       "      <td>44827.0</td>\n",
       "      <td>90.0</td>\n",
       "      <td>27467051</td>\n",
       "      <td>0.000008</td>\n",
       "      <td>2</td>\n",
       "      <td>141889.00</td>\n",
       "      <td>1.0</td>\n",
       "      <td>...</td>\n",
       "      <td>NaN</td>\n",
       "      <td>NaN</td>\n",
       "      <td>NaN</td>\n",
       "      <td>NaN</td>\n",
       "      <td>NaN</td>\n",
       "      <td>NaN</td>\n",
       "      <td>1.789801</td>\n",
       "      <td>2</td>\n",
       "      <td>1.789801</td>\n",
       "      <td>2</td>\n",
       "    </tr>\n",
       "    <tr>\n",
       "      <th>26</th>\n",
       "      <td>3</td>\n",
       "      <td>9728</td>\n",
       "      <td>2021-07-23</td>\n",
       "      <td>10448.0</td>\n",
       "      <td>100.0</td>\n",
       "      <td>27467054</td>\n",
       "      <td>0.000006</td>\n",
       "      <td>5</td>\n",
       "      <td>242.99</td>\n",
       "      <td>2086.0</td>\n",
       "      <td>...</td>\n",
       "      <td>NaN</td>\n",
       "      <td>NaN</td>\n",
       "      <td>NaN</td>\n",
       "      <td>NaN</td>\n",
       "      <td>NaN</td>\n",
       "      <td>NaN</td>\n",
       "      <td>1.745380</td>\n",
       "      <td>3</td>\n",
       "      <td>1.745380</td>\n",
       "      <td>3</td>\n",
       "    </tr>\n",
       "    <tr>\n",
       "      <th>41</th>\n",
       "      <td>3</td>\n",
       "      <td>13865</td>\n",
       "      <td>2021-07-01</td>\n",
       "      <td>0.0</td>\n",
       "      <td>0.0</td>\n",
       "      <td>27467052</td>\n",
       "      <td>0.000006</td>\n",
       "      <td>3</td>\n",
       "      <td>93403.00</td>\n",
       "      <td>3.0</td>\n",
       "      <td>...</td>\n",
       "      <td>NaN</td>\n",
       "      <td>NaN</td>\n",
       "      <td>NaN</td>\n",
       "      <td>NaN</td>\n",
       "      <td>NaN</td>\n",
       "      <td>NaN</td>\n",
       "      <td>1.432819</td>\n",
       "      <td>4</td>\n",
       "      <td>1.432819</td>\n",
       "      <td>4</td>\n",
       "    </tr>\n",
       "    <tr>\n",
       "      <th>36</th>\n",
       "      <td>3</td>\n",
       "      <td>12192</td>\n",
       "      <td>2021-08-11</td>\n",
       "      <td>11499.0</td>\n",
       "      <td>15.0</td>\n",
       "      <td>27467078</td>\n",
       "      <td>0.000001</td>\n",
       "      <td>29</td>\n",
       "      <td>14317.00</td>\n",
       "      <td>23.0</td>\n",
       "      <td>...</td>\n",
       "      <td>NaN</td>\n",
       "      <td>NaN</td>\n",
       "      <td>NaN</td>\n",
       "      <td>NaN</td>\n",
       "      <td>NaN</td>\n",
       "      <td>NaN</td>\n",
       "      <td>0.650546</td>\n",
       "      <td>5</td>\n",
       "      <td>0.650546</td>\n",
       "      <td>5</td>\n",
       "    </tr>\n",
       "  </tbody>\n",
       "</table>\n",
       "<p>5 rows × 39 columns</p>\n",
       "</div>"
      ],
      "text/plain": [
       "    user_id  item_id   datetime  total_dur  weight  Unnamed: 0  lfm_score  \\\n",
       "49        3    15297 2021-07-01        0.0     0.0    27467050   0.000009   \n",
       "28        3    10440 2021-07-23    44827.0    90.0    27467051   0.000008   \n",
       "26        3     9728 2021-07-23    10448.0   100.0    27467054   0.000006   \n",
       "41        3    13865 2021-07-01        0.0     0.0    27467052   0.000006   \n",
       "36        3    12192 2021-08-11    11499.0    15.0    27467078   0.000001   \n",
       "\n",
       "    lfm_rank  pop_score  pop_rank  ... pointwise_hybrid_score  \\\n",
       "49         1  137128.00       2.0  ...                    NaN   \n",
       "28         2  141889.00       1.0  ...                    NaN   \n",
       "26         5     242.99    2086.0  ...                    NaN   \n",
       "41         3   93403.00       3.0  ...                    NaN   \n",
       "36        29   14317.00      23.0  ...                    NaN   \n",
       "\n",
       "   pointwise_hybrid_rank fixed_pointwise_score fixed_pointwise_rank  \\\n",
       "49                   NaN                   NaN                  NaN   \n",
       "28                   NaN                   NaN                  NaN   \n",
       "26                   NaN                   NaN                  NaN   \n",
       "41                   NaN                   NaN                  NaN   \n",
       "36                   NaN                   NaN                  NaN   \n",
       "\n",
       "    fixed_pointwise_hybrid_score  fixed_pointwise_hybrid_rank  listwise_score  \\\n",
       "49                           NaN                          NaN        2.708409   \n",
       "28                           NaN                          NaN        1.789801   \n",
       "26                           NaN                          NaN        1.745380   \n",
       "41                           NaN                          NaN        1.432819   \n",
       "36                           NaN                          NaN        0.650546   \n",
       "\n",
       "    listwise_rank listwise_hybrid_score  listwise_hybrid_rank  \n",
       "49              1              2.708409                     1  \n",
       "28              2              1.789801                     2  \n",
       "26              3              1.745380                     3  \n",
       "41              4              1.432819                     4  \n",
       "36              5              0.650546                     5  \n",
       "\n",
       "[5 rows x 39 columns]"
      ]
     },
     "execution_count": 64,
     "metadata": {},
     "output_type": "execute_result"
    }
   ],
   "source": [
    "y_pred: np.ndarray = listwise_model.predict(ranker_df[cols])\n",
    "ranker_df = add_score_and_rank(ranker_df, y_pred, \"listwise\")\n",
    "ranker_df.head()"
   ]
  },
  {
   "cell_type": "code",
   "execution_count": 65,
   "metadata": {
    "is_executing": true
   },
   "outputs": [
    {
     "data": {
      "text/html": [
       "<div>\n",
       "<style scoped>\n",
       "    .dataframe tbody tr th:only-of-type {\n",
       "        vertical-align: middle;\n",
       "    }\n",
       "\n",
       "    .dataframe tbody tr th {\n",
       "        vertical-align: top;\n",
       "    }\n",
       "\n",
       "    .dataframe thead th {\n",
       "        text-align: right;\n",
       "    }\n",
       "</style>\n",
       "<table border=\"1\" class=\"dataframe\">\n",
       "  <thead>\n",
       "    <tr style=\"text-align: right;\">\n",
       "      <th></th>\n",
       "      <th>user_id</th>\n",
       "      <th>item_id</th>\n",
       "    </tr>\n",
       "  </thead>\n",
       "  <tbody>\n",
       "    <tr>\n",
       "      <th>49</th>\n",
       "      <td>3</td>\n",
       "      <td>15297</td>\n",
       "    </tr>\n",
       "    <tr>\n",
       "      <th>28</th>\n",
       "      <td>3</td>\n",
       "      <td>10440</td>\n",
       "    </tr>\n",
       "    <tr>\n",
       "      <th>26</th>\n",
       "      <td>3</td>\n",
       "      <td>9728</td>\n",
       "    </tr>\n",
       "    <tr>\n",
       "      <th>41</th>\n",
       "      <td>3</td>\n",
       "      <td>13865</td>\n",
       "    </tr>\n",
       "    <tr>\n",
       "      <th>36</th>\n",
       "      <td>3</td>\n",
       "      <td>12192</td>\n",
       "    </tr>\n",
       "  </tbody>\n",
       "</table>\n",
       "</div>"
      ],
      "text/plain": [
       "    user_id  item_id\n",
       "49        3    15297\n",
       "28        3    10440\n",
       "26        3     9728\n",
       "41        3    13865\n",
       "36        3    12192"
      ]
     },
     "execution_count": 65,
     "metadata": {},
     "output_type": "execute_result"
    }
   ],
   "source": [
    "N_RECS = 10\n",
    "ranker_df = ranker_df[[Columns.User, Columns.Item, \"listwise_hybrid_rank\"]]\n",
    "\n",
    "res = (\n",
    "    ranker_df.sort_values([Columns.User, \"listwise_hybrid_rank\"])\n",
    "    .groupby(Columns.User)\n",
    "    .head(N_RECS)\n",
    ")\n",
    "res.drop(\"listwise_hybrid_rank\", axis=1, inplace=True)\n",
    "res.head()"
   ]
  },
  {
   "cell_type": "code",
   "execution_count": 66,
   "metadata": {
    "is_executing": true
   },
   "outputs": [],
   "source": [
    "recs = res.groupby(Columns.User).agg(list).to_dict()[Columns.Item]"
   ]
  },
  {
   "cell_type": "code",
   "execution_count": 67,
   "metadata": {
    "is_executing": true
   },
   "outputs": [],
   "source": [
    "pickle.dump(recs, open(\"../saved_models/ranker.pkl\", \"wb\"))"
   ]
  }
 ],
 "metadata": {
  "kernelspec": {
   "display_name": "Python 3.10.9 ('venv': venv)",
   "language": "python",
   "name": "python3"
  },
  "language_info": {
   "codemirror_mode": {
    "name": "ipython",
    "version": 3
   },
   "file_extension": ".py",
   "mimetype": "text/x-python",
   "name": "python",
   "nbconvert_exporter": "python",
   "pygments_lexer": "ipython3",
   "version": "3.10.12"
  },
  "toc-autonumbering": false,
  "toc-showmarkdowntxt": true,
  "vscode": {
   "interpreter": {
    "hash": "e1f50835d4d846301c2a6cf272c7592be0337e07912c3141799623767e50deba"
   }
  }
 },
 "nbformat": 4,
 "nbformat_minor": 4
}
