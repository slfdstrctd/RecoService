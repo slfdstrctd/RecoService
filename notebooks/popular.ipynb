{
 "cells": [
  {
   "cell_type": "code",
   "execution_count": 72,
   "outputs": [],
   "source": [
    "from rectools import Columns\n",
    "import pandas as pd\n",
    "from rectools.dataset import Dataset\n",
    "from rectools.models import PopularModel\n",
    "\n",
    "interactions_df = pd.read_csv('../data/interactions.csv')\n",
    "\n",
    "interactions_df.rename(\n",
    "    columns={\n",
    "        'last_watch_dt': Columns.Datetime,\n",
    "        'total_dur': Columns.Weight\n",
    "    }, inplace=True)\n",
    "\n",
    "pop_model = PopularModel()\n",
    "\n",
    "pop_model.fit(Dataset.construct(interactions_df))\n",
    "\n",
    "popular_100 = pop_model.recommend(\n",
    "    users=[1],\n",
    "    dataset=Dataset.construct(interactions_df),\n",
    "    k=100,\n",
    "    filter_viewed=False,\n",
    ")"
   ],
   "metadata": {
    "collapsed": false,
    "ExecuteTime": {
     "end_time": "2023-12-06T09:09:43.102220600Z",
     "start_time": "2023-12-06T09:09:36.371341500Z"
    }
   },
   "id": "c86528d5eb87c295"
  },
  {
   "cell_type": "code",
   "execution_count": 73,
   "outputs": [
    {
     "data": {
      "text/plain": "    user_id  item_id     score  rank\n0         1    10440  202457.0     1\n1         1    15297  193123.0     2\n2         1     9728  132865.0     3\n3         1    13865  122119.0     4\n4         1     4151   91167.0     5\n..      ...      ...       ...   ...\n95        1    11754    6882.0    96\n96        1    10761    6877.0    97\n97        1    12356    6874.0    98\n98        1     8447    6762.0    99\n99        1    12743    6550.0   100\n\n[100 rows x 4 columns]",
      "text/html": "<div>\n<style scoped>\n    .dataframe tbody tr th:only-of-type {\n        vertical-align: middle;\n    }\n\n    .dataframe tbody tr th {\n        vertical-align: top;\n    }\n\n    .dataframe thead th {\n        text-align: right;\n    }\n</style>\n<table border=\"1\" class=\"dataframe\">\n  <thead>\n    <tr style=\"text-align: right;\">\n      <th></th>\n      <th>user_id</th>\n      <th>item_id</th>\n      <th>score</th>\n      <th>rank</th>\n    </tr>\n  </thead>\n  <tbody>\n    <tr>\n      <th>0</th>\n      <td>1</td>\n      <td>10440</td>\n      <td>202457.0</td>\n      <td>1</td>\n    </tr>\n    <tr>\n      <th>1</th>\n      <td>1</td>\n      <td>15297</td>\n      <td>193123.0</td>\n      <td>2</td>\n    </tr>\n    <tr>\n      <th>2</th>\n      <td>1</td>\n      <td>9728</td>\n      <td>132865.0</td>\n      <td>3</td>\n    </tr>\n    <tr>\n      <th>3</th>\n      <td>1</td>\n      <td>13865</td>\n      <td>122119.0</td>\n      <td>4</td>\n    </tr>\n    <tr>\n      <th>4</th>\n      <td>1</td>\n      <td>4151</td>\n      <td>91167.0</td>\n      <td>5</td>\n    </tr>\n    <tr>\n      <th>...</th>\n      <td>...</td>\n      <td>...</td>\n      <td>...</td>\n      <td>...</td>\n    </tr>\n    <tr>\n      <th>95</th>\n      <td>1</td>\n      <td>11754</td>\n      <td>6882.0</td>\n      <td>96</td>\n    </tr>\n    <tr>\n      <th>96</th>\n      <td>1</td>\n      <td>10761</td>\n      <td>6877.0</td>\n      <td>97</td>\n    </tr>\n    <tr>\n      <th>97</th>\n      <td>1</td>\n      <td>12356</td>\n      <td>6874.0</td>\n      <td>98</td>\n    </tr>\n    <tr>\n      <th>98</th>\n      <td>1</td>\n      <td>8447</td>\n      <td>6762.0</td>\n      <td>99</td>\n    </tr>\n    <tr>\n      <th>99</th>\n      <td>1</td>\n      <td>12743</td>\n      <td>6550.0</td>\n      <td>100</td>\n    </tr>\n  </tbody>\n</table>\n<p>100 rows × 4 columns</p>\n</div>"
     },
     "execution_count": 73,
     "metadata": {},
     "output_type": "execute_result"
    }
   ],
   "source": [
    "popular_100"
   ],
   "metadata": {
    "collapsed": false,
    "ExecuteTime": {
     "end_time": "2023-12-06T09:09:43.108272800Z",
     "start_time": "2023-12-06T09:09:43.102220600Z"
    }
   },
   "id": "e4eccbfade5202ea"
  },
  {
   "cell_type": "code",
   "execution_count": 74,
   "outputs": [],
   "source": [
    "popular_100.item_id.to_json('../saved_models/popular.json')"
   ],
   "metadata": {
    "collapsed": false,
    "ExecuteTime": {
     "end_time": "2023-12-06T09:09:43.184621500Z",
     "start_time": "2023-12-06T09:09:43.107269100Z"
    }
   },
   "id": "e85b0212c9974366"
  },
  {
   "cell_type": "code",
   "execution_count": null,
   "outputs": [],
   "source": [],
   "metadata": {
    "collapsed": false
   },
   "id": "99bd088994233df1"
  },
  {
   "cell_type": "code",
   "execution_count": 75,
   "outputs": [],
   "source": [
    "from saved_models.models import load_model_from_pickle\n",
    "als_ann = load_model_from_pickle(\"../saved_models/als_ann.pkl\")\n",
    "popular = pd.read_json('../saved_models/popular.json', orient='index')"
   ],
   "metadata": {
    "collapsed": false,
    "ExecuteTime": {
     "end_time": "2023-12-06T09:09:52.637218200Z",
     "start_time": "2023-12-06T09:09:52.086067600Z"
    }
   },
   "id": "75c532f533d1aa42"
  },
  {
   "cell_type": "code",
   "execution_count": 77,
   "outputs": [
    {
     "data": {
      "text/plain": "[10440, 15297, 9728, 13865, 4151, 3734, 2657, 4880, 142, 6809]"
     },
     "execution_count": 77,
     "metadata": {},
     "output_type": "execute_result"
    }
   ],
   "source": [
    "popular[0].values.tolist()[:10]"
   ],
   "metadata": {
    "collapsed": false,
    "ExecuteTime": {
     "end_time": "2023-12-06T09:09:57.083362100Z",
     "start_time": "2023-12-06T09:09:57.079220Z"
    }
   },
   "id": "8f6435a16aa887d9"
  },
  {
   "cell_type": "code",
   "execution_count": 79,
   "outputs": [],
   "source": [
    "from types import MethodType\n",
    "\n",
    "\n",
    "def recommend_als_ann(self, user_id, N_recs=10, popular=popular):\n",
    "    if user_id in self.user_id_map.external_ids:\n",
    "        return self.get_item_list_for_user(user_id, N_recs).tolist()\n",
    "    else:\n",
    "        return popular[0].values.tolist()[:10]\n",
    "\n",
    "\n",
    "als_ann.recommend = MethodType(recommend_als_ann, als_ann)"
   ],
   "metadata": {
    "collapsed": false,
    "ExecuteTime": {
     "end_time": "2023-12-06T09:10:29.734336900Z",
     "start_time": "2023-12-06T09:10:29.731599300Z"
    }
   },
   "id": "d9a817fcf91ba910"
  },
  {
   "cell_type": "code",
   "execution_count": 83,
   "outputs": [
    {
     "data": {
      "text/plain": "[3784, 4880, 7793, 12192, 2657, 7829, 14899, 7417, 3935, 3734]"
     },
     "execution_count": 83,
     "metadata": {},
     "output_type": "execute_result"
    }
   ],
   "source": [
    "als_ann.recommend(user_id=3)"
   ],
   "metadata": {
    "collapsed": false,
    "ExecuteTime": {
     "end_time": "2023-12-06T09:10:36.791396500Z",
     "start_time": "2023-12-06T09:10:36.756419Z"
    }
   },
   "id": "bd986aabe53d11f2"
  },
  {
   "cell_type": "code",
   "execution_count": null,
   "outputs": [],
   "source": [],
   "metadata": {
    "collapsed": false
   },
   "id": "243f82571a85d8e6"
  }
 ],
 "metadata": {
  "kernelspec": {
   "display_name": "Python 3",
   "language": "python",
   "name": "python3"
  },
  "language_info": {
   "codemirror_mode": {
    "name": "ipython",
    "version": 2
   },
   "file_extension": ".py",
   "mimetype": "text/x-python",
   "name": "python",
   "nbconvert_exporter": "python",
   "pygments_lexer": "ipython2",
   "version": "2.7.6"
  }
 },
 "nbformat": 4,
 "nbformat_minor": 5
}
