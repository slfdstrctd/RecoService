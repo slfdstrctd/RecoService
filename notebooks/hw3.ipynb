{
 "cells": [
  {
   "cell_type": "code",
   "execution_count": 1,
   "id": "initial_id",
   "metadata": {
    "ExecuteTime": {
     "end_time": "2023-12-06T07:59:09.130455800Z",
     "start_time": "2023-12-06T07:59:09.124239100Z"
    }
   },
   "outputs": [
    {
     "name": "stderr",
     "output_type": "stream",
     "text": [
      "/home/slfdstrctd/.local/lib/python3.10/site-packages/implicit/gpu/__init__.py:13: UserWarning: CUDA extension is built, but disabling GPU support because of 'Cuda Error: no CUDA-capable device is detected (/project/./implicit/gpu/utils.h:71)'\n",
      "  warnings.warn(\n"
     ]
    }
   ],
   "source": [
    "import warnings\n",
    "\n",
    "import pandas as pd\n",
    "from implicit.nearest_neighbours import CosineRecommender, TFIDFRecommender, BM25Recommender\n",
    "from rectools import Columns\n",
    "from rectools.dataset import Interactions\n",
    "from rectools.metrics import MAP, MeanInvUserFreq, calc_metrics\n",
    "from rectools.metrics import Precision, Recall, NDCG, Serendipity\n",
    "from rectools.model_selection import TimeRangeSplitter\n",
    "\n",
    "from models.userknn import UserKnn\n",
    "\n",
    "warnings.filterwarnings(\"ignore\")\n",
    "pd.set_option('display.max_columns', None)\n",
    "pd.set_option('display.max_colwidth', 200)\n",
    "import pickle\n",
    "import re"
   ]
  },
  {
   "cell_type": "markdown",
   "id": "ec014ab8bbe8f936",
   "metadata": {
    "collapsed": false,
    "jupyter": {
     "outputs_hidden": false
    }
   },
   "source": [
    "## Data"
   ]
  },
  {
   "cell_type": "code",
   "execution_count": 28,
   "id": "ab41ae576253731a",
   "metadata": {
    "ExecuteTime": {
     "end_time": "2023-12-06T07:59:18.036993200Z",
     "start_time": "2023-12-06T07:59:13.323718100Z"
    },
    "collapsed": false,
    "jupyter": {
     "outputs_hidden": false
    }
   },
   "outputs": [
    {
     "data": {
      "text/html": [
       "<div>\n",
       "<style scoped>\n",
       "    .dataframe tbody tr th:only-of-type {\n",
       "        vertical-align: middle;\n",
       "    }\n",
       "\n",
       "    .dataframe tbody tr th {\n",
       "        vertical-align: top;\n",
       "    }\n",
       "\n",
       "    .dataframe thead th {\n",
       "        text-align: right;\n",
       "    }\n",
       "</style>\n",
       "<table border=\"1\" class=\"dataframe\">\n",
       "  <thead>\n",
       "    <tr style=\"text-align: right;\">\n",
       "      <th></th>\n",
       "      <th>user_id</th>\n",
       "      <th>item_id</th>\n",
       "      <th>datetime</th>\n",
       "      <th>weight</th>\n",
       "      <th>watched_pct</th>\n",
       "    </tr>\n",
       "  </thead>\n",
       "  <tbody>\n",
       "    <tr>\n",
       "      <th>4095320</th>\n",
       "      <td>923232</td>\n",
       "      <td>3935</td>\n",
       "      <td>2021-06-14</td>\n",
       "      <td>6159.0</td>\n",
       "      <td>100.0</td>\n",
       "    </tr>\n",
       "    <tr>\n",
       "      <th>1135938</th>\n",
       "      <td>405953</td>\n",
       "      <td>1112</td>\n",
       "      <td>2021-06-15</td>\n",
       "      <td>235.0</td>\n",
       "      <td>5.0</td>\n",
       "    </tr>\n",
       "    <tr>\n",
       "      <th>3883989</th>\n",
       "      <td>876404</td>\n",
       "      <td>6066</td>\n",
       "      <td>2021-03-20</td>\n",
       "      <td>348.0</td>\n",
       "      <td>6.0</td>\n",
       "    </tr>\n",
       "    <tr>\n",
       "      <th>5014988</th>\n",
       "      <td>519719</td>\n",
       "      <td>13959</td>\n",
       "      <td>2021-06-03</td>\n",
       "      <td>5526.0</td>\n",
       "      <td>20.0</td>\n",
       "    </tr>\n",
       "    <tr>\n",
       "      <th>4965468</th>\n",
       "      <td>991247</td>\n",
       "      <td>1168</td>\n",
       "      <td>2021-04-17</td>\n",
       "      <td>7403.0</td>\n",
       "      <td>100.0</td>\n",
       "    </tr>\n",
       "  </tbody>\n",
       "</table>\n",
       "</div>"
      ],
      "text/plain": [
       "         user_id  item_id   datetime  weight  watched_pct\n",
       "4095320   923232     3935 2021-06-14  6159.0        100.0\n",
       "1135938   405953     1112 2021-06-15   235.0          5.0\n",
       "3883989   876404     6066 2021-03-20   348.0          6.0\n",
       "5014988   519719    13959 2021-06-03  5526.0         20.0\n",
       "4965468   991247     1168 2021-04-17  7403.0        100.0"
      ]
     },
     "execution_count": 28,
     "metadata": {},
     "output_type": "execute_result"
    }
   ],
   "source": [
    "interactions_df = pd.read_csv('../data/interactions.csv')\n",
    "\n",
    "interactions_df.rename(columns={'last_watch_dt': Columns.Datetime,\n",
    "                                'total_dur': Columns.Weight}, inplace=True)\n",
    "\n",
    "# interactions = Interactions(interactions_df)\n",
    "interactions = Interactions(interactions_df.sample(frac=0.05))\n",
    "\n",
    "interactions.df.head()"
   ]
  },
  {
   "cell_type": "markdown",
   "id": "9ae14929af8d4b37",
   "metadata": {
    "collapsed": false,
    "jupyter": {
     "outputs_hidden": false
    }
   },
   "source": [
    "## Cross validation"
   ]
  },
  {
   "cell_type": "code",
   "execution_count": 29,
   "id": "9ff445e0c7d3b7f1",
   "metadata": {
    "ExecuteTime": {
     "end_time": "2023-12-06T07:59:24.220200600Z",
     "start_time": "2023-12-06T07:59:24.214537800Z"
    },
    "collapsed": false,
    "jupyter": {
     "outputs_hidden": false
    }
   },
   "outputs": [],
   "source": [
    "N_SPLITS = 5\n",
    "TEST_SIZE = '7D'"
   ]
  },
  {
   "cell_type": "code",
   "execution_count": 30,
   "id": "72d63f755083fa1",
   "metadata": {
    "ExecuteTime": {
     "end_time": "2023-12-06T07:59:24.917729200Z",
     "start_time": "2023-12-06T07:59:24.908319700Z"
    },
    "collapsed": false,
    "jupyter": {
     "outputs_hidden": false
    }
   },
   "outputs": [],
   "source": [
    "cv = TimeRangeSplitter(\n",
    "    test_size=TEST_SIZE,\n",
    "    n_splits=N_SPLITS,\n",
    "    filter_already_seen=True,\n",
    "    filter_cold_items=True,\n",
    "    filter_cold_users=True,\n",
    ")"
   ]
  },
  {
   "cell_type": "code",
   "execution_count": 31,
   "id": "634e30ce47ade1b6",
   "metadata": {
    "ExecuteTime": {
     "end_time": "2023-12-06T07:59:25.893004Z",
     "start_time": "2023-12-06T07:59:25.862298800Z"
    },
    "collapsed": false,
    "jupyter": {
     "outputs_hidden": false
    }
   },
   "outputs": [],
   "source": [
    "metrics = {\n",
    "    'Precision@10': Precision(k=10),\n",
    "    'Recall@10': Recall(k=10),\n",
    "    'NDCG@10': NDCG(k=10),\n",
    "    'map@10': MAP(k=10),\n",
    "    'novelty': MeanInvUserFreq(k=10),\n",
    "    'Serendipity@10': Serendipity(k=10)\n",
    "}\n",
    "\n",
    "models = {\n",
    "    'cosine_userknn': CosineRecommender(),\n",
    "    'tfidf_userknn': TFIDFRecommender(),\n",
    "    'BM25_userknn': BM25Recommender()\n",
    "}"
   ]
  },
  {
   "cell_type": "code",
   "execution_count": 32,
   "id": "2b025bf031cf8d9",
   "metadata": {
    "ExecuteTime": {
     "end_time": "2023-12-06T08:07:46.905738900Z",
     "start_time": "2023-12-06T08:07:46.890090700Z"
    },
    "collapsed": false,
    "jupyter": {
     "outputs_hidden": false
    }
   },
   "outputs": [],
   "source": [
    "def show_pivot(results, group=False):\n",
    "    pivot_results = results.drop(\"fold\", axis=1).groupby([\"model\"]).mean()\n",
    "\n",
    "    if group:\n",
    "        new_columns = sorted([\n",
    "            (re.split(\"@\", col)[0], int(re.split(\"@\", col)[1])) if \"@\" in col else (col, \"\")\n",
    "            for col in pivot_results.columns])\n",
    "        pivot_results.columns = pd.MultiIndex.from_tuples(new_columns, names=[\"Metric\", \"Value\"])\n",
    "\n",
    "    display(\n",
    "        pivot_results.style\n",
    "        .highlight_min(color='lightcoral', axis=0)\n",
    "        .highlight_max(color='lightgreen', axis=0)\n",
    "    )"
   ]
  },
  {
   "cell_type": "code",
   "execution_count": 33,
   "id": "e154b087fc96d1e3",
   "metadata": {
    "ExecuteTime": {
     "end_time": "2023-12-06T07:59:51.904971200Z",
     "start_time": "2023-12-06T07:59:31.808327Z"
    },
    "collapsed": false,
    "jupyter": {
     "outputs_hidden": false
    }
   },
   "outputs": [
    {
     "name": "stdout",
     "output_type": "stream",
     "text": [
      "\n",
      "==================== Fold 0\n",
      "{'end': Timestamp('2021-07-26 00:00:00', freq='7D'),\n",
      " 'i_split': 0,\n",
      " 'start': Timestamp('2021-07-19 00:00:00', freq='7D'),\n",
      " 'test': 4620,\n",
      " 'test_items': 1698,\n",
      " 'test_users': 3988,\n",
      " 'train': 178209,\n",
      " 'train_items': 7316,\n",
      " 'train_users': 128389}\n"
     ]
    },
    {
     "data": {
      "application/vnd.jupyter.widget-view+json": {
       "model_id": "9c3e1153812c45589d1248865a85b320",
       "version_major": 2,
       "version_minor": 0
      },
      "text/plain": [
       "  0%|          | 0/128389 [00:00<?, ?it/s]"
      ]
     },
     "metadata": {},
     "output_type": "display_data"
    },
    {
     "data": {
      "application/vnd.jupyter.widget-view+json": {
       "model_id": "8f97a9a1a70f49408d7b38e9f765cae8",
       "version_major": 2,
       "version_minor": 0
      },
      "text/plain": [
       "  0%|          | 0/128389 [00:00<?, ?it/s]"
      ]
     },
     "metadata": {},
     "output_type": "display_data"
    },
    {
     "data": {
      "application/vnd.jupyter.widget-view+json": {
       "model_id": "e8933a0883a14399b81285e588543069",
       "version_major": 2,
       "version_minor": 0
      },
      "text/plain": [
       "  0%|          | 0/128389 [00:00<?, ?it/s]"
      ]
     },
     "metadata": {},
     "output_type": "display_data"
    },
    {
     "name": "stdout",
     "output_type": "stream",
     "text": [
      "\n",
      "==================== Fold 1\n",
      "{'end': Timestamp('2021-08-02 00:00:00', freq='7D'),\n",
      " 'i_split': 1,\n",
      " 'start': Timestamp('2021-07-26 00:00:00', freq='7D'),\n",
      " 'test': 5075,\n",
      " 'test_items': 1758,\n",
      " 'test_users': 4420,\n",
      " 'train': 194855,\n",
      " 'train_items': 7487,\n",
      " 'train_users': 139288}\n"
     ]
    },
    {
     "data": {
      "application/vnd.jupyter.widget-view+json": {
       "model_id": "4c73a0c6e8b64e3a9723de41e63e137c",
       "version_major": 2,
       "version_minor": 0
      },
      "text/plain": [
       "  0%|          | 0/139288 [00:00<?, ?it/s]"
      ]
     },
     "metadata": {},
     "output_type": "display_data"
    },
    {
     "data": {
      "application/vnd.jupyter.widget-view+json": {
       "model_id": "6eca1a5e70bb4f22a7bb29638dcc9454",
       "version_major": 2,
       "version_minor": 0
      },
      "text/plain": [
       "  0%|          | 0/139288 [00:00<?, ?it/s]"
      ]
     },
     "metadata": {},
     "output_type": "display_data"
    },
    {
     "data": {
      "application/vnd.jupyter.widget-view+json": {
       "model_id": "a55ea5cbe9be4b85ba6d7b1ccb563c63",
       "version_major": 2,
       "version_minor": 0
      },
      "text/plain": [
       "  0%|          | 0/139288 [00:00<?, ?it/s]"
      ]
     },
     "metadata": {},
     "output_type": "display_data"
    },
    {
     "name": "stdout",
     "output_type": "stream",
     "text": [
      "\n",
      "==================== Fold 2\n",
      "{'end': Timestamp('2021-08-09 00:00:00', freq='7D'),\n",
      " 'i_split': 2,\n",
      " 'start': Timestamp('2021-08-02 00:00:00', freq='7D'),\n",
      " 'test': 5357,\n",
      " 'test_items': 1749,\n",
      " 'test_users': 4667,\n",
      " 'train': 213415,\n",
      " 'train_items': 7664,\n",
      " 'train_users': 151495}\n"
     ]
    },
    {
     "data": {
      "application/vnd.jupyter.widget-view+json": {
       "model_id": "02dda47500fc4772b138e36f9b5cc290",
       "version_major": 2,
       "version_minor": 0
      },
      "text/plain": [
       "  0%|          | 0/151495 [00:00<?, ?it/s]"
      ]
     },
     "metadata": {},
     "output_type": "display_data"
    },
    {
     "data": {
      "application/vnd.jupyter.widget-view+json": {
       "model_id": "23fc2c8413f64fa783d7082bcaccee4c",
       "version_major": 2,
       "version_minor": 0
      },
      "text/plain": [
       "  0%|          | 0/151495 [00:00<?, ?it/s]"
      ]
     },
     "metadata": {},
     "output_type": "display_data"
    },
    {
     "data": {
      "application/vnd.jupyter.widget-view+json": {
       "model_id": "79f48b446ea542f0958f5f6d89461cde",
       "version_major": 2,
       "version_minor": 0
      },
      "text/plain": [
       "  0%|          | 0/151495 [00:00<?, ?it/s]"
      ]
     },
     "metadata": {},
     "output_type": "display_data"
    },
    {
     "name": "stdout",
     "output_type": "stream",
     "text": [
      "\n",
      "==================== Fold 3\n",
      "{'end': Timestamp('2021-08-16 00:00:00', freq='7D'),\n",
      " 'i_split': 3,\n",
      " 'start': Timestamp('2021-08-09 00:00:00', freq='7D'),\n",
      " 'test': 5848,\n",
      " 'test_items': 1932,\n",
      " 'test_users': 5070,\n",
      " 'train': 232606,\n",
      " 'train_items': 7872,\n",
      " 'train_users': 163936}\n"
     ]
    },
    {
     "data": {
      "application/vnd.jupyter.widget-view+json": {
       "model_id": "41d3427cc66b40a1b73b451a12b690fa",
       "version_major": 2,
       "version_minor": 0
      },
      "text/plain": [
       "  0%|          | 0/163936 [00:00<?, ?it/s]"
      ]
     },
     "metadata": {},
     "output_type": "display_data"
    },
    {
     "data": {
      "application/vnd.jupyter.widget-view+json": {
       "model_id": "adf2fa13d0cb4bb798bd590d575648c6",
       "version_major": 2,
       "version_minor": 0
      },
      "text/plain": [
       "  0%|          | 0/163936 [00:00<?, ?it/s]"
      ]
     },
     "metadata": {},
     "output_type": "display_data"
    },
    {
     "data": {
      "application/vnd.jupyter.widget-view+json": {
       "model_id": "a084cf125ca64d0a80efa959ed645fb4",
       "version_major": 2,
       "version_minor": 0
      },
      "text/plain": [
       "  0%|          | 0/163936 [00:00<?, ?it/s]"
      ]
     },
     "metadata": {},
     "output_type": "display_data"
    },
    {
     "name": "stdout",
     "output_type": "stream",
     "text": [
      "\n",
      "==================== Fold 4\n",
      "{'end': Timestamp('2021-08-23 00:00:00', freq='7D'),\n",
      " 'i_split': 4,\n",
      " 'start': Timestamp('2021-08-16 00:00:00', freq='7D'),\n",
      " 'test': 6312,\n",
      " 'test_items': 1979,\n",
      " 'test_users': 5434,\n",
      " 'train': 252663,\n",
      " 'train_items': 8068,\n",
      " 'train_users': 176665}\n"
     ]
    },
    {
     "data": {
      "application/vnd.jupyter.widget-view+json": {
       "model_id": "78df952a20d74e2aab58e1eecd5c348e",
       "version_major": 2,
       "version_minor": 0
      },
      "text/plain": [
       "  0%|          | 0/176665 [00:00<?, ?it/s]"
      ]
     },
     "metadata": {},
     "output_type": "display_data"
    },
    {
     "data": {
      "application/vnd.jupyter.widget-view+json": {
       "model_id": "59430d4179fb4118adca823bd725b730",
       "version_major": 2,
       "version_minor": 0
      },
      "text/plain": [
       "  0%|          | 0/176665 [00:00<?, ?it/s]"
      ]
     },
     "metadata": {},
     "output_type": "display_data"
    },
    {
     "data": {
      "application/vnd.jupyter.widget-view+json": {
       "model_id": "8012c1dac8644f0da131d0a4ac27976d",
       "version_major": 2,
       "version_minor": 0
      },
      "text/plain": [
       "  0%|          | 0/176665 [00:00<?, ?it/s]"
      ]
     },
     "metadata": {},
     "output_type": "display_data"
    }
   ],
   "source": [
    "results = []\n",
    "\n",
    "fold_iterator = cv.split(interactions, collect_fold_stats=True)\n",
    "\n",
    "for i_fold, (train_ids, test_ids, fold_info) in enumerate(fold_iterator):\n",
    "    print(f\"\\n==================== Fold {i_fold}\")\n",
    "    pprint(fold_info)\n",
    "\n",
    "    df_train = interactions.df.iloc[train_ids].copy()\n",
    "    df_test = interactions.df.iloc[test_ids][Columns.UserItem].copy()\n",
    "\n",
    "    catalog = df_train[Columns.Item].unique()\n",
    "\n",
    "    for model_name, model in models.items():\n",
    "        userknn_model = UserKnn(model=model, N_users=50)\n",
    "        userknn_model.fit(df_train)\n",
    "\n",
    "        recos = userknn_model.predict(df_test)\n",
    "\n",
    "        metric_values = calc_metrics(\n",
    "            metrics,\n",
    "            reco=recos,\n",
    "            interactions=df_test,\n",
    "            prev_interactions=df_train,\n",
    "            catalog=catalog,\n",
    "        )\n",
    "\n",
    "        fold = {\"fold\": i_fold, \"model\": model_name}\n",
    "        fold.update(metric_values)\n",
    "        results.append(fold)"
   ]
  },
  {
   "cell_type": "code",
   "execution_count": 34,
   "id": "b70fd442-eee1-4ec7-8fb8-d668682cd4ff",
   "metadata": {},
   "outputs": [],
   "source": [
    "#df_metrics = pd.read_csv(\"df_metrics.csv\")"
   ]
  },
  {
   "cell_type": "code",
   "execution_count": 35,
   "id": "17342f0a-9c55-4b6d-b539-f0729217a0fb",
   "metadata": {},
   "outputs": [],
   "source": [
    "df_metrics=pd.DataFrame(results)"
   ]
  },
  {
   "cell_type": "code",
   "execution_count": 36,
   "id": "24566bfab1e7eaa8",
   "metadata": {
    "ExecuteTime": {
     "end_time": "2023-12-06T08:07:51.727768400Z",
     "start_time": "2023-12-06T08:07:51.660800200Z"
    },
    "collapsed": false,
    "jupyter": {
     "outputs_hidden": false
    }
   },
   "outputs": [
    {
     "data": {
      "text/html": [
       "<style type=\"text/css\">\n",
       "#T_415b2_row0_col4, #T_415b2_row0_col5, #T_415b2_row2_col0, #T_415b2_row2_col1, #T_415b2_row2_col2, #T_415b2_row2_col3 {\n",
       "  background-color: lightgreen;\n",
       "}\n",
       "#T_415b2_row1_col0, #T_415b2_row1_col1, #T_415b2_row1_col2, #T_415b2_row1_col3, #T_415b2_row1_col5, #T_415b2_row2_col4 {\n",
       "  background-color: lightcoral;\n",
       "}\n",
       "</style>\n",
       "<table id=\"T_415b2\">\n",
       "  <thead>\n",
       "    <tr>\n",
       "      <th class=\"index_name level0\" >Metric</th>\n",
       "      <th id=\"T_415b2_level0_col0\" class=\"col_heading level0 col0\" >NDCG</th>\n",
       "      <th id=\"T_415b2_level0_col1\" class=\"col_heading level0 col1\" >Precision</th>\n",
       "      <th id=\"T_415b2_level0_col2\" class=\"col_heading level0 col2\" >Recall</th>\n",
       "      <th id=\"T_415b2_level0_col3\" class=\"col_heading level0 col3\" >Serendipity</th>\n",
       "      <th id=\"T_415b2_level0_col4\" class=\"col_heading level0 col4\" >map</th>\n",
       "      <th id=\"T_415b2_level0_col5\" class=\"col_heading level0 col5\" >novelty</th>\n",
       "    </tr>\n",
       "    <tr>\n",
       "      <th class=\"index_name level1\" >Value</th>\n",
       "      <th id=\"T_415b2_level1_col0\" class=\"col_heading level1 col0\" >10</th>\n",
       "      <th id=\"T_415b2_level1_col1\" class=\"col_heading level1 col1\" >10</th>\n",
       "      <th id=\"T_415b2_level1_col2\" class=\"col_heading level1 col2\" >10</th>\n",
       "      <th id=\"T_415b2_level1_col3\" class=\"col_heading level1 col3\" >10</th>\n",
       "      <th id=\"T_415b2_level1_col4\" class=\"col_heading level1 col4\" >10</th>\n",
       "      <th id=\"T_415b2_level1_col5\" class=\"col_heading level1 col5\" ></th>\n",
       "    </tr>\n",
       "    <tr>\n",
       "      <th class=\"index_name level0\" >model</th>\n",
       "      <th class=\"blank col0\" >&nbsp;</th>\n",
       "      <th class=\"blank col1\" >&nbsp;</th>\n",
       "      <th class=\"blank col2\" >&nbsp;</th>\n",
       "      <th class=\"blank col3\" >&nbsp;</th>\n",
       "      <th class=\"blank col4\" >&nbsp;</th>\n",
       "      <th class=\"blank col5\" >&nbsp;</th>\n",
       "    </tr>\n",
       "  </thead>\n",
       "  <tbody>\n",
       "    <tr>\n",
       "      <th id=\"T_415b2_level0_row0\" class=\"row_heading level0 row0\" >BM25_userknn</th>\n",
       "      <td id=\"T_415b2_row0_col0\" class=\"data row0 col0\" >0.000266</td>\n",
       "      <td id=\"T_415b2_row0_col1\" class=\"data row0 col1\" >0.002275</td>\n",
       "      <td id=\"T_415b2_row0_col2\" class=\"data row0 col2\" >0.000227</td>\n",
       "      <td id=\"T_415b2_row0_col3\" class=\"data row0 col3\" >0.000462</td>\n",
       "      <td id=\"T_415b2_row0_col4\" class=\"data row0 col4\" >10.096834</td>\n",
       "      <td id=\"T_415b2_row0_col5\" class=\"data row0 col5\" >0.000005</td>\n",
       "    </tr>\n",
       "    <tr>\n",
       "      <th id=\"T_415b2_level0_row1\" class=\"row_heading level0 row1\" >cosine_userknn</th>\n",
       "      <td id=\"T_415b2_row1_col0\" class=\"data row1 col0\" >0.000206</td>\n",
       "      <td id=\"T_415b2_row1_col1\" class=\"data row1 col1\" >0.001776</td>\n",
       "      <td id=\"T_415b2_row1_col2\" class=\"data row1 col2\" >0.000178</td>\n",
       "      <td id=\"T_415b2_row1_col3\" class=\"data row1 col3\" >0.000371</td>\n",
       "      <td id=\"T_415b2_row1_col4\" class=\"data row1 col4\" >9.851301</td>\n",
       "      <td id=\"T_415b2_row1_col5\" class=\"data row1 col5\" >0.000003</td>\n",
       "    </tr>\n",
       "    <tr>\n",
       "      <th id=\"T_415b2_level0_row2\" class=\"row_heading level0 row2\" >tfidf_userknn</th>\n",
       "      <td id=\"T_415b2_row2_col0\" class=\"data row2 col0\" >0.000332</td>\n",
       "      <td id=\"T_415b2_row2_col1\" class=\"data row2 col1\" >0.002845</td>\n",
       "      <td id=\"T_415b2_row2_col2\" class=\"data row2 col2\" >0.000302</td>\n",
       "      <td id=\"T_415b2_row2_col3\" class=\"data row2 col3\" >0.000654</td>\n",
       "      <td id=\"T_415b2_row2_col4\" class=\"data row2 col4\" >9.754532</td>\n",
       "      <td id=\"T_415b2_row2_col5\" class=\"data row2 col5\" >0.000003</td>\n",
       "    </tr>\n",
       "  </tbody>\n",
       "</table>\n"
      ],
      "text/plain": [
       "<pandas.io.formats.style.Styler at 0x7f8cd9e90be0>"
      ]
     },
     "metadata": {},
     "output_type": "display_data"
    }
   ],
   "source": [
    "show_pivot(df_metrics, True)"
   ]
  },
  {
   "cell_type": "markdown",
   "id": "231ac6ebfab06810",
   "metadata": {
    "collapsed": false,
    "jupyter": {
     "outputs_hidden": false
    }
   },
   "source": [
    "Ориентируемся на MAP@10, будем использовать BM25"
   ]
  },
  {
   "cell_type": "markdown",
   "id": "bc2e9884d63c6f1c",
   "metadata": {
    "collapsed": false,
    "jupyter": {
     "outputs_hidden": false
    }
   },
   "source": [
    "## Train"
   ]
  },
  {
   "cell_type": "code",
   "execution_count": 37,
   "id": "cee7b5af0ddd843e",
   "metadata": {
    "ExecuteTime": {
     "end_time": "2023-11-30T15:24:57.392477400Z",
     "start_time": "2023-11-30T15:24:57.386933400Z"
    },
    "collapsed": false,
    "jupyter": {
     "outputs_hidden": false
    }
   },
   "outputs": [],
   "source": [
    "uknn = UserKnn(BM25Recommender(), N_users=50)"
   ]
  },
  {
   "cell_type": "code",
   "execution_count": 38,
   "id": "bb2dfce7c19332d8",
   "metadata": {
    "ExecuteTime": {
     "end_time": "2023-11-30T16:09:19.363822900Z",
     "start_time": "2023-11-30T15:25:00.060428900Z"
    },
    "collapsed": false,
    "jupyter": {
     "outputs_hidden": false
    }
   },
   "outputs": [
    {
     "data": {
      "application/vnd.jupyter.widget-view+json": {
       "model_id": "0e0ec0ee8f29463f969c6aafaf198460",
       "version_major": 2,
       "version_minor": 0
      },
      "text/plain": [
       "  0%|          | 0/189929 [00:00<?, ?it/s]"
      ]
     },
     "metadata": {},
     "output_type": "display_data"
    }
   ],
   "source": [
    "uknn.fit(interactions.df)"
   ]
  },
  {
   "cell_type": "code",
   "execution_count": 39,
   "id": "cf5377ea-595a-4a97-a376-546a8ee58db3",
   "metadata": {},
   "outputs": [
    {
     "data": {
      "text/plain": [
       "923232"
      ]
     },
     "execution_count": 39,
     "metadata": {},
     "output_type": "execute_result"
    }
   ],
   "source": [
    "interactions.df.head(2).user_id.values[0]"
   ]
  },
  {
   "cell_type": "code",
   "execution_count": 40,
   "id": "658882319f663349",
   "metadata": {
    "ExecuteTime": {
     "end_time": "2023-11-30T17:18:30.769710200Z",
     "start_time": "2023-11-30T17:18:30.469425400Z"
    },
    "collapsed": false,
    "jupyter": {
     "outputs_hidden": false
    }
   },
   "outputs": [
    {
     "data": {
      "text/plain": [
       "[3935, 10440, 15297, 9728, 13865, 4151, 3734, 2657, 4880, 142]"
      ]
     },
     "execution_count": 40,
     "metadata": {},
     "output_type": "execute_result"
    }
   ],
   "source": [
    "uknn.recommend(interactions.df.head(2).user_id.values[0], N_recs=10)"
   ]
  },
  {
   "cell_type": "code",
   "execution_count": 41,
   "id": "9037cbc4580017d1",
   "metadata": {
    "ExecuteTime": {
     "end_time": "2023-11-30T17:18:37.955717400Z",
     "start_time": "2023-11-30T17:18:37.948549200Z"
    },
    "collapsed": false,
    "jupyter": {
     "outputs_hidden": false
    }
   },
   "outputs": [
    {
     "data": {
      "text/plain": [
       "[10440, 15297, 9728, 13865, 4151, 3734, 2657, 4880, 142, 6809]"
      ]
     },
     "execution_count": 41,
     "metadata": {},
     "output_type": "execute_result"
    }
   ],
   "source": [
    "uknn.recommend(1000000000, N_recs=10)"
   ]
  },
  {
   "cell_type": "markdown",
   "id": "1dfa82e9948c5d3c",
   "metadata": {
    "collapsed": false,
    "jupyter": {
     "outputs_hidden": false
    }
   },
   "source": [
    "## Saving"
   ]
  },
  {
   "cell_type": "code",
   "execution_count": 42,
   "id": "ea45bf120552a001",
   "metadata": {
    "ExecuteTime": {
     "end_time": "2023-11-30T17:18:48.729243500Z",
     "start_time": "2023-11-30T17:18:42.914655300Z"
    },
    "collapsed": false,
    "jupyter": {
     "outputs_hidden": false
    }
   },
   "outputs": [],
   "source": [
    "pickle.dump(uknn, open('../saved_models/userknn.pkl', \"wb\"))"
   ]
  },
  {
   "cell_type": "code",
   "execution_count": 43,
   "id": "8bd94d16704ba0ff",
   "metadata": {
    "ExecuteTime": {
     "end_time": "2023-12-01T11:21:59.878356800Z",
     "start_time": "2023-12-01T11:21:57.381875500Z"
    },
    "collapsed": false,
    "jupyter": {
     "outputs_hidden": false
    }
   },
   "outputs": [],
   "source": [
    "with open('../saved_models/userknn.pkl', 'rb') as f:\n",
    "    uknn_pkl = pickle.load(f)"
   ]
  },
  {
   "cell_type": "code",
   "execution_count": 44,
   "id": "802bb55b2d504c4f",
   "metadata": {
    "ExecuteTime": {
     "end_time": "2023-12-01T10:58:07.829473100Z",
     "start_time": "2023-12-01T10:58:07.574223Z"
    },
    "collapsed": false,
    "jupyter": {
     "outputs_hidden": false
    }
   },
   "outputs": [
    {
     "data": {
      "text/plain": [
       "[3935, 10440, 15297, 9728, 13865, 4151, 3734, 2657, 4880, 142]"
      ]
     },
     "execution_count": 44,
     "metadata": {},
     "output_type": "execute_result"
    }
   ],
   "source": [
    "uknn_pkl.recommend(interactions.df.head(2).user_id.values[0], N_recs=10)"
   ]
  },
  {
   "cell_type": "code",
   "execution_count": null,
   "id": "6ee01859532f5c18",
   "metadata": {
    "ExecuteTime": {
     "start_time": "2023-12-01T11:10:17.845580900Z"
    },
    "collapsed": false,
    "jupyter": {
     "outputs_hidden": false
    }
   },
   "outputs": [],
   "source": []
  }
 ],
 "metadata": {
  "kernelspec": {
   "display_name": "Python 3 (ipykernel)",
   "language": "python",
   "name": "python3"
  },
  "language_info": {
   "codemirror_mode": {
    "name": "ipython",
    "version": 3
   },
   "file_extension": ".py",
   "mimetype": "text/x-python",
   "name": "python",
   "nbconvert_exporter": "python",
   "pygments_lexer": "ipython3",
   "version": "3.10.12"
  }
 },
 "nbformat": 4,
 "nbformat_minor": 5
}
