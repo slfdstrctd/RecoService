{
 "cells": [
  {
   "cell_type": "code",
   "execution_count": 1,
   "id": "initial_id",
   "metadata": {
    "collapsed": true,
    "ExecuteTime": {
     "end_time": "2023-11-29T13:50:15.320986900Z",
     "start_time": "2023-11-29T13:50:13.763861600Z"
    }
   },
   "outputs": [],
   "source": [
    "import warnings\n",
    "from pprint import pprint\n",
    "\n",
    "import pandas as pd\n",
    "from implicit.nearest_neighbours import CosineRecommender, TFIDFRecommender, BM25Recommender\n",
    "from rectools import Columns\n",
    "from rectools.dataset import Interactions\n",
    "from rectools.metrics import MAP, MeanInvUserFreq, calc_metrics\n",
    "from rectools.metrics import Precision, Recall, NDCG, Serendipity\n",
    "from rectools.model_selection import TimeRangeSplitter\n",
    "\n",
    "from models.userknn import UserKnn\n",
    "\n",
    "warnings.filterwarnings(\"ignore\")\n",
    "pd.set_option('display.max_columns', None)\n",
    "pd.set_option('display.max_colwidth', 200)\n",
    "import pickle"
   ]
  },
  {
   "cell_type": "code",
   "execution_count": 2,
   "outputs": [
    {
     "data": {
      "text/plain": "         user_id  item_id   datetime   weight  watched_pct\n2706061   222607    11697 2021-05-15  34353.0        100.0\n773945    878038     4740 2021-07-25      4.0          0.0\n2122652   133168     3125 2021-08-05    891.0          0.0\n2380760  1062626     8337 2021-05-16    414.0          0.0\n799959    915203    11310 2021-06-18   1953.0         26.0",
      "text/html": "<div>\n<style scoped>\n    .dataframe tbody tr th:only-of-type {\n        vertical-align: middle;\n    }\n\n    .dataframe tbody tr th {\n        vertical-align: top;\n    }\n\n    .dataframe thead th {\n        text-align: right;\n    }\n</style>\n<table border=\"1\" class=\"dataframe\">\n  <thead>\n    <tr style=\"text-align: right;\">\n      <th></th>\n      <th>user_id</th>\n      <th>item_id</th>\n      <th>datetime</th>\n      <th>weight</th>\n      <th>watched_pct</th>\n    </tr>\n  </thead>\n  <tbody>\n    <tr>\n      <th>2706061</th>\n      <td>222607</td>\n      <td>11697</td>\n      <td>2021-05-15</td>\n      <td>34353.0</td>\n      <td>100.0</td>\n    </tr>\n    <tr>\n      <th>773945</th>\n      <td>878038</td>\n      <td>4740</td>\n      <td>2021-07-25</td>\n      <td>4.0</td>\n      <td>0.0</td>\n    </tr>\n    <tr>\n      <th>2122652</th>\n      <td>133168</td>\n      <td>3125</td>\n      <td>2021-08-05</td>\n      <td>891.0</td>\n      <td>0.0</td>\n    </tr>\n    <tr>\n      <th>2380760</th>\n      <td>1062626</td>\n      <td>8337</td>\n      <td>2021-05-16</td>\n      <td>414.0</td>\n      <td>0.0</td>\n    </tr>\n    <tr>\n      <th>799959</th>\n      <td>915203</td>\n      <td>11310</td>\n      <td>2021-06-18</td>\n      <td>1953.0</td>\n      <td>26.0</td>\n    </tr>\n  </tbody>\n</table>\n</div>"
     },
     "execution_count": 2,
     "metadata": {},
     "output_type": "execute_result"
    }
   ],
   "source": [
    "interactions_df = pd.read_csv('../data/interactions.csv')\n",
    "users = pd.read_csv('../data/users.csv')\n",
    "items = pd.read_csv('../data/items.csv')\n",
    "\n",
    "interactions_df.rename(columns={'last_watch_dt': Columns.Datetime,\n",
    "                                'total_dur': Columns.Weight}, inplace=True)\n",
    "# will cast types and save new pd.DataFrame inside in Interactions.df\n",
    "# interactions = Interactions(interactions_df)\n",
    "\n",
    "# ! если хотите быстро прогнать этот ноутбук - раскомментируйте эту строку - она уменьшает данные\n",
    "interactions = Interactions(interactions_df.sample(frac=0.01))\n",
    "\n",
    "interactions.df.head()"
   ],
   "metadata": {
    "collapsed": false,
    "ExecuteTime": {
     "end_time": "2023-11-29T13:50:18.324930Z",
     "start_time": "2023-11-29T13:50:15.323988200Z"
    }
   },
   "id": "ef47b38e4b65ec98"
  },
  {
   "cell_type": "code",
   "execution_count": 3,
   "outputs": [],
   "source": [
    "N_SPLITS = 1\n",
    "TEST_SIZE = '14D'"
   ],
   "metadata": {
    "collapsed": false,
    "ExecuteTime": {
     "end_time": "2023-11-29T13:50:18.372007200Z",
     "start_time": "2023-11-29T13:50:18.321936Z"
    }
   },
   "id": "9ff445e0c7d3b7f1"
  },
  {
   "cell_type": "code",
   "execution_count": 4,
   "outputs": [],
   "source": [
    "cv = TimeRangeSplitter(\n",
    "    test_size=TEST_SIZE,\n",
    "    n_splits=N_SPLITS,\n",
    "    filter_already_seen=True,\n",
    "    filter_cold_items=True,\n",
    "    filter_cold_users=True,\n",
    ")"
   ],
   "metadata": {
    "collapsed": false,
    "ExecuteTime": {
     "end_time": "2023-11-29T13:50:18.418425Z",
     "start_time": "2023-11-29T13:50:18.415421200Z"
    }
   },
   "id": "72d63f755083fa1"
  },
  {
   "cell_type": "code",
   "execution_count": 5,
   "outputs": [],
   "source": [
    "metrics = {\n",
    "    'Precision@10': Precision(k=10),\n",
    "    'Recall@10': Recall(k=10),\n",
    "    'NDCG@10': NDCG(k=10),\n",
    "    'map@10': MAP(k=10),\n",
    "    'novelty': MeanInvUserFreq(k=10),\n",
    "    'Serendipity@10': Serendipity(k=10)\n",
    "}\n",
    "\n",
    "# few simple models to compare\n",
    "models = {\n",
    "    'cosine_userknn': CosineRecommender(),  # implicit \n",
    "    # 'tfidf_userknn': TFIDFRecommender(),\n",
    "    # 'BM25_userknn': BM25Recommender()\n",
    "}"
   ],
   "metadata": {
    "collapsed": false,
    "ExecuteTime": {
     "end_time": "2023-11-29T13:50:18.427941Z",
     "start_time": "2023-11-29T13:50:18.421424300Z"
    }
   },
   "id": "634e30ce47ade1b6"
  },
  {
   "cell_type": "code",
   "execution_count": 6,
   "outputs": [
    {
     "name": "stdout",
     "output_type": "stream",
     "text": [
      "\n",
      "==================== Fold 0\n",
      "{'end': Timestamp('2021-08-23 00:00:00', freq='14D'),\n",
      " 'i_split': 0,\n",
      " 'start': Timestamp('2021-08-09 00:00:00', freq='14D'),\n",
      " 'test': 724,\n",
      " 'test_items': 529,\n",
      " 'test_users': 683,\n",
      " 'train': 46523,\n",
      " 'train_items': 4803,\n",
      " 'train_users': 42121}\n"
     ]
    },
    {
     "data": {
      "text/plain": "  0%|          | 0/42121 [00:00<?, ?it/s]",
      "application/vnd.jupyter.widget-view+json": {
       "version_major": 2,
       "version_minor": 0,
       "model_id": "c7a7f9e737944db3aa8a6650d1611302"
      }
     },
     "metadata": {},
     "output_type": "display_data"
    }
   ],
   "source": [
    "results = []\n",
    "\n",
    "fold_iterator = cv.split(interactions, collect_fold_stats=True)\n",
    "\n",
    "for i_fold, (train_ids, test_ids, fold_info) in enumerate(fold_iterator):\n",
    "    print(f\"\\n==================== Fold {i_fold}\")\n",
    "    pprint(fold_info)\n",
    "\n",
    "    df_train = interactions.df.iloc[train_ids].copy()\n",
    "    df_test = interactions.df.iloc[test_ids][Columns.UserItem].copy()\n",
    "\n",
    "    catalog = df_train[Columns.Item].unique()\n",
    "\n",
    "    for model_name, model in models.items():\n",
    "        userknn_model = UserKnn(model=model, N_users=50)\n",
    "        userknn_model.fit(df_train)\n",
    "\n",
    "        recos = userknn_model.predict(df_test)\n",
    "\n",
    "        metric_values = calc_metrics(\n",
    "            metrics,\n",
    "            reco=recos,\n",
    "            interactions=df_test,\n",
    "            prev_interactions=df_train,\n",
    "            catalog=catalog,\n",
    "        )\n",
    "\n",
    "        fold = {\"fold\": i_fold, \"model\": model_name}\n",
    "        fold.update(metric_values)\n",
    "        results.append(fold)"
   ],
   "metadata": {
    "collapsed": false,
    "ExecuteTime": {
     "end_time": "2023-11-29T13:50:20.191097300Z",
     "start_time": "2023-11-29T13:50:18.427941Z"
    }
   },
   "id": "e154b087fc96d1e3"
  },
  {
   "cell_type": "code",
   "execution_count": 7,
   "outputs": [
    {
     "data": {
      "text/plain": "   fold           model  Precision@10  Recall@10  NDCG@10    map@10  \\\n0     0  cosine_userknn      0.000293   0.002928   0.0003  0.000854   \n\n     novelty  Serendipity@10  \n0  10.252009    8.741356e-07  ",
      "text/html": "<div>\n<style scoped>\n    .dataframe tbody tr th:only-of-type {\n        vertical-align: middle;\n    }\n\n    .dataframe tbody tr th {\n        vertical-align: top;\n    }\n\n    .dataframe thead th {\n        text-align: right;\n    }\n</style>\n<table border=\"1\" class=\"dataframe\">\n  <thead>\n    <tr style=\"text-align: right;\">\n      <th></th>\n      <th>fold</th>\n      <th>model</th>\n      <th>Precision@10</th>\n      <th>Recall@10</th>\n      <th>NDCG@10</th>\n      <th>map@10</th>\n      <th>novelty</th>\n      <th>Serendipity@10</th>\n    </tr>\n  </thead>\n  <tbody>\n    <tr>\n      <th>0</th>\n      <td>0</td>\n      <td>cosine_userknn</td>\n      <td>0.000293</td>\n      <td>0.002928</td>\n      <td>0.0003</td>\n      <td>0.000854</td>\n      <td>10.252009</td>\n      <td>8.741356e-07</td>\n    </tr>\n  </tbody>\n</table>\n</div>"
     },
     "execution_count": 7,
     "metadata": {},
     "output_type": "execute_result"
    }
   ],
   "source": [
    "df_metrics = pd.DataFrame(results)\n",
    "df_metrics"
   ],
   "metadata": {
    "collapsed": false,
    "ExecuteTime": {
     "end_time": "2023-11-29T13:50:20.202097900Z",
     "start_time": "2023-11-29T13:50:20.197091800Z"
    }
   },
   "id": "c7987ac4c074f96"
  },
  {
   "cell_type": "code",
   "execution_count": 8,
   "outputs": [
    {
     "data": {
      "text/plain": "                Precision@10  Recall@10  NDCG@10    map@10    novelty  \\\nmodel                                                                   \ncosine_userknn      0.000293   0.002928   0.0003  0.000854  10.252009   \n\n                Serendipity@10  \nmodel                           \ncosine_userknn    8.741356e-07  ",
      "text/html": "<div>\n<style scoped>\n    .dataframe tbody tr th:only-of-type {\n        vertical-align: middle;\n    }\n\n    .dataframe tbody tr th {\n        vertical-align: top;\n    }\n\n    .dataframe thead th {\n        text-align: right;\n    }\n</style>\n<table border=\"1\" class=\"dataframe\">\n  <thead>\n    <tr style=\"text-align: right;\">\n      <th></th>\n      <th>Precision@10</th>\n      <th>Recall@10</th>\n      <th>NDCG@10</th>\n      <th>map@10</th>\n      <th>novelty</th>\n      <th>Serendipity@10</th>\n    </tr>\n    <tr>\n      <th>model</th>\n      <th></th>\n      <th></th>\n      <th></th>\n      <th></th>\n      <th></th>\n      <th></th>\n    </tr>\n  </thead>\n  <tbody>\n    <tr>\n      <th>cosine_userknn</th>\n      <td>0.000293</td>\n      <td>0.002928</td>\n      <td>0.0003</td>\n      <td>0.000854</td>\n      <td>10.252009</td>\n      <td>8.741356e-07</td>\n    </tr>\n  </tbody>\n</table>\n</div>"
     },
     "execution_count": 8,
     "metadata": {},
     "output_type": "execute_result"
    }
   ],
   "source": [
    "df_metrics.groupby('model').mean()[metrics.keys()]\n"
   ],
   "metadata": {
    "collapsed": false,
    "ExecuteTime": {
     "end_time": "2023-11-29T13:50:20.212146200Z",
     "start_time": "2023-11-29T13:50:20.202097900Z"
    }
   },
   "id": "462858f1c07b9808"
  },
  {
   "cell_type": "code",
   "execution_count": 9,
   "outputs": [],
   "source": [
    "uknn = UserKnn(TFIDFRecommender(), N_users=50)"
   ],
   "metadata": {
    "collapsed": false,
    "ExecuteTime": {
     "end_time": "2023-11-29T13:50:20.215142300Z",
     "start_time": "2023-11-29T13:50:20.211161900Z"
    }
   },
   "id": "cee7b5af0ddd843e"
  },
  {
   "cell_type": "code",
   "execution_count": 10,
   "outputs": [
    {
     "data": {
      "text/plain": "  0%|          | 0/49318 [00:00<?, ?it/s]",
      "application/vnd.jupyter.widget-view+json": {
       "version_major": 2,
       "version_minor": 0,
       "model_id": "c0e34dcf3f644f3983a3e1639c09dfbe"
      }
     },
     "metadata": {},
     "output_type": "display_data"
    }
   ],
   "source": [
    "uknn.fit(interactions.df)"
   ],
   "metadata": {
    "collapsed": false,
    "ExecuteTime": {
     "end_time": "2023-11-29T13:50:22.055365100Z",
     "start_time": "2023-11-29T13:50:20.217147Z"
    }
   },
   "id": "bb2dfce7c19332d8"
  },
  {
   "cell_type": "code",
   "execution_count": 11,
   "outputs": [
    {
     "data": {
      "text/plain": "222607"
     },
     "execution_count": 11,
     "metadata": {},
     "output_type": "execute_result"
    }
   ],
   "source": [
    "interactions.df.head(2).user_id.values[0]"
   ],
   "metadata": {
    "collapsed": false,
    "ExecuteTime": {
     "end_time": "2023-11-29T13:50:22.056362Z",
     "start_time": "2023-11-29T13:50:22.054490100Z"
    }
   },
   "id": "b4c26cb40b0df275"
  },
  {
   "cell_type": "code",
   "execution_count": 12,
   "outputs": [
    {
     "data": {
      "text/plain": "   user_id item_id     score  rank\n0   222607   11697  6.941464     1\n1   222607   10440      0.01     2\n2   222607   15297      0.01     3\n3   222607    9728      0.01     4\n4   222607   13865      0.01     5\n5   222607    4151      0.01     6\n6   222607    2657      0.01     7\n7   222607    3734      0.01     8\n8   222607    4880      0.01     9\n9   222607     142      0.01    10",
      "text/html": "<div>\n<style scoped>\n    .dataframe tbody tr th:only-of-type {\n        vertical-align: middle;\n    }\n\n    .dataframe tbody tr th {\n        vertical-align: top;\n    }\n\n    .dataframe thead th {\n        text-align: right;\n    }\n</style>\n<table border=\"1\" class=\"dataframe\">\n  <thead>\n    <tr style=\"text-align: right;\">\n      <th></th>\n      <th>user_id</th>\n      <th>item_id</th>\n      <th>score</th>\n      <th>rank</th>\n    </tr>\n  </thead>\n  <tbody>\n    <tr>\n      <th>0</th>\n      <td>222607</td>\n      <td>11697</td>\n      <td>6.941464</td>\n      <td>1</td>\n    </tr>\n    <tr>\n      <th>1</th>\n      <td>222607</td>\n      <td>10440</td>\n      <td>0.01</td>\n      <td>2</td>\n    </tr>\n    <tr>\n      <th>2</th>\n      <td>222607</td>\n      <td>15297</td>\n      <td>0.01</td>\n      <td>3</td>\n    </tr>\n    <tr>\n      <th>3</th>\n      <td>222607</td>\n      <td>9728</td>\n      <td>0.01</td>\n      <td>4</td>\n    </tr>\n    <tr>\n      <th>4</th>\n      <td>222607</td>\n      <td>13865</td>\n      <td>0.01</td>\n      <td>5</td>\n    </tr>\n    <tr>\n      <th>5</th>\n      <td>222607</td>\n      <td>4151</td>\n      <td>0.01</td>\n      <td>6</td>\n    </tr>\n    <tr>\n      <th>6</th>\n      <td>222607</td>\n      <td>2657</td>\n      <td>0.01</td>\n      <td>7</td>\n    </tr>\n    <tr>\n      <th>7</th>\n      <td>222607</td>\n      <td>3734</td>\n      <td>0.01</td>\n      <td>8</td>\n    </tr>\n    <tr>\n      <th>8</th>\n      <td>222607</td>\n      <td>4880</td>\n      <td>0.01</td>\n      <td>9</td>\n    </tr>\n    <tr>\n      <th>9</th>\n      <td>222607</td>\n      <td>142</td>\n      <td>0.01</td>\n      <td>10</td>\n    </tr>\n  </tbody>\n</table>\n</div>"
     },
     "execution_count": 12,
     "metadata": {},
     "output_type": "execute_result"
    }
   ],
   "source": [
    "uknn.predict(pd.DataFrame([{'user_id': interactions.df.head(2).user_id.values[0]}]))"
   ],
   "metadata": {
    "collapsed": false,
    "ExecuteTime": {
     "end_time": "2023-11-29T13:50:22.088547800Z",
     "start_time": "2023-11-29T13:50:22.059366900Z"
    }
   },
   "id": "1e5d4796a3eca3"
  },
  {
   "cell_type": "code",
   "execution_count": 13,
   "outputs": [
    {
     "ename": "AttributeError",
     "evalue": "'UserKnn' object has no attribute 'recommend_user'",
     "output_type": "error",
     "traceback": [
      "\u001B[0;31m---------------------------------------------------------------------------\u001B[0m",
      "\u001B[0;31mAttributeError\u001B[0m                            Traceback (most recent call last)",
      "Cell \u001B[0;32mIn[13], line 1\u001B[0m\n\u001B[0;32m----> 1\u001B[0m \u001B[43muknn\u001B[49m\u001B[38;5;241;43m.\u001B[39;49m\u001B[43mrecommend_user\u001B[49m(interactions\u001B[38;5;241m.\u001B[39mdf\u001B[38;5;241m.\u001B[39mhead(\u001B[38;5;241m2\u001B[39m)\u001B[38;5;241m.\u001B[39muser_id\u001B[38;5;241m.\u001B[39mvalues[\u001B[38;5;241m1\u001B[39m], N_recs\u001B[38;5;241m=\u001B[39m\u001B[38;5;241m10\u001B[39m)\n",
      "\u001B[0;31mAttributeError\u001B[0m: 'UserKnn' object has no attribute 'recommend_user'"
     ]
    }
   ],
   "source": [
    "uknn.recommend_user(interactions.df.head(2).user_id.values[1], N_recs=10)"
   ],
   "metadata": {
    "collapsed": false,
    "ExecuteTime": {
     "end_time": "2023-11-29T13:50:22.182535900Z",
     "start_time": "2023-11-29T13:50:22.088547800Z"
    }
   },
   "id": "658882319f663349"
  },
  {
   "cell_type": "code",
   "execution_count": null,
   "outputs": [],
   "source": [
    "pickle.dump(uknn, open('../saved_models/userknn.pkl', \"wb\"))"
   ],
   "metadata": {
    "collapsed": false,
    "ExecuteTime": {
     "end_time": "2023-11-29T13:50:22.184532700Z",
     "start_time": "2023-11-29T13:50:22.184532700Z"
    }
   },
   "id": "ea45bf120552a001"
  },
  {
   "cell_type": "code",
   "execution_count": null,
   "outputs": [],
   "source": [
    "with open('../saved_models/userknn.pkl', 'rb') as f:\n",
    "    uknn_pkl = pickle.load(f)"
   ],
   "metadata": {
    "collapsed": false,
    "ExecuteTime": {
     "end_time": "2023-11-29T13:50:22.186535200Z",
     "start_time": "2023-11-29T13:50:22.186535200Z"
    }
   },
   "id": "8bd94d16704ba0ff"
  },
  {
   "cell_type": "code",
   "execution_count": null,
   "outputs": [],
   "source": [
    "uknn.recommend_user(interactions.df.head(2).user_id.values[0], N_recs=10)"
   ],
   "metadata": {
    "collapsed": false,
    "ExecuteTime": {
     "start_time": "2023-11-29T13:50:22.189540900Z"
    }
   },
   "id": "802bb55b2d504c4f"
  },
  {
   "cell_type": "code",
   "execution_count": null,
   "outputs": [],
   "source": [],
   "metadata": {
    "collapsed": false,
    "ExecuteTime": {
     "start_time": "2023-11-29T13:50:22.189540900Z"
    }
   },
   "id": "9770dd569f655b6b"
  }
 ],
 "metadata": {
  "kernelspec": {
   "display_name": "Python 3",
   "language": "python",
   "name": "python3"
  },
  "language_info": {
   "codemirror_mode": {
    "name": "ipython",
    "version": 2
   },
   "file_extension": ".py",
   "mimetype": "text/x-python",
   "name": "python",
   "nbconvert_exporter": "python",
   "pygments_lexer": "ipython2",
   "version": "2.7.6"
  }
 },
 "nbformat": 4,
 "nbformat_minor": 5
}
