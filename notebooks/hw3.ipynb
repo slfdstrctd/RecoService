{
 "cells": [
  {
   "cell_type": "code",
   "execution_count": 1,
   "id": "initial_id",
   "metadata": {
    "collapsed": true,
    "ExecuteTime": {
     "end_time": "2023-11-30T15:24:41.651375500Z",
     "start_time": "2023-11-30T15:24:40.117839300Z"
    }
   },
   "outputs": [],
   "source": [
    "import warnings\n",
    "from pprint import pprint\n",
    "\n",
    "import pandas as pd\n",
    "from implicit.nearest_neighbours import CosineRecommender, TFIDFRecommender, BM25Recommender\n",
    "from rectools import Columns\n",
    "from rectools.dataset import Interactions\n",
    "from rectools.metrics import MAP, MeanInvUserFreq, calc_metrics\n",
    "from rectools.metrics import Precision, Recall, NDCG, Serendipity\n",
    "from rectools.model_selection import TimeRangeSplitter\n",
    "\n",
    "from models.userknn import UserKnn\n",
    "\n",
    "warnings.filterwarnings(\"ignore\")\n",
    "pd.set_option('display.max_columns', None)\n",
    "pd.set_option('display.max_colwidth', 200)\n",
    "import pickle"
   ]
  },
  {
   "cell_type": "code",
   "execution_count": 2,
   "outputs": [
    {
     "data": {
      "text/plain": "   user_id  item_id   datetime   weight  watched_pct\n0   176549     9506 2021-05-11   4250.0         72.0\n1   699317     1659 2021-05-29   8317.0        100.0\n2   656683     7107 2021-05-09     10.0          0.0\n3   864613     7638 2021-07-05  14483.0        100.0\n4   964868     9506 2021-04-30   6725.0        100.0",
      "text/html": "<div>\n<style scoped>\n    .dataframe tbody tr th:only-of-type {\n        vertical-align: middle;\n    }\n\n    .dataframe tbody tr th {\n        vertical-align: top;\n    }\n\n    .dataframe thead th {\n        text-align: right;\n    }\n</style>\n<table border=\"1\" class=\"dataframe\">\n  <thead>\n    <tr style=\"text-align: right;\">\n      <th></th>\n      <th>user_id</th>\n      <th>item_id</th>\n      <th>datetime</th>\n      <th>weight</th>\n      <th>watched_pct</th>\n    </tr>\n  </thead>\n  <tbody>\n    <tr>\n      <th>0</th>\n      <td>176549</td>\n      <td>9506</td>\n      <td>2021-05-11</td>\n      <td>4250.0</td>\n      <td>72.0</td>\n    </tr>\n    <tr>\n      <th>1</th>\n      <td>699317</td>\n      <td>1659</td>\n      <td>2021-05-29</td>\n      <td>8317.0</td>\n      <td>100.0</td>\n    </tr>\n    <tr>\n      <th>2</th>\n      <td>656683</td>\n      <td>7107</td>\n      <td>2021-05-09</td>\n      <td>10.0</td>\n      <td>0.0</td>\n    </tr>\n    <tr>\n      <th>3</th>\n      <td>864613</td>\n      <td>7638</td>\n      <td>2021-07-05</td>\n      <td>14483.0</td>\n      <td>100.0</td>\n    </tr>\n    <tr>\n      <th>4</th>\n      <td>964868</td>\n      <td>9506</td>\n      <td>2021-04-30</td>\n      <td>6725.0</td>\n      <td>100.0</td>\n    </tr>\n  </tbody>\n</table>\n</div>"
     },
     "execution_count": 2,
     "metadata": {},
     "output_type": "execute_result"
    }
   ],
   "source": [
    "interactions_df = pd.read_csv('../data/interactions.csv')\n",
    "# users = pd.read_csv('../data/users.csv')\n",
    "# items = pd.read_csv('../data/items.csv')\n",
    "\n",
    "interactions_df.rename(columns={'last_watch_dt': Columns.Datetime,\n",
    "                                'total_dur': Columns.Weight}, inplace=True)\n",
    "# will cast types and save new pd.DataFrame inside in Interactions.df\n",
    "interactions = Interactions(interactions_df)\n",
    "\n",
    "# ! если хотите быстро прогнать этот ноутбук - раскомментируйте эту строку - она уменьшает данные\n",
    "# interactions = Interactions(interactions_df.sample(frac=0.01))\n",
    "\n",
    "interactions.df.head()"
   ],
   "metadata": {
    "collapsed": false,
    "ExecuteTime": {
     "end_time": "2023-11-30T15:24:48.461521200Z",
     "start_time": "2023-11-30T15:24:46.157673Z"
    }
   },
   "id": "ef47b38e4b65ec98"
  },
  {
   "cell_type": "code",
   "execution_count": null,
   "outputs": [],
   "source": [
    "N_SPLITS = 5\n",
    "TEST_SIZE = '14D'"
   ],
   "metadata": {
    "collapsed": false
   },
   "id": "9ff445e0c7d3b7f1"
  },
  {
   "cell_type": "code",
   "execution_count": null,
   "outputs": [],
   "source": [
    "cv = TimeRangeSplitter(\n",
    "    test_size=TEST_SIZE,\n",
    "    n_splits=N_SPLITS,\n",
    "    filter_already_seen=True,\n",
    "    filter_cold_items=True,\n",
    "    filter_cold_users=True,\n",
    ")"
   ],
   "metadata": {
    "collapsed": false
   },
   "id": "72d63f755083fa1"
  },
  {
   "cell_type": "code",
   "execution_count": null,
   "outputs": [],
   "source": [
    "metrics = {\n",
    "    'Precision@10': Precision(k=10),\n",
    "    'Recall@10': Recall(k=10),\n",
    "    'NDCG@10': NDCG(k=10),\n",
    "    'map@10': MAP(k=10),\n",
    "    'novelty': MeanInvUserFreq(k=10),\n",
    "    'Serendipity@10': Serendipity(k=10)\n",
    "}\n",
    "\n",
    "# few simple models to compare\n",
    "models = {\n",
    "    'cosine_userknn': CosineRecommender(),  # implicit \n",
    "    'tfidf_userknn': TFIDFRecommender(),\n",
    "    'BM25_userknn': BM25Recommender()\n",
    "}"
   ],
   "metadata": {
    "collapsed": false
   },
   "id": "634e30ce47ade1b6"
  },
  {
   "cell_type": "code",
   "execution_count": null,
   "outputs": [],
   "source": [
    "results = []\n",
    "\n",
    "fold_iterator = cv.split(interactions, collect_fold_stats=True)\n",
    "\n",
    "for i_fold, (train_ids, test_ids, fold_info) in enumerate(fold_iterator):\n",
    "    print(f\"\\n==================== Fold {i_fold}\")\n",
    "    pprint(fold_info)\n",
    "\n",
    "    df_train = interactions.df.iloc[train_ids].copy()\n",
    "    df_test = interactions.df.iloc[test_ids][Columns.UserItem].copy()\n",
    "\n",
    "    catalog = df_train[Columns.Item].unique()\n",
    "\n",
    "    for model_name, model in models.items():\n",
    "        userknn_model = UserKnn(model=model, N_users=50)\n",
    "        userknn_model.fit(df_train)\n",
    "\n",
    "        recos = userknn_model.predict(df_test)\n",
    "\n",
    "        metric_values = calc_metrics(\n",
    "            metrics,\n",
    "            reco=recos,\n",
    "            interactions=df_test,\n",
    "            prev_interactions=df_train,\n",
    "            catalog=catalog,\n",
    "        )\n",
    "\n",
    "        fold = {\"fold\": i_fold, \"model\": model_name}\n",
    "        fold.update(metric_values)\n",
    "        results.append(fold)"
   ],
   "metadata": {
    "collapsed": false
   },
   "id": "e154b087fc96d1e3"
  },
  {
   "cell_type": "code",
   "execution_count": null,
   "outputs": [],
   "source": [
    "df_metrics = pd.DataFrame(results)\n",
    "df_metrics"
   ],
   "metadata": {
    "collapsed": false
   },
   "id": "c7987ac4c074f96"
  },
  {
   "cell_type": "code",
   "execution_count": null,
   "outputs": [],
   "source": [
    "df_metrics.groupby('model').mean()[metrics.keys()]"
   ],
   "metadata": {
    "collapsed": false
   },
   "id": "462858f1c07b9808"
  },
  {
   "cell_type": "code",
   "execution_count": 3,
   "outputs": [],
   "source": [
    "uknn = UserKnn(TFIDFRecommender(), N_users=50)"
   ],
   "metadata": {
    "collapsed": false,
    "ExecuteTime": {
     "end_time": "2023-11-30T15:24:57.392477400Z",
     "start_time": "2023-11-30T15:24:57.386933400Z"
    }
   },
   "id": "cee7b5af0ddd843e"
  },
  {
   "cell_type": "code",
   "execution_count": 4,
   "outputs": [
    {
     "data": {
      "text/plain": "  0%|          | 0/962179 [00:00<?, ?it/s]",
      "application/vnd.jupyter.widget-view+json": {
       "version_major": 2,
       "version_minor": 0,
       "model_id": "351ae55ceebb4816a620936bc4b2b04d"
      }
     },
     "metadata": {},
     "output_type": "display_data"
    }
   ],
   "source": [
    "uknn.fit(interactions.df)"
   ],
   "metadata": {
    "collapsed": false,
    "ExecuteTime": {
     "end_time": "2023-11-30T16:09:19.363822900Z",
     "start_time": "2023-11-30T15:25:00.060428900Z"
    }
   },
   "id": "bb2dfce7c19332d8"
  },
  {
   "cell_type": "code",
   "execution_count": 6,
   "outputs": [
    {
     "data": {
      "text/plain": "    user_id item_id     score  rank\n7    176549   15469  2.356529     1\n18   176549    5518   2.35474     2\n22   176549   12448   2.32781     3\n49   176549    6737  2.294926     4\n9    176549    5482  2.262816     5\n11   176549   10688  2.252752     6\n40   176549    4273  2.217489     7\n17   176549    5695  2.177419     8\n6    176549    7453  2.159942     9\n0    176549    5600  2.159429    10",
      "text/html": "<div>\n<style scoped>\n    .dataframe tbody tr th:only-of-type {\n        vertical-align: middle;\n    }\n\n    .dataframe tbody tr th {\n        vertical-align: top;\n    }\n\n    .dataframe thead th {\n        text-align: right;\n    }\n</style>\n<table border=\"1\" class=\"dataframe\">\n  <thead>\n    <tr style=\"text-align: right;\">\n      <th></th>\n      <th>user_id</th>\n      <th>item_id</th>\n      <th>score</th>\n      <th>rank</th>\n    </tr>\n  </thead>\n  <tbody>\n    <tr>\n      <th>7</th>\n      <td>176549</td>\n      <td>15469</td>\n      <td>2.356529</td>\n      <td>1</td>\n    </tr>\n    <tr>\n      <th>18</th>\n      <td>176549</td>\n      <td>5518</td>\n      <td>2.35474</td>\n      <td>2</td>\n    </tr>\n    <tr>\n      <th>22</th>\n      <td>176549</td>\n      <td>12448</td>\n      <td>2.32781</td>\n      <td>3</td>\n    </tr>\n    <tr>\n      <th>49</th>\n      <td>176549</td>\n      <td>6737</td>\n      <td>2.294926</td>\n      <td>4</td>\n    </tr>\n    <tr>\n      <th>9</th>\n      <td>176549</td>\n      <td>5482</td>\n      <td>2.262816</td>\n      <td>5</td>\n    </tr>\n    <tr>\n      <th>11</th>\n      <td>176549</td>\n      <td>10688</td>\n      <td>2.252752</td>\n      <td>6</td>\n    </tr>\n    <tr>\n      <th>40</th>\n      <td>176549</td>\n      <td>4273</td>\n      <td>2.217489</td>\n      <td>7</td>\n    </tr>\n    <tr>\n      <th>17</th>\n      <td>176549</td>\n      <td>5695</td>\n      <td>2.177419</td>\n      <td>8</td>\n    </tr>\n    <tr>\n      <th>6</th>\n      <td>176549</td>\n      <td>7453</td>\n      <td>2.159942</td>\n      <td>9</td>\n    </tr>\n    <tr>\n      <th>0</th>\n      <td>176549</td>\n      <td>5600</td>\n      <td>2.159429</td>\n      <td>10</td>\n    </tr>\n  </tbody>\n</table>\n</div>"
     },
     "execution_count": 6,
     "metadata": {},
     "output_type": "execute_result"
    }
   ],
   "source": [
    "uknn.predict(pd.DataFrame([{'user_id': interactions.df.head(2).user_id.values[0]}]))"
   ],
   "metadata": {
    "collapsed": false,
    "ExecuteTime": {
     "end_time": "2023-11-30T17:18:18.160151200Z",
     "start_time": "2023-11-30T17:18:16.564906400Z"
    }
   },
   "id": "1e5d4796a3eca3"
  },
  {
   "cell_type": "code",
   "execution_count": 7,
   "outputs": [
    {
     "data": {
      "text/plain": "[15469, 5518, 12448, 6737, 5482, 10688, 4273, 5695, 7453, 5600]"
     },
     "execution_count": 7,
     "metadata": {},
     "output_type": "execute_result"
    }
   ],
   "source": [
    "uknn.recommend(interactions.df.head(2).user_id.values[0], N_recs=10)"
   ],
   "metadata": {
    "collapsed": false,
    "ExecuteTime": {
     "end_time": "2023-11-30T17:18:30.769710200Z",
     "start_time": "2023-11-30T17:18:30.469425400Z"
    }
   },
   "id": "658882319f663349"
  },
  {
   "cell_type": "code",
   "execution_count": 8,
   "outputs": [
    {
     "data": {
      "text/plain": "[10440, 15297, 9728, 13865, 4151, 3734, 2657, 4880, 142, 6809]"
     },
     "execution_count": 8,
     "metadata": {},
     "output_type": "execute_result"
    }
   ],
   "source": [
    "uknn.recommend(1000000000, N_recs=10)"
   ],
   "metadata": {
    "collapsed": false,
    "ExecuteTime": {
     "end_time": "2023-11-30T17:18:37.955717400Z",
     "start_time": "2023-11-30T17:18:37.948549200Z"
    }
   },
   "id": "9037cbc4580017d1"
  },
  {
   "cell_type": "code",
   "execution_count": 9,
   "outputs": [],
   "source": [
    "pickle.dump(uknn, open('../saved_models/userknn.pkl', \"wb\"))"
   ],
   "metadata": {
    "collapsed": false,
    "ExecuteTime": {
     "end_time": "2023-11-30T17:18:48.729243500Z",
     "start_time": "2023-11-30T17:18:42.914655300Z"
    }
   },
   "id": "ea45bf120552a001"
  },
  {
   "cell_type": "code",
   "execution_count": 10,
   "outputs": [],
   "source": [
    "with open('../saved_models/userknn.pkl', 'rb') as f:\n",
    "    uknn_pkl = pickle.load(f)"
   ],
   "metadata": {
    "collapsed": false,
    "ExecuteTime": {
     "end_time": "2023-11-30T17:19:11.204839700Z",
     "start_time": "2023-11-30T17:19:05.478351600Z"
    }
   },
   "id": "8bd94d16704ba0ff"
  },
  {
   "cell_type": "code",
   "execution_count": 11,
   "outputs": [
    {
     "data": {
      "text/plain": "[15469, 5518, 12448, 6737, 5482, 10688, 4273, 5695, 7453, 5600]"
     },
     "execution_count": 11,
     "metadata": {},
     "output_type": "execute_result"
    }
   ],
   "source": [
    "uknn_pkl.recommend(interactions.df.head(2).user_id.values[0], N_recs=10)"
   ],
   "metadata": {
    "collapsed": false,
    "ExecuteTime": {
     "end_time": "2023-11-30T17:19:11.428113100Z",
     "start_time": "2023-11-30T17:19:11.212363900Z"
    }
   },
   "id": "802bb55b2d504c4f"
  },
  {
   "cell_type": "code",
   "execution_count": null,
   "outputs": [],
   "source": [],
   "metadata": {
    "collapsed": false
   },
   "id": "2997f7f207d459f0"
  }
 ],
 "metadata": {
  "kernelspec": {
   "display_name": "Python 3",
   "language": "python",
   "name": "python3"
  },
  "language_info": {
   "codemirror_mode": {
    "name": "ipython",
    "version": 2
   },
   "file_extension": ".py",
   "mimetype": "text/x-python",
   "name": "python",
   "nbconvert_exporter": "python",
   "pygments_lexer": "ipython2",
   "version": "2.7.6"
  }
 },
 "nbformat": 4,
 "nbformat_minor": 5
}
