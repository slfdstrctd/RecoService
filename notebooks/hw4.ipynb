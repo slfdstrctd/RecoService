{
 "cells": [
  {
   "cell_type": "code",
   "execution_count": 1,
   "id": "2d259513-b5c7-45d2-9733-d72efe332fa0",
   "metadata": {
    "ExecuteTime": {
     "end_time": "2023-12-06T11:25:35.873994500Z",
     "start_time": "2023-12-06T11:25:35.734237200Z"
    }
   },
   "outputs": [],
   "source": [
    "import warnings\n",
    "\n",
    "warnings.filterwarnings('ignore')"
   ]
  },
  {
   "cell_type": "code",
   "execution_count": 2,
   "id": "d8ecf7a413a464cf",
   "metadata": {
    "collapsed": false,
    "ExecuteTime": {
     "end_time": "2023-12-06T11:25:40.978265600Z",
     "start_time": "2023-12-06T11:25:39.356831600Z"
    }
   },
   "outputs": [
    {
     "data": {
      "text/plain": "True"
     },
     "execution_count": 2,
     "metadata": {},
     "output_type": "execute_result"
    }
   ],
   "source": [
    "import cupy\n",
    "\n",
    "cupy.is_available()"
   ]
  },
  {
   "cell_type": "code",
   "execution_count": 3,
   "id": "initial_id",
   "metadata": {
    "ExecuteTime": {
     "end_time": "2023-12-06T11:25:43.997400900Z",
     "start_time": "2023-12-06T11:25:40.946578200Z"
    }
   },
   "outputs": [],
   "source": [
    "import re\n",
    "\n",
    "import optuna\n",
    "import pickle\n",
    "import pandas as pd\n",
    "from implicit.gpu.als import AlternatingLeastSquares\n",
    "from lightfm import LightFM\n",
    "from rectools import Columns\n",
    "from rectools.dataset import Dataset\n",
    "from rectools.metrics import Precision, Recall, MAP\n",
    "from rectools.metrics import calc_metrics\n",
    "from rectools.model_selection import TimeRangeSplitter\n",
    "from rectools.tools import UserToItemAnnRecommender\n",
    "from rectools.model_selection import cross_validate\n",
    "from rectools.models import ImplicitALSWrapperModel, LightFMWrapperModel"
   ]
  },
  {
   "cell_type": "code",
   "execution_count": 4,
   "id": "5f1dae62a349da54",
   "metadata": {
    "collapsed": false,
    "ExecuteTime": {
     "end_time": "2023-12-06T11:25:47.166835700Z",
     "start_time": "2023-12-06T11:25:44.001391300Z"
    }
   },
   "outputs": [
    {
     "data": {
      "text/plain": "   user_id  item_id last_watch_dt  total_dur  watched_pct\n0   176549     9506    2021-05-11       4250         72.0\n1   699317     1659    2021-05-29       8317        100.0\n2   656683     7107    2021-05-09         10          0.0\n3   864613     7638    2021-07-05      14483        100.0\n4   964868     9506    2021-04-30       6725        100.0",
      "text/html": "<div>\n<style scoped>\n    .dataframe tbody tr th:only-of-type {\n        vertical-align: middle;\n    }\n\n    .dataframe tbody tr th {\n        vertical-align: top;\n    }\n\n    .dataframe thead th {\n        text-align: right;\n    }\n</style>\n<table border=\"1\" class=\"dataframe\">\n  <thead>\n    <tr style=\"text-align: right;\">\n      <th></th>\n      <th>user_id</th>\n      <th>item_id</th>\n      <th>last_watch_dt</th>\n      <th>total_dur</th>\n      <th>watched_pct</th>\n    </tr>\n  </thead>\n  <tbody>\n    <tr>\n      <th>0</th>\n      <td>176549</td>\n      <td>9506</td>\n      <td>2021-05-11</td>\n      <td>4250</td>\n      <td>72.0</td>\n    </tr>\n    <tr>\n      <th>1</th>\n      <td>699317</td>\n      <td>1659</td>\n      <td>2021-05-29</td>\n      <td>8317</td>\n      <td>100.0</td>\n    </tr>\n    <tr>\n      <th>2</th>\n      <td>656683</td>\n      <td>7107</td>\n      <td>2021-05-09</td>\n      <td>10</td>\n      <td>0.0</td>\n    </tr>\n    <tr>\n      <th>3</th>\n      <td>864613</td>\n      <td>7638</td>\n      <td>2021-07-05</td>\n      <td>14483</td>\n      <td>100.0</td>\n    </tr>\n    <tr>\n      <th>4</th>\n      <td>964868</td>\n      <td>9506</td>\n      <td>2021-04-30</td>\n      <td>6725</td>\n      <td>100.0</td>\n    </tr>\n  </tbody>\n</table>\n</div>"
     },
     "execution_count": 4,
     "metadata": {},
     "output_type": "execute_result"
    }
   ],
   "source": [
    "interactions = pd.read_csv('../data/interactions.csv')\n",
    "users = pd.read_csv('../data/users.csv')\n",
    "items = pd.read_csv('../data/items.csv')\n",
    "\n",
    "Columns.Datetime = 'last_watch_dt'\n",
    "\n",
    "interactions.head()"
   ]
  },
  {
   "cell_type": "code",
   "execution_count": 5,
   "id": "a87a878758f0ec29",
   "metadata": {
    "collapsed": false,
    "ExecuteTime": {
     "end_time": "2023-12-06T11:25:47.631994500Z",
     "start_time": "2023-12-06T11:25:47.302988600Z"
    }
   },
   "outputs": [
    {
     "data": {
      "text/plain": "('2021-03-13', '2021-08-22')"
     },
     "execution_count": 5,
     "metadata": {},
     "output_type": "execute_result"
    }
   ],
   "source": [
    "interactions[Columns.Datetime].min(), interactions[Columns.Datetime].max()"
   ]
  },
  {
   "cell_type": "markdown",
   "id": "c3fa3d9a0270ea16",
   "metadata": {
    "collapsed": false
   },
   "source": [
    "## Preprocess"
   ]
  },
  {
   "cell_type": "code",
   "execution_count": 6,
   "id": "6cd9f100d5333571",
   "metadata": {
    "collapsed": false,
    "ExecuteTime": {
     "end_time": "2023-12-06T11:25:50.023682800Z",
     "start_time": "2023-12-06T11:25:47.954263500Z"
    }
   },
   "outputs": [],
   "source": [
    "import numpy as np\n",
    "\n",
    "interactions.drop(interactions[interactions[Columns.Datetime].str.len() != 10].index, inplace=True)\n",
    "interactions[Columns.Datetime] = pd.to_datetime(interactions[Columns.Datetime], format='%Y-%m-%d')\n",
    "max_date = interactions[Columns.Datetime].max()\n",
    "interactions[Columns.Weight] = np.where(interactions['watched_pct'] > 10, 3, 1)"
   ]
  },
  {
   "cell_type": "code",
   "execution_count": 7,
   "id": "910f6d87350eaa83",
   "metadata": {
    "collapsed": false,
    "ExecuteTime": {
     "end_time": "2023-12-06T11:25:50.463071200Z",
     "start_time": "2023-12-06T11:25:50.023157900Z"
    }
   },
   "outputs": [
    {
     "name": "stdout",
     "output_type": "stream",
     "text": [
      "train: (4985269, 6)\n",
      "test: (490982, 6)\n"
     ]
    }
   ],
   "source": [
    "train = interactions[interactions[Columns.Datetime] < max_date - pd.Timedelta(days=7)].copy()\n",
    "test = interactions[interactions[Columns.Datetime] >= max_date - pd.Timedelta(days=7)].copy()\n",
    "\n",
    "print(f\"train: {train.shape}\")\n",
    "print(f\"test: {test.shape}\")"
   ]
  },
  {
   "cell_type": "code",
   "execution_count": 8,
   "id": "3adf928c1f2f18c9",
   "metadata": {
    "collapsed": false,
    "ExecuteTime": {
     "end_time": "2023-12-06T11:25:51.973141300Z",
     "start_time": "2023-12-06T11:25:50.449365400Z"
    }
   },
   "outputs": [],
   "source": [
    "train.drop(train.query(\"total_dur < 300\").index, inplace=True)\n",
    "cold_users = set(test[Columns.User]) - set(train[Columns.User])\n",
    "test.drop(test[test[Columns.User].isin(cold_users)].index, inplace=True)"
   ]
  },
  {
   "cell_type": "markdown",
   "id": "c6bdc627e64a1177",
   "metadata": {
    "collapsed": false
   },
   "source": []
  },
  {
   "cell_type": "markdown",
   "id": "4bb0a2a144de1d6d",
   "metadata": {
    "collapsed": false
   },
   "source": [
    "## Features"
   ]
  },
  {
   "cell_type": "markdown",
   "id": "82a116a56a082704",
   "metadata": {
    "collapsed": false
   },
   "source": [
    "### User features"
   ]
  },
  {
   "cell_type": "code",
   "execution_count": 9,
   "id": "dc90f7bcd7b7317b",
   "metadata": {
    "collapsed": false,
    "ExecuteTime": {
     "end_time": "2023-12-06T11:25:52.154458400Z",
     "start_time": "2023-12-06T11:25:51.977716300Z"
    }
   },
   "outputs": [],
   "source": [
    "def get_user_features(users, data):\n",
    "    users = users.loc[users[Columns.User].isin(data[Columns.User])].copy()\n",
    "    user_features_frames = []\n",
    "    for feature in [\"sex\", \"age\", \"income\"]:\n",
    "        feature_frame = users.reindex(columns=[Columns.User, feature])\n",
    "        feature_frame.columns = [\"id\", \"value\"]\n",
    "        feature_frame[\"feature\"] = feature\n",
    "        user_features_frames.append(feature_frame)\n",
    "    return pd.concat(user_features_frames)\n",
    "\n",
    "\n",
    "user_features = get_user_features(users, train)"
   ]
  },
  {
   "cell_type": "code",
   "execution_count": 10,
   "id": "4dd749592f93522e",
   "metadata": {
    "collapsed": false,
    "ExecuteTime": {
     "end_time": "2023-12-06T11:25:52.169963900Z",
     "start_time": "2023-12-06T11:25:52.153154800Z"
    }
   },
   "outputs": [
    {
     "data": {
      "text/plain": "             id         value feature\n0        973171             М     sex\n1        962099             М     sex\n3        721985             Ж     sex\n4        704055             Ж     sex\n5       1037719             М     sex\n...         ...           ...     ...\n840184   529394  income_40_60  income\n840186    80113  income_40_60  income\n840188   312839  income_60_90  income\n840189   191349  income_40_60  income\n840190   393868  income_20_40  income\n\n[1760004 rows x 3 columns]",
      "text/html": "<div>\n<style scoped>\n    .dataframe tbody tr th:only-of-type {\n        vertical-align: middle;\n    }\n\n    .dataframe tbody tr th {\n        vertical-align: top;\n    }\n\n    .dataframe thead th {\n        text-align: right;\n    }\n</style>\n<table border=\"1\" class=\"dataframe\">\n  <thead>\n    <tr style=\"text-align: right;\">\n      <th></th>\n      <th>id</th>\n      <th>value</th>\n      <th>feature</th>\n    </tr>\n  </thead>\n  <tbody>\n    <tr>\n      <th>0</th>\n      <td>973171</td>\n      <td>М</td>\n      <td>sex</td>\n    </tr>\n    <tr>\n      <th>1</th>\n      <td>962099</td>\n      <td>М</td>\n      <td>sex</td>\n    </tr>\n    <tr>\n      <th>3</th>\n      <td>721985</td>\n      <td>Ж</td>\n      <td>sex</td>\n    </tr>\n    <tr>\n      <th>4</th>\n      <td>704055</td>\n      <td>Ж</td>\n      <td>sex</td>\n    </tr>\n    <tr>\n      <th>5</th>\n      <td>1037719</td>\n      <td>М</td>\n      <td>sex</td>\n    </tr>\n    <tr>\n      <th>...</th>\n      <td>...</td>\n      <td>...</td>\n      <td>...</td>\n    </tr>\n    <tr>\n      <th>840184</th>\n      <td>529394</td>\n      <td>income_40_60</td>\n      <td>income</td>\n    </tr>\n    <tr>\n      <th>840186</th>\n      <td>80113</td>\n      <td>income_40_60</td>\n      <td>income</td>\n    </tr>\n    <tr>\n      <th>840188</th>\n      <td>312839</td>\n      <td>income_60_90</td>\n      <td>income</td>\n    </tr>\n    <tr>\n      <th>840189</th>\n      <td>191349</td>\n      <td>income_40_60</td>\n      <td>income</td>\n    </tr>\n    <tr>\n      <th>840190</th>\n      <td>393868</td>\n      <td>income_20_40</td>\n      <td>income</td>\n    </tr>\n  </tbody>\n</table>\n<p>1760004 rows × 3 columns</p>\n</div>"
     },
     "execution_count": 10,
     "metadata": {},
     "output_type": "execute_result"
    }
   ],
   "source": [
    "user_features"
   ]
  },
  {
   "cell_type": "markdown",
   "id": "f397cd0c328eb09",
   "metadata": {
    "collapsed": false
   },
   "source": [
    "### Item features"
   ]
  },
  {
   "cell_type": "code",
   "execution_count": 11,
   "id": "c7a7eb7d364c78fd",
   "metadata": {
    "collapsed": false,
    "ExecuteTime": {
     "end_time": "2023-12-06T11:25:52.372209100Z",
     "start_time": "2023-12-06T11:25:52.169963900Z"
    }
   },
   "outputs": [],
   "source": [
    "def get_item_features(items, data):\n",
    "    items = items.loc[items[Columns.Item].isin(data[Columns.Item])].copy()\n",
    "    items[\"genre\"] = items[\"genres\"].str.lower().str.replace(\", \", \",\", regex=False).str.split(\",\")\n",
    "    genre_feature = items[[\"item_id\", \"genre\"]].explode(\"genre\")\n",
    "    genre_feature.columns = [\"id\", \"value\"]\n",
    "    genre_feature[\"feature\"] = \"genre\"\n",
    "    content_feature = items.reindex(columns=[Columns.Item, \"content_type\"])\n",
    "    content_feature.columns = [\"id\", \"value\"]\n",
    "    content_feature[\"feature\"] = \"content_type\"\n",
    "    return pd.concat((genre_feature, content_feature))\n",
    "\n",
    "\n",
    "item_features = get_item_features(items, train)"
   ]
  },
  {
   "cell_type": "code",
   "execution_count": 12,
   "id": "b86e3d8367b4e78e",
   "metadata": {
    "collapsed": false,
    "ExecuteTime": {
     "end_time": "2023-12-06T11:25:52.387867700Z",
     "start_time": "2023-12-06T11:25:52.379346600Z"
    }
   },
   "outputs": [
    {
     "data": {
      "text/plain": "          id       value       feature\n0      10711       драмы         genre\n0      10711  зарубежные         genre\n0      10711   детективы         genre\n0      10711   мелодрамы         genre\n1       2508  зарубежные         genre\n...      ...         ...           ...\n15958   6443      series  content_type\n15959   2367      series  content_type\n15960  10632      series  content_type\n15961   4538      series  content_type\n15962   3206      series  content_type\n\n[50224 rows x 3 columns]",
      "text/html": "<div>\n<style scoped>\n    .dataframe tbody tr th:only-of-type {\n        vertical-align: middle;\n    }\n\n    .dataframe tbody tr th {\n        vertical-align: top;\n    }\n\n    .dataframe thead th {\n        text-align: right;\n    }\n</style>\n<table border=\"1\" class=\"dataframe\">\n  <thead>\n    <tr style=\"text-align: right;\">\n      <th></th>\n      <th>id</th>\n      <th>value</th>\n      <th>feature</th>\n    </tr>\n  </thead>\n  <tbody>\n    <tr>\n      <th>0</th>\n      <td>10711</td>\n      <td>драмы</td>\n      <td>genre</td>\n    </tr>\n    <tr>\n      <th>0</th>\n      <td>10711</td>\n      <td>зарубежные</td>\n      <td>genre</td>\n    </tr>\n    <tr>\n      <th>0</th>\n      <td>10711</td>\n      <td>детективы</td>\n      <td>genre</td>\n    </tr>\n    <tr>\n      <th>0</th>\n      <td>10711</td>\n      <td>мелодрамы</td>\n      <td>genre</td>\n    </tr>\n    <tr>\n      <th>1</th>\n      <td>2508</td>\n      <td>зарубежные</td>\n      <td>genre</td>\n    </tr>\n    <tr>\n      <th>...</th>\n      <td>...</td>\n      <td>...</td>\n      <td>...</td>\n    </tr>\n    <tr>\n      <th>15958</th>\n      <td>6443</td>\n      <td>series</td>\n      <td>content_type</td>\n    </tr>\n    <tr>\n      <th>15959</th>\n      <td>2367</td>\n      <td>series</td>\n      <td>content_type</td>\n    </tr>\n    <tr>\n      <th>15960</th>\n      <td>10632</td>\n      <td>series</td>\n      <td>content_type</td>\n    </tr>\n    <tr>\n      <th>15961</th>\n      <td>4538</td>\n      <td>series</td>\n      <td>content_type</td>\n    </tr>\n    <tr>\n      <th>15962</th>\n      <td>3206</td>\n      <td>series</td>\n      <td>content_type</td>\n    </tr>\n  </tbody>\n</table>\n<p>50224 rows × 3 columns</p>\n</div>"
     },
     "execution_count": 12,
     "metadata": {},
     "output_type": "execute_result"
    }
   ],
   "source": [
    "item_features"
   ]
  },
  {
   "cell_type": "code",
   "execution_count": 13,
   "id": "775088cecd8ffab0",
   "metadata": {
    "collapsed": false,
    "ExecuteTime": {
     "end_time": "2023-12-06T11:25:53.548197600Z",
     "start_time": "2023-12-06T11:25:52.385855400Z"
    }
   },
   "outputs": [],
   "source": [
    "train_dataset = Dataset.construct(\n",
    "    interactions_df=train,\n",
    "    user_features_df=user_features,\n",
    "    cat_user_features=[\"sex\", \"age\", \"income\"],\n",
    "    item_features_df=item_features,\n",
    "    cat_item_features=[\"genre\", \"content_type\"],\n",
    ")"
   ]
  },
  {
   "cell_type": "markdown",
   "id": "88ba721f23a0a9f3",
   "metadata": {
    "collapsed": false
   },
   "source": [
    "## Metrics"
   ]
  },
  {
   "cell_type": "code",
   "execution_count": 14,
   "id": "9ffe6570d739f9fa",
   "metadata": {
    "collapsed": false,
    "ExecuteTime": {
     "end_time": "2023-12-06T11:25:53.559026400Z",
     "start_time": "2023-12-06T11:25:53.551200500Z"
    }
   },
   "outputs": [],
   "source": [
    "from rectools.metrics import NDCG, MeanInvUserFreq, Serendipity\n",
    "\n",
    "metrics = {\n",
    "    'Precision@1': Precision(k=1),\n",
    "    'Precision@5': Precision(k=5),\n",
    "    'Precision@10': Precision(k=10),\n",
    "    'Recall@1': Recall(k=1),\n",
    "    'Recall@5': Recall(k=5),\n",
    "    'Recall@10': Recall(k=10),\n",
    "    'MAP@1': MAP(k=1),\n",
    "    'MAP@5': MAP(k=5),\n",
    "    'MAP@10': MAP(k=10),\n",
    "    'NDCG@1': NDCG(k=1),\n",
    "    'NDCG@5': NDCG(k=5),\n",
    "    'NDCG@10': NDCG(k=10),\n",
    "    'MIUF@1': MeanInvUserFreq(k=1),\n",
    "    'MIUF@5': MeanInvUserFreq(k=5),\n",
    "    'MIUF@10': MeanInvUserFreq(k=10),\n",
    "    'Serendipity@1': Serendipity(k=1),\n",
    "    'Serendipity@5': Serendipity(k=5),\n",
    "    'Serendipity@10': Serendipity(k=10)\n",
    "}"
   ]
  },
  {
   "cell_type": "code",
   "execution_count": 15,
   "id": "d2f61cba7ca278da",
   "metadata": {
    "collapsed": false,
    "ExecuteTime": {
     "end_time": "2023-12-06T11:25:53.562016600Z",
     "start_time": "2023-12-06T11:25:53.555754900Z"
    }
   },
   "outputs": [],
   "source": [
    "def show_pivot(results, group=False):\n",
    "    pivot_results = results.groupby([\"model\"]).mean()\n",
    "\n",
    "    if group:\n",
    "        new_columns = sorted([\n",
    "            (re.split(\"@\", col)[0], int(re.split(\"@\", col)[1])) if \"@\" in col else (col, \"\")\n",
    "            for col in pivot_results.columns])\n",
    "        pivot_results.columns = pd.MultiIndex.from_tuples(new_columns, names=[\"Metric\", \"Value\"])\n",
    "\n",
    "    display(\n",
    "        pivot_results.style\n",
    "        .highlight_min(color='lightcoral', axis=0)\n",
    "        .highlight_max(color='lightgreen', axis=0)\n",
    "    )"
   ]
  },
  {
   "cell_type": "code",
   "execution_count": 16,
   "id": "3f409f08de02607f",
   "metadata": {
    "collapsed": false,
    "ExecuteTime": {
     "end_time": "2023-12-06T11:25:53.573856700Z",
     "start_time": "2023-12-06T11:25:53.562016600Z"
    }
   },
   "outputs": [],
   "source": [
    "K_RECOS = 10\n",
    "RANDOM_STATE = 42\n",
    "N_EPOCHS = 1\n",
    "N_THREADS = 6\n",
    "N_SPLITS = 5\n",
    "TEST_SIZE = \"7D\""
   ]
  },
  {
   "cell_type": "markdown",
   "id": "29787f9d34d4c3ab",
   "metadata": {
    "collapsed": false
   },
   "source": [
    "## ALS tuning"
   ]
  },
  {
   "cell_type": "code",
   "execution_count": 17,
   "id": "478539bb9798f623",
   "metadata": {
    "collapsed": false,
    "ExecuteTime": {
     "end_time": "2023-12-06T11:25:53.573856700Z",
     "start_time": "2023-12-06T11:25:53.567338100Z"
    }
   },
   "outputs": [],
   "source": [
    "def als_objective(trial, dataset, train, test):\n",
    "    factors = trial.suggest_categorical('factors', [64, 128])\n",
    "    iterations = trial.suggest_categorical('iterations', [15, 30])\n",
    "    fit_features_together = trial.suggest_categorical('fit_features_together', [True, False])\n",
    "    model = ImplicitALSWrapperModel(\n",
    "        model=AlternatingLeastSquares(\n",
    "            random_state=RANDOM_STATE,\n",
    "            factors=factors,\n",
    "            iterations=iterations,\n",
    "        ),\n",
    "        fit_features_together=fit_features_together\n",
    "    )\n",
    "\n",
    "    model.fit(dataset)\n",
    "    recos = model.recommend(\n",
    "        users=test[Columns.User].unique(),\n",
    "        dataset=dataset,\n",
    "        k=K_RECOS,\n",
    "        filter_viewed=True,\n",
    "    )\n",
    "    metrics_results = calc_metrics(\n",
    "        metrics, recos, interactions=test, prev_interactions=train,\n",
    "        catalog=train[Columns.Item].unique()\n",
    "    )\n",
    "\n",
    "    return metrics_results['MAP@10']"
   ]
  },
  {
   "cell_type": "code",
   "execution_count": 18,
   "id": "4498bd9ea66ec446",
   "metadata": {
    "collapsed": false,
    "ExecuteTime": {
     "end_time": "2023-12-06T11:36:00.454968800Z",
     "start_time": "2023-12-06T11:25:53.573856700Z"
    }
   },
   "outputs": [
    {
     "name": "stderr",
     "output_type": "stream",
     "text": [
      "[I 2023-12-06 14:25:53,577] A new study created in memory with name: no-name-498a71aa-1034-4727-b63a-21a0db0754b1\n"
     ]
    },
    {
     "data": {
      "text/plain": "  0%|          | 0/1 [00:00<?, ?it/s]",
      "application/vnd.jupyter.widget-view+json": {
       "version_major": 2,
       "version_minor": 0,
       "model_id": "3f762aece9b74f57996c1cb0d68dafda"
      }
     },
     "metadata": {},
     "output_type": "display_data"
    },
    {
     "data": {
      "text/plain": "  0%|          | 0/1 [00:00<?, ?it/s]",
      "application/vnd.jupyter.widget-view+json": {
       "version_major": 2,
       "version_minor": 0,
       "model_id": "63bc9b6167be495c84c76ef3267cae54"
      }
     },
     "metadata": {},
     "output_type": "display_data"
    },
    {
     "name": "stderr",
     "output_type": "stream",
     "text": [
      "[I 2023-12-06 14:26:33,568] Trial 0 finished with value: 0.06399587552855357 and parameters: {'factors': 128, 'iterations': 15, 'fit_features_together': False}. Best is trial 0 with value: 0.06399587552855357.\n",
      "[I 2023-12-06 14:28:09,714] Trial 1 finished with value: 0.05530208285539027 and parameters: {'factors': 128, 'iterations': 30, 'fit_features_together': True}. Best is trial 0 with value: 0.06399587552855357.\n"
     ]
    },
    {
     "data": {
      "text/plain": "  0%|          | 0/1 [00:00<?, ?it/s]",
      "application/vnd.jupyter.widget-view+json": {
       "version_major": 2,
       "version_minor": 0,
       "model_id": "47af1abccdf641efa817bd1334b748d5"
      }
     },
     "metadata": {},
     "output_type": "display_data"
    },
    {
     "data": {
      "text/plain": "  0%|          | 0/1 [00:00<?, ?it/s]",
      "application/vnd.jupyter.widget-view+json": {
       "version_major": 2,
       "version_minor": 0,
       "model_id": "81e0f2da9159485aa0f847fa7c2b1679"
      }
     },
     "metadata": {},
     "output_type": "display_data"
    },
    {
     "name": "stderr",
     "output_type": "stream",
     "text": [
      "[I 2023-12-06 14:28:51,009] Trial 2 finished with value: 0.06340623599713466 and parameters: {'factors': 64, 'iterations': 30, 'fit_features_together': False}. Best is trial 0 with value: 0.06399587552855357.\n",
      "[I 2023-12-06 14:30:18,783] Trial 3 finished with value: 0.05390091348316562 and parameters: {'factors': 128, 'iterations': 30, 'fit_features_together': True}. Best is trial 0 with value: 0.06399587552855357.\n",
      "[I 2023-12-06 14:31:44,765] Trial 4 finished with value: 0.05506882315456147 and parameters: {'factors': 128, 'iterations': 30, 'fit_features_together': True}. Best is trial 0 with value: 0.06399587552855357.\n",
      "[I 2023-12-06 14:33:08,917] Trial 5 finished with value: 0.05605362375057268 and parameters: {'factors': 128, 'iterations': 30, 'fit_features_together': True}. Best is trial 0 with value: 0.06399587552855357.\n"
     ]
    },
    {
     "data": {
      "text/plain": "  0%|          | 0/1 [00:00<?, ?it/s]",
      "application/vnd.jupyter.widget-view+json": {
       "version_major": 2,
       "version_minor": 0,
       "model_id": "abd3473ab8ea48bcb67ca894028a0637"
      }
     },
     "metadata": {},
     "output_type": "display_data"
    },
    {
     "data": {
      "text/plain": "  0%|          | 0/1 [00:00<?, ?it/s]",
      "application/vnd.jupyter.widget-view+json": {
       "version_major": 2,
       "version_minor": 0,
       "model_id": "d4521e1de1f8495080e69f95bb98c52c"
      }
     },
     "metadata": {},
     "output_type": "display_data"
    },
    {
     "name": "stderr",
     "output_type": "stream",
     "text": [
      "[I 2023-12-06 14:33:54,092] Trial 6 finished with value: 0.06374667976805742 and parameters: {'factors': 128, 'iterations': 30, 'fit_features_together': False}. Best is trial 0 with value: 0.06399587552855357.\n",
      "[I 2023-12-06 14:34:40,645] Trial 7 finished with value: 0.07590319840504346 and parameters: {'factors': 64, 'iterations': 15, 'fit_features_together': True}. Best is trial 7 with value: 0.07590319840504346.\n"
     ]
    },
    {
     "data": {
      "text/plain": "  0%|          | 0/1 [00:00<?, ?it/s]",
      "application/vnd.jupyter.widget-view+json": {
       "version_major": 2,
       "version_minor": 0,
       "model_id": "07232262f8aa4c018ee537590a26461e"
      }
     },
     "metadata": {},
     "output_type": "display_data"
    },
    {
     "data": {
      "text/plain": "  0%|          | 0/1 [00:00<?, ?it/s]",
      "application/vnd.jupyter.widget-view+json": {
       "version_major": 2,
       "version_minor": 0,
       "model_id": "3cbf0eeccd954699afd86befea602223"
      }
     },
     "metadata": {},
     "output_type": "display_data"
    },
    {
     "name": "stderr",
     "output_type": "stream",
     "text": [
      "[I 2023-12-06 14:35:20,524] Trial 8 finished with value: 0.06340421085851533 and parameters: {'factors': 64, 'iterations': 30, 'fit_features_together': False}. Best is trial 7 with value: 0.07590319840504346.\n"
     ]
    },
    {
     "data": {
      "text/plain": "  0%|          | 0/1 [00:00<?, ?it/s]",
      "application/vnd.jupyter.widget-view+json": {
       "version_major": 2,
       "version_minor": 0,
       "model_id": "a21e6880d31f47a28383fad48e069088"
      }
     },
     "metadata": {},
     "output_type": "display_data"
    },
    {
     "data": {
      "text/plain": "  0%|          | 0/1 [00:00<?, ?it/s]",
      "application/vnd.jupyter.widget-view+json": {
       "version_major": 2,
       "version_minor": 0,
       "model_id": "1c0c15e29a6643a5a5c6520ea0f6213c"
      }
     },
     "metadata": {},
     "output_type": "display_data"
    },
    {
     "name": "stderr",
     "output_type": "stream",
     "text": [
      "[I 2023-12-06 14:36:00,432] Trial 9 finished with value: 0.06340054768569103 and parameters: {'factors': 64, 'iterations': 30, 'fit_features_together': False}. Best is trial 7 with value: 0.07590319840504346.\n"
     ]
    }
   ],
   "source": [
    "study_als = optuna.create_study(direction='maximize')\n",
    "study_als.optimize(lambda trial: als_objective(trial, train_dataset, train, test), n_trials=10)"
   ]
  },
  {
   "cell_type": "code",
   "execution_count": 19,
   "id": "44afac5c3079eeb1",
   "metadata": {
    "collapsed": false,
    "ExecuteTime": {
     "end_time": "2023-12-06T11:43:47.441537600Z",
     "start_time": "2023-12-06T11:43:47.432449900Z"
    }
   },
   "outputs": [
    {
     "name": "stdout",
     "output_type": "stream",
     "text": [
      "{'factors': 64, 'iterations': 15, 'fit_features_together': True}\n"
     ]
    }
   ],
   "source": [
    "best_params_ALS = study_als.best_params\n",
    "print(best_params_ALS)"
   ]
  },
  {
   "cell_type": "markdown",
   "id": "c8bdca860d6a9c32",
   "metadata": {
    "collapsed": false
   },
   "source": [
    "## LightFM tuning"
   ]
  },
  {
   "cell_type": "code",
   "execution_count": 20,
   "id": "d86d25a50cc47749",
   "metadata": {
    "collapsed": false,
    "ExecuteTime": {
     "end_time": "2023-12-06T11:44:11.266554100Z",
     "start_time": "2023-12-06T11:44:11.252368900Z"
    }
   },
   "outputs": [],
   "source": [
    "def lfm_objective(trial, dataset, train, test):\n",
    "    no_components = trial.suggest_categorical('no_components', [10, 20, 30])\n",
    "    loss = trial.suggest_categorical(\"loss\", [\"logistic\", \"bpr\", \"warp\"])\n",
    "    learning_rate = trial.suggest_float(\"learning_rate\", 0.0001, 0.01, log=True)\n",
    "    user_alpha = trial.suggest_float(\"user_alpha\", 0, 1)\n",
    "    item_alpha = trial.suggest_float(\"item_alpha\", 0, 1)\n",
    "\n",
    "    n_epochs = trial.suggest_int(\"n_epochs\", 3, 7)\n",
    "\n",
    "    model = LightFMWrapperModel(\n",
    "        model=LightFM(\n",
    "            random_state=RANDOM_STATE,\n",
    "            no_components=no_components,\n",
    "            loss=loss,\n",
    "            learning_rate=learning_rate,\n",
    "            user_alpha=user_alpha,\n",
    "            item_alpha=item_alpha\n",
    "        ),\n",
    "        epochs=n_epochs,\n",
    "        num_threads=N_THREADS\n",
    "    )\n",
    "\n",
    "    model.fit(dataset)\n",
    "    recos = model.recommend(\n",
    "        users=test[Columns.User].unique(),\n",
    "        dataset=dataset,\n",
    "        k=K_RECOS,\n",
    "        filter_viewed=True,\n",
    "    )\n",
    "    metrics_vals = calc_metrics(\n",
    "        metrics, recos, interactions=test, prev_interactions=train,\n",
    "        catalog=train[Columns.Item].unique()\n",
    "    )\n",
    "\n",
    "    return metrics_vals['MAP@10']"
   ]
  },
  {
   "cell_type": "code",
   "execution_count": 21,
   "id": "1313be95e2e4cd2e",
   "metadata": {
    "collapsed": false,
    "ExecuteTime": {
     "end_time": "2023-12-06T12:00:26.188267300Z",
     "start_time": "2023-12-06T11:44:11.991332400Z"
    }
   },
   "outputs": [
    {
     "name": "stderr",
     "output_type": "stream",
     "text": [
      "[I 2023-12-06 14:44:11,990] A new study created in memory with name: no-name-d388b942-4436-476d-8e9c-ca35ec5db73c\n",
      "[I 2023-12-06 14:44:54,043] Trial 0 finished with value: 0.00019070489853690797 and parameters: {'no_components': 20, 'loss': 'logistic', 'learning_rate': 0.0025215926229963615, 'user_alpha': 0.6366322081937311, 'item_alpha': 0.7332202384832438, 'n_epochs': 5}. Best is trial 0 with value: 0.00019070489853690797.\n",
      "[I 2023-12-06 14:45:31,797] Trial 1 finished with value: 0.03228420127425345 and parameters: {'no_components': 10, 'loss': 'bpr', 'learning_rate': 0.00046525051427849924, 'user_alpha': 0.7666916259805426, 'item_alpha': 0.44348686594959597, 'n_epochs': 4}. Best is trial 1 with value: 0.03228420127425345.\n",
      "[I 2023-12-06 14:46:01,122] Trial 2 finished with value: 0.000191074853466198 and parameters: {'no_components': 10, 'loss': 'logistic', 'learning_rate': 0.00013524569852223927, 'user_alpha': 0.5071465111844451, 'item_alpha': 0.5176606388957853, 'n_epochs': 4}. Best is trial 1 with value: 0.03228420127425345.\n",
      "[I 2023-12-06 14:46:46,580] Trial 3 finished with value: 0.041520802775307994 and parameters: {'no_components': 20, 'loss': 'bpr', 'learning_rate': 0.0003458513307191904, 'user_alpha': 0.41068671051663186, 'item_alpha': 0.04155170841997591, 'n_epochs': 4}. Best is trial 3 with value: 0.041520802775307994.\n",
      "[I 2023-12-06 14:47:28,618] Trial 4 finished with value: 0.00019057919356641156 and parameters: {'no_components': 20, 'loss': 'logistic', 'learning_rate': 0.0012799381931009278, 'user_alpha': 0.7060525285157804, 'item_alpha': 0.4798531078050827, 'n_epochs': 5}. Best is trial 3 with value: 0.041520802775307994.\n",
      "[I 2023-12-06 14:48:31,847] Trial 5 finished with value: 0.07568070201477739 and parameters: {'no_components': 20, 'loss': 'warp', 'learning_rate': 0.0025613003755342004, 'user_alpha': 0.16312203776864165, 'item_alpha': 0.05774441616834525, 'n_epochs': 7}. Best is trial 5 with value: 0.07568070201477739.\n",
      "[I 2023-12-06 14:49:12,851] Trial 6 finished with value: 0.00019105864218574707 and parameters: {'no_components': 10, 'loss': 'logistic', 'learning_rate': 0.00011222048290090301, 'user_alpha': 0.06931151039629535, 'item_alpha': 0.9528633374226937, 'n_epochs': 5}. Best is trial 5 with value: 0.07568070201477739.\n",
      "[I 2023-12-06 14:49:47,504] Trial 7 finished with value: 0.00019105864218574707 and parameters: {'no_components': 20, 'loss': 'logistic', 'learning_rate': 0.0012412383282586778, 'user_alpha': 0.7326947258545903, 'item_alpha': 0.6047068706549186, 'n_epochs': 3}. Best is trial 5 with value: 0.07568070201477739.\n",
      "[I 2023-12-06 14:50:23,469] Trial 8 finished with value: 0.03741641695806191 and parameters: {'no_components': 10, 'loss': 'bpr', 'learning_rate': 0.0009762491439492087, 'user_alpha': 0.3635498073015093, 'item_alpha': 0.06463699212118545, 'n_epochs': 3}. Best is trial 5 with value: 0.07568070201477739.\n",
      "[I 2023-12-06 14:51:02,950] Trial 9 finished with value: 2.5289597503410933e-07 and parameters: {'no_components': 10, 'loss': 'bpr', 'learning_rate': 0.008394714922803055, 'user_alpha': 0.19909971961060202, 'item_alpha': 0.7319183069252828, 'n_epochs': 3}. Best is trial 5 with value: 0.07568070201477739.\n",
      "[I 2023-12-06 14:52:27,726] Trial 10 finished with value: 0.0006216707359243042 and parameters: {'no_components': 30, 'loss': 'warp', 'learning_rate': 0.0052549941998948965, 'user_alpha': 0.9949397716112199, 'item_alpha': 0.23018893054924236, 'n_epochs': 7}. Best is trial 5 with value: 0.07568070201477739.\n",
      "[I 2023-12-06 14:53:25,080] Trial 11 finished with value: 0.02411066000347224 and parameters: {'no_components': 20, 'loss': 'warp', 'learning_rate': 0.00043383051741271235, 'user_alpha': 0.2919561147709323, 'item_alpha': 0.005188413467083444, 'n_epochs': 7}. Best is trial 5 with value: 0.07568070201477739.\n",
      "[I 2023-12-06 14:54:16,328] Trial 12 finished with value: 0.030357710481978824 and parameters: {'no_components': 20, 'loss': 'warp', 'learning_rate': 0.0036044256974432053, 'user_alpha': 0.011313085497740571, 'item_alpha': 0.19377644548267792, 'n_epochs': 6}. Best is trial 5 with value: 0.07568070201477739.\n",
      "[I 2023-12-06 14:55:04,297] Trial 13 finished with value: 0.07481411992969556 and parameters: {'no_components': 30, 'loss': 'warp', 'learning_rate': 0.009814900942340892, 'user_alpha': 0.1865279851784648, 'item_alpha': 0.18613526896167387, 'n_epochs': 6}. Best is trial 5 with value: 0.07568070201477739.\n",
      "[I 2023-12-06 14:55:53,048] Trial 14 finished with value: 0.07480757294388017 and parameters: {'no_components': 30, 'loss': 'warp', 'learning_rate': 0.008550079047842782, 'user_alpha': 0.1660234550134562, 'item_alpha': 0.23650191231786036, 'n_epochs': 6}. Best is trial 5 with value: 0.07568070201477739.\n",
      "[I 2023-12-06 14:56:42,738] Trial 15 finished with value: 0.07460448584215787 and parameters: {'no_components': 30, 'loss': 'warp', 'learning_rate': 0.009493508244991053, 'user_alpha': 0.1843498464500649, 'item_alpha': 0.31633390529486993, 'n_epochs': 6}. Best is trial 5 with value: 0.07568070201477739.\n",
      "[I 2023-12-06 14:57:44,122] Trial 16 finished with value: 0.04244001589643349 and parameters: {'no_components': 30, 'loss': 'warp', 'learning_rate': 0.003968721053021151, 'user_alpha': 0.010430126452541377, 'item_alpha': 0.14888673860127377, 'n_epochs': 7}. Best is trial 5 with value: 0.07568070201477739.\n",
      "[I 2023-12-06 14:58:31,863] Trial 17 finished with value: 0.07480574593824413 and parameters: {'no_components': 30, 'loss': 'warp', 'learning_rate': 0.002395743209427316, 'user_alpha': 0.3103966032947528, 'item_alpha': 0.3118122339996773, 'n_epochs': 6}. Best is trial 5 with value: 0.07568070201477739.\n",
      "[I 2023-12-06 14:59:22,818] Trial 18 finished with value: 0.07741693294600241 and parameters: {'no_components': 30, 'loss': 'warp', 'learning_rate': 0.005435663137995463, 'user_alpha': 0.12482318873553576, 'item_alpha': 0.10577830153990038, 'n_epochs': 7}. Best is trial 18 with value: 0.07741693294600241.\n",
      "[I 2023-12-06 15:00:26,174] Trial 19 finished with value: 0.06831415068590928 and parameters: {'no_components': 30, 'loss': 'warp', 'learning_rate': 0.005072106429976073, 'user_alpha': 0.1026306489307314, 'item_alpha': 0.0014165138927441506, 'n_epochs': 7}. Best is trial 18 with value: 0.07741693294600241.\n"
     ]
    }
   ],
   "source": [
    "study_LFM = optuna.create_study(direction='maximize')\n",
    "study_LFM.optimize(lambda trial: lfm_objective(trial, train_dataset, train, test), n_trials=20)"
   ]
  },
  {
   "cell_type": "code",
   "execution_count": 22,
   "id": "7267dd0bd69ca289",
   "metadata": {
    "collapsed": false,
    "ExecuteTime": {
     "end_time": "2023-12-06T12:00:26.192027900Z",
     "start_time": "2023-12-06T12:00:26.182633100Z"
    }
   },
   "outputs": [
    {
     "name": "stdout",
     "output_type": "stream",
     "text": [
      "{'no_components': 30, 'loss': 'warp', 'learning_rate': 0.005435663137995463, 'user_alpha': 0.12482318873553576, 'item_alpha': 0.10577830153990038, 'n_epochs': 7}\n"
     ]
    }
   ],
   "source": [
    "best_params_LFM = study_LFM.best_params\n",
    "print(best_params_LFM)"
   ]
  },
  {
   "cell_type": "markdown",
   "id": "7ed276781f715d79",
   "metadata": {
    "collapsed": false
   },
   "source": [
    " ## Cross validation"
   ]
  },
  {
   "cell_type": "code",
   "execution_count": 23,
   "id": "953351c6fff3467a",
   "metadata": {
    "collapsed": false,
    "ExecuteTime": {
     "end_time": "2023-12-06T12:09:06.422437900Z",
     "start_time": "2023-12-06T12:09:06.403364Z"
    }
   },
   "outputs": [],
   "source": [
    "models = {\n",
    "    \"ALS\": ImplicitALSWrapperModel(\n",
    "        model=AlternatingLeastSquares(\n",
    "            factors=best_params_ALS.get(\"factors\"),\n",
    "            iterations=best_params_ALS.get(\"iterations\"),\n",
    "            random_state=RANDOM_STATE,\n",
    "        ),\n",
    "        fit_features_together=best_params_ALS.get(\"fit_features_together\"),\n",
    "    ),\n",
    "    \"LightFM\": LightFMWrapperModel(\n",
    "        LightFM(\n",
    "            no_components=best_params_LFM.get(\"no_components\"),\n",
    "            loss=best_params_LFM.get(\"loss\"),\n",
    "            learning_rate=best_params_LFM.get(\"learning_rate\"),\n",
    "            user_alpha=best_params_LFM.get(\"user_alpha\"),\n",
    "            item_alpha=best_params_LFM.get(\"item_alpha\"),\n",
    "            random_state=RANDOM_STATE,\n",
    "        ),\n",
    "        epochs=best_params_LFM.get(\"n_epochs\"),\n",
    "        num_threads=N_THREADS,\n",
    "    ),\n",
    "}"
   ]
  },
  {
   "cell_type": "code",
   "execution_count": 24,
   "id": "586d440c5aea4f48",
   "metadata": {
    "collapsed": false,
    "ExecuteTime": {
     "end_time": "2023-12-06T12:09:07.151214500Z",
     "start_time": "2023-12-06T12:09:07.131926300Z"
    }
   },
   "outputs": [],
   "source": [
    "splitter = TimeRangeSplitter(\n",
    "    test_size=TEST_SIZE,\n",
    "    n_splits=N_SPLITS,\n",
    "    filter_already_seen=True,\n",
    "    filter_cold_items=True,\n",
    "    filter_cold_users=True,\n",
    ")"
   ]
  },
  {
   "cell_type": "code",
   "execution_count": 25,
   "id": "66bfb655ee368025",
   "metadata": {
    "collapsed": false,
    "ExecuteTime": {
     "end_time": "2023-12-06T12:15:06.552935200Z",
     "start_time": "2023-12-06T12:09:07.777195100Z"
    }
   },
   "outputs": [],
   "source": [
    "results = cross_validate(train_dataset, splitter, metrics, models, k=10, filter_viewed=True)"
   ]
  },
  {
   "cell_type": "code",
   "execution_count": 26,
   "id": "6f9dbc771f6d56f5",
   "metadata": {
    "collapsed": false,
    "ExecuteTime": {
     "end_time": "2023-12-06T12:15:06.571863700Z",
     "start_time": "2023-12-06T12:15:06.567598500Z"
    }
   },
   "outputs": [],
   "source": [
    "df_results = pd.DataFrame.from_dict(results[\"metrics\"]).drop(\"i_split\", axis=1)"
   ]
  },
  {
   "cell_type": "code",
   "execution_count": 27,
   "id": "1ae19000de971890",
   "metadata": {
    "collapsed": false,
    "ExecuteTime": {
     "end_time": "2023-12-06T12:15:06.607080900Z",
     "start_time": "2023-12-06T12:15:06.604088400Z"
    }
   },
   "outputs": [
    {
     "data": {
      "text/plain": "     model  Precision@1  Recall@1  Precision@5  Recall@5  Precision@10  \\\n0      ALS     0.110871  0.070279     0.061746  0.183250      0.039187   \n1  LightFM     0.109591  0.072632     0.066996  0.199032      0.041624   \n2      ALS     0.095790  0.059589     0.058551  0.170933      0.037117   \n3  LightFM     0.086998  0.056075     0.061402  0.179055      0.038460   \n4      ALS     0.079956  0.049218     0.051152  0.146559      0.033170   \n5  LightFM     0.082057  0.052285     0.053741  0.154652      0.034554   \n6      ALS     0.086459  0.051891     0.051510  0.144509      0.033551   \n7  LightFM     0.081392  0.050193     0.052507  0.147997      0.033605   \n8      ALS     0.079176  0.047634     0.047727  0.134362      0.031203   \n9  LightFM     0.076837  0.047117     0.048722  0.137553      0.030625   \n\n   Recall@10    NDCG@1    NDCG@5   NDCG@10     MAP@1     MAP@5    MAP@10  \\\n0   0.226363  0.110871  0.072231  0.052823  0.070279  0.114314  0.121325   \n1   0.241599  0.109591  0.074497  0.054246  0.072632  0.117435  0.124739   \n2   0.210199  0.095790  0.066608  0.048802  0.059589  0.102096  0.108446   \n3   0.218891  0.086998  0.066432  0.048749  0.056075  0.100362  0.107178   \n4   0.183745  0.079956  0.057718  0.042849  0.049218  0.086453  0.092333   \n5   0.193160  0.082057  0.058774  0.043709  0.052285  0.088137  0.094597   \n6   0.182176  0.086459  0.058903  0.043789  0.051891  0.086983  0.093016   \n7   0.183914  0.081392  0.058151  0.042993  0.050193  0.085565  0.091404   \n8   0.170488  0.079176  0.054457  0.040556  0.047634  0.080490  0.086191   \n9   0.168277  0.076837  0.054054  0.039566  0.047117  0.079584  0.084598   \n\n     MIUF@1    MIUF@5   MIUF@10  Serendipity@1  Serendipity@5  Serendipity@10  \n0  2.940106  3.712729  4.427078       0.000017       0.000014        0.000017  \n1  2.484068  3.220469  3.804679       0.000008       0.000006        0.000004  \n2  2.926304  3.653360  4.432708       0.000014       0.000017        0.000019  \n3  2.419433  3.151028  3.776357       0.000007       0.000005        0.000004  \n4  2.935342  3.634549  4.442654       0.000020       0.000017        0.000020  \n5  2.393639  3.110923  3.761679       0.000002       0.000003        0.000003  \n6  2.945773  3.631755  4.470478       0.000018       0.000016        0.000020  \n7  2.372870  3.082924  3.764795       0.000002       0.000003        0.000002  \n8  2.905897  3.583883  4.478456       0.000015       0.000017        0.000022  \n9  2.357215  3.066911  3.752297       0.000002       0.000002        0.000002  ",
      "text/html": "<div>\n<style scoped>\n    .dataframe tbody tr th:only-of-type {\n        vertical-align: middle;\n    }\n\n    .dataframe tbody tr th {\n        vertical-align: top;\n    }\n\n    .dataframe thead th {\n        text-align: right;\n    }\n</style>\n<table border=\"1\" class=\"dataframe\">\n  <thead>\n    <tr style=\"text-align: right;\">\n      <th></th>\n      <th>model</th>\n      <th>Precision@1</th>\n      <th>Recall@1</th>\n      <th>Precision@5</th>\n      <th>Recall@5</th>\n      <th>Precision@10</th>\n      <th>Recall@10</th>\n      <th>NDCG@1</th>\n      <th>NDCG@5</th>\n      <th>NDCG@10</th>\n      <th>MAP@1</th>\n      <th>MAP@5</th>\n      <th>MAP@10</th>\n      <th>MIUF@1</th>\n      <th>MIUF@5</th>\n      <th>MIUF@10</th>\n      <th>Serendipity@1</th>\n      <th>Serendipity@5</th>\n      <th>Serendipity@10</th>\n    </tr>\n  </thead>\n  <tbody>\n    <tr>\n      <th>0</th>\n      <td>ALS</td>\n      <td>0.110871</td>\n      <td>0.070279</td>\n      <td>0.061746</td>\n      <td>0.183250</td>\n      <td>0.039187</td>\n      <td>0.226363</td>\n      <td>0.110871</td>\n      <td>0.072231</td>\n      <td>0.052823</td>\n      <td>0.070279</td>\n      <td>0.114314</td>\n      <td>0.121325</td>\n      <td>2.940106</td>\n      <td>3.712729</td>\n      <td>4.427078</td>\n      <td>0.000017</td>\n      <td>0.000014</td>\n      <td>0.000017</td>\n    </tr>\n    <tr>\n      <th>1</th>\n      <td>LightFM</td>\n      <td>0.109591</td>\n      <td>0.072632</td>\n      <td>0.066996</td>\n      <td>0.199032</td>\n      <td>0.041624</td>\n      <td>0.241599</td>\n      <td>0.109591</td>\n      <td>0.074497</td>\n      <td>0.054246</td>\n      <td>0.072632</td>\n      <td>0.117435</td>\n      <td>0.124739</td>\n      <td>2.484068</td>\n      <td>3.220469</td>\n      <td>3.804679</td>\n      <td>0.000008</td>\n      <td>0.000006</td>\n      <td>0.000004</td>\n    </tr>\n    <tr>\n      <th>2</th>\n      <td>ALS</td>\n      <td>0.095790</td>\n      <td>0.059589</td>\n      <td>0.058551</td>\n      <td>0.170933</td>\n      <td>0.037117</td>\n      <td>0.210199</td>\n      <td>0.095790</td>\n      <td>0.066608</td>\n      <td>0.048802</td>\n      <td>0.059589</td>\n      <td>0.102096</td>\n      <td>0.108446</td>\n      <td>2.926304</td>\n      <td>3.653360</td>\n      <td>4.432708</td>\n      <td>0.000014</td>\n      <td>0.000017</td>\n      <td>0.000019</td>\n    </tr>\n    <tr>\n      <th>3</th>\n      <td>LightFM</td>\n      <td>0.086998</td>\n      <td>0.056075</td>\n      <td>0.061402</td>\n      <td>0.179055</td>\n      <td>0.038460</td>\n      <td>0.218891</td>\n      <td>0.086998</td>\n      <td>0.066432</td>\n      <td>0.048749</td>\n      <td>0.056075</td>\n      <td>0.100362</td>\n      <td>0.107178</td>\n      <td>2.419433</td>\n      <td>3.151028</td>\n      <td>3.776357</td>\n      <td>0.000007</td>\n      <td>0.000005</td>\n      <td>0.000004</td>\n    </tr>\n    <tr>\n      <th>4</th>\n      <td>ALS</td>\n      <td>0.079956</td>\n      <td>0.049218</td>\n      <td>0.051152</td>\n      <td>0.146559</td>\n      <td>0.033170</td>\n      <td>0.183745</td>\n      <td>0.079956</td>\n      <td>0.057718</td>\n      <td>0.042849</td>\n      <td>0.049218</td>\n      <td>0.086453</td>\n      <td>0.092333</td>\n      <td>2.935342</td>\n      <td>3.634549</td>\n      <td>4.442654</td>\n      <td>0.000020</td>\n      <td>0.000017</td>\n      <td>0.000020</td>\n    </tr>\n    <tr>\n      <th>5</th>\n      <td>LightFM</td>\n      <td>0.082057</td>\n      <td>0.052285</td>\n      <td>0.053741</td>\n      <td>0.154652</td>\n      <td>0.034554</td>\n      <td>0.193160</td>\n      <td>0.082057</td>\n      <td>0.058774</td>\n      <td>0.043709</td>\n      <td>0.052285</td>\n      <td>0.088137</td>\n      <td>0.094597</td>\n      <td>2.393639</td>\n      <td>3.110923</td>\n      <td>3.761679</td>\n      <td>0.000002</td>\n      <td>0.000003</td>\n      <td>0.000003</td>\n    </tr>\n    <tr>\n      <th>6</th>\n      <td>ALS</td>\n      <td>0.086459</td>\n      <td>0.051891</td>\n      <td>0.051510</td>\n      <td>0.144509</td>\n      <td>0.033551</td>\n      <td>0.182176</td>\n      <td>0.086459</td>\n      <td>0.058903</td>\n      <td>0.043789</td>\n      <td>0.051891</td>\n      <td>0.086983</td>\n      <td>0.093016</td>\n      <td>2.945773</td>\n      <td>3.631755</td>\n      <td>4.470478</td>\n      <td>0.000018</td>\n      <td>0.000016</td>\n      <td>0.000020</td>\n    </tr>\n    <tr>\n      <th>7</th>\n      <td>LightFM</td>\n      <td>0.081392</td>\n      <td>0.050193</td>\n      <td>0.052507</td>\n      <td>0.147997</td>\n      <td>0.033605</td>\n      <td>0.183914</td>\n      <td>0.081392</td>\n      <td>0.058151</td>\n      <td>0.042993</td>\n      <td>0.050193</td>\n      <td>0.085565</td>\n      <td>0.091404</td>\n      <td>2.372870</td>\n      <td>3.082924</td>\n      <td>3.764795</td>\n      <td>0.000002</td>\n      <td>0.000003</td>\n      <td>0.000002</td>\n    </tr>\n    <tr>\n      <th>8</th>\n      <td>ALS</td>\n      <td>0.079176</td>\n      <td>0.047634</td>\n      <td>0.047727</td>\n      <td>0.134362</td>\n      <td>0.031203</td>\n      <td>0.170488</td>\n      <td>0.079176</td>\n      <td>0.054457</td>\n      <td>0.040556</td>\n      <td>0.047634</td>\n      <td>0.080490</td>\n      <td>0.086191</td>\n      <td>2.905897</td>\n      <td>3.583883</td>\n      <td>4.478456</td>\n      <td>0.000015</td>\n      <td>0.000017</td>\n      <td>0.000022</td>\n    </tr>\n    <tr>\n      <th>9</th>\n      <td>LightFM</td>\n      <td>0.076837</td>\n      <td>0.047117</td>\n      <td>0.048722</td>\n      <td>0.137553</td>\n      <td>0.030625</td>\n      <td>0.168277</td>\n      <td>0.076837</td>\n      <td>0.054054</td>\n      <td>0.039566</td>\n      <td>0.047117</td>\n      <td>0.079584</td>\n      <td>0.084598</td>\n      <td>2.357215</td>\n      <td>3.066911</td>\n      <td>3.752297</td>\n      <td>0.000002</td>\n      <td>0.000002</td>\n      <td>0.000002</td>\n    </tr>\n  </tbody>\n</table>\n</div>"
     },
     "execution_count": 27,
     "metadata": {},
     "output_type": "execute_result"
    }
   ],
   "source": [
    "df_results"
   ]
  },
  {
   "cell_type": "code",
   "execution_count": 30,
   "outputs": [
    {
     "data": {
      "text/plain": "         Precision@1  Recall@1  Precision@5  Recall@5  Precision@10  \\\nmodel                                                                 \nALS         0.090450  0.055722     0.054137  0.155923      0.034846   \nLightFM     0.087375  0.055660     0.056674  0.163658      0.035774   \n\n         Recall@10    NDCG@1    NDCG@5   NDCG@10     MAP@1     MAP@5  \\\nmodel                                                                  \nALS       0.194594  0.090450  0.061983  0.045764  0.055722  0.094067   \nLightFM   0.201168  0.087375  0.062381  0.045853  0.055660  0.094216   \n\n           MAP@10    MIUF@1    MIUF@5   MIUF@10  Serendipity@1  Serendipity@5  \\\nmodel                                                                           \nALS      0.100262  2.930684  3.643255  4.450275       0.000017       0.000016   \nLightFM  0.100503  2.405445  3.126451  3.771961       0.000004       0.000004   \n\n         Serendipity@10  \nmodel                    \nALS            0.000020  \nLightFM        0.000003  ",
      "text/html": "<div>\n<style scoped>\n    .dataframe tbody tr th:only-of-type {\n        vertical-align: middle;\n    }\n\n    .dataframe tbody tr th {\n        vertical-align: top;\n    }\n\n    .dataframe thead th {\n        text-align: right;\n    }\n</style>\n<table border=\"1\" class=\"dataframe\">\n  <thead>\n    <tr style=\"text-align: right;\">\n      <th></th>\n      <th>Precision@1</th>\n      <th>Recall@1</th>\n      <th>Precision@5</th>\n      <th>Recall@5</th>\n      <th>Precision@10</th>\n      <th>Recall@10</th>\n      <th>NDCG@1</th>\n      <th>NDCG@5</th>\n      <th>NDCG@10</th>\n      <th>MAP@1</th>\n      <th>MAP@5</th>\n      <th>MAP@10</th>\n      <th>MIUF@1</th>\n      <th>MIUF@5</th>\n      <th>MIUF@10</th>\n      <th>Serendipity@1</th>\n      <th>Serendipity@5</th>\n      <th>Serendipity@10</th>\n    </tr>\n    <tr>\n      <th>model</th>\n      <th></th>\n      <th></th>\n      <th></th>\n      <th></th>\n      <th></th>\n      <th></th>\n      <th></th>\n      <th></th>\n      <th></th>\n      <th></th>\n      <th></th>\n      <th></th>\n      <th></th>\n      <th></th>\n      <th></th>\n      <th></th>\n      <th></th>\n      <th></th>\n    </tr>\n  </thead>\n  <tbody>\n    <tr>\n      <th>ALS</th>\n      <td>0.090450</td>\n      <td>0.055722</td>\n      <td>0.054137</td>\n      <td>0.155923</td>\n      <td>0.034846</td>\n      <td>0.194594</td>\n      <td>0.090450</td>\n      <td>0.061983</td>\n      <td>0.045764</td>\n      <td>0.055722</td>\n      <td>0.094067</td>\n      <td>0.100262</td>\n      <td>2.930684</td>\n      <td>3.643255</td>\n      <td>4.450275</td>\n      <td>0.000017</td>\n      <td>0.000016</td>\n      <td>0.000020</td>\n    </tr>\n    <tr>\n      <th>LightFM</th>\n      <td>0.087375</td>\n      <td>0.055660</td>\n      <td>0.056674</td>\n      <td>0.163658</td>\n      <td>0.035774</td>\n      <td>0.201168</td>\n      <td>0.087375</td>\n      <td>0.062381</td>\n      <td>0.045853</td>\n      <td>0.055660</td>\n      <td>0.094216</td>\n      <td>0.100503</td>\n      <td>2.405445</td>\n      <td>3.126451</td>\n      <td>3.771961</td>\n      <td>0.000004</td>\n      <td>0.000004</td>\n      <td>0.000003</td>\n    </tr>\n  </tbody>\n</table>\n</div>"
     },
     "execution_count": 30,
     "metadata": {},
     "output_type": "execute_result"
    }
   ],
   "source": [
    "df_results.groupby(\"model\").mean()"
   ],
   "metadata": {
    "collapsed": false,
    "ExecuteTime": {
     "end_time": "2023-12-06T12:16:02.534856400Z",
     "start_time": "2023-12-06T12:16:02.519102100Z"
    }
   },
   "id": "7e9b4584cd4f7e58"
  },
  {
   "cell_type": "code",
   "execution_count": 31,
   "id": "6e51efdef783925b",
   "metadata": {
    "collapsed": false,
    "ExecuteTime": {
     "end_time": "2023-12-06T12:16:22.269929400Z",
     "start_time": "2023-12-06T12:16:22.252782400Z"
    }
   },
   "outputs": [],
   "source": [
    "df_results.to_csv('df_results2.csv')"
   ]
  },
  {
   "cell_type": "code",
   "execution_count": 29,
   "id": "172a99ff3970149a",
   "metadata": {
    "collapsed": false,
    "ExecuteTime": {
     "end_time": "2023-12-06T12:15:07.572990600Z",
     "start_time": "2023-12-06T12:15:06.661575700Z"
    }
   },
   "outputs": [
    {
     "data": {
      "text/plain": "<pandas.io.formats.style.Styler at 0x7fa9926ae9e0>",
      "text/html": "<style type=\"text/css\">\n#T_19d48_row0_col0, #T_19d48_row0_col1, #T_19d48_row0_col6, #T_19d48_row0_col9, #T_19d48_row0_col12, #T_19d48_row0_col13, #T_19d48_row0_col14, #T_19d48_row0_col15, #T_19d48_row0_col16, #T_19d48_row0_col17, #T_19d48_row1_col2, #T_19d48_row1_col3, #T_19d48_row1_col4, #T_19d48_row1_col5, #T_19d48_row1_col7, #T_19d48_row1_col8, #T_19d48_row1_col10, #T_19d48_row1_col11 {\n  background-color: lightgreen;\n}\n#T_19d48_row0_col2, #T_19d48_row0_col3, #T_19d48_row0_col4, #T_19d48_row0_col5, #T_19d48_row0_col7, #T_19d48_row0_col8, #T_19d48_row0_col10, #T_19d48_row0_col11, #T_19d48_row1_col0, #T_19d48_row1_col1, #T_19d48_row1_col6, #T_19d48_row1_col9, #T_19d48_row1_col12, #T_19d48_row1_col13, #T_19d48_row1_col14, #T_19d48_row1_col15, #T_19d48_row1_col16, #T_19d48_row1_col17 {\n  background-color: lightcoral;\n}\n</style>\n<table id=\"T_19d48\">\n  <thead>\n    <tr>\n      <th class=\"index_name level0\" >Metric</th>\n      <th id=\"T_19d48_level0_col0\" class=\"col_heading level0 col0\" colspan=\"3\">MAP</th>\n      <th id=\"T_19d48_level0_col3\" class=\"col_heading level0 col3\" colspan=\"3\">MIUF</th>\n      <th id=\"T_19d48_level0_col6\" class=\"col_heading level0 col6\" colspan=\"3\">NDCG</th>\n      <th id=\"T_19d48_level0_col9\" class=\"col_heading level0 col9\" colspan=\"3\">Precision</th>\n      <th id=\"T_19d48_level0_col12\" class=\"col_heading level0 col12\" colspan=\"3\">Recall</th>\n      <th id=\"T_19d48_level0_col15\" class=\"col_heading level0 col15\" colspan=\"3\">Serendipity</th>\n    </tr>\n    <tr>\n      <th class=\"index_name level1\" >Value</th>\n      <th id=\"T_19d48_level1_col0\" class=\"col_heading level1 col0\" >1</th>\n      <th id=\"T_19d48_level1_col1\" class=\"col_heading level1 col1\" >5</th>\n      <th id=\"T_19d48_level1_col2\" class=\"col_heading level1 col2\" >10</th>\n      <th id=\"T_19d48_level1_col3\" class=\"col_heading level1 col3\" >1</th>\n      <th id=\"T_19d48_level1_col4\" class=\"col_heading level1 col4\" >5</th>\n      <th id=\"T_19d48_level1_col5\" class=\"col_heading level1 col5\" >10</th>\n      <th id=\"T_19d48_level1_col6\" class=\"col_heading level1 col6\" >1</th>\n      <th id=\"T_19d48_level1_col7\" class=\"col_heading level1 col7\" >5</th>\n      <th id=\"T_19d48_level1_col8\" class=\"col_heading level1 col8\" >10</th>\n      <th id=\"T_19d48_level1_col9\" class=\"col_heading level1 col9\" >1</th>\n      <th id=\"T_19d48_level1_col10\" class=\"col_heading level1 col10\" >5</th>\n      <th id=\"T_19d48_level1_col11\" class=\"col_heading level1 col11\" >10</th>\n      <th id=\"T_19d48_level1_col12\" class=\"col_heading level1 col12\" >1</th>\n      <th id=\"T_19d48_level1_col13\" class=\"col_heading level1 col13\" >5</th>\n      <th id=\"T_19d48_level1_col14\" class=\"col_heading level1 col14\" >10</th>\n      <th id=\"T_19d48_level1_col15\" class=\"col_heading level1 col15\" >1</th>\n      <th id=\"T_19d48_level1_col16\" class=\"col_heading level1 col16\" >5</th>\n      <th id=\"T_19d48_level1_col17\" class=\"col_heading level1 col17\" >10</th>\n    </tr>\n    <tr>\n      <th class=\"index_name level0\" >model</th>\n      <th class=\"blank col0\" >&nbsp;</th>\n      <th class=\"blank col1\" >&nbsp;</th>\n      <th class=\"blank col2\" >&nbsp;</th>\n      <th class=\"blank col3\" >&nbsp;</th>\n      <th class=\"blank col4\" >&nbsp;</th>\n      <th class=\"blank col5\" >&nbsp;</th>\n      <th class=\"blank col6\" >&nbsp;</th>\n      <th class=\"blank col7\" >&nbsp;</th>\n      <th class=\"blank col8\" >&nbsp;</th>\n      <th class=\"blank col9\" >&nbsp;</th>\n      <th class=\"blank col10\" >&nbsp;</th>\n      <th class=\"blank col11\" >&nbsp;</th>\n      <th class=\"blank col12\" >&nbsp;</th>\n      <th class=\"blank col13\" >&nbsp;</th>\n      <th class=\"blank col14\" >&nbsp;</th>\n      <th class=\"blank col15\" >&nbsp;</th>\n      <th class=\"blank col16\" >&nbsp;</th>\n      <th class=\"blank col17\" >&nbsp;</th>\n    </tr>\n  </thead>\n  <tbody>\n    <tr>\n      <th id=\"T_19d48_level0_row0\" class=\"row_heading level0 row0\" >ALS</th>\n      <td id=\"T_19d48_row0_col0\" class=\"data row0 col0\" >0.090450</td>\n      <td id=\"T_19d48_row0_col1\" class=\"data row0 col1\" >0.055722</td>\n      <td id=\"T_19d48_row0_col2\" class=\"data row0 col2\" >0.054137</td>\n      <td id=\"T_19d48_row0_col3\" class=\"data row0 col3\" >0.155923</td>\n      <td id=\"T_19d48_row0_col4\" class=\"data row0 col4\" >0.034846</td>\n      <td id=\"T_19d48_row0_col5\" class=\"data row0 col5\" >0.194594</td>\n      <td id=\"T_19d48_row0_col6\" class=\"data row0 col6\" >0.090450</td>\n      <td id=\"T_19d48_row0_col7\" class=\"data row0 col7\" >0.061983</td>\n      <td id=\"T_19d48_row0_col8\" class=\"data row0 col8\" >0.045764</td>\n      <td id=\"T_19d48_row0_col9\" class=\"data row0 col9\" >0.055722</td>\n      <td id=\"T_19d48_row0_col10\" class=\"data row0 col10\" >0.094067</td>\n      <td id=\"T_19d48_row0_col11\" class=\"data row0 col11\" >0.100262</td>\n      <td id=\"T_19d48_row0_col12\" class=\"data row0 col12\" >2.930684</td>\n      <td id=\"T_19d48_row0_col13\" class=\"data row0 col13\" >3.643255</td>\n      <td id=\"T_19d48_row0_col14\" class=\"data row0 col14\" >4.450275</td>\n      <td id=\"T_19d48_row0_col15\" class=\"data row0 col15\" >0.000017</td>\n      <td id=\"T_19d48_row0_col16\" class=\"data row0 col16\" >0.000016</td>\n      <td id=\"T_19d48_row0_col17\" class=\"data row0 col17\" >0.000020</td>\n    </tr>\n    <tr>\n      <th id=\"T_19d48_level0_row1\" class=\"row_heading level0 row1\" >LightFM</th>\n      <td id=\"T_19d48_row1_col0\" class=\"data row1 col0\" >0.087375</td>\n      <td id=\"T_19d48_row1_col1\" class=\"data row1 col1\" >0.055660</td>\n      <td id=\"T_19d48_row1_col2\" class=\"data row1 col2\" >0.056674</td>\n      <td id=\"T_19d48_row1_col3\" class=\"data row1 col3\" >0.163658</td>\n      <td id=\"T_19d48_row1_col4\" class=\"data row1 col4\" >0.035774</td>\n      <td id=\"T_19d48_row1_col5\" class=\"data row1 col5\" >0.201168</td>\n      <td id=\"T_19d48_row1_col6\" class=\"data row1 col6\" >0.087375</td>\n      <td id=\"T_19d48_row1_col7\" class=\"data row1 col7\" >0.062381</td>\n      <td id=\"T_19d48_row1_col8\" class=\"data row1 col8\" >0.045853</td>\n      <td id=\"T_19d48_row1_col9\" class=\"data row1 col9\" >0.055660</td>\n      <td id=\"T_19d48_row1_col10\" class=\"data row1 col10\" >0.094216</td>\n      <td id=\"T_19d48_row1_col11\" class=\"data row1 col11\" >0.100503</td>\n      <td id=\"T_19d48_row1_col12\" class=\"data row1 col12\" >2.405445</td>\n      <td id=\"T_19d48_row1_col13\" class=\"data row1 col13\" >3.126451</td>\n      <td id=\"T_19d48_row1_col14\" class=\"data row1 col14\" >3.771961</td>\n      <td id=\"T_19d48_row1_col15\" class=\"data row1 col15\" >0.000004</td>\n      <td id=\"T_19d48_row1_col16\" class=\"data row1 col16\" >0.000004</td>\n      <td id=\"T_19d48_row1_col17\" class=\"data row1 col17\" >0.000003</td>\n    </tr>\n  </tbody>\n</table>\n"
     },
     "metadata": {},
     "output_type": "display_data"
    }
   ],
   "source": [
    "show_pivot(df_results, group=True)"
   ]
  },
  {
   "cell_type": "markdown",
   "id": "136b36d1-7587-415a-89ae-9832ecaff791",
   "metadata": {
    "ExecuteTime": {
     "end_time": "2023-12-06T01:05:35.248956500Z",
     "start_time": "2023-12-06T01:05:35.242913800Z"
    },
    "collapsed": false
   },
   "source": [
    "Модель ALS справилась лучше, будем использовать её"
   ]
  },
  {
   "cell_type": "markdown",
   "id": "554a836cc0b41f9e",
   "metadata": {
    "collapsed": false
   },
   "source": [
    "## Train"
   ]
  },
  {
   "cell_type": "code",
   "execution_count": 34,
   "id": "b12375c2b10108a8",
   "metadata": {
    "collapsed": false,
    "ExecuteTime": {
     "end_time": "2023-12-06T12:20:39.064715800Z",
     "start_time": "2023-12-06T12:20:37.712949200Z"
    }
   },
   "outputs": [],
   "source": [
    "user_features_all = get_user_features(users, interactions)\n",
    "item_features_all = get_item_features(items, interactions)"
   ]
  },
  {
   "cell_type": "code",
   "execution_count": 35,
   "id": "51ec6b6190fc522b",
   "metadata": {
    "collapsed": false,
    "ExecuteTime": {
     "end_time": "2023-12-06T12:20:40.990296400Z",
     "start_time": "2023-12-06T12:20:39.516086700Z"
    }
   },
   "outputs": [],
   "source": [
    "dataset = Dataset.construct(\n",
    "    interactions_df=interactions,\n",
    "    user_features_df=user_features_all,\n",
    "    item_features_df=item_features_all,\n",
    "    cat_user_features=[\"sex\", \"age\", \"income\"],\n",
    "    cat_item_features=[\"genre\", \"content_type\"],\n",
    ")"
   ]
  },
  {
   "cell_type": "markdown",
   "source": [
    "## ALS"
   ],
   "metadata": {
    "collapsed": false
   },
   "id": "fa10c6345b61fb6e"
  },
  {
   "cell_type": "code",
   "execution_count": 36,
   "id": "efae2b9b738c2e71",
   "metadata": {
    "collapsed": false,
    "ExecuteTime": {
     "end_time": "2023-12-06T12:20:42.258144400Z",
     "start_time": "2023-12-06T12:20:42.254147500Z"
    }
   },
   "outputs": [],
   "source": [
    "ALS_model = ImplicitALSWrapperModel(\n",
    "    AlternatingLeastSquares(\n",
    "        factors=best_params_ALS.get(\"factors\"),\n",
    "        iterations=best_params_ALS.get(\"iterations\"),\n",
    "        random_state=RANDOM_STATE,\n",
    "    )\n",
    ")"
   ]
  },
  {
   "cell_type": "code",
   "execution_count": 37,
   "id": "50678f2daaa3677d",
   "metadata": {
    "collapsed": false,
    "ExecuteTime": {
     "end_time": "2023-12-06T12:20:56.467642100Z",
     "start_time": "2023-12-06T12:20:42.877749900Z"
    }
   },
   "outputs": [
    {
     "data": {
      "text/plain": "  0%|          | 0/1 [00:00<?, ?it/s]",
      "application/vnd.jupyter.widget-view+json": {
       "version_major": 2,
       "version_minor": 0,
       "model_id": "56f3a0b80d0348719326d1fa51e43fc1"
      }
     },
     "metadata": {},
     "output_type": "display_data"
    },
    {
     "data": {
      "text/plain": "  0%|          | 0/1 [00:00<?, ?it/s]",
      "application/vnd.jupyter.widget-view+json": {
       "version_major": 2,
       "version_minor": 0,
       "model_id": "da63509b7cb64eaebd2516dc47c9bac1"
      }
     },
     "metadata": {},
     "output_type": "display_data"
    },
    {
     "data": {
      "text/plain": "<rectools.models.implicit_als.ImplicitALSWrapperModel at 0x7fa992777910>"
     },
     "execution_count": 37,
     "metadata": {},
     "output_type": "execute_result"
    }
   ],
   "source": [
    "ALS_model.fit(dataset)"
   ]
  },
  {
   "cell_type": "code",
   "execution_count": 38,
   "id": "0ba1503e-5371-4ef0-8d8e-388d43899685",
   "metadata": {
    "ExecuteTime": {
     "end_time": "2023-12-06T12:20:57.234829100Z",
     "start_time": "2023-12-06T12:20:56.469648800Z"
    }
   },
   "outputs": [
    {
     "data": {
      "text/plain": "   user_id  item_id     score  rank\n0   176549    11749  0.921160     1\n1   176549    16270  0.857889     2\n2   176549     1287  0.833349     3\n3   176549    11985  0.800137     4\n4   176549    10073  0.798379     5\n5   176549     9900  0.777797     6\n6   176549      334  0.763961     7\n7   176549    12173  0.720251     8\n8   176549    13159  0.669694     9\n9   176549    14942  0.669363    10",
      "text/html": "<div>\n<style scoped>\n    .dataframe tbody tr th:only-of-type {\n        vertical-align: middle;\n    }\n\n    .dataframe tbody tr th {\n        vertical-align: top;\n    }\n\n    .dataframe thead th {\n        text-align: right;\n    }\n</style>\n<table border=\"1\" class=\"dataframe\">\n  <thead>\n    <tr style=\"text-align: right;\">\n      <th></th>\n      <th>user_id</th>\n      <th>item_id</th>\n      <th>score</th>\n      <th>rank</th>\n    </tr>\n  </thead>\n  <tbody>\n    <tr>\n      <th>0</th>\n      <td>176549</td>\n      <td>11749</td>\n      <td>0.921160</td>\n      <td>1</td>\n    </tr>\n    <tr>\n      <th>1</th>\n      <td>176549</td>\n      <td>16270</td>\n      <td>0.857889</td>\n      <td>2</td>\n    </tr>\n    <tr>\n      <th>2</th>\n      <td>176549</td>\n      <td>1287</td>\n      <td>0.833349</td>\n      <td>3</td>\n    </tr>\n    <tr>\n      <th>3</th>\n      <td>176549</td>\n      <td>11985</td>\n      <td>0.800137</td>\n      <td>4</td>\n    </tr>\n    <tr>\n      <th>4</th>\n      <td>176549</td>\n      <td>10073</td>\n      <td>0.798379</td>\n      <td>5</td>\n    </tr>\n    <tr>\n      <th>5</th>\n      <td>176549</td>\n      <td>9900</td>\n      <td>0.777797</td>\n      <td>6</td>\n    </tr>\n    <tr>\n      <th>6</th>\n      <td>176549</td>\n      <td>334</td>\n      <td>0.763961</td>\n      <td>7</td>\n    </tr>\n    <tr>\n      <th>7</th>\n      <td>176549</td>\n      <td>12173</td>\n      <td>0.720251</td>\n      <td>8</td>\n    </tr>\n    <tr>\n      <th>8</th>\n      <td>176549</td>\n      <td>13159</td>\n      <td>0.669694</td>\n      <td>9</td>\n    </tr>\n    <tr>\n      <th>9</th>\n      <td>176549</td>\n      <td>14942</td>\n      <td>0.669363</td>\n      <td>10</td>\n    </tr>\n  </tbody>\n</table>\n</div>"
     },
     "execution_count": 38,
     "metadata": {},
     "output_type": "execute_result"
    }
   ],
   "source": [
    "ALS_model.recommend(interactions.user_id.head(1), dataset, k=10, filter_viewed=True)"
   ]
  },
  {
   "cell_type": "code",
   "execution_count": null,
   "id": "9bbd886b69c83bd7",
   "metadata": {
    "collapsed": false
   },
   "outputs": [],
   "source": [
    "pickle.dump(ALS_model, open('../saved_models/als.pkl', \"wb\"))"
   ]
  },
  {
   "cell_type": "markdown",
   "source": [
    "## LightFM"
   ],
   "metadata": {
    "collapsed": false
   },
   "id": "43e2923969866190"
  },
  {
   "cell_type": "code",
   "execution_count": 39,
   "outputs": [],
   "source": [
    "LFM_model = LightFMWrapperModel(\n",
    "    LightFM(\n",
    "        no_components=best_params_LFM.get(\"no_components\"),\n",
    "        loss=best_params_LFM.get(\"loss\"),\n",
    "        learning_rate=best_params_LFM.get(\"learning_rate\"),\n",
    "        user_alpha=best_params_LFM.get(\"user_alpha\"),\n",
    "        item_alpha=best_params_LFM.get(\"item_alpha\"),\n",
    "        random_state=RANDOM_STATE,\n",
    "    ),\n",
    "    epochs=best_params_LFM.get(\"n_epochs\"),\n",
    "    num_threads=N_THREADS,\n",
    ")"
   ],
   "metadata": {
    "collapsed": false,
    "ExecuteTime": {
     "end_time": "2023-12-06T12:20:57.326226600Z",
     "start_time": "2023-12-06T12:20:57.266025200Z"
    }
   },
   "id": "763121783525e5b8"
  },
  {
   "cell_type": "code",
   "execution_count": 40,
   "outputs": [
    {
     "data": {
      "text/plain": "<rectools.models.lightfm.LightFMWrapperModel at 0x7fa977944c10>"
     },
     "execution_count": 40,
     "metadata": {},
     "output_type": "execute_result"
    }
   ],
   "source": [
    "LFM_model.fit(dataset)"
   ],
   "metadata": {
    "collapsed": false,
    "ExecuteTime": {
     "end_time": "2023-12-06T12:21:41.774007300Z",
     "start_time": "2023-12-06T12:20:57.272610200Z"
    }
   },
   "id": "d5f3ec9f60894b93"
  },
  {
   "cell_type": "code",
   "execution_count": 52,
   "outputs": [
    {
     "data": {
      "text/plain": "   user_id  item_id     score  rank\n0   176549    15297 -0.000789     1\n1   176549    10440 -0.000806     2\n2   176549    13865 -0.000872     3\n3   176549     4151 -0.000880     4\n4   176549     3734 -0.000900     5\n5   176549     2657 -0.000927     6\n6   176549     4880 -0.000935     7\n7   176549     6809 -0.000949     8\n8   176549      142 -0.000962     9\n9   176549     8636 -0.000966    10",
      "text/html": "<div>\n<style scoped>\n    .dataframe tbody tr th:only-of-type {\n        vertical-align: middle;\n    }\n\n    .dataframe tbody tr th {\n        vertical-align: top;\n    }\n\n    .dataframe thead th {\n        text-align: right;\n    }\n</style>\n<table border=\"1\" class=\"dataframe\">\n  <thead>\n    <tr style=\"text-align: right;\">\n      <th></th>\n      <th>user_id</th>\n      <th>item_id</th>\n      <th>score</th>\n      <th>rank</th>\n    </tr>\n  </thead>\n  <tbody>\n    <tr>\n      <th>0</th>\n      <td>176549</td>\n      <td>15297</td>\n      <td>-0.000789</td>\n      <td>1</td>\n    </tr>\n    <tr>\n      <th>1</th>\n      <td>176549</td>\n      <td>10440</td>\n      <td>-0.000806</td>\n      <td>2</td>\n    </tr>\n    <tr>\n      <th>2</th>\n      <td>176549</td>\n      <td>13865</td>\n      <td>-0.000872</td>\n      <td>3</td>\n    </tr>\n    <tr>\n      <th>3</th>\n      <td>176549</td>\n      <td>4151</td>\n      <td>-0.000880</td>\n      <td>4</td>\n    </tr>\n    <tr>\n      <th>4</th>\n      <td>176549</td>\n      <td>3734</td>\n      <td>-0.000900</td>\n      <td>5</td>\n    </tr>\n    <tr>\n      <th>5</th>\n      <td>176549</td>\n      <td>2657</td>\n      <td>-0.000927</td>\n      <td>6</td>\n    </tr>\n    <tr>\n      <th>6</th>\n      <td>176549</td>\n      <td>4880</td>\n      <td>-0.000935</td>\n      <td>7</td>\n    </tr>\n    <tr>\n      <th>7</th>\n      <td>176549</td>\n      <td>6809</td>\n      <td>-0.000949</td>\n      <td>8</td>\n    </tr>\n    <tr>\n      <th>8</th>\n      <td>176549</td>\n      <td>142</td>\n      <td>-0.000962</td>\n      <td>9</td>\n    </tr>\n    <tr>\n      <th>9</th>\n      <td>176549</td>\n      <td>8636</td>\n      <td>-0.000966</td>\n      <td>10</td>\n    </tr>\n  </tbody>\n</table>\n</div>"
     },
     "execution_count": 52,
     "metadata": {},
     "output_type": "execute_result"
    }
   ],
   "source": [
    "LFM_model.recommend([interactions.user_id.head(1).values[0]], dataset, k=10, filter_viewed=True)"
   ],
   "metadata": {
    "collapsed": false,
    "ExecuteTime": {
     "end_time": "2023-12-06T12:24:05.070542900Z",
     "start_time": "2023-12-06T12:24:04.270573100Z"
    }
   },
   "id": "d76cb894e08a3fc7"
  },
  {
   "cell_type": "markdown",
   "id": "910b26a15f8f5f9c",
   "metadata": {
    "collapsed": false
   },
   "source": [
    "## ANN"
   ]
  },
  {
   "cell_type": "code",
   "execution_count": 53,
   "id": "958f9d2c792c20f9",
   "metadata": {
    "collapsed": false,
    "ExecuteTime": {
     "end_time": "2023-12-06T12:24:11.253852600Z",
     "start_time": "2023-12-06T12:24:10.866294800Z"
    }
   },
   "outputs": [],
   "source": [
    "user_vectors_als, item_vectors_als = ALS_model.get_vectors()"
   ]
  },
  {
   "cell_type": "code",
   "execution_count": 54,
   "id": "fd28db48eb6f05ce",
   "metadata": {
    "collapsed": false,
    "ExecuteTime": {
     "end_time": "2023-12-06T12:24:11.705492300Z",
     "start_time": "2023-12-06T12:24:11.697852400Z"
    }
   },
   "outputs": [],
   "source": [
    "ALS_ANN = UserToItemAnnRecommender(\n",
    "    user_vectors=user_vectors_als,\n",
    "    item_vectors=item_vectors_als,\n",
    "    user_id_map=dataset.user_id_map,\n",
    "    item_id_map=dataset.item_id_map,\n",
    ")"
   ]
  },
  {
   "cell_type": "code",
   "execution_count": 57,
   "outputs": [],
   "source": [
    "user_vectors_lfm, item_vectors_lfm = LFM_model.get_vectors(dataset)"
   ],
   "metadata": {
    "collapsed": false,
    "ExecuteTime": {
     "end_time": "2023-12-06T12:24:27.648318900Z",
     "start_time": "2023-12-06T12:24:27.327242900Z"
    }
   },
   "id": "55cc5b36597255cb"
  },
  {
   "cell_type": "code",
   "execution_count": 58,
   "outputs": [],
   "source": [
    "LFM_ANN = UserToItemAnnRecommender(\n",
    "    user_vectors=user_vectors_lfm,\n",
    "    item_vectors=item_vectors_lfm,\n",
    "    user_id_map=dataset.user_id_map,\n",
    "    item_id_map=dataset.item_id_map,\n",
    ")"
   ],
   "metadata": {
    "collapsed": false,
    "ExecuteTime": {
     "end_time": "2023-12-06T12:24:31.376998700Z",
     "start_time": "2023-12-06T12:24:31.372998800Z"
    }
   },
   "id": "fe0d4f76b93eb5b6"
  },
  {
   "cell_type": "code",
   "execution_count": 59,
   "id": "97d1afdf586ccf2b",
   "metadata": {
    "collapsed": false,
    "ExecuteTime": {
     "end_time": "2023-12-06T12:24:35.272642200Z",
     "start_time": "2023-12-06T12:24:35.042167700Z"
    }
   },
   "outputs": [
    {
     "data": {
      "text/plain": "<rectools.tools.ann.UserToItemAnnRecommender at 0x7fa976201bd0>"
     },
     "execution_count": 59,
     "metadata": {},
     "output_type": "execute_result"
    }
   ],
   "source": [
    "ALS_ANN.fit()"
   ]
  },
  {
   "cell_type": "code",
   "execution_count": 60,
   "id": "36d1e40dc201119",
   "metadata": {
    "collapsed": false,
    "ExecuteTime": {
     "end_time": "2023-12-06T12:24:35.993540200Z",
     "start_time": "2023-12-06T12:24:35.903662700Z"
    }
   },
   "outputs": [
    {
     "data": {
      "text/plain": "[14470, 7582, 7102, 101, 12324, 10761, 9506, 9728, 13243, 11749]"
     },
     "execution_count": 60,
     "metadata": {},
     "output_type": "execute_result"
    }
   ],
   "source": [
    "ALS_ANN.get_item_list_for_user(interactions.user_id.head(1).values[0], top_n=10).tolist()"
   ]
  },
  {
   "cell_type": "code",
   "execution_count": 61,
   "outputs": [
    {
     "data": {
      "text/plain": "<rectools.tools.ann.UserToItemAnnRecommender at 0x7fa976200fa0>"
     },
     "execution_count": 61,
     "metadata": {},
     "output_type": "execute_result"
    }
   ],
   "source": [
    "LFM_ANN.fit()"
   ],
   "metadata": {
    "collapsed": false,
    "ExecuteTime": {
     "end_time": "2023-12-06T12:25:50.950619400Z",
     "start_time": "2023-12-06T12:24:46.103619200Z"
    }
   },
   "id": "2343bf809c0c5941"
  },
  {
   "cell_type": "code",
   "execution_count": 62,
   "outputs": [
    {
     "data": {
      "text/plain": "[15297, 10440, 9728, 13865, 4151, 3734, 2657, 4880, 6809, 142]"
     },
     "execution_count": 62,
     "metadata": {},
     "output_type": "execute_result"
    }
   ],
   "source": [
    "LFM_ANN.get_item_list_for_user(interactions.user_id.head(1).values[0], top_n=10).tolist()"
   ],
   "metadata": {
    "collapsed": false,
    "ExecuteTime": {
     "end_time": "2023-12-06T12:25:51.039386400Z",
     "start_time": "2023-12-06T12:25:50.944720500Z"
    }
   },
   "id": "e7f8025ed7bd24bc"
  },
  {
   "cell_type": "code",
   "execution_count": 63,
   "id": "99d785d184a5c735",
   "metadata": {
    "collapsed": false,
    "ExecuteTime": {
     "end_time": "2023-12-06T12:25:55.729645800Z",
     "start_time": "2023-12-06T12:25:50.987104800Z"
    }
   },
   "outputs": [],
   "source": [
    "pickle.dump(ALS_ANN, open('../saved_models/als_ann.pkl', \"wb\"))"
   ]
  },
  {
   "cell_type": "code",
   "execution_count": 64,
   "id": "78a65968b86c080b",
   "metadata": {
    "collapsed": false,
    "ExecuteTime": {
     "end_time": "2023-12-06T12:25:56.078572300Z",
     "start_time": "2023-12-06T12:25:55.733164800Z"
    }
   },
   "outputs": [],
   "source": [
    "pickle.dump(LFM_ANN, open('../saved_models/lfm_ann.pkl', \"wb\"))"
   ]
  },
  {
   "cell_type": "code",
   "execution_count": null,
   "outputs": [],
   "source": [],
   "metadata": {
    "collapsed": false
   },
   "id": "eada02e499bf8421"
  }
 ],
 "metadata": {
  "kernelspec": {
   "display_name": "Python 3 (ipykernel)",
   "language": "python",
   "name": "python3"
  },
  "language_info": {
   "codemirror_mode": {
    "name": "ipython",
    "version": 3
   },
   "file_extension": ".py",
   "mimetype": "text/x-python",
   "name": "python",
   "nbconvert_exporter": "python",
   "pygments_lexer": "ipython3",
   "version": "3.10.12"
  }
 },
 "nbformat": 4,
 "nbformat_minor": 5
}
