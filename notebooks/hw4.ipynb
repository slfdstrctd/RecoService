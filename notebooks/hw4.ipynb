{
 "cells": [
  {
   "cell_type": "code",
   "execution_count": 1,
   "id": "2d259513-b5c7-45d2-9733-d72efe332fa0",
   "metadata": {
    "ExecuteTime": {
     "end_time": "2023-12-06T10:34:52.972506300Z",
     "start_time": "2023-12-06T10:34:52.827831100Z"
    }
   },
   "outputs": [],
   "source": [
    "import warnings\n",
    "\n",
    "warnings.filterwarnings('ignore')"
   ]
  },
  {
   "cell_type": "code",
   "execution_count": 2,
   "id": "d8ecf7a413a464cf",
   "metadata": {
    "collapsed": false,
    "ExecuteTime": {
     "end_time": "2023-12-06T10:34:55.198629400Z",
     "start_time": "2023-12-06T10:34:52.956056800Z"
    }
   },
   "outputs": [
    {
     "data": {
      "text/plain": "True"
     },
     "execution_count": 2,
     "metadata": {},
     "output_type": "execute_result"
    }
   ],
   "source": [
    "import cupy\n",
    "\n",
    "cupy.is_available()"
   ]
  },
  {
   "cell_type": "code",
   "execution_count": 3,
   "id": "initial_id",
   "metadata": {
    "ExecuteTime": {
     "end_time": "2023-12-06T10:34:57.597761600Z",
     "start_time": "2023-12-06T10:34:55.195630100Z"
    }
   },
   "outputs": [],
   "source": [
    "import re\n",
    "\n",
    "import optuna\n",
    "import pickle\n",
    "import pandas as pd\n",
    "from implicit.gpu.als import AlternatingLeastSquares\n",
    "from lightfm import LightFM\n",
    "from rectools import Columns\n",
    "from rectools.dataset import Dataset\n",
    "from rectools.metrics import Precision, Recall, MAP\n",
    "from rectools.metrics import calc_metrics\n",
    "from rectools.model_selection import TimeRangeSplitter\n",
    "from rectools.tools import UserToItemAnnRecommender\n",
    "from rectools.model_selection import cross_validate\n",
    "from rectools.models import ImplicitALSWrapperModel, LightFMWrapperModel"
   ]
  },
  {
   "cell_type": "code",
   "execution_count": 4,
   "id": "5f1dae62a349da54",
   "metadata": {
    "collapsed": false,
    "ExecuteTime": {
     "end_time": "2023-12-06T10:35:00.134565900Z",
     "start_time": "2023-12-06T10:34:57.601313700Z"
    }
   },
   "outputs": [
    {
     "data": {
      "text/plain": "   user_id  item_id last_watch_dt  total_dur  watched_pct\n0   176549     9506    2021-05-11       4250         72.0\n1   699317     1659    2021-05-29       8317        100.0\n2   656683     7107    2021-05-09         10          0.0\n3   864613     7638    2021-07-05      14483        100.0\n4   964868     9506    2021-04-30       6725        100.0",
      "text/html": "<div>\n<style scoped>\n    .dataframe tbody tr th:only-of-type {\n        vertical-align: middle;\n    }\n\n    .dataframe tbody tr th {\n        vertical-align: top;\n    }\n\n    .dataframe thead th {\n        text-align: right;\n    }\n</style>\n<table border=\"1\" class=\"dataframe\">\n  <thead>\n    <tr style=\"text-align: right;\">\n      <th></th>\n      <th>user_id</th>\n      <th>item_id</th>\n      <th>last_watch_dt</th>\n      <th>total_dur</th>\n      <th>watched_pct</th>\n    </tr>\n  </thead>\n  <tbody>\n    <tr>\n      <th>0</th>\n      <td>176549</td>\n      <td>9506</td>\n      <td>2021-05-11</td>\n      <td>4250</td>\n      <td>72.0</td>\n    </tr>\n    <tr>\n      <th>1</th>\n      <td>699317</td>\n      <td>1659</td>\n      <td>2021-05-29</td>\n      <td>8317</td>\n      <td>100.0</td>\n    </tr>\n    <tr>\n      <th>2</th>\n      <td>656683</td>\n      <td>7107</td>\n      <td>2021-05-09</td>\n      <td>10</td>\n      <td>0.0</td>\n    </tr>\n    <tr>\n      <th>3</th>\n      <td>864613</td>\n      <td>7638</td>\n      <td>2021-07-05</td>\n      <td>14483</td>\n      <td>100.0</td>\n    </tr>\n    <tr>\n      <th>4</th>\n      <td>964868</td>\n      <td>9506</td>\n      <td>2021-04-30</td>\n      <td>6725</td>\n      <td>100.0</td>\n    </tr>\n  </tbody>\n</table>\n</div>"
     },
     "execution_count": 4,
     "metadata": {},
     "output_type": "execute_result"
    }
   ],
   "source": [
    "interactions = pd.read_csv('../data/interactions.csv')\n",
    "users = pd.read_csv('../data/users.csv')\n",
    "items = pd.read_csv('../data/items.csv')\n",
    "\n",
    "Columns.Datetime = 'last_watch_dt'\n",
    "\n",
    "interactions.head()"
   ]
  },
  {
   "cell_type": "code",
   "execution_count": 5,
   "id": "a87a878758f0ec29",
   "metadata": {
    "collapsed": false,
    "ExecuteTime": {
     "end_time": "2023-12-06T10:35:00.621040Z",
     "start_time": "2023-12-06T10:35:00.263060400Z"
    }
   },
   "outputs": [
    {
     "data": {
      "text/plain": "('2021-03-13', '2021-08-22')"
     },
     "execution_count": 5,
     "metadata": {},
     "output_type": "execute_result"
    }
   ],
   "source": [
    "interactions[Columns.Datetime].min(), interactions[Columns.Datetime].max()"
   ]
  },
  {
   "cell_type": "markdown",
   "id": "c3fa3d9a0270ea16",
   "metadata": {
    "collapsed": false
   },
   "source": [
    "## Preprocess"
   ]
  },
  {
   "cell_type": "code",
   "execution_count": 6,
   "id": "6cd9f100d5333571",
   "metadata": {
    "collapsed": false,
    "ExecuteTime": {
     "end_time": "2023-12-06T10:35:02.131271900Z",
     "start_time": "2023-12-06T10:35:00.727704600Z"
    }
   },
   "outputs": [],
   "source": [
    "import numpy as np\n",
    "\n",
    "interactions.drop(interactions[interactions[Columns.Datetime].str.len() != 10].index, inplace=True)\n",
    "interactions[Columns.Datetime] = pd.to_datetime(interactions[Columns.Datetime], format='%Y-%m-%d')\n",
    "max_date = interactions[Columns.Datetime].max()\n",
    "interactions[Columns.Weight] = np.where(interactions['watched_pct'] > 10, 3, 1)"
   ]
  },
  {
   "cell_type": "code",
   "execution_count": 7,
   "id": "910f6d87350eaa83",
   "metadata": {
    "collapsed": false,
    "ExecuteTime": {
     "end_time": "2023-12-06T10:35:03.148548600Z",
     "start_time": "2023-12-06T10:35:02.136642300Z"
    }
   },
   "outputs": [
    {
     "name": "stdout",
     "output_type": "stream",
     "text": [
      "train: (4985269, 6)\n",
      "test: (490982, 6)\n"
     ]
    }
   ],
   "source": [
    "train = interactions[interactions[Columns.Datetime] < max_date - pd.Timedelta(days=7)].copy()\n",
    "test = interactions[interactions[Columns.Datetime] >= max_date - pd.Timedelta(days=7)].copy()\n",
    "\n",
    "print(f\"train: {train.shape}\")\n",
    "print(f\"test: {test.shape}\")"
   ]
  },
  {
   "cell_type": "code",
   "execution_count": 8,
   "id": "3adf928c1f2f18c9",
   "metadata": {
    "collapsed": false,
    "ExecuteTime": {
     "end_time": "2023-12-06T10:35:04.763355500Z",
     "start_time": "2023-12-06T10:35:03.147556200Z"
    }
   },
   "outputs": [],
   "source": [
    "train.drop(train.query(\"total_dur < 300\").index, inplace=True)\n",
    "cold_users = set(test[Columns.User]) - set(train[Columns.User])\n",
    "test.drop(test[test[Columns.User].isin(cold_users)].index, inplace=True)"
   ]
  },
  {
   "cell_type": "markdown",
   "id": "c6bdc627e64a1177",
   "metadata": {
    "collapsed": false
   },
   "source": []
  },
  {
   "cell_type": "markdown",
   "id": "4bb0a2a144de1d6d",
   "metadata": {
    "collapsed": false
   },
   "source": [
    "## Features"
   ]
  },
  {
   "cell_type": "markdown",
   "id": "82a116a56a082704",
   "metadata": {
    "collapsed": false
   },
   "source": [
    "### User features"
   ]
  },
  {
   "cell_type": "code",
   "execution_count": 9,
   "id": "dc90f7bcd7b7317b",
   "metadata": {
    "collapsed": false,
    "ExecuteTime": {
     "end_time": "2023-12-06T10:35:04.910380900Z",
     "start_time": "2023-12-06T10:35:04.767426700Z"
    }
   },
   "outputs": [],
   "source": [
    "def get_user_features(users, data):\n",
    "    users = users.loc[users[Columns.User].isin(data[Columns.User])].copy()\n",
    "    user_features_frames = []\n",
    "    for feature in [\"sex\", \"age\", \"income\"]:\n",
    "        feature_frame = users.reindex(columns=[Columns.User, feature])\n",
    "        feature_frame.columns = [\"id\", \"value\"]\n",
    "        feature_frame[\"feature\"] = feature\n",
    "        user_features_frames.append(feature_frame)\n",
    "    return pd.concat(user_features_frames)\n",
    "\n",
    "\n",
    "user_features = get_user_features(users, train)"
   ]
  },
  {
   "cell_type": "code",
   "execution_count": 10,
   "id": "4dd749592f93522e",
   "metadata": {
    "collapsed": false,
    "ExecuteTime": {
     "end_time": "2023-12-06T10:35:04.919710900Z",
     "start_time": "2023-12-06T10:35:04.913919800Z"
    }
   },
   "outputs": [
    {
     "data": {
      "text/plain": "             id         value feature\n0        973171             М     sex\n1        962099             М     sex\n3        721985             Ж     sex\n4        704055             Ж     sex\n5       1037719             М     sex\n...         ...           ...     ...\n840184   529394  income_40_60  income\n840186    80113  income_40_60  income\n840188   312839  income_60_90  income\n840189   191349  income_40_60  income\n840190   393868  income_20_40  income\n\n[1760004 rows x 3 columns]",
      "text/html": "<div>\n<style scoped>\n    .dataframe tbody tr th:only-of-type {\n        vertical-align: middle;\n    }\n\n    .dataframe tbody tr th {\n        vertical-align: top;\n    }\n\n    .dataframe thead th {\n        text-align: right;\n    }\n</style>\n<table border=\"1\" class=\"dataframe\">\n  <thead>\n    <tr style=\"text-align: right;\">\n      <th></th>\n      <th>id</th>\n      <th>value</th>\n      <th>feature</th>\n    </tr>\n  </thead>\n  <tbody>\n    <tr>\n      <th>0</th>\n      <td>973171</td>\n      <td>М</td>\n      <td>sex</td>\n    </tr>\n    <tr>\n      <th>1</th>\n      <td>962099</td>\n      <td>М</td>\n      <td>sex</td>\n    </tr>\n    <tr>\n      <th>3</th>\n      <td>721985</td>\n      <td>Ж</td>\n      <td>sex</td>\n    </tr>\n    <tr>\n      <th>4</th>\n      <td>704055</td>\n      <td>Ж</td>\n      <td>sex</td>\n    </tr>\n    <tr>\n      <th>5</th>\n      <td>1037719</td>\n      <td>М</td>\n      <td>sex</td>\n    </tr>\n    <tr>\n      <th>...</th>\n      <td>...</td>\n      <td>...</td>\n      <td>...</td>\n    </tr>\n    <tr>\n      <th>840184</th>\n      <td>529394</td>\n      <td>income_40_60</td>\n      <td>income</td>\n    </tr>\n    <tr>\n      <th>840186</th>\n      <td>80113</td>\n      <td>income_40_60</td>\n      <td>income</td>\n    </tr>\n    <tr>\n      <th>840188</th>\n      <td>312839</td>\n      <td>income_60_90</td>\n      <td>income</td>\n    </tr>\n    <tr>\n      <th>840189</th>\n      <td>191349</td>\n      <td>income_40_60</td>\n      <td>income</td>\n    </tr>\n    <tr>\n      <th>840190</th>\n      <td>393868</td>\n      <td>income_20_40</td>\n      <td>income</td>\n    </tr>\n  </tbody>\n</table>\n<p>1760004 rows × 3 columns</p>\n</div>"
     },
     "execution_count": 10,
     "metadata": {},
     "output_type": "execute_result"
    }
   ],
   "source": [
    "user_features"
   ]
  },
  {
   "cell_type": "markdown",
   "id": "f397cd0c328eb09",
   "metadata": {
    "collapsed": false
   },
   "source": [
    "### Item features"
   ]
  },
  {
   "cell_type": "code",
   "execution_count": 11,
   "id": "c7a7eb7d364c78fd",
   "metadata": {
    "collapsed": false,
    "ExecuteTime": {
     "end_time": "2023-12-06T10:35:05.033318400Z",
     "start_time": "2023-12-06T10:35:04.926974300Z"
    }
   },
   "outputs": [],
   "source": [
    "def get_item_features(items, data):\n",
    "    items = items.loc[items[Columns.Item].isin(data[Columns.Item])].copy()\n",
    "    items[\"genre\"] = items[\"genres\"].str.lower().str.replace(\", \", \",\", regex=False).str.split(\",\")\n",
    "    genre_feature = items[[\"item_id\", \"genre\"]].explode(\"genre\")\n",
    "    genre_feature.columns = [\"id\", \"value\"]\n",
    "    genre_feature[\"feature\"] = \"genre\"\n",
    "    content_feature = items.reindex(columns=[Columns.Item, \"content_type\"])\n",
    "    content_feature.columns = [\"id\", \"value\"]\n",
    "    content_feature[\"feature\"] = \"content_type\"\n",
    "    return pd.concat((genre_feature, content_feature))\n",
    "\n",
    "\n",
    "item_features = get_item_features(items, train)"
   ]
  },
  {
   "cell_type": "code",
   "execution_count": 12,
   "id": "b86e3d8367b4e78e",
   "metadata": {
    "collapsed": false,
    "ExecuteTime": {
     "end_time": "2023-12-06T10:35:05.033894900Z",
     "start_time": "2023-12-06T10:35:04.988378100Z"
    }
   },
   "outputs": [
    {
     "data": {
      "text/plain": "          id       value       feature\n0      10711       драмы         genre\n0      10711  зарубежные         genre\n0      10711   детективы         genre\n0      10711   мелодрамы         genre\n1       2508  зарубежные         genre\n...      ...         ...           ...\n15958   6443      series  content_type\n15959   2367      series  content_type\n15960  10632      series  content_type\n15961   4538      series  content_type\n15962   3206      series  content_type\n\n[50224 rows x 3 columns]",
      "text/html": "<div>\n<style scoped>\n    .dataframe tbody tr th:only-of-type {\n        vertical-align: middle;\n    }\n\n    .dataframe tbody tr th {\n        vertical-align: top;\n    }\n\n    .dataframe thead th {\n        text-align: right;\n    }\n</style>\n<table border=\"1\" class=\"dataframe\">\n  <thead>\n    <tr style=\"text-align: right;\">\n      <th></th>\n      <th>id</th>\n      <th>value</th>\n      <th>feature</th>\n    </tr>\n  </thead>\n  <tbody>\n    <tr>\n      <th>0</th>\n      <td>10711</td>\n      <td>драмы</td>\n      <td>genre</td>\n    </tr>\n    <tr>\n      <th>0</th>\n      <td>10711</td>\n      <td>зарубежные</td>\n      <td>genre</td>\n    </tr>\n    <tr>\n      <th>0</th>\n      <td>10711</td>\n      <td>детективы</td>\n      <td>genre</td>\n    </tr>\n    <tr>\n      <th>0</th>\n      <td>10711</td>\n      <td>мелодрамы</td>\n      <td>genre</td>\n    </tr>\n    <tr>\n      <th>1</th>\n      <td>2508</td>\n      <td>зарубежные</td>\n      <td>genre</td>\n    </tr>\n    <tr>\n      <th>...</th>\n      <td>...</td>\n      <td>...</td>\n      <td>...</td>\n    </tr>\n    <tr>\n      <th>15958</th>\n      <td>6443</td>\n      <td>series</td>\n      <td>content_type</td>\n    </tr>\n    <tr>\n      <th>15959</th>\n      <td>2367</td>\n      <td>series</td>\n      <td>content_type</td>\n    </tr>\n    <tr>\n      <th>15960</th>\n      <td>10632</td>\n      <td>series</td>\n      <td>content_type</td>\n    </tr>\n    <tr>\n      <th>15961</th>\n      <td>4538</td>\n      <td>series</td>\n      <td>content_type</td>\n    </tr>\n    <tr>\n      <th>15962</th>\n      <td>3206</td>\n      <td>series</td>\n      <td>content_type</td>\n    </tr>\n  </tbody>\n</table>\n<p>50224 rows × 3 columns</p>\n</div>"
     },
     "execution_count": 12,
     "metadata": {},
     "output_type": "execute_result"
    }
   ],
   "source": [
    "item_features"
   ]
  },
  {
   "cell_type": "code",
   "execution_count": 13,
   "id": "775088cecd8ffab0",
   "metadata": {
    "collapsed": false,
    "ExecuteTime": {
     "end_time": "2023-12-06T10:35:06.063985500Z",
     "start_time": "2023-12-06T10:35:04.993925700Z"
    }
   },
   "outputs": [],
   "source": [
    "train_dataset = Dataset.construct(\n",
    "    interactions_df=train,\n",
    "    user_features_df=user_features,\n",
    "    cat_user_features=[\"sex\", \"age\", \"income\"],\n",
    "    item_features_df=item_features,\n",
    "    cat_item_features=[\"genre\", \"content_type\"],\n",
    ")"
   ]
  },
  {
   "cell_type": "markdown",
   "id": "88ba721f23a0a9f3",
   "metadata": {
    "collapsed": false
   },
   "source": [
    "## Metrics"
   ]
  },
  {
   "cell_type": "code",
   "execution_count": 14,
   "id": "9ffe6570d739f9fa",
   "metadata": {
    "collapsed": false,
    "ExecuteTime": {
     "end_time": "2023-12-06T10:35:06.081076600Z",
     "start_time": "2023-12-06T10:35:06.073441400Z"
    }
   },
   "outputs": [],
   "source": [
    "from rectools.metrics import NDCG, MeanInvUserFreq, Serendipity\n",
    "\n",
    "metrics = {\n",
    "    'Precision@1': Precision(k=1),\n",
    "    'Precision@5': Precision(k=5),\n",
    "    'Precision@10': Precision(k=10),\n",
    "    'Recall@1': Recall(k=1),\n",
    "    'Recall@5': Recall(k=5),\n",
    "    'Recall@10': Recall(k=10),\n",
    "    'MAP@1': MAP(k=1),\n",
    "    'MAP@5': MAP(k=5),\n",
    "    'MAP@10': MAP(k=10),\n",
    "    'NDCG@1': NDCG(k=1),\n",
    "    'NDCG@5': NDCG(k=5),\n",
    "    'NDCG@10': NDCG(k=10),\n",
    "    'MIUF@1': MeanInvUserFreq(k=1),\n",
    "    'MIUF@5': MeanInvUserFreq(k=5),\n",
    "    'MIUF@10': MeanInvUserFreq(k=10),\n",
    "    'Serendipity@1': Serendipity(k=1),\n",
    "    'Serendipity@5': Serendipity(k=5),\n",
    "    'Serendipity@10': Serendipity(k=10)\n",
    "}"
   ]
  },
  {
   "cell_type": "code",
   "execution_count": 15,
   "id": "d2f61cba7ca278da",
   "metadata": {
    "collapsed": false,
    "ExecuteTime": {
     "end_time": "2023-12-06T10:35:06.094671100Z",
     "start_time": "2023-12-06T10:35:06.079237400Z"
    }
   },
   "outputs": [],
   "source": [
    "def show_pivot(results, group=False):\n",
    "    pivot_results = results.groupby([\"model\"]).mean()\n",
    "\n",
    "    if group:\n",
    "        new_columns = sorted([\n",
    "            (re.split(\"@\", col)[0], int(re.split(\"@\", col)[1])) if \"@\" in col else (col, \"\")\n",
    "            for col in pivot_results.columns])\n",
    "        pivot_results.columns = pd.MultiIndex.from_tuples(new_columns, names=[\"Metric\", \"Value\"])\n",
    "\n",
    "    display(\n",
    "        pivot_results.style\n",
    "        .highlight_min(color='lightcoral', axis=0)\n",
    "        .highlight_max(color='lightgreen', axis=0)\n",
    "    )"
   ]
  },
  {
   "cell_type": "code",
   "execution_count": null,
   "id": "3f409f08de02607f",
   "metadata": {
    "collapsed": false,
    "is_executing": true
   },
   "outputs": [],
   "source": [
    "K_RECOS = 10\n",
    "RANDOM_STATE = 42\n",
    "N_EPOCHS = 1\n",
    "N_THREADS = 6\n",
    "N_SPLITS = 5\n",
    "TEST_SIZE = \"7D\""
   ]
  },
  {
   "cell_type": "markdown",
   "id": "29787f9d34d4c3ab",
   "metadata": {
    "collapsed": false
   },
   "source": [
    "## ALS tuning"
   ]
  },
  {
   "cell_type": "code",
   "execution_count": null,
   "id": "478539bb9798f623",
   "metadata": {
    "collapsed": false,
    "is_executing": true
   },
   "outputs": [],
   "source": [
    "def als_objective(trial, dataset, train, test):\n",
    "    factors = trial.suggest_categorical('factors', [64, 128, 256])\n",
    "    iterations = trial.suggest_categorical('iterations', [15, 30, 50])\n",
    "    fit_features_together = trial.suggest_categorical('fit_features_together', [True, False])\n",
    "    model = ImplicitALSWrapperModel(\n",
    "        model=AlternatingLeastSquares(\n",
    "            random_state=RANDOM_STATE,\n",
    "            factors=factors,\n",
    "            iterations=iterations,\n",
    "        ),\n",
    "        fit_features_together=fit_features_together\n",
    "    )\n",
    "\n",
    "    model.fit(dataset)\n",
    "    recos = model.recommend(\n",
    "        users=test[Columns.User].unique(),\n",
    "        dataset=dataset,\n",
    "        k=K_RECOS,\n",
    "        filter_viewed=True,\n",
    "    )\n",
    "    metrics_results = calc_metrics(\n",
    "        metrics, recos, interactions=test, prev_interactions=train,\n",
    "        catalog=train[Columns.Item].unique()\n",
    "    )\n",
    "\n",
    "    return metrics_results['MAP@10']"
   ]
  },
  {
   "cell_type": "code",
   "execution_count": null,
   "id": "4498bd9ea66ec446",
   "metadata": {
    "collapsed": false,
    "is_executing": true
   },
   "outputs": [],
   "source": [
    "study_als = optuna.create_study(direction='maximize')\n",
    "study_als.optimize(lambda trial: als_objective(trial, train_dataset, train, test), n_trials=20)"
   ]
  },
  {
   "cell_type": "code",
   "execution_count": null,
   "id": "44afac5c3079eeb1",
   "metadata": {
    "collapsed": false,
    "is_executing": true
   },
   "outputs": [],
   "source": [
    "best_params_ALS = study_als.best_params\n",
    "print(best_params_ALS)"
   ]
  },
  {
   "cell_type": "markdown",
   "id": "c8bdca860d6a9c32",
   "metadata": {
    "collapsed": false
   },
   "source": [
    "## LightFM tuning"
   ]
  },
  {
   "cell_type": "code",
   "execution_count": null,
   "id": "d86d25a50cc47749",
   "metadata": {
    "collapsed": false,
    "is_executing": true
   },
   "outputs": [],
   "source": [
    "def lfm_objective(trial, dataset, train, test):\n",
    "    no_components = trial.suggest_categorical('no_components', [64, 128, 256])\n",
    "    loss = trial.suggest_categorical(\"loss\", [\"logistic\", \"bpr\", \"warp\"])\n",
    "    learning_rate = trial.suggest_float(\"learning_rate\", 0.0001, 0.01, log=True)\n",
    "    user_alpha = trial.suggest_float(\"user_alpha\", 0, 1)\n",
    "    item_alpha = trial.suggest_float(\"item_alpha\", 0, 1)\n",
    "\n",
    "    n_epochs = trial.suggest_int(\"n_epochs\", 3, 7)\n",
    "\n",
    "    model = LightFMWrapperModel(\n",
    "        model=LightFM(\n",
    "            random_state=RANDOM_STATE,\n",
    "            no_components=no_components,\n",
    "            loss=loss,\n",
    "            learning_rate=learning_rate,\n",
    "            user_alpha=user_alpha,\n",
    "            item_alpha=item_alpha\n",
    "        ),\n",
    "        epochs=n_epochs,\n",
    "        num_threads=N_THREADS\n",
    "    )\n",
    "\n",
    "    model.fit(dataset)\n",
    "    recos = model.recommend(\n",
    "        users=test[Columns.User].unique(),\n",
    "        dataset=dataset,\n",
    "        k=K_RECOS,\n",
    "        filter_viewed=True,\n",
    "    )\n",
    "    metrics_vals = calc_metrics(\n",
    "        metrics, recos, interactions=test, prev_interactions=train,\n",
    "        catalog=train[Columns.Item].unique()\n",
    "    )\n",
    "\n",
    "    return metrics_vals['MAP@10']"
   ]
  },
  {
   "cell_type": "code",
   "execution_count": null,
   "id": "1313be95e2e4cd2e",
   "metadata": {
    "collapsed": false,
    "is_executing": true
   },
   "outputs": [],
   "source": [
    "study_LFM = optuna.create_study(direction='maximize')\n",
    "study_LFM.optimize(lambda trial: lfm_objective(trial, train_dataset, train, test), n_trials=20)"
   ]
  },
  {
   "cell_type": "code",
   "execution_count": null,
   "id": "7267dd0bd69ca289",
   "metadata": {
    "collapsed": false,
    "is_executing": true
   },
   "outputs": [],
   "source": [
    "best_params_LFM = study_LFM.best_params\n",
    "print(best_params_LFM)"
   ]
  },
  {
   "cell_type": "markdown",
   "id": "7ed276781f715d79",
   "metadata": {
    "collapsed": false
   },
   "source": [
    "## Cross validation"
   ]
  },
  {
   "cell_type": "code",
   "execution_count": null,
   "id": "953351c6fff3467a",
   "metadata": {
    "collapsed": false,
    "is_executing": true
   },
   "outputs": [],
   "source": [
    "models = {\n",
    "    \"ALS\": ImplicitALSWrapperModel(\n",
    "        model=AlternatingLeastSquares(\n",
    "            factors=best_params_ALS.get(\"factors\"),\n",
    "            iterations=best_params_ALS.get(\"iterations\"),\n",
    "            random_state=RANDOM_STATE,\n",
    "        ),\n",
    "        fit_features_together=best_params_ALS.get(\"fit_features_together\"),\n",
    "    ),\n",
    "    \"LightFM\": LightFMWrapperModel(\n",
    "        LightFM(\n",
    "            no_components=best_params_LFM.get(\"no_components\"),\n",
    "            loss=best_params_LFM.get(\"loss\"),\n",
    "            learning_rate=best_params_LFM.get(\"learning_rate\"),\n",
    "            user_alpha=best_params_LFM.get(\"user_alpha\"),\n",
    "            item_alpha=best_params_LFM.get(\"item_alpha\"),\n",
    "            random_state=RANDOM_STATE,\n",
    "        ),\n",
    "        epochs=best_params_LFM.get(\"n_epochs\"),\n",
    "        num_threads=N_THREADS,\n",
    "    ),\n",
    "}"
   ]
  },
  {
   "cell_type": "code",
   "execution_count": null,
   "id": "586d440c5aea4f48",
   "metadata": {
    "collapsed": false,
    "is_executing": true
   },
   "outputs": [],
   "source": [
    "splitter = TimeRangeSplitter(\n",
    "    test_size=TEST_SIZE,\n",
    "    n_splits=N_SPLITS,\n",
    "    filter_already_seen=True,\n",
    "    filter_cold_items=True,\n",
    "    filter_cold_users=True,\n",
    ")"
   ]
  },
  {
   "cell_type": "code",
   "execution_count": null,
   "id": "66bfb655ee368025",
   "metadata": {
    "collapsed": false,
    "is_executing": true
   },
   "outputs": [],
   "source": [
    "results = cross_validate(train_dataset, splitter, metrics, models, k=10, filter_viewed=True)"
   ]
  },
  {
   "cell_type": "code",
   "execution_count": null,
   "id": "6f9dbc771f6d56f5",
   "metadata": {
    "collapsed": false,
    "is_executing": true
   },
   "outputs": [],
   "source": [
    "df_results = pd.DataFrame.from_dict(results[\"metrics\"]).drop(\"i_split\", axis=1)"
   ]
  },
  {
   "cell_type": "code",
   "execution_count": null,
   "id": "1ae19000de971890",
   "metadata": {
    "collapsed": false,
    "is_executing": true
   },
   "outputs": [],
   "source": [
    "df_results"
   ]
  },
  {
   "cell_type": "code",
   "execution_count": null,
   "id": "6e51efdef783925b",
   "metadata": {
    "collapsed": false,
    "is_executing": true
   },
   "outputs": [],
   "source": [
    "df_results.to_csv('df_results.csv')"
   ]
  },
  {
   "cell_type": "code",
   "execution_count": null,
   "id": "172a99ff3970149a",
   "metadata": {
    "collapsed": false,
    "is_executing": true
   },
   "outputs": [],
   "source": [
    "show_pivot(df_results, group=True)"
   ]
  },
  {
   "cell_type": "markdown",
   "id": "136b36d1-7587-415a-89ae-9832ecaff791",
   "metadata": {
    "ExecuteTime": {
     "end_time": "2023-12-06T01:05:35.248956500Z",
     "start_time": "2023-12-06T01:05:35.242913800Z"
    },
    "collapsed": false
   },
   "source": [
    "Модель ALS справилась лучше, будем использовать её"
   ]
  },
  {
   "cell_type": "markdown",
   "id": "554a836cc0b41f9e",
   "metadata": {
    "collapsed": false
   },
   "source": [
    "## Train"
   ]
  },
  {
   "cell_type": "code",
   "execution_count": null,
   "id": "b12375c2b10108a8",
   "metadata": {
    "collapsed": false,
    "is_executing": true
   },
   "outputs": [],
   "source": [
    "user_features_all = get_user_features(users, interactions)\n",
    "item_features_all = get_item_features(items, interactions)"
   ]
  },
  {
   "cell_type": "code",
   "execution_count": null,
   "id": "51ec6b6190fc522b",
   "metadata": {
    "collapsed": false,
    "is_executing": true
   },
   "outputs": [],
   "source": [
    "dataset = Dataset.construct(\n",
    "    interactions_df=interactions,\n",
    "    user_features_df=user_features_all,\n",
    "    item_features_df=item_features_all,\n",
    "    cat_user_features=[\"sex\", \"age\", \"income\"],\n",
    "    cat_item_features=[\"genre\", \"content_type\"],\n",
    ")"
   ]
  },
  {
   "cell_type": "code",
   "execution_count": null,
   "id": "efae2b9b738c2e71",
   "metadata": {
    "collapsed": false,
    "is_executing": true
   },
   "outputs": [],
   "source": [
    "ALS_model = ImplicitALSWrapperModel(\n",
    "    AlternatingLeastSquares(\n",
    "        **best_params_ALS,\n",
    "        random_state=RANDOM_STATE,\n",
    "    )\n",
    ")"
   ]
  },
  {
   "cell_type": "code",
   "execution_count": null,
   "id": "50678f2daaa3677d",
   "metadata": {
    "collapsed": false,
    "is_executing": true
   },
   "outputs": [],
   "source": [
    "ALS_model.fit(dataset)"
   ]
  },
  {
   "cell_type": "code",
   "execution_count": null,
   "id": "0ba1503e-5371-4ef0-8d8e-388d43899685",
   "metadata": {
    "is_executing": true
   },
   "outputs": [],
   "source": [
    "ALS_model.recommend(interactions.user_id.head(1), dataset, k=10, filter_viewed=True)"
   ]
  },
  {
   "cell_type": "code",
   "execution_count": null,
   "id": "9bbd886b69c83bd7",
   "metadata": {
    "collapsed": false,
    "is_executing": true
   },
   "outputs": [],
   "source": [
    "pickle.dump(ALS_model, open('../saved_models/als.pkl', \"wb\"))"
   ]
  },
  {
   "cell_type": "markdown",
   "id": "910b26a15f8f5f9c",
   "metadata": {
    "collapsed": false
   },
   "source": [
    "## ANN"
   ]
  },
  {
   "cell_type": "code",
   "execution_count": null,
   "id": "958f9d2c792c20f9",
   "metadata": {
    "collapsed": false,
    "is_executing": true
   },
   "outputs": [],
   "source": [
    "user_vectors, item_vectors = ALS_model.get_vectors()"
   ]
  },
  {
   "cell_type": "code",
   "execution_count": null,
   "id": "fd28db48eb6f05ce",
   "metadata": {
    "collapsed": false,
    "is_executing": true
   },
   "outputs": [],
   "source": [
    "ALS_ANN = UserToItemAnnRecommender(\n",
    "    user_vectors=user_vectors,\n",
    "    item_vectors=item_vectors,\n",
    "    user_id_map=dataset.user_id_map,\n",
    "    item_id_map=dataset.item_id_map,\n",
    ")"
   ]
  },
  {
   "cell_type": "code",
   "execution_count": null,
   "id": "97d1afdf586ccf2b",
   "metadata": {
    "collapsed": false,
    "is_executing": true
   },
   "outputs": [],
   "source": [
    "ALS_ANN.fit()"
   ]
  },
  {
   "cell_type": "code",
   "execution_count": null,
   "id": "36d1e40dc201119",
   "metadata": {
    "collapsed": false,
    "is_executing": true
   },
   "outputs": [],
   "source": [
    "ALS_ANN.get_item_list_for_user(interactions.user_id.head(1).values[0], top_n=10).tolist()"
   ]
  },
  {
   "cell_type": "code",
   "execution_count": null,
   "id": "99d785d184a5c735",
   "metadata": {
    "collapsed": false,
    "is_executing": true
   },
   "outputs": [],
   "source": [
    "pickle.dump(ALS_ANN, open('../saved_models/als_ann.pkl', \"wb\"))"
   ]
  },
  {
   "cell_type": "code",
   "execution_count": null,
   "id": "78a65968b86c080b",
   "metadata": {
    "collapsed": false,
    "is_executing": true
   },
   "outputs": [],
   "source": []
  }
 ],
 "metadata": {
  "kernelspec": {
   "display_name": "Python 3 (ipykernel)",
   "language": "python",
   "name": "python3"
  },
  "language_info": {
   "codemirror_mode": {
    "name": "ipython",
    "version": 3
   },
   "file_extension": ".py",
   "mimetype": "text/x-python",
   "name": "python",
   "nbconvert_exporter": "python",
   "pygments_lexer": "ipython3",
   "version": "3.10.12"
  }
 },
 "nbformat": 4,
 "nbformat_minor": 5
}
