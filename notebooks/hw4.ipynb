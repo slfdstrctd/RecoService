{
 "cells": [
  {
   "cell_type": "code",
   "execution_count": 1,
   "id": "2d259513-b5c7-45d2-9733-d72efe332fa0",
   "metadata": {},
   "outputs": [],
   "source": [
    "import warnings\n",
    "warnings.filterwarnings('ignore')"
   ]
  },
  {
   "cell_type": "code",
   "execution_count": 2,
   "id": "d8ecf7a413a464cf",
   "metadata": {
    "ExecuteTime": {
     "end_time": "2023-12-06T07:49:01.181027900Z",
     "start_time": "2023-12-06T07:48:58.349493200Z"
    },
    "collapsed": false,
    "jupyter": {
     "outputs_hidden": false
    }
   },
   "outputs": [
    {
     "data": {
      "text/plain": [
       "True"
      ]
     },
     "execution_count": 2,
     "metadata": {},
     "output_type": "execute_result"
    }
   ],
   "source": [
    "import cupy\n",
    "\n",
    "cupy.is_available()"
   ]
  },
  {
   "cell_type": "code",
   "execution_count": 3,
   "id": "initial_id",
   "metadata": {
    "ExecuteTime": {
     "end_time": "2023-12-06T00:52:20.077651300Z",
     "start_time": "2023-12-06T00:52:18.887137300Z"
    }
   },
   "outputs": [],
   "source": [
    "import re\n",
    "\n",
    "import optuna\n",
    "import pickle\n",
    "import pandas as pd\n",
    "from implicit.gpu.als import AlternatingLeastSquares\n",
    "from lightfm import LightFM\n",
    "from rectools import Columns\n",
    "from rectools.dataset import Dataset\n",
    "from rectools.metrics import Precision, Recall, MAP\n",
    "from rectools.metrics import calc_metrics\n",
    "from rectools.model_selection import TimeRangeSplitter\n",
    "from rectools.tools import UserToItemAnnRecommender\n",
    "from rectools.model_selection import cross_validate\n",
    "from rectools.models import ImplicitALSWrapperModel, LightFMWrapperModel"
   ]
  },
  {
   "cell_type": "code",
   "execution_count": 4,
   "id": "5f1dae62a349da54",
   "metadata": {
    "ExecuteTime": {
     "end_time": "2023-12-06T00:52:22.289929200Z",
     "start_time": "2023-12-06T00:52:20.077651300Z"
    },
    "collapsed": false,
    "jupyter": {
     "outputs_hidden": false
    }
   },
   "outputs": [
    {
     "data": {
      "text/html": [
       "<div>\n",
       "<style scoped>\n",
       "    .dataframe tbody tr th:only-of-type {\n",
       "        vertical-align: middle;\n",
       "    }\n",
       "\n",
       "    .dataframe tbody tr th {\n",
       "        vertical-align: top;\n",
       "    }\n",
       "\n",
       "    .dataframe thead th {\n",
       "        text-align: right;\n",
       "    }\n",
       "</style>\n",
       "<table border=\"1\" class=\"dataframe\">\n",
       "  <thead>\n",
       "    <tr style=\"text-align: right;\">\n",
       "      <th></th>\n",
       "      <th>user_id</th>\n",
       "      <th>item_id</th>\n",
       "      <th>last_watch_dt</th>\n",
       "      <th>total_dur</th>\n",
       "      <th>watched_pct</th>\n",
       "    </tr>\n",
       "  </thead>\n",
       "  <tbody>\n",
       "    <tr>\n",
       "      <th>0</th>\n",
       "      <td>176549</td>\n",
       "      <td>9506</td>\n",
       "      <td>2021-05-11</td>\n",
       "      <td>4250</td>\n",
       "      <td>72.0</td>\n",
       "    </tr>\n",
       "    <tr>\n",
       "      <th>1</th>\n",
       "      <td>699317</td>\n",
       "      <td>1659</td>\n",
       "      <td>2021-05-29</td>\n",
       "      <td>8317</td>\n",
       "      <td>100.0</td>\n",
       "    </tr>\n",
       "    <tr>\n",
       "      <th>2</th>\n",
       "      <td>656683</td>\n",
       "      <td>7107</td>\n",
       "      <td>2021-05-09</td>\n",
       "      <td>10</td>\n",
       "      <td>0.0</td>\n",
       "    </tr>\n",
       "    <tr>\n",
       "      <th>3</th>\n",
       "      <td>864613</td>\n",
       "      <td>7638</td>\n",
       "      <td>2021-07-05</td>\n",
       "      <td>14483</td>\n",
       "      <td>100.0</td>\n",
       "    </tr>\n",
       "    <tr>\n",
       "      <th>4</th>\n",
       "      <td>964868</td>\n",
       "      <td>9506</td>\n",
       "      <td>2021-04-30</td>\n",
       "      <td>6725</td>\n",
       "      <td>100.0</td>\n",
       "    </tr>\n",
       "  </tbody>\n",
       "</table>\n",
       "</div>"
      ],
      "text/plain": [
       "   user_id  item_id last_watch_dt  total_dur  watched_pct\n",
       "0   176549     9506    2021-05-11       4250         72.0\n",
       "1   699317     1659    2021-05-29       8317        100.0\n",
       "2   656683     7107    2021-05-09         10          0.0\n",
       "3   864613     7638    2021-07-05      14483        100.0\n",
       "4   964868     9506    2021-04-30       6725        100.0"
      ]
     },
     "execution_count": 4,
     "metadata": {},
     "output_type": "execute_result"
    }
   ],
   "source": [
    "interactions = pd.read_csv('../data/interactions.csv')\n",
    "users = pd.read_csv('../data/users.csv')\n",
    "items = pd.read_csv('../data/items.csv')\n",
    "\n",
    "Columns.Datetime = 'last_watch_dt'\n",
    "\n",
    "interactions.head()"
   ]
  },
  {
   "cell_type": "code",
   "execution_count": 5,
   "id": "a87a878758f0ec29",
   "metadata": {
    "ExecuteTime": {
     "end_time": "2023-12-06T00:52:22.750609100Z",
     "start_time": "2023-12-06T00:52:22.489776400Z"
    },
    "collapsed": false,
    "jupyter": {
     "outputs_hidden": false
    }
   },
   "outputs": [
    {
     "data": {
      "text/plain": [
       "('2021-03-13', '2021-08-22')"
      ]
     },
     "execution_count": 5,
     "metadata": {},
     "output_type": "execute_result"
    }
   ],
   "source": [
    "interactions[Columns.Datetime].min(), interactions[Columns.Datetime].max()"
   ]
  },
  {
   "cell_type": "markdown",
   "id": "c3fa3d9a0270ea16",
   "metadata": {
    "collapsed": false,
    "jupyter": {
     "outputs_hidden": false
    }
   },
   "source": [
    "## Preprocess"
   ]
  },
  {
   "cell_type": "code",
   "execution_count": 6,
   "id": "6cd9f100d5333571",
   "metadata": {
    "ExecuteTime": {
     "end_time": "2023-12-06T00:52:24.277637Z",
     "start_time": "2023-12-06T00:52:22.729237400Z"
    },
    "collapsed": false,
    "jupyter": {
     "outputs_hidden": false
    }
   },
   "outputs": [],
   "source": [
    "import numpy as np\n",
    "\n",
    "interactions.drop(interactions[interactions[Columns.Datetime].str.len() != 10].index, inplace=True)\n",
    "interactions[Columns.Datetime] = pd.to_datetime(interactions[Columns.Datetime], format='%Y-%m-%d')\n",
    "max_date = interactions[Columns.Datetime].max()\n",
    "interactions[Columns.Weight] = np.where(interactions['watched_pct'] > 10, 3, 1)"
   ]
  },
  {
   "cell_type": "code",
   "execution_count": 7,
   "id": "910f6d87350eaa83",
   "metadata": {
    "ExecuteTime": {
     "end_time": "2023-12-06T00:52:24.553208400Z",
     "start_time": "2023-12-06T00:52:24.280635700Z"
    },
    "collapsed": false,
    "jupyter": {
     "outputs_hidden": false
    }
   },
   "outputs": [
    {
     "name": "stdout",
     "output_type": "stream",
     "text": [
      "train: (4985269, 6)\n",
      "test: (490982, 6)\n"
     ]
    }
   ],
   "source": [
    "train = interactions[interactions[Columns.Datetime] < max_date - pd.Timedelta(days=7)].copy()\n",
    "test = interactions[interactions[Columns.Datetime] >= max_date - pd.Timedelta(days=7)].copy()\n",
    "\n",
    "print(f\"train: {train.shape}\")\n",
    "print(f\"test: {test.shape}\")"
   ]
  },
  {
   "cell_type": "code",
   "execution_count": 8,
   "id": "3adf928c1f2f18c9",
   "metadata": {
    "ExecuteTime": {
     "end_time": "2023-12-06T00:52:25.784323500Z",
     "start_time": "2023-12-06T00:52:24.549033300Z"
    },
    "collapsed": false,
    "jupyter": {
     "outputs_hidden": false
    }
   },
   "outputs": [],
   "source": [
    "train.drop(train.query(\"total_dur < 300\").index, inplace=True)\n",
    "cold_users = set(test[Columns.User]) - set(train[Columns.User])\n",
    "test.drop(test[test[Columns.User].isin(cold_users)].index, inplace=True)"
   ]
  },
  {
   "cell_type": "markdown",
   "id": "c6bdc627e64a1177",
   "metadata": {
    "collapsed": false,
    "jupyter": {
     "outputs_hidden": false
    }
   },
   "source": []
  },
  {
   "cell_type": "markdown",
   "id": "4bb0a2a144de1d6d",
   "metadata": {
    "collapsed": false,
    "jupyter": {
     "outputs_hidden": false
    }
   },
   "source": [
    "## Features"
   ]
  },
  {
   "cell_type": "markdown",
   "id": "82a116a56a082704",
   "metadata": {
    "collapsed": false,
    "jupyter": {
     "outputs_hidden": false
    }
   },
   "source": [
    "### User features"
   ]
  },
  {
   "cell_type": "code",
   "execution_count": 9,
   "id": "dc90f7bcd7b7317b",
   "metadata": {
    "ExecuteTime": {
     "end_time": "2023-12-06T00:52:25.950944100Z",
     "start_time": "2023-12-06T00:52:25.790345700Z"
    },
    "collapsed": false,
    "jupyter": {
     "outputs_hidden": false
    }
   },
   "outputs": [],
   "source": [
    "def get_user_features(users, data):\n",
    "    users = users.loc[users[Columns.User].isin(data[Columns.User])].copy()\n",
    "    user_features_frames = []\n",
    "    for feature in [\"sex\", \"age\", \"income\"]:\n",
    "        feature_frame = users.reindex(columns=[Columns.User, feature])\n",
    "        feature_frame.columns = [\"id\", \"value\"]\n",
    "        feature_frame[\"feature\"] = feature\n",
    "        user_features_frames.append(feature_frame)\n",
    "    return pd.concat(user_features_frames)\n",
    "\n",
    "\n",
    "user_features = get_user_features(users, train)"
   ]
  },
  {
   "cell_type": "code",
   "execution_count": 10,
   "id": "4dd749592f93522e",
   "metadata": {
    "ExecuteTime": {
     "end_time": "2023-12-06T00:52:25.955102100Z",
     "start_time": "2023-12-06T00:52:25.950944100Z"
    },
    "collapsed": false,
    "jupyter": {
     "outputs_hidden": false
    }
   },
   "outputs": [
    {
     "data": {
      "text/html": [
       "<div>\n",
       "<style scoped>\n",
       "    .dataframe tbody tr th:only-of-type {\n",
       "        vertical-align: middle;\n",
       "    }\n",
       "\n",
       "    .dataframe tbody tr th {\n",
       "        vertical-align: top;\n",
       "    }\n",
       "\n",
       "    .dataframe thead th {\n",
       "        text-align: right;\n",
       "    }\n",
       "</style>\n",
       "<table border=\"1\" class=\"dataframe\">\n",
       "  <thead>\n",
       "    <tr style=\"text-align: right;\">\n",
       "      <th></th>\n",
       "      <th>id</th>\n",
       "      <th>value</th>\n",
       "      <th>feature</th>\n",
       "    </tr>\n",
       "  </thead>\n",
       "  <tbody>\n",
       "    <tr>\n",
       "      <th>0</th>\n",
       "      <td>973171</td>\n",
       "      <td>М</td>\n",
       "      <td>sex</td>\n",
       "    </tr>\n",
       "    <tr>\n",
       "      <th>1</th>\n",
       "      <td>962099</td>\n",
       "      <td>М</td>\n",
       "      <td>sex</td>\n",
       "    </tr>\n",
       "    <tr>\n",
       "      <th>3</th>\n",
       "      <td>721985</td>\n",
       "      <td>Ж</td>\n",
       "      <td>sex</td>\n",
       "    </tr>\n",
       "    <tr>\n",
       "      <th>4</th>\n",
       "      <td>704055</td>\n",
       "      <td>Ж</td>\n",
       "      <td>sex</td>\n",
       "    </tr>\n",
       "    <tr>\n",
       "      <th>5</th>\n",
       "      <td>1037719</td>\n",
       "      <td>М</td>\n",
       "      <td>sex</td>\n",
       "    </tr>\n",
       "    <tr>\n",
       "      <th>...</th>\n",
       "      <td>...</td>\n",
       "      <td>...</td>\n",
       "      <td>...</td>\n",
       "    </tr>\n",
       "    <tr>\n",
       "      <th>840184</th>\n",
       "      <td>529394</td>\n",
       "      <td>income_40_60</td>\n",
       "      <td>income</td>\n",
       "    </tr>\n",
       "    <tr>\n",
       "      <th>840186</th>\n",
       "      <td>80113</td>\n",
       "      <td>income_40_60</td>\n",
       "      <td>income</td>\n",
       "    </tr>\n",
       "    <tr>\n",
       "      <th>840188</th>\n",
       "      <td>312839</td>\n",
       "      <td>income_60_90</td>\n",
       "      <td>income</td>\n",
       "    </tr>\n",
       "    <tr>\n",
       "      <th>840189</th>\n",
       "      <td>191349</td>\n",
       "      <td>income_40_60</td>\n",
       "      <td>income</td>\n",
       "    </tr>\n",
       "    <tr>\n",
       "      <th>840190</th>\n",
       "      <td>393868</td>\n",
       "      <td>income_20_40</td>\n",
       "      <td>income</td>\n",
       "    </tr>\n",
       "  </tbody>\n",
       "</table>\n",
       "<p>1760004 rows × 3 columns</p>\n",
       "</div>"
      ],
      "text/plain": [
       "             id         value feature\n",
       "0        973171             М     sex\n",
       "1        962099             М     sex\n",
       "3        721985             Ж     sex\n",
       "4        704055             Ж     sex\n",
       "5       1037719             М     sex\n",
       "...         ...           ...     ...\n",
       "840184   529394  income_40_60  income\n",
       "840186    80113  income_40_60  income\n",
       "840188   312839  income_60_90  income\n",
       "840189   191349  income_40_60  income\n",
       "840190   393868  income_20_40  income\n",
       "\n",
       "[1760004 rows x 3 columns]"
      ]
     },
     "execution_count": 10,
     "metadata": {},
     "output_type": "execute_result"
    }
   ],
   "source": [
    "user_features"
   ]
  },
  {
   "cell_type": "markdown",
   "id": "f397cd0c328eb09",
   "metadata": {
    "collapsed": false,
    "jupyter": {
     "outputs_hidden": false
    }
   },
   "source": [
    "### Item features"
   ]
  },
  {
   "cell_type": "code",
   "execution_count": 11,
   "id": "c7a7eb7d364c78fd",
   "metadata": {
    "ExecuteTime": {
     "end_time": "2023-12-06T00:52:26.040668700Z",
     "start_time": "2023-12-06T00:52:25.959104200Z"
    },
    "collapsed": false,
    "jupyter": {
     "outputs_hidden": false
    }
   },
   "outputs": [],
   "source": [
    "def get_item_features(items, data):\n",
    "    items = items.loc[items[Columns.Item].isin(data[Columns.Item])].copy()\n",
    "    items[\"genre\"] = items[\"genres\"].str.lower().str.replace(\", \", \",\", regex=False).str.split(\",\")\n",
    "    genre_feature = items[[\"item_id\", \"genre\"]].explode(\"genre\")\n",
    "    genre_feature.columns = [\"id\", \"value\"]\n",
    "    genre_feature[\"feature\"] = \"genre\"\n",
    "    content_feature = items.reindex(columns=[Columns.Item, \"content_type\"])\n",
    "    content_feature.columns = [\"id\", \"value\"]\n",
    "    content_feature[\"feature\"] = \"content_type\"\n",
    "    return pd.concat((genre_feature, content_feature))\n",
    "\n",
    "\n",
    "item_features = get_item_features(items, train)"
   ]
  },
  {
   "cell_type": "code",
   "execution_count": 12,
   "id": "b86e3d8367b4e78e",
   "metadata": {
    "ExecuteTime": {
     "end_time": "2023-12-06T00:52:26.041663600Z",
     "start_time": "2023-12-06T00:52:26.031994500Z"
    },
    "collapsed": false,
    "jupyter": {
     "outputs_hidden": false
    }
   },
   "outputs": [
    {
     "data": {
      "text/html": [
       "<div>\n",
       "<style scoped>\n",
       "    .dataframe tbody tr th:only-of-type {\n",
       "        vertical-align: middle;\n",
       "    }\n",
       "\n",
       "    .dataframe tbody tr th {\n",
       "        vertical-align: top;\n",
       "    }\n",
       "\n",
       "    .dataframe thead th {\n",
       "        text-align: right;\n",
       "    }\n",
       "</style>\n",
       "<table border=\"1\" class=\"dataframe\">\n",
       "  <thead>\n",
       "    <tr style=\"text-align: right;\">\n",
       "      <th></th>\n",
       "      <th>id</th>\n",
       "      <th>value</th>\n",
       "      <th>feature</th>\n",
       "    </tr>\n",
       "  </thead>\n",
       "  <tbody>\n",
       "    <tr>\n",
       "      <th>0</th>\n",
       "      <td>10711</td>\n",
       "      <td>драмы</td>\n",
       "      <td>genre</td>\n",
       "    </tr>\n",
       "    <tr>\n",
       "      <th>0</th>\n",
       "      <td>10711</td>\n",
       "      <td>зарубежные</td>\n",
       "      <td>genre</td>\n",
       "    </tr>\n",
       "    <tr>\n",
       "      <th>0</th>\n",
       "      <td>10711</td>\n",
       "      <td>детективы</td>\n",
       "      <td>genre</td>\n",
       "    </tr>\n",
       "    <tr>\n",
       "      <th>0</th>\n",
       "      <td>10711</td>\n",
       "      <td>мелодрамы</td>\n",
       "      <td>genre</td>\n",
       "    </tr>\n",
       "    <tr>\n",
       "      <th>1</th>\n",
       "      <td>2508</td>\n",
       "      <td>зарубежные</td>\n",
       "      <td>genre</td>\n",
       "    </tr>\n",
       "    <tr>\n",
       "      <th>...</th>\n",
       "      <td>...</td>\n",
       "      <td>...</td>\n",
       "      <td>...</td>\n",
       "    </tr>\n",
       "    <tr>\n",
       "      <th>15958</th>\n",
       "      <td>6443</td>\n",
       "      <td>series</td>\n",
       "      <td>content_type</td>\n",
       "    </tr>\n",
       "    <tr>\n",
       "      <th>15959</th>\n",
       "      <td>2367</td>\n",
       "      <td>series</td>\n",
       "      <td>content_type</td>\n",
       "    </tr>\n",
       "    <tr>\n",
       "      <th>15960</th>\n",
       "      <td>10632</td>\n",
       "      <td>series</td>\n",
       "      <td>content_type</td>\n",
       "    </tr>\n",
       "    <tr>\n",
       "      <th>15961</th>\n",
       "      <td>4538</td>\n",
       "      <td>series</td>\n",
       "      <td>content_type</td>\n",
       "    </tr>\n",
       "    <tr>\n",
       "      <th>15962</th>\n",
       "      <td>3206</td>\n",
       "      <td>series</td>\n",
       "      <td>content_type</td>\n",
       "    </tr>\n",
       "  </tbody>\n",
       "</table>\n",
       "<p>50224 rows × 3 columns</p>\n",
       "</div>"
      ],
      "text/plain": [
       "          id       value       feature\n",
       "0      10711       драмы         genre\n",
       "0      10711  зарубежные         genre\n",
       "0      10711   детективы         genre\n",
       "0      10711   мелодрамы         genre\n",
       "1       2508  зарубежные         genre\n",
       "...      ...         ...           ...\n",
       "15958   6443      series  content_type\n",
       "15959   2367      series  content_type\n",
       "15960  10632      series  content_type\n",
       "15961   4538      series  content_type\n",
       "15962   3206      series  content_type\n",
       "\n",
       "[50224 rows x 3 columns]"
      ]
     },
     "execution_count": 12,
     "metadata": {},
     "output_type": "execute_result"
    }
   ],
   "source": [
    "item_features"
   ]
  },
  {
   "cell_type": "code",
   "execution_count": 13,
   "id": "775088cecd8ffab0",
   "metadata": {
    "ExecuteTime": {
     "end_time": "2023-12-06T00:52:27.006200300Z",
     "start_time": "2023-12-06T00:52:26.037669200Z"
    },
    "collapsed": false,
    "jupyter": {
     "outputs_hidden": false
    }
   },
   "outputs": [],
   "source": [
    "train_dataset = Dataset.construct(\n",
    "    interactions_df=train,\n",
    "    user_features_df=user_features,\n",
    "    cat_user_features=[\"sex\", \"age\", \"income\"],\n",
    "    item_features_df=item_features,\n",
    "    cat_item_features=[\"genre\", \"content_type\"],\n",
    ")"
   ]
  },
  {
   "cell_type": "markdown",
   "id": "88ba721f23a0a9f3",
   "metadata": {
    "collapsed": false,
    "jupyter": {
     "outputs_hidden": false
    }
   },
   "source": [
    "## Metrics"
   ]
  },
  {
   "cell_type": "code",
   "execution_count": 14,
   "id": "9ffe6570d739f9fa",
   "metadata": {
    "ExecuteTime": {
     "end_time": "2023-12-06T00:52:27.016335600Z",
     "start_time": "2023-12-06T00:52:27.009350800Z"
    },
    "collapsed": false,
    "jupyter": {
     "outputs_hidden": false
    }
   },
   "outputs": [],
   "source": [
    "from rectools.metrics import NDCG, MeanInvUserFreq, Serendipity\n",
    "\n",
    "metrics = {\n",
    "    'Precision@1': Precision(k=1),\n",
    "    'Precision@5': Precision(k=5),\n",
    "    'Precision@10': Precision(k=10),\n",
    "    'Recall@1': Recall(k=1),\n",
    "    'Recall@5': Recall(k=5),\n",
    "    'Recall@10': Recall(k=10),\n",
    "    'MAP@1': MAP(k=1),\n",
    "    'MAP@5': MAP(k=5),\n",
    "    'MAP@10': MAP(k=10),\n",
    "    'NDCG@1': NDCG(k=1),\n",
    "    'NDCG@5': NDCG(k=5),\n",
    "    'NDCG@10': NDCG(k=10),\n",
    "    'MIUF@1': MeanInvUserFreq(k=1),\n",
    "    'MIUF@5': MeanInvUserFreq(k=5),\n",
    "    'MIUF@10': MeanInvUserFreq(k=10),\n",
    "    'Serendipity@1': Serendipity(k=1),\n",
    "    'Serendipity@5': Serendipity(k=5),\n",
    "    'Serendipity@10': Serendipity(k=10)\n",
    "}"
   ]
  },
  {
   "cell_type": "code",
   "execution_count": 15,
   "id": "d2f61cba7ca278da",
   "metadata": {
    "ExecuteTime": {
     "end_time": "2023-12-06T00:52:27.025443800Z",
     "start_time": "2023-12-06T00:52:27.016335600Z"
    },
    "collapsed": false,
    "jupyter": {
     "outputs_hidden": false
    }
   },
   "outputs": [],
   "source": [
    "def show_pivot(results, group=False):\n",
    "    pivot_results = results.groupby([\"model\"]).mean()\n",
    "\n",
    "    if group:\n",
    "        new_columns = sorted([\n",
    "            (re.split(\"@\", col)[0], int(re.split(\"@\", col)[1])) if \"@\" in col else (col, \"\")\n",
    "            for col in pivot_results.columns])\n",
    "        pivot_results.columns = pd.MultiIndex.from_tuples(new_columns, names=[\"Metric\", \"Value\"])\n",
    "\n",
    "    display(\n",
    "        pivot_results.style\n",
    "        .highlight_min(color='lightcoral', axis=0)\n",
    "        .highlight_max(color='lightgreen', axis=0)\n",
    "    )"
   ]
  },
  {
   "cell_type": "code",
   "execution_count": 16,
   "id": "3f409f08de02607f",
   "metadata": {
    "ExecuteTime": {
     "end_time": "2023-12-06T00:52:27.039797900Z",
     "start_time": "2023-12-06T00:52:27.022401600Z"
    },
    "collapsed": false,
    "jupyter": {
     "outputs_hidden": false
    }
   },
   "outputs": [],
   "source": [
    "K_RECOS = 10\n",
    "RANDOM_STATE = 42\n",
    "N_EPOCHS = 1\n",
    "N_THREADS = 4\n",
    "N_SPLITS = 5\n",
    "TEST_SIZE = \"7D\""
   ]
  },
  {
   "cell_type": "markdown",
   "id": "29787f9d34d4c3ab",
   "metadata": {
    "collapsed": false,
    "jupyter": {
     "outputs_hidden": false
    }
   },
   "source": [
    "## ALS tuning"
   ]
  },
  {
   "cell_type": "code",
   "execution_count": 17,
   "id": "478539bb9798f623",
   "metadata": {
    "ExecuteTime": {
     "end_time": "2023-12-06T00:52:27.039797900Z",
     "start_time": "2023-12-06T00:52:27.032784300Z"
    },
    "collapsed": false,
    "jupyter": {
     "outputs_hidden": false
    }
   },
   "outputs": [],
   "source": [
    "def als_objective(trial, dataset, train, test):\n",
    "    factors = trial.suggest_categorical('factors', [10, 50, 100])\n",
    "    iterations = trial.suggest_categorical('iterations', [15, 50])\n",
    "\n",
    "    model = ImplicitALSWrapperModel(\n",
    "        model=AlternatingLeastSquares(\n",
    "            random_state=RANDOM_STATE,\n",
    "            factors=factors,\n",
    "            iterations=iterations,\n",
    "        )\n",
    "    )\n",
    "\n",
    "    model.fit(dataset)\n",
    "    recos = model.recommend(\n",
    "        users=test[Columns.User].unique(),\n",
    "        dataset=dataset,\n",
    "        k=K_RECOS,\n",
    "        filter_viewed=True,\n",
    "    )\n",
    "    metrics_results = calc_metrics(\n",
    "        metrics, recos, interactions=test, prev_interactions=train,\n",
    "        catalog=train[Columns.Item].unique()\n",
    "    )\n",
    "\n",
    "    return metrics_results['MAP@10']"
   ]
  },
  {
   "cell_type": "code",
   "execution_count": 18,
   "id": "4498bd9ea66ec446",
   "metadata": {
    "ExecuteTime": {
     "end_time": "2023-12-06T00:57:48.864945700Z",
     "start_time": "2023-12-06T00:52:27.040793600Z"
    },
    "collapsed": false,
    "jupyter": {
     "outputs_hidden": false
    }
   },
   "outputs": [
    {
     "name": "stderr",
     "output_type": "stream",
     "text": [
      "[I 2023-12-06 11:22:36,973] A new study created in memory with name: no-name-beee96c6-2e98-474a-91a2-67e10ae9905f\n"
     ]
    },
    {
     "data": {
      "application/vnd.jupyter.widget-view+json": {
       "model_id": "016afcb12c594047863d0379d9704b4f",
       "version_major": 2,
       "version_minor": 0
      },
      "text/plain": [
       "  0%|          | 0/1 [00:00<?, ?it/s]"
      ]
     },
     "metadata": {},
     "output_type": "display_data"
    },
    {
     "data": {
      "application/vnd.jupyter.widget-view+json": {
       "model_id": "8479c8911d3d4815869f1db9af8967e4",
       "version_major": 2,
       "version_minor": 0
      },
      "text/plain": [
       "  0%|          | 0/1 [00:00<?, ?it/s]"
      ]
     },
     "metadata": {},
     "output_type": "display_data"
    },
    {
     "name": "stderr",
     "output_type": "stream",
     "text": [
      "[I 2023-12-06 11:26:39,536] Trial 0 finished with value: 0.06385558065679472 and parameters: {'factors': 100, 'iterations': 50}. Best is trial 0 with value: 0.06385558065679472.\n"
     ]
    },
    {
     "data": {
      "application/vnd.jupyter.widget-view+json": {
       "model_id": "56cad0c8abf54f339840ec77323184d7",
       "version_major": 2,
       "version_minor": 0
      },
      "text/plain": [
       "  0%|          | 0/1 [00:00<?, ?it/s]"
      ]
     },
     "metadata": {},
     "output_type": "display_data"
    },
    {
     "data": {
      "application/vnd.jupyter.widget-view+json": {
       "model_id": "87a4b2f24a354fe9baa90fc47b86fc6f",
       "version_major": 2,
       "version_minor": 0
      },
      "text/plain": [
       "  0%|          | 0/1 [00:00<?, ?it/s]"
      ]
     },
     "metadata": {},
     "output_type": "display_data"
    },
    {
     "name": "stderr",
     "output_type": "stream",
     "text": [
      "[I 2023-12-06 11:27:32,637] Trial 1 finished with value: 0.063848353336508 and parameters: {'factors': 100, 'iterations': 50}. Best is trial 0 with value: 0.06385558065679472.\n"
     ]
    },
    {
     "data": {
      "application/vnd.jupyter.widget-view+json": {
       "model_id": "da972b493d7f40a8a64e7254a607a937",
       "version_major": 2,
       "version_minor": 0
      },
      "text/plain": [
       "  0%|          | 0/1 [00:00<?, ?it/s]"
      ]
     },
     "metadata": {},
     "output_type": "display_data"
    },
    {
     "data": {
      "application/vnd.jupyter.widget-view+json": {
       "model_id": "d7a112b082634bce95e7b24a8ad27b90",
       "version_major": 2,
       "version_minor": 0
      },
      "text/plain": [
       "  0%|          | 0/1 [00:00<?, ?it/s]"
      ]
     },
     "metadata": {},
     "output_type": "display_data"
    },
    {
     "name": "stderr",
     "output_type": "stream",
     "text": [
      "[I 2023-12-06 11:28:03,733] Trial 2 finished with value: 0.0633030984260848 and parameters: {'factors': 50, 'iterations': 15}. Best is trial 0 with value: 0.06385558065679472.\n"
     ]
    },
    {
     "data": {
      "application/vnd.jupyter.widget-view+json": {
       "model_id": "9b25b3a3070c442783b5930d0594ac9a",
       "version_major": 2,
       "version_minor": 0
      },
      "text/plain": [
       "  0%|          | 0/1 [00:00<?, ?it/s]"
      ]
     },
     "metadata": {},
     "output_type": "display_data"
    },
    {
     "data": {
      "application/vnd.jupyter.widget-view+json": {
       "model_id": "965d38d513d04107a7e6789db198b4ae",
       "version_major": 2,
       "version_minor": 0
      },
      "text/plain": [
       "  0%|          | 0/1 [00:00<?, ?it/s]"
      ]
     },
     "metadata": {},
     "output_type": "display_data"
    },
    {
     "name": "stderr",
     "output_type": "stream",
     "text": [
      "[I 2023-12-06 11:28:35,182] Trial 3 finished with value: 0.0632984523818297 and parameters: {'factors': 50, 'iterations': 15}. Best is trial 0 with value: 0.06385558065679472.\n"
     ]
    },
    {
     "data": {
      "application/vnd.jupyter.widget-view+json": {
       "model_id": "971c3017555a47c8823b9d5ea64d3e0a",
       "version_major": 2,
       "version_minor": 0
      },
      "text/plain": [
       "  0%|          | 0/1 [00:00<?, ?it/s]"
      ]
     },
     "metadata": {},
     "output_type": "display_data"
    },
    {
     "data": {
      "application/vnd.jupyter.widget-view+json": {
       "model_id": "179fcd2d405846feb4bfd25dd0ff0521",
       "version_major": 2,
       "version_minor": 0
      },
      "text/plain": [
       "  0%|          | 0/1 [00:00<?, ?it/s]"
      ]
     },
     "metadata": {},
     "output_type": "display_data"
    },
    {
     "name": "stderr",
     "output_type": "stream",
     "text": [
      "[I 2023-12-06 11:29:28,822] Trial 4 finished with value: 0.06384966222269303 and parameters: {'factors': 100, 'iterations': 50}. Best is trial 0 with value: 0.06385558065679472.\n"
     ]
    },
    {
     "data": {
      "application/vnd.jupyter.widget-view+json": {
       "model_id": "352c3d26e62b49b8a0b73ad5446d58bf",
       "version_major": 2,
       "version_minor": 0
      },
      "text/plain": [
       "  0%|          | 0/1 [00:00<?, ?it/s]"
      ]
     },
     "metadata": {},
     "output_type": "display_data"
    },
    {
     "data": {
      "application/vnd.jupyter.widget-view+json": {
       "model_id": "b92da230f3b44eb495eab60456968075",
       "version_major": 2,
       "version_minor": 0
      },
      "text/plain": [
       "  0%|          | 0/1 [00:00<?, ?it/s]"
      ]
     },
     "metadata": {},
     "output_type": "display_data"
    },
    {
     "name": "stderr",
     "output_type": "stream",
     "text": [
      "[I 2023-12-06 11:29:59,369] Trial 5 finished with value: 0.06330106890242164 and parameters: {'factors': 50, 'iterations': 15}. Best is trial 0 with value: 0.06385558065679472.\n"
     ]
    },
    {
     "data": {
      "application/vnd.jupyter.widget-view+json": {
       "model_id": "60922b23cf7e4621bc300cd5a9fbf4b5",
       "version_major": 2,
       "version_minor": 0
      },
      "text/plain": [
       "  0%|          | 0/1 [00:00<?, ?it/s]"
      ]
     },
     "metadata": {},
     "output_type": "display_data"
    },
    {
     "data": {
      "application/vnd.jupyter.widget-view+json": {
       "model_id": "f04f2c55fec64143b807d22f7ca62369",
       "version_major": 2,
       "version_minor": 0
      },
      "text/plain": [
       "  0%|          | 0/1 [00:00<?, ?it/s]"
      ]
     },
     "metadata": {},
     "output_type": "display_data"
    },
    {
     "name": "stderr",
     "output_type": "stream",
     "text": [
      "[I 2023-12-06 11:30:30,601] Trial 6 finished with value: 0.06329584596546124 and parameters: {'factors': 50, 'iterations': 15}. Best is trial 0 with value: 0.06385558065679472.\n"
     ]
    },
    {
     "data": {
      "application/vnd.jupyter.widget-view+json": {
       "model_id": "f9de42e4279e4c8f934caaa477e373e8",
       "version_major": 2,
       "version_minor": 0
      },
      "text/plain": [
       "  0%|          | 0/1 [00:00<?, ?it/s]"
      ]
     },
     "metadata": {},
     "output_type": "display_data"
    },
    {
     "data": {
      "application/vnd.jupyter.widget-view+json": {
       "model_id": "6d96dd13c1d14c4b8ea17c351b99944e",
       "version_major": 2,
       "version_minor": 0
      },
      "text/plain": [
       "  0%|          | 0/1 [00:00<?, ?it/s]"
      ]
     },
     "metadata": {},
     "output_type": "display_data"
    },
    {
     "name": "stderr",
     "output_type": "stream",
     "text": [
      "[I 2023-12-06 11:31:23,856] Trial 7 finished with value: 0.06386032755729885 and parameters: {'factors': 100, 'iterations': 50}. Best is trial 7 with value: 0.06386032755729885.\n"
     ]
    },
    {
     "data": {
      "application/vnd.jupyter.widget-view+json": {
       "model_id": "55851098d6034057b267c43d0cc7786f",
       "version_major": 2,
       "version_minor": 0
      },
      "text/plain": [
       "  0%|          | 0/1 [00:00<?, ?it/s]"
      ]
     },
     "metadata": {},
     "output_type": "display_data"
    },
    {
     "data": {
      "application/vnd.jupyter.widget-view+json": {
       "model_id": "266aa9af69284334afe94dc872f7f737",
       "version_major": 2,
       "version_minor": 0
      },
      "text/plain": [
       "  0%|          | 0/1 [00:00<?, ?it/s]"
      ]
     },
     "metadata": {},
     "output_type": "display_data"
    },
    {
     "name": "stderr",
     "output_type": "stream",
     "text": [
      "[I 2023-12-06 11:31:53,651] Trial 8 finished with value: 0.06330474805696186 and parameters: {'factors': 50, 'iterations': 15}. Best is trial 7 with value: 0.06386032755729885.\n"
     ]
    },
    {
     "data": {
      "application/vnd.jupyter.widget-view+json": {
       "model_id": "623c37a51db5458895663d1d718c0a84",
       "version_major": 2,
       "version_minor": 0
      },
      "text/plain": [
       "  0%|          | 0/1 [00:00<?, ?it/s]"
      ]
     },
     "metadata": {},
     "output_type": "display_data"
    },
    {
     "data": {
      "application/vnd.jupyter.widget-view+json": {
       "model_id": "983b8266744b40ed867a7334fe2ab3ec",
       "version_major": 2,
       "version_minor": 0
      },
      "text/plain": [
       "  0%|          | 0/1 [00:00<?, ?it/s]"
      ]
     },
     "metadata": {},
     "output_type": "display_data"
    },
    {
     "name": "stderr",
     "output_type": "stream",
     "text": [
      "[I 2023-12-06 11:32:22,949] Trial 9 finished with value: 0.06427611676949428 and parameters: {'factors': 10, 'iterations': 15}. Best is trial 9 with value: 0.06427611676949428.\n"
     ]
    }
   ],
   "source": [
    "study_als = optuna.create_study(direction='maximize')\n",
    "study_als.optimize(lambda trial: als_objective(trial, train_dataset, train, test), n_trials=10)"
   ]
  },
  {
   "cell_type": "code",
   "execution_count": 19,
   "id": "44afac5c3079eeb1",
   "metadata": {
    "ExecuteTime": {
     "end_time": "2023-12-06T00:57:48.867945100Z",
     "start_time": "2023-12-06T00:57:48.861791700Z"
    },
    "collapsed": false,
    "jupyter": {
     "outputs_hidden": false
    }
   },
   "outputs": [
    {
     "name": "stdout",
     "output_type": "stream",
     "text": [
      "{'factors': 10, 'iterations': 15}\n"
     ]
    }
   ],
   "source": [
    "best_params_ALS = study_als.best_params\n",
    "print(best_params_ALS)"
   ]
  },
  {
   "cell_type": "markdown",
   "id": "c8bdca860d6a9c32",
   "metadata": {
    "collapsed": false,
    "jupyter": {
     "outputs_hidden": false
    }
   },
   "source": [
    "## LightFM tuning"
   ]
  },
  {
   "cell_type": "code",
   "execution_count": 20,
   "id": "d86d25a50cc47749",
   "metadata": {
    "ExecuteTime": {
     "end_time": "2023-12-06T00:57:48.892737Z",
     "start_time": "2023-12-06T00:57:48.867945100Z"
    },
    "collapsed": false,
    "jupyter": {
     "outputs_hidden": false
    }
   },
   "outputs": [],
   "source": [
    "def lfm_objective(trial, dataset, train, test):\n",
    "    no_components = trial.suggest_categorical('no_components', [10, 50, 100])\n",
    "    loss = trial.suggest_categorical(\"loss\", [\"logistic\", \"bpr\", \"warp\"])\n",
    "    learning_rate = trial.suggest_float(\"learning_rate\", 0.0001, 0.01, log=True)\n",
    "    user_alpha = trial.suggest_float(\"user_alpha\", 0, 1)\n",
    "    item_alpha = trial.suggest_float(\"item_alpha\", 0, 1)\n",
    "\n",
    "    model = LightFMWrapperModel(\n",
    "        model=LightFM(\n",
    "            random_state=RANDOM_STATE,\n",
    "            no_components=no_components,\n",
    "            loss=loss,\n",
    "            learning_rate=learning_rate,\n",
    "            user_alpha=user_alpha,\n",
    "            item_alpha=item_alpha\n",
    "        ),\n",
    "        epochs=N_EPOCHS,\n",
    "        num_threads=N_THREADS\n",
    "    )\n",
    "\n",
    "    model.fit(dataset)\n",
    "    recos = model.recommend(\n",
    "        users=test[Columns.User].unique(),\n",
    "        dataset=dataset,\n",
    "        k=K_RECOS,\n",
    "        filter_viewed=True,\n",
    "    )\n",
    "    metrics_vals = calc_metrics(\n",
    "        metrics, recos, interactions=test, prev_interactions=train,\n",
    "        catalog=train[Columns.Item].unique()\n",
    "    )\n",
    "\n",
    "    return metrics_vals['MAP@10']"
   ]
  },
  {
   "cell_type": "code",
   "execution_count": 21,
   "id": "1313be95e2e4cd2e",
   "metadata": {
    "ExecuteTime": {
     "end_time": "2023-12-06T01:01:30.115858800Z",
     "start_time": "2023-12-06T00:57:48.891541100Z"
    },
    "collapsed": false,
    "jupyter": {
     "outputs_hidden": false
    }
   },
   "outputs": [
    {
     "name": "stderr",
     "output_type": "stream",
     "text": [
      "[I 2023-12-06 11:32:22,977] A new study created in memory with name: no-name-59307908-8931-476e-b563-e3cac1f33685\n",
      "[I 2023-12-06 11:32:50,606] Trial 0 finished with value: 0.07265809812765157 and parameters: {'no_components': 50, 'loss': 'warp', 'learning_rate': 0.007742501843344539, 'user_alpha': 0.5123587441430492, 'item_alpha': 0.31760021207828404}. Best is trial 0 with value: 0.07265809812765157.\n",
      "[I 2023-12-06 11:33:16,687] Trial 1 finished with value: 0.00019057919356641156 and parameters: {'no_components': 50, 'loss': 'logistic', 'learning_rate': 0.0002072808212971728, 'user_alpha': 0.14051583996398875, 'item_alpha': 0.8812806102886452}. Best is trial 0 with value: 0.07265809812765157.\n",
      "[I 2023-12-06 11:33:51,058] Trial 2 finished with value: 0.06429750033772968 and parameters: {'no_components': 100, 'loss': 'bpr', 'learning_rate': 0.0012994186678969763, 'user_alpha': 0.3091429174489484, 'item_alpha': 0.15665319799912714}. Best is trial 0 with value: 0.07265809812765157.\n",
      "[I 2023-12-06 11:34:27,811] Trial 3 finished with value: 0.03742910954647092 and parameters: {'no_components': 100, 'loss': 'bpr', 'learning_rate': 0.00010155218613731606, 'user_alpha': 0.6148369567168332, 'item_alpha': 0.2595097333944367}. Best is trial 0 with value: 0.07265809812765157.\n",
      "[I 2023-12-06 11:34:49,050] Trial 4 finished with value: 0.00019057919356641156 and parameters: {'no_components': 10, 'loss': 'logistic', 'learning_rate': 0.0016037759031766142, 'user_alpha': 0.08338600346711145, 'item_alpha': 0.6882421037091289}. Best is trial 0 with value: 0.07265809812765157.\n",
      "[I 2023-12-06 11:35:21,353] Trial 5 finished with value: 0.00019057919356641156 and parameters: {'no_components': 100, 'loss': 'logistic', 'learning_rate': 0.0020820331727436294, 'user_alpha': 0.3683321545012952, 'item_alpha': 0.30121063764940237}. Best is trial 0 with value: 0.07265809812765157.\n",
      "[I 2023-12-06 11:35:53,841] Trial 6 finished with value: 0.0007357169938041356 and parameters: {'no_components': 50, 'loss': 'warp', 'learning_rate': 0.008586040840809328, 'user_alpha': 0.7756402362917912, 'item_alpha': 0.19165934210348856}. Best is trial 0 with value: 0.07265809812765157.\n",
      "[I 2023-12-06 11:36:25,761] Trial 7 finished with value: 0.0 and parameters: {'no_components': 50, 'loss': 'bpr', 'learning_rate': 0.0028639624294178804, 'user_alpha': 0.5849201317754292, 'item_alpha': 0.8886297449042628}. Best is trial 0 with value: 0.07265809812765157.\n",
      "[I 2023-12-06 11:36:46,913] Trial 8 finished with value: 0.0001905954048468625 and parameters: {'no_components': 10, 'loss': 'logistic', 'learning_rate': 0.002259068674224566, 'user_alpha': 0.7389380032550994, 'item_alpha': 0.1428606715814471}. Best is trial 0 with value: 0.07265809812765157.\n",
      "[I 2023-12-06 11:37:12,389] Trial 9 finished with value: 0.054252810320212765 and parameters: {'no_components': 10, 'loss': 'bpr', 'learning_rate': 0.00022583023907706866, 'user_alpha': 0.20378734564073175, 'item_alpha': 0.2276385735611064}. Best is trial 0 with value: 0.07265809812765157.\n"
     ]
    }
   ],
   "source": [
    "study_LFM = optuna.create_study(direction='maximize')\n",
    "study_LFM.optimize(lambda trial: lfm_objective(trial, train_dataset, train, test), n_trials=10)"
   ]
  },
  {
   "cell_type": "code",
   "execution_count": 22,
   "id": "7267dd0bd69ca289",
   "metadata": {
    "ExecuteTime": {
     "end_time": "2023-12-06T01:01:30.116874700Z",
     "start_time": "2023-12-06T01:01:30.112711900Z"
    },
    "collapsed": false,
    "jupyter": {
     "outputs_hidden": false
    }
   },
   "outputs": [
    {
     "name": "stdout",
     "output_type": "stream",
     "text": [
      "{'no_components': 50, 'loss': 'warp', 'learning_rate': 0.007742501843344539, 'user_alpha': 0.5123587441430492, 'item_alpha': 0.31760021207828404}\n"
     ]
    }
   ],
   "source": [
    "best_params_LFM = study_LFM.best_params\n",
    "print(best_params_LFM)"
   ]
  },
  {
   "cell_type": "markdown",
   "id": "7ed276781f715d79",
   "metadata": {
    "collapsed": false,
    "jupyter": {
     "outputs_hidden": false
    }
   },
   "source": [
    "## Cross validation"
   ]
  },
  {
   "cell_type": "code",
   "execution_count": 23,
   "id": "953351c6fff3467a",
   "metadata": {
    "ExecuteTime": {
     "end_time": "2023-12-06T01:01:30.131384Z",
     "start_time": "2023-12-06T01:01:30.116874700Z"
    },
    "collapsed": false,
    "jupyter": {
     "outputs_hidden": false
    }
   },
   "outputs": [],
   "source": [
    "models = {\n",
    "    \"ALS\": ImplicitALSWrapperModel(\n",
    "        model=AlternatingLeastSquares(\n",
    "            **best_params_ALS,\n",
    "            random_state=RANDOM_STATE,\n",
    "        ),\n",
    "        fit_features_together=True,\n",
    "    ),\n",
    "    \"LightFM\": LightFMWrapperModel(\n",
    "        LightFM(\n",
    "            **best_params_LFM,\n",
    "            random_state=RANDOM_STATE,\n",
    "        ),\n",
    "        epochs=N_EPOCHS,\n",
    "        num_threads=N_THREADS,\n",
    "    ),\n",
    "}"
   ]
  },
  {
   "cell_type": "code",
   "execution_count": 24,
   "id": "586d440c5aea4f48",
   "metadata": {
    "ExecuteTime": {
     "end_time": "2023-12-06T01:01:30.163711700Z",
     "start_time": "2023-12-06T01:01:30.131384Z"
    },
    "collapsed": false,
    "jupyter": {
     "outputs_hidden": false
    }
   },
   "outputs": [],
   "source": [
    "splitter = TimeRangeSplitter(\n",
    "    test_size=TEST_SIZE,\n",
    "    n_splits=N_SPLITS,\n",
    "    filter_already_seen=True,\n",
    "    filter_cold_items=True,\n",
    "    filter_cold_users=True,\n",
    ")"
   ]
  },
  {
   "cell_type": "code",
   "execution_count": 25,
   "id": "66bfb655ee368025",
   "metadata": {
    "ExecuteTime": {
     "end_time": "2023-12-06T01:05:34.141341100Z",
     "start_time": "2023-12-06T01:01:30.136516700Z"
    },
    "collapsed": false,
    "jupyter": {
     "outputs_hidden": false
    }
   },
   "outputs": [],
   "source": [
    "results = cross_validate(train_dataset, splitter, metrics, models, k=10, filter_viewed=True)"
   ]
  },
  {
   "cell_type": "code",
   "execution_count": 26,
   "id": "6f9dbc771f6d56f5",
   "metadata": {
    "ExecuteTime": {
     "end_time": "2023-12-06T01:05:34.152436500Z",
     "start_time": "2023-12-06T01:05:34.150387100Z"
    },
    "collapsed": false,
    "jupyter": {
     "outputs_hidden": false
    }
   },
   "outputs": [],
   "source": [
    "df_results = pd.DataFrame.from_dict(results[\"metrics\"]).drop(\"i_split\", axis=1)"
   ]
  },
  {
   "cell_type": "code",
   "execution_count": 27,
   "id": "1ae19000de971890",
   "metadata": {
    "ExecuteTime": {
     "end_time": "2023-12-06T01:05:34.189827300Z",
     "start_time": "2023-12-06T01:05:34.154770200Z"
    },
    "collapsed": false,
    "jupyter": {
     "outputs_hidden": false
    }
   },
   "outputs": [
    {
     "data": {
      "text/html": [
       "<div>\n",
       "<style scoped>\n",
       "    .dataframe tbody tr th:only-of-type {\n",
       "        vertical-align: middle;\n",
       "    }\n",
       "\n",
       "    .dataframe tbody tr th {\n",
       "        vertical-align: top;\n",
       "    }\n",
       "\n",
       "    .dataframe thead th {\n",
       "        text-align: right;\n",
       "    }\n",
       "</style>\n",
       "<table border=\"1\" class=\"dataframe\">\n",
       "  <thead>\n",
       "    <tr style=\"text-align: right;\">\n",
       "      <th></th>\n",
       "      <th>model</th>\n",
       "      <th>Precision@1</th>\n",
       "      <th>Recall@1</th>\n",
       "      <th>Precision@5</th>\n",
       "      <th>Recall@5</th>\n",
       "      <th>Precision@10</th>\n",
       "      <th>Recall@10</th>\n",
       "      <th>NDCG@1</th>\n",
       "      <th>NDCG@5</th>\n",
       "      <th>NDCG@10</th>\n",
       "      <th>MAP@1</th>\n",
       "      <th>MAP@5</th>\n",
       "      <th>MAP@10</th>\n",
       "      <th>MIUF@1</th>\n",
       "      <th>MIUF@5</th>\n",
       "      <th>MIUF@10</th>\n",
       "      <th>Serendipity@1</th>\n",
       "      <th>Serendipity@5</th>\n",
       "      <th>Serendipity@10</th>\n",
       "    </tr>\n",
       "  </thead>\n",
       "  <tbody>\n",
       "    <tr>\n",
       "      <th>0</th>\n",
       "      <td>ALS</td>\n",
       "      <td>0.107981</td>\n",
       "      <td>0.068420</td>\n",
       "      <td>0.061768</td>\n",
       "      <td>0.182906</td>\n",
       "      <td>0.039268</td>\n",
       "      <td>0.226803</td>\n",
       "      <td>0.107981</td>\n",
       "      <td>0.071828</td>\n",
       "      <td>0.052614</td>\n",
       "      <td>0.068420</td>\n",
       "      <td>0.113138</td>\n",
       "      <td>0.120289</td>\n",
       "      <td>2.950321</td>\n",
       "      <td>3.739064</td>\n",
       "      <td>4.493684</td>\n",
       "      <td>0.000016</td>\n",
       "      <td>0.000016</td>\n",
       "      <td>0.000019</td>\n",
       "    </tr>\n",
       "    <tr>\n",
       "      <th>1</th>\n",
       "      <td>LightFM</td>\n",
       "      <td>0.108641</td>\n",
       "      <td>0.071841</td>\n",
       "      <td>0.065664</td>\n",
       "      <td>0.194812</td>\n",
       "      <td>0.040819</td>\n",
       "      <td>0.236831</td>\n",
       "      <td>0.108641</td>\n",
       "      <td>0.074041</td>\n",
       "      <td>0.053917</td>\n",
       "      <td>0.071841</td>\n",
       "      <td>0.117047</td>\n",
       "      <td>0.124457</td>\n",
       "      <td>2.466258</td>\n",
       "      <td>3.197221</td>\n",
       "      <td>3.844187</td>\n",
       "      <td>0.000008</td>\n",
       "      <td>0.000005</td>\n",
       "      <td>0.000003</td>\n",
       "    </tr>\n",
       "    <tr>\n",
       "      <th>2</th>\n",
       "      <td>ALS</td>\n",
       "      <td>0.088842</td>\n",
       "      <td>0.054981</td>\n",
       "      <td>0.053463</td>\n",
       "      <td>0.156332</td>\n",
       "      <td>0.034176</td>\n",
       "      <td>0.194890</td>\n",
       "      <td>0.088842</td>\n",
       "      <td>0.061216</td>\n",
       "      <td>0.045071</td>\n",
       "      <td>0.054981</td>\n",
       "      <td>0.094053</td>\n",
       "      <td>0.100251</td>\n",
       "      <td>3.187870</td>\n",
       "      <td>4.116845</td>\n",
       "      <td>4.997900</td>\n",
       "      <td>0.000020</td>\n",
       "      <td>0.000018</td>\n",
       "      <td>0.000020</td>\n",
       "    </tr>\n",
       "    <tr>\n",
       "      <th>3</th>\n",
       "      <td>LightFM</td>\n",
       "      <td>0.086931</td>\n",
       "      <td>0.056031</td>\n",
       "      <td>0.057832</td>\n",
       "      <td>0.168967</td>\n",
       "      <td>0.037326</td>\n",
       "      <td>0.211986</td>\n",
       "      <td>0.086931</td>\n",
       "      <td>0.063900</td>\n",
       "      <td>0.047547</td>\n",
       "      <td>0.056031</td>\n",
       "      <td>0.097665</td>\n",
       "      <td>0.104865</td>\n",
       "      <td>2.419423</td>\n",
       "      <td>3.155710</td>\n",
       "      <td>3.894346</td>\n",
       "      <td>0.000007</td>\n",
       "      <td>0.000004</td>\n",
       "      <td>0.000003</td>\n",
       "    </tr>\n",
       "    <tr>\n",
       "      <th>4</th>\n",
       "      <td>ALS</td>\n",
       "      <td>0.070986</td>\n",
       "      <td>0.042121</td>\n",
       "      <td>0.047901</td>\n",
       "      <td>0.135950</td>\n",
       "      <td>0.032059</td>\n",
       "      <td>0.175974</td>\n",
       "      <td>0.070986</td>\n",
       "      <td>0.053280</td>\n",
       "      <td>0.040363</td>\n",
       "      <td>0.042121</td>\n",
       "      <td>0.077316</td>\n",
       "      <td>0.083630</td>\n",
       "      <td>2.901963</td>\n",
       "      <td>3.619253</td>\n",
       "      <td>4.385052</td>\n",
       "      <td>0.000013</td>\n",
       "      <td>0.000014</td>\n",
       "      <td>0.000017</td>\n",
       "    </tr>\n",
       "    <tr>\n",
       "      <th>5</th>\n",
       "      <td>LightFM</td>\n",
       "      <td>0.000780</td>\n",
       "      <td>0.000303</td>\n",
       "      <td>0.009610</td>\n",
       "      <td>0.028881</td>\n",
       "      <td>0.004994</td>\n",
       "      <td>0.029423</td>\n",
       "      <td>0.000780</td>\n",
       "      <td>0.008275</td>\n",
       "      <td>0.005501</td>\n",
       "      <td>0.000303</td>\n",
       "      <td>0.009833</td>\n",
       "      <td>0.009902</td>\n",
       "      <td>8.882222</td>\n",
       "      <td>11.167473</td>\n",
       "      <td>12.505207</td>\n",
       "      <td>0.000020</td>\n",
       "      <td>0.000013</td>\n",
       "      <td>0.000015</td>\n",
       "    </tr>\n",
       "    <tr>\n",
       "      <th>6</th>\n",
       "      <td>ALS</td>\n",
       "      <td>0.082509</td>\n",
       "      <td>0.049280</td>\n",
       "      <td>0.050250</td>\n",
       "      <td>0.140407</td>\n",
       "      <td>0.032747</td>\n",
       "      <td>0.176789</td>\n",
       "      <td>0.082509</td>\n",
       "      <td>0.057229</td>\n",
       "      <td>0.042590</td>\n",
       "      <td>0.049280</td>\n",
       "      <td>0.083862</td>\n",
       "      <td>0.089740</td>\n",
       "      <td>2.956104</td>\n",
       "      <td>3.663775</td>\n",
       "      <td>4.505235</td>\n",
       "      <td>0.000016</td>\n",
       "      <td>0.000015</td>\n",
       "      <td>0.000019</td>\n",
       "    </tr>\n",
       "    <tr>\n",
       "      <th>7</th>\n",
       "      <td>LightFM</td>\n",
       "      <td>0.001369</td>\n",
       "      <td>0.000589</td>\n",
       "      <td>0.011505</td>\n",
       "      <td>0.033810</td>\n",
       "      <td>0.005914</td>\n",
       "      <td>0.034447</td>\n",
       "      <td>0.001369</td>\n",
       "      <td>0.009985</td>\n",
       "      <td>0.006602</td>\n",
       "      <td>0.000589</td>\n",
       "      <td>0.011672</td>\n",
       "      <td>0.011771</td>\n",
       "      <td>8.906238</td>\n",
       "      <td>13.073777</td>\n",
       "      <td>12.757168</td>\n",
       "      <td>0.000036</td>\n",
       "      <td>0.000011</td>\n",
       "      <td>0.000013</td>\n",
       "    </tr>\n",
       "    <tr>\n",
       "      <th>8</th>\n",
       "      <td>ALS</td>\n",
       "      <td>0.076388</td>\n",
       "      <td>0.045692</td>\n",
       "      <td>0.046330</td>\n",
       "      <td>0.130041</td>\n",
       "      <td>0.030150</td>\n",
       "      <td>0.164334</td>\n",
       "      <td>0.076388</td>\n",
       "      <td>0.052875</td>\n",
       "      <td>0.039289</td>\n",
       "      <td>0.045692</td>\n",
       "      <td>0.077742</td>\n",
       "      <td>0.083134</td>\n",
       "      <td>2.834639</td>\n",
       "      <td>3.621053</td>\n",
       "      <td>4.542421</td>\n",
       "      <td>0.000014</td>\n",
       "      <td>0.000017</td>\n",
       "      <td>0.000021</td>\n",
       "    </tr>\n",
       "    <tr>\n",
       "      <th>9</th>\n",
       "      <td>LightFM</td>\n",
       "      <td>0.076814</td>\n",
       "      <td>0.047112</td>\n",
       "      <td>0.048487</td>\n",
       "      <td>0.136905</td>\n",
       "      <td>0.030927</td>\n",
       "      <td>0.170296</td>\n",
       "      <td>0.076814</td>\n",
       "      <td>0.053875</td>\n",
       "      <td>0.039729</td>\n",
       "      <td>0.047112</td>\n",
       "      <td>0.079398</td>\n",
       "      <td>0.084726</td>\n",
       "      <td>2.358067</td>\n",
       "      <td>3.078199</td>\n",
       "      <td>3.755440</td>\n",
       "      <td>0.000002</td>\n",
       "      <td>0.000002</td>\n",
       "      <td>0.000002</td>\n",
       "    </tr>\n",
       "  </tbody>\n",
       "</table>\n",
       "</div>"
      ],
      "text/plain": [
       "     model  Precision@1  Recall@1  Precision@5  Recall@5  Precision@10  \\\n",
       "0      ALS     0.107981  0.068420     0.061768  0.182906      0.039268   \n",
       "1  LightFM     0.108641  0.071841     0.065664  0.194812      0.040819   \n",
       "2      ALS     0.088842  0.054981     0.053463  0.156332      0.034176   \n",
       "3  LightFM     0.086931  0.056031     0.057832  0.168967      0.037326   \n",
       "4      ALS     0.070986  0.042121     0.047901  0.135950      0.032059   \n",
       "5  LightFM     0.000780  0.000303     0.009610  0.028881      0.004994   \n",
       "6      ALS     0.082509  0.049280     0.050250  0.140407      0.032747   \n",
       "7  LightFM     0.001369  0.000589     0.011505  0.033810      0.005914   \n",
       "8      ALS     0.076388  0.045692     0.046330  0.130041      0.030150   \n",
       "9  LightFM     0.076814  0.047112     0.048487  0.136905      0.030927   \n",
       "\n",
       "   Recall@10    NDCG@1    NDCG@5   NDCG@10     MAP@1     MAP@5    MAP@10  \\\n",
       "0   0.226803  0.107981  0.071828  0.052614  0.068420  0.113138  0.120289   \n",
       "1   0.236831  0.108641  0.074041  0.053917  0.071841  0.117047  0.124457   \n",
       "2   0.194890  0.088842  0.061216  0.045071  0.054981  0.094053  0.100251   \n",
       "3   0.211986  0.086931  0.063900  0.047547  0.056031  0.097665  0.104865   \n",
       "4   0.175974  0.070986  0.053280  0.040363  0.042121  0.077316  0.083630   \n",
       "5   0.029423  0.000780  0.008275  0.005501  0.000303  0.009833  0.009902   \n",
       "6   0.176789  0.082509  0.057229  0.042590  0.049280  0.083862  0.089740   \n",
       "7   0.034447  0.001369  0.009985  0.006602  0.000589  0.011672  0.011771   \n",
       "8   0.164334  0.076388  0.052875  0.039289  0.045692  0.077742  0.083134   \n",
       "9   0.170296  0.076814  0.053875  0.039729  0.047112  0.079398  0.084726   \n",
       "\n",
       "     MIUF@1     MIUF@5    MIUF@10  Serendipity@1  Serendipity@5  \\\n",
       "0  2.950321   3.739064   4.493684       0.000016       0.000016   \n",
       "1  2.466258   3.197221   3.844187       0.000008       0.000005   \n",
       "2  3.187870   4.116845   4.997900       0.000020       0.000018   \n",
       "3  2.419423   3.155710   3.894346       0.000007       0.000004   \n",
       "4  2.901963   3.619253   4.385052       0.000013       0.000014   \n",
       "5  8.882222  11.167473  12.505207       0.000020       0.000013   \n",
       "6  2.956104   3.663775   4.505235       0.000016       0.000015   \n",
       "7  8.906238  13.073777  12.757168       0.000036       0.000011   \n",
       "8  2.834639   3.621053   4.542421       0.000014       0.000017   \n",
       "9  2.358067   3.078199   3.755440       0.000002       0.000002   \n",
       "\n",
       "   Serendipity@10  \n",
       "0        0.000019  \n",
       "1        0.000003  \n",
       "2        0.000020  \n",
       "3        0.000003  \n",
       "4        0.000017  \n",
       "5        0.000015  \n",
       "6        0.000019  \n",
       "7        0.000013  \n",
       "8        0.000021  \n",
       "9        0.000002  "
      ]
     },
     "execution_count": 27,
     "metadata": {},
     "output_type": "execute_result"
    }
   ],
   "source": [
    "df_results"
   ]
  },
  {
   "cell_type": "code",
   "execution_count": 28,
   "id": "6e51efdef783925b",
   "metadata": {
    "ExecuteTime": {
     "end_time": "2023-12-06T01:05:34.205112800Z",
     "start_time": "2023-12-06T01:05:34.182793600Z"
    },
    "collapsed": false,
    "jupyter": {
     "outputs_hidden": false
    }
   },
   "outputs": [],
   "source": [
    "df_results.to_csv('df_results.csv')"
   ]
  },
  {
   "cell_type": "code",
   "execution_count": 29,
   "id": "172a99ff3970149a",
   "metadata": {
    "ExecuteTime": {
     "end_time": "2023-12-06T01:05:35.248956500Z",
     "start_time": "2023-12-06T01:05:34.205112800Z"
    },
    "collapsed": false,
    "jupyter": {
     "outputs_hidden": false
    }
   },
   "outputs": [
    {
     "data": {
      "text/html": [
       "<style type=\"text/css\">\n",
       "#T_83ba0_row0_col0, #T_83ba0_row0_col1, #T_83ba0_row0_col2, #T_83ba0_row0_col3, #T_83ba0_row0_col4, #T_83ba0_row0_col5, #T_83ba0_row0_col6, #T_83ba0_row0_col7, #T_83ba0_row0_col8, #T_83ba0_row0_col9, #T_83ba0_row0_col10, #T_83ba0_row0_col11, #T_83ba0_row0_col15, #T_83ba0_row0_col16, #T_83ba0_row0_col17, #T_83ba0_row1_col12, #T_83ba0_row1_col13, #T_83ba0_row1_col14 {\n",
       "  background-color: lightgreen;\n",
       "}\n",
       "#T_83ba0_row0_col12, #T_83ba0_row0_col13, #T_83ba0_row0_col14, #T_83ba0_row1_col0, #T_83ba0_row1_col1, #T_83ba0_row1_col2, #T_83ba0_row1_col3, #T_83ba0_row1_col4, #T_83ba0_row1_col5, #T_83ba0_row1_col6, #T_83ba0_row1_col7, #T_83ba0_row1_col8, #T_83ba0_row1_col9, #T_83ba0_row1_col10, #T_83ba0_row1_col11, #T_83ba0_row1_col15, #T_83ba0_row1_col16, #T_83ba0_row1_col17 {\n",
       "  background-color: lightcoral;\n",
       "}\n",
       "</style>\n",
       "<table id=\"T_83ba0\">\n",
       "  <thead>\n",
       "    <tr>\n",
       "      <th class=\"index_name level0\" >Metric</th>\n",
       "      <th id=\"T_83ba0_level0_col0\" class=\"col_heading level0 col0\" colspan=\"3\">MAP</th>\n",
       "      <th id=\"T_83ba0_level0_col3\" class=\"col_heading level0 col3\" colspan=\"3\">MIUF</th>\n",
       "      <th id=\"T_83ba0_level0_col6\" class=\"col_heading level0 col6\" colspan=\"3\">NDCG</th>\n",
       "      <th id=\"T_83ba0_level0_col9\" class=\"col_heading level0 col9\" colspan=\"3\">Precision</th>\n",
       "      <th id=\"T_83ba0_level0_col12\" class=\"col_heading level0 col12\" colspan=\"3\">Recall</th>\n",
       "      <th id=\"T_83ba0_level0_col15\" class=\"col_heading level0 col15\" colspan=\"3\">Serendipity</th>\n",
       "    </tr>\n",
       "    <tr>\n",
       "      <th class=\"index_name level1\" >Value</th>\n",
       "      <th id=\"T_83ba0_level1_col0\" class=\"col_heading level1 col0\" >1</th>\n",
       "      <th id=\"T_83ba0_level1_col1\" class=\"col_heading level1 col1\" >5</th>\n",
       "      <th id=\"T_83ba0_level1_col2\" class=\"col_heading level1 col2\" >10</th>\n",
       "      <th id=\"T_83ba0_level1_col3\" class=\"col_heading level1 col3\" >1</th>\n",
       "      <th id=\"T_83ba0_level1_col4\" class=\"col_heading level1 col4\" >5</th>\n",
       "      <th id=\"T_83ba0_level1_col5\" class=\"col_heading level1 col5\" >10</th>\n",
       "      <th id=\"T_83ba0_level1_col6\" class=\"col_heading level1 col6\" >1</th>\n",
       "      <th id=\"T_83ba0_level1_col7\" class=\"col_heading level1 col7\" >5</th>\n",
       "      <th id=\"T_83ba0_level1_col8\" class=\"col_heading level1 col8\" >10</th>\n",
       "      <th id=\"T_83ba0_level1_col9\" class=\"col_heading level1 col9\" >1</th>\n",
       "      <th id=\"T_83ba0_level1_col10\" class=\"col_heading level1 col10\" >5</th>\n",
       "      <th id=\"T_83ba0_level1_col11\" class=\"col_heading level1 col11\" >10</th>\n",
       "      <th id=\"T_83ba0_level1_col12\" class=\"col_heading level1 col12\" >1</th>\n",
       "      <th id=\"T_83ba0_level1_col13\" class=\"col_heading level1 col13\" >5</th>\n",
       "      <th id=\"T_83ba0_level1_col14\" class=\"col_heading level1 col14\" >10</th>\n",
       "      <th id=\"T_83ba0_level1_col15\" class=\"col_heading level1 col15\" >1</th>\n",
       "      <th id=\"T_83ba0_level1_col16\" class=\"col_heading level1 col16\" >5</th>\n",
       "      <th id=\"T_83ba0_level1_col17\" class=\"col_heading level1 col17\" >10</th>\n",
       "    </tr>\n",
       "    <tr>\n",
       "      <th class=\"index_name level0\" >model</th>\n",
       "      <th class=\"blank col0\" >&nbsp;</th>\n",
       "      <th class=\"blank col1\" >&nbsp;</th>\n",
       "      <th class=\"blank col2\" >&nbsp;</th>\n",
       "      <th class=\"blank col3\" >&nbsp;</th>\n",
       "      <th class=\"blank col4\" >&nbsp;</th>\n",
       "      <th class=\"blank col5\" >&nbsp;</th>\n",
       "      <th class=\"blank col6\" >&nbsp;</th>\n",
       "      <th class=\"blank col7\" >&nbsp;</th>\n",
       "      <th class=\"blank col8\" >&nbsp;</th>\n",
       "      <th class=\"blank col9\" >&nbsp;</th>\n",
       "      <th class=\"blank col10\" >&nbsp;</th>\n",
       "      <th class=\"blank col11\" >&nbsp;</th>\n",
       "      <th class=\"blank col12\" >&nbsp;</th>\n",
       "      <th class=\"blank col13\" >&nbsp;</th>\n",
       "      <th class=\"blank col14\" >&nbsp;</th>\n",
       "      <th class=\"blank col15\" >&nbsp;</th>\n",
       "      <th class=\"blank col16\" >&nbsp;</th>\n",
       "      <th class=\"blank col17\" >&nbsp;</th>\n",
       "    </tr>\n",
       "  </thead>\n",
       "  <tbody>\n",
       "    <tr>\n",
       "      <th id=\"T_83ba0_level0_row0\" class=\"row_heading level0 row0\" >ALS</th>\n",
       "      <td id=\"T_83ba0_row0_col0\" class=\"data row0 col0\" >0.085341</td>\n",
       "      <td id=\"T_83ba0_row0_col1\" class=\"data row0 col1\" >0.052099</td>\n",
       "      <td id=\"T_83ba0_row0_col2\" class=\"data row0 col2\" >0.051942</td>\n",
       "      <td id=\"T_83ba0_row0_col3\" class=\"data row0 col3\" >0.149127</td>\n",
       "      <td id=\"T_83ba0_row0_col4\" class=\"data row0 col4\" >0.033680</td>\n",
       "      <td id=\"T_83ba0_row0_col5\" class=\"data row0 col5\" >0.187758</td>\n",
       "      <td id=\"T_83ba0_row0_col6\" class=\"data row0 col6\" >0.085341</td>\n",
       "      <td id=\"T_83ba0_row0_col7\" class=\"data row0 col7\" >0.059286</td>\n",
       "      <td id=\"T_83ba0_row0_col8\" class=\"data row0 col8\" >0.043985</td>\n",
       "      <td id=\"T_83ba0_row0_col9\" class=\"data row0 col9\" >0.052099</td>\n",
       "      <td id=\"T_83ba0_row0_col10\" class=\"data row0 col10\" >0.089222</td>\n",
       "      <td id=\"T_83ba0_row0_col11\" class=\"data row0 col11\" >0.095409</td>\n",
       "      <td id=\"T_83ba0_row0_col12\" class=\"data row0 col12\" >2.966180</td>\n",
       "      <td id=\"T_83ba0_row0_col13\" class=\"data row0 col13\" >3.751998</td>\n",
       "      <td id=\"T_83ba0_row0_col14\" class=\"data row0 col14\" >4.584858</td>\n",
       "      <td id=\"T_83ba0_row0_col15\" class=\"data row0 col15\" >0.000016</td>\n",
       "      <td id=\"T_83ba0_row0_col16\" class=\"data row0 col16\" >0.000016</td>\n",
       "      <td id=\"T_83ba0_row0_col17\" class=\"data row0 col17\" >0.000019</td>\n",
       "    </tr>\n",
       "    <tr>\n",
       "      <th id=\"T_83ba0_level0_row1\" class=\"row_heading level0 row1\" >LightFM</th>\n",
       "      <td id=\"T_83ba0_row1_col0\" class=\"data row1 col0\" >0.054907</td>\n",
       "      <td id=\"T_83ba0_row1_col1\" class=\"data row1 col1\" >0.035175</td>\n",
       "      <td id=\"T_83ba0_row1_col2\" class=\"data row1 col2\" >0.038619</td>\n",
       "      <td id=\"T_83ba0_row1_col3\" class=\"data row1 col3\" >0.112675</td>\n",
       "      <td id=\"T_83ba0_row1_col4\" class=\"data row1 col4\" >0.023996</td>\n",
       "      <td id=\"T_83ba0_row1_col5\" class=\"data row1 col5\" >0.136597</td>\n",
       "      <td id=\"T_83ba0_row1_col6\" class=\"data row1 col6\" >0.054907</td>\n",
       "      <td id=\"T_83ba0_row1_col7\" class=\"data row1 col7\" >0.042015</td>\n",
       "      <td id=\"T_83ba0_row1_col8\" class=\"data row1 col8\" >0.030659</td>\n",
       "      <td id=\"T_83ba0_row1_col9\" class=\"data row1 col9\" >0.035175</td>\n",
       "      <td id=\"T_83ba0_row1_col10\" class=\"data row1 col10\" >0.063123</td>\n",
       "      <td id=\"T_83ba0_row1_col11\" class=\"data row1 col11\" >0.067144</td>\n",
       "      <td id=\"T_83ba0_row1_col12\" class=\"data row1 col12\" >5.006442</td>\n",
       "      <td id=\"T_83ba0_row1_col13\" class=\"data row1 col13\" >6.734476</td>\n",
       "      <td id=\"T_83ba0_row1_col14\" class=\"data row1 col14\" >7.351270</td>\n",
       "      <td id=\"T_83ba0_row1_col15\" class=\"data row1 col15\" >0.000014</td>\n",
       "      <td id=\"T_83ba0_row1_col16\" class=\"data row1 col16\" >0.000007</td>\n",
       "      <td id=\"T_83ba0_row1_col17\" class=\"data row1 col17\" >0.000007</td>\n",
       "    </tr>\n",
       "  </tbody>\n",
       "</table>\n"
      ],
      "text/plain": [
       "<pandas.io.formats.style.Styler at 0x7f1299a58df0>"
      ]
     },
     "metadata": {},
     "output_type": "display_data"
    }
   ],
   "source": [
    "show_pivot(df_results, group=True)"
   ]
  },
  {
   "cell_type": "markdown",
   "id": "136b36d1-7587-415a-89ae-9832ecaff791",
   "metadata": {
    "ExecuteTime": {
     "end_time": "2023-12-06T01:05:35.248956500Z",
     "start_time": "2023-12-06T01:05:35.242913800Z"
    },
    "collapsed": false,
    "jupyter": {
     "outputs_hidden": false
    }
   },
   "source": [
    "Модель ALS справилась лучше, будем использовать её"
   ]
  },
  {
   "cell_type": "markdown",
   "id": "554a836cc0b41f9e",
   "metadata": {
    "collapsed": false,
    "jupyter": {
     "outputs_hidden": false
    }
   },
   "source": [
    "## Train"
   ]
  },
  {
   "cell_type": "code",
   "execution_count": 30,
   "id": "b12375c2b10108a8",
   "metadata": {
    "ExecuteTime": {
     "end_time": "2023-12-06T01:05:35.848098900Z",
     "start_time": "2023-12-06T01:05:35.296572600Z"
    },
    "collapsed": false,
    "jupyter": {
     "outputs_hidden": false
    }
   },
   "outputs": [],
   "source": [
    "user_features_all = get_user_features(users, interactions)\n",
    "item_features_all = get_item_features(items, interactions)"
   ]
  },
  {
   "cell_type": "code",
   "execution_count": 31,
   "id": "51ec6b6190fc522b",
   "metadata": {
    "ExecuteTime": {
     "end_time": "2023-12-06T01:05:36.891603100Z",
     "start_time": "2023-12-06T01:05:35.851093300Z"
    },
    "collapsed": false,
    "jupyter": {
     "outputs_hidden": false
    }
   },
   "outputs": [],
   "source": [
    "dataset = Dataset.construct(\n",
    "    interactions_df=interactions,\n",
    "    user_features_df=user_features_all,\n",
    "    item_features_df=item_features_all,\n",
    "    cat_user_features=[\"sex\", \"age\", \"income\"],\n",
    "    cat_item_features=[\"genre\", \"content_type\"],\n",
    ")"
   ]
  },
  {
   "cell_type": "code",
   "execution_count": 32,
   "id": "efae2b9b738c2e71",
   "metadata": {
    "ExecuteTime": {
     "end_time": "2023-12-06T01:05:36.901631500Z",
     "start_time": "2023-12-06T01:05:36.894668100Z"
    },
    "collapsed": false,
    "jupyter": {
     "outputs_hidden": false
    }
   },
   "outputs": [],
   "source": [
    "ALS_model = ImplicitALSWrapperModel(\n",
    "    AlternatingLeastSquares(\n",
    "        **best_params_ALS,\n",
    "        random_state=RANDOM_STATE,\n",
    "    )\n",
    ")"
   ]
  },
  {
   "cell_type": "code",
   "execution_count": 33,
   "id": "50678f2daaa3677d",
   "metadata": {
    "ExecuteTime": {
     "end_time": "2023-12-06T01:05:54.394734300Z",
     "start_time": "2023-12-06T01:05:36.896688100Z"
    },
    "collapsed": false,
    "jupyter": {
     "outputs_hidden": false
    }
   },
   "outputs": [
    {
     "data": {
      "application/vnd.jupyter.widget-view+json": {
       "model_id": "0e29acb64cf9490c81cbd5c126df5ad5",
       "version_major": 2,
       "version_minor": 0
      },
      "text/plain": [
       "  0%|          | 0/1 [00:00<?, ?it/s]"
      ]
     },
     "metadata": {},
     "output_type": "display_data"
    },
    {
     "data": {
      "application/vnd.jupyter.widget-view+json": {
       "model_id": "3ec577de2a3f41679ff7c107859554eb",
       "version_major": 2,
       "version_minor": 0
      },
      "text/plain": [
       "  0%|          | 0/1 [00:00<?, ?it/s]"
      ]
     },
     "metadata": {},
     "output_type": "display_data"
    },
    {
     "data": {
      "text/plain": [
       "<rectools.models.implicit_als.ImplicitALSWrapperModel at 0x7f1282b92f20>"
      ]
     },
     "execution_count": 33,
     "metadata": {},
     "output_type": "execute_result"
    }
   ],
   "source": [
    "ALS_model.fit(dataset)"
   ]
  },
  {
   "cell_type": "code",
   "execution_count": 34,
   "id": "0ba1503e-5371-4ef0-8d8e-388d43899685",
   "metadata": {},
   "outputs": [
    {
     "data": {
      "text/html": [
       "<div>\n",
       "<style scoped>\n",
       "    .dataframe tbody tr th:only-of-type {\n",
       "        vertical-align: middle;\n",
       "    }\n",
       "\n",
       "    .dataframe tbody tr th {\n",
       "        vertical-align: top;\n",
       "    }\n",
       "\n",
       "    .dataframe thead th {\n",
       "        text-align: right;\n",
       "    }\n",
       "</style>\n",
       "<table border=\"1\" class=\"dataframe\">\n",
       "  <thead>\n",
       "    <tr style=\"text-align: right;\">\n",
       "      <th></th>\n",
       "      <th>user_id</th>\n",
       "      <th>item_id</th>\n",
       "      <th>score</th>\n",
       "      <th>rank</th>\n",
       "    </tr>\n",
       "  </thead>\n",
       "  <tbody>\n",
       "    <tr>\n",
       "      <th>0</th>\n",
       "      <td>176549</td>\n",
       "      <td>7571</td>\n",
       "      <td>1.314032</td>\n",
       "      <td>1</td>\n",
       "    </tr>\n",
       "    <tr>\n",
       "      <th>1</th>\n",
       "      <td>176549</td>\n",
       "      <td>16270</td>\n",
       "      <td>0.808068</td>\n",
       "      <td>2</td>\n",
       "    </tr>\n",
       "    <tr>\n",
       "      <th>2</th>\n",
       "      <td>176549</td>\n",
       "      <td>11749</td>\n",
       "      <td>0.740079</td>\n",
       "      <td>3</td>\n",
       "    </tr>\n",
       "    <tr>\n",
       "      <th>3</th>\n",
       "      <td>176549</td>\n",
       "      <td>13159</td>\n",
       "      <td>0.704768</td>\n",
       "      <td>4</td>\n",
       "    </tr>\n",
       "    <tr>\n",
       "      <th>4</th>\n",
       "      <td>176549</td>\n",
       "      <td>1844</td>\n",
       "      <td>0.704624</td>\n",
       "      <td>5</td>\n",
       "    </tr>\n",
       "    <tr>\n",
       "      <th>5</th>\n",
       "      <td>176549</td>\n",
       "      <td>15266</td>\n",
       "      <td>0.703281</td>\n",
       "      <td>6</td>\n",
       "    </tr>\n",
       "    <tr>\n",
       "      <th>6</th>\n",
       "      <td>176549</td>\n",
       "      <td>13915</td>\n",
       "      <td>0.687961</td>\n",
       "      <td>7</td>\n",
       "    </tr>\n",
       "    <tr>\n",
       "      <th>7</th>\n",
       "      <td>176549</td>\n",
       "      <td>12743</td>\n",
       "      <td>0.661190</td>\n",
       "      <td>8</td>\n",
       "    </tr>\n",
       "    <tr>\n",
       "      <th>8</th>\n",
       "      <td>176549</td>\n",
       "      <td>11985</td>\n",
       "      <td>0.658377</td>\n",
       "      <td>9</td>\n",
       "    </tr>\n",
       "    <tr>\n",
       "      <th>9</th>\n",
       "      <td>176549</td>\n",
       "      <td>11310</td>\n",
       "      <td>0.623677</td>\n",
       "      <td>10</td>\n",
       "    </tr>\n",
       "  </tbody>\n",
       "</table>\n",
       "</div>"
      ],
      "text/plain": [
       "   user_id  item_id     score  rank\n",
       "0   176549     7571  1.314032     1\n",
       "1   176549    16270  0.808068     2\n",
       "2   176549    11749  0.740079     3\n",
       "3   176549    13159  0.704768     4\n",
       "4   176549     1844  0.704624     5\n",
       "5   176549    15266  0.703281     6\n",
       "6   176549    13915  0.687961     7\n",
       "7   176549    12743  0.661190     8\n",
       "8   176549    11985  0.658377     9\n",
       "9   176549    11310  0.623677    10"
      ]
     },
     "execution_count": 34,
     "metadata": {},
     "output_type": "execute_result"
    }
   ],
   "source": [
    "ALS_model.recommend(interactions.user_id.head(1), dataset, k=10, filter_viewed=True)"
   ]
  },
  {
   "cell_type": "code",
   "execution_count": 35,
   "id": "9bbd886b69c83bd7",
   "metadata": {
    "ExecuteTime": {
     "end_time": "2023-12-06T01:17:25.590537400Z",
     "start_time": "2023-12-06T01:17:24.622589900Z"
    },
    "collapsed": false,
    "jupyter": {
     "outputs_hidden": false
    }
   },
   "outputs": [],
   "source": [
    "pickle.dump(ALS_model, open('../saved_models/als.pkl', \"wb\"))"
   ]
  },
  {
   "cell_type": "markdown",
   "id": "910b26a15f8f5f9c",
   "metadata": {
    "collapsed": false,
    "jupyter": {
     "outputs_hidden": false
    }
   },
   "source": [
    "## ANN"
   ]
  },
  {
   "cell_type": "code",
   "execution_count": 36,
   "id": "958f9d2c792c20f9",
   "metadata": {
    "ExecuteTime": {
     "end_time": "2023-12-06T01:05:55.051400700Z",
     "start_time": "2023-12-06T01:05:55.048397400Z"
    },
    "collapsed": false,
    "jupyter": {
     "outputs_hidden": false
    }
   },
   "outputs": [],
   "source": [
    "user_vectors, item_vectors = ALS_model.get_vectors()"
   ]
  },
  {
   "cell_type": "code",
   "execution_count": 37,
   "id": "fd28db48eb6f05ce",
   "metadata": {
    "ExecuteTime": {
     "end_time": "2023-12-06T01:05:55.061269700Z",
     "start_time": "2023-12-06T01:05:55.053587500Z"
    },
    "collapsed": false,
    "jupyter": {
     "outputs_hidden": false
    }
   },
   "outputs": [],
   "source": [
    "ALS_ANN = UserToItemAnnRecommender(\n",
    "    user_vectors=user_vectors,\n",
    "    item_vectors=item_vectors,\n",
    "    user_id_map=dataset.user_id_map,\n",
    "    item_id_map=dataset.item_id_map,\n",
    ")"
   ]
  },
  {
   "cell_type": "code",
   "execution_count": 38,
   "id": "97d1afdf586ccf2b",
   "metadata": {
    "ExecuteTime": {
     "end_time": "2023-12-06T01:05:55.245666Z",
     "start_time": "2023-12-06T01:05:55.060642200Z"
    },
    "collapsed": false,
    "jupyter": {
     "outputs_hidden": false
    }
   },
   "outputs": [
    {
     "data": {
      "text/plain": [
       "<rectools.tools.ann.UserToItemAnnRecommender at 0x7f127faa0460>"
      ]
     },
     "execution_count": 38,
     "metadata": {},
     "output_type": "execute_result"
    }
   ],
   "source": [
    "ALS_ANN.fit()"
   ]
  },
  {
   "cell_type": "code",
   "execution_count": 39,
   "id": "36d1e40dc201119",
   "metadata": {
    "ExecuteTime": {
     "end_time": "2023-12-06T01:05:55.301236700Z",
     "start_time": "2023-12-06T01:05:55.276049400Z"
    },
    "collapsed": false,
    "jupyter": {
     "outputs_hidden": false
    }
   },
   "outputs": [
    {
     "data": {
      "text/plain": [
       "[13018, 10761, 7582, 16166, 16270, 3182, 11749, 5411, 12965, 11985]"
      ]
     },
     "execution_count": 39,
     "metadata": {},
     "output_type": "execute_result"
    }
   ],
   "source": [
    "ALS_ANN.get_item_list_for_user(interactions.user_id.head(1).values[0], top_n=10).tolist()"
   ]
  },
  {
   "cell_type": "code",
   "execution_count": 40,
   "id": "99d785d184a5c735",
   "metadata": {
    "ExecuteTime": {
     "end_time": "2023-12-06T01:17:29.248355600Z",
     "start_time": "2023-12-06T01:17:28.441561100Z"
    },
    "collapsed": false,
    "jupyter": {
     "outputs_hidden": false
    }
   },
   "outputs": [],
   "source": [
    "pickle.dump(ALS_ANN, open('../saved_models/als_ann.pkl', \"wb\"))"
   ]
  },
  {
   "cell_type": "code",
   "execution_count": null,
   "id": "78a65968b86c080b",
   "metadata": {
    "ExecuteTime": {
     "end_time": "2023-12-06T01:05:55.914114800Z",
     "start_time": "2023-12-06T01:05:55.865137200Z"
    },
    "collapsed": false,
    "jupyter": {
     "outputs_hidden": false
    }
   },
   "outputs": [],
   "source": []
  }
 ],
 "metadata": {
  "kernelspec": {
   "display_name": "Python 3 (ipykernel)",
   "language": "python",
   "name": "python3"
  },
  "language_info": {
   "codemirror_mode": {
    "name": "ipython",
    "version": 3
   },
   "file_extension": ".py",
   "mimetype": "text/x-python",
   "name": "python",
   "nbconvert_exporter": "python",
   "pygments_lexer": "ipython3",
   "version": "3.10.12"
  }
 },
 "nbformat": 4,
 "nbformat_minor": 5
}
